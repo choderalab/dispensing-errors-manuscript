{
 "cells": [
  {
   "cell_type": "markdown",
   "metadata": {},
   "source": [
    "# Errors in serial dilution: How can dispensing technology impact assay data?"
   ]
  },
  {
   "cell_type": "markdown",
   "metadata": {},
   "source": [
    "#### [Sonya M. Hanson and John D. Chodera](http://www.choderalab.org/) Computational Biology Program, Memorial Sloan Kettering Cancer Center, New York NY 10065"
   ]
  },
  {
   "cell_type": "markdown",
   "metadata": {},
   "source": [
    "In a 2013 paper by Ekins et al, [Dispensing Processes Impact Apparent Biological Activity as Determined by Computational and Statistical Analyses. PLoS ONE 8(5): e62325, 2013](http://journals.plos.org/plosone/article?id=10.1371/journal.pone.0062325), a surprisingly large discrepancy in IC50 assay results is noted between the assay performed using a **Tecan Genesis** liquid handling workstation compared with a **LabCyte Echo** acoustic dispensing unit."
   ]
  },
  {
   "cell_type": "markdown",
   "metadata": {},
   "source": [
    "> *It would appear that tip-based dispensing is producing erroneous data based on our and other analyses which we see here reflected in the models and initial lack of correlations with molecular properties.*"
   ]
  },
  {
   "cell_type": "markdown",
   "metadata": {},
   "source": [
    "This discrepancy was so large and so surprising that it was quickly picked up and discussed at length by numerous industry blogs, most notably [In the Pipeline by Derek Lowe](http://blogs.sciencemag.org/pipeline/archives/2013/05/03/drug_assay_numbers_all_over_the_place), which called the report a \"truly disturbing paper\".  Speculation abounded as to the precise cause: including sticky compounds, plastic leaching out of pipette tips, colloidal aggregation, mis-calibrated pipettes, and sloppy experiments.  But could a simple physical process rooted in the intrinsic variability in the assay explain this difference?"
   ]
  },
  {
   "cell_type": "markdown",
   "metadata": {},
   "source": [
    "In a biochemical or cell-based assay to determine the potency of a compound of interest, solutions of the compound at several concentrations are prepared and the assay readout at a number of these concentrations can be fit to yield the $K_i$, $IC_{50}$, or $EC_{50}$ (depending on the assay configuration)."
   ]
  },
  {
   "cell_type": "markdown",
   "metadata": {},
   "source": [
    "With a traditional manual assay or liquid handling workstation (such as the **Tecan Genesis**), the most straightforward approach to preparing a number of these compound concentrations is to prepare a **serial dilution series** starting from an original compound stock solution (often 10 mM stock in DMSO).  In a serial dilution, a volume $V_0$ of one solution is transferred into the next well and diluted with another volume $V_1$ of diluent, allowing a series of solutions spanning orders of magnitude in compound concentration to be prepared in a serial manner."
   ]
  },
  {
   "cell_type": "markdown",
   "metadata": {},
   "source": [
    "![alt text](img/dilution-simple.png \"dilution-simple.png\")"
   ]
  },
  {
   "cell_type": "markdown",
   "metadata": {},
   "source": [
    "The **LabCyte Echo**, on the other hand, uses a direct dispensing technology to transfer a programmed volume (from 2.5 nL to microliters) directly into the assay wells, allowing a dilution series over several orders of magnitude in concentration to be created directly without the need for serial dilution."
   ]
  },
  {
   "cell_type": "markdown",
   "metadata": {},
   "source": [
    "![alt text](img/direct-simple.png \"direct-simple.png\")"
   ]
  },
  {
   "cell_type": "markdown",
   "metadata": {},
   "source": [
    "While the Ekins et al paper explores the impact assay discrepancies has on QSAR models parameterized to the data, here we focus on the origin of the differences in assay results, and show how a simple model that captures **the errors introduced at each step** of the assay can lead us to identify a possible culprit behind the large discrepancy between the two assay configurations.  Understanding the origin of this discrepancy---which ends up being a source of bias in one of the assay configurations---can allow us to anticipate assay issues ahead of time, take steps to mitigate them, or even to correct for them after the fact."
   ]
  },
  {
   "cell_type": "markdown",
   "metadata": {},
   "source": [
    "Here, we introduce a simple kind of assay modeling in **this IPython notebook** that computational and experimental chemists alike can employ, as a tool that can easily be used to model and understand sources of uncertainty and  biases inherent in any experimental assay.  This kind of modeling could be used, for example, during assay development to ensure that the assay configuration will meet the dynamic range and accuracy needed for the assay, or it could be used after the fact by assay data consumers to understand the expected uncertainty and bias in the experimental dataset."
   ]
  },
  {
   "cell_type": "markdown",
   "metadata": {},
   "source": [
    "###First to set up the general python working environment and define our key dataset."
   ]
  },
  {
   "cell_type": "markdown",
   "metadata": {},
   "source": [
    "First import a few general packages to be able to deal with numbers (*numpy* and more specificially *numpy.random*) and to allow us to set specific errors between fixed volume values (*scipy.interpolate*)."
   ]
  },
  {
   "cell_type": "code",
   "execution_count": 2,
   "metadata": {
    "collapsed": false
   },
   "outputs": [],
   "source": [
    "import numpy as np\n",
    "from numpy.random import normal\n",
    "from scipy.interpolate import interp1d"
   ]
  },
  {
   "cell_type": "markdown",
   "metadata": {},
   "source": [
    "Next import a few packages to allow us to plot (*matplotlib.pyplot*), make nice-looking plots (*seaborn*), and view this plots inside our ipython notebooks (*%pylab inline*)."
   ]
  },
  {
   "cell_type": "code",
   "execution_count": 3,
   "metadata": {
    "collapsed": false
   },
   "outputs": [
    {
     "name": "stdout",
     "output_type": "stream",
     "text": [
      "Populating the interactive namespace from numpy and matplotlib\n"
     ]
    }
   ],
   "source": [
    "import matplotlib.pyplot as plt\n",
    "import seaborn as sns\n",
    "sns.set(style='white')\n",
    "sns.set_context('talk')\n",
    "\n",
    "%pylab inline"
   ]
  },
  {
   "cell_type": "markdown",
   "metadata": {},
   "source": [
    "The dataset we are using to illustrate how to model and interpret errors comes from the paper mentioned above (  [Dispensing Processes Impact Apparent Biological Activity as Determined by Computational and Statistical Analyses. PLoS ONE 8(5): e62325, 2013](http://journals.plos.org/plosone/article?id=10.1371/journal.pone.0062325)), all of which was originally described in two patents from Astrazeneca ([WO2009010794A1](https://www.google.com/patents/WO2009010794A1)and [US7718653](http://www.google.com/patents/US7718653)). The table in this paper is shown below:"
   ]
  },
  {
   "cell_type": "markdown",
   "metadata": {},
   "source": [
    "<img src=\"img/data_combined.png\" alt=\"Drawing\" style=\"width: 800px;\"/>"
   ]
  },
  {
   "cell_type": "code",
   "execution_count": 4,
   "metadata": {
    "collapsed": true
   },
   "outputs": [],
   "source": [
    "# data from Fig 1 of Ekins et al.\n",
    "echo_IC50s = np.array([0.064, 0.486, 0.003, 0.002, 0.007, 0.003, 0.004, 0.052, 0.01362, 0.207, 0.158, 0.01164, 0.00633, 0.00358]) * 1e-6 # M\n",
    "genesis_IC50s = np.array([0.817, 3.03, 0.146, 0.553, 0.973, 0.778, 0.445, 0.17, 0.112, 14.4, 0.25, 0.049, 0.087, 0.152]) * 1e-6 # M\n",
    "\n",
    "echo_pIC50s = np.log10(echo_IC50s)\n",
    "genesis_pIC50s = np.log10(genesis_IC50s)"
   ]
  },
  {
   "cell_type": "markdown",
   "metadata": {},
   "source": [
    "Now if we plot this data to see how the $IC_{50}$ values obtained with the two different technologies compare to each other, with a line representing if they were identical, we see there are significant discrepencies."
   ]
  },
  {
   "cell_type": "code",
   "execution_count": 5,
   "metadata": {
    "collapsed": false
   },
   "outputs": [
    {
     "data": {
      "image/png": "[encoded data removed]",
      "text/plain": [
       "<matplotlib.figure.Figure at 0x10c8dbcd0>"
      ]
     },
     "metadata": {},
     "output_type": "display_data"
    }
   ],
   "source": [
    "# Plot this data to show the relationship of pIC50's measured by different technologies\n",
    "plt.subplot(111, aspect='equal');\n",
    "plt.plot([-9, -4], [-9, -4], 'k-');\n",
    "plt.scatter(echo_pIC50s, genesis_pIC50s,color='k',marker='x',s=40, linewidth=2);\n",
    "plt.xlabel('pIC50 (acoustic)');\n",
    "plt.ylabel('pIC50 (tips)');\n",
    "plt.legend(['ideal', 'actual'], loc='lower right');\n",
    "plt.title('Relationship of pIC50s measured by different technologies');"
   ]
  },
  {
   "cell_type": "markdown",
   "metadata": {},
   "source": [
    "###1. Calculating $IC_{50}$ for EphB4 system from assay data."
   ]
  },
  {
   "cell_type": "markdown",
   "metadata": {},
   "source": [
    "This data is for $IC_{50}$s of ligands with the enzyme EphB4. From the [EphB4 DataSheet](http://www.proqinase.com/kinase-database/pdfs/2843.pdf), we know the Km for ATP by EphB4 is 1.71 uM . Note that we're assuming that EphB4 obeys Michaelis-Menten kinetics here, and that V0/Vmax is what is measured."
   ]
  },
  {
   "cell_type": "code",
   "execution_count": 6,
   "metadata": {
    "collapsed": true
   },
   "outputs": [],
   "source": [
    "Km = 1.71e-6 # Km of ATP for EphB4 (M)"
   ]
  },
  {
   "cell_type": "markdown",
   "metadata": {},
   "source": [
    "Let's assume true Ki for an arbitrary compound is 10 nM, a substrate concentration of 4 µM ATP, and that we're using 0.25 ng of ~42.4 kDa enzyme, which gives us 6 µM. We will dispense 2 µL of diluted compound into an assay plate well into which 10 µL of enzyme mix has been dispense."
   ]
  },
  {
   "cell_type": "code",
   "execution_count": 7,
   "metadata": {
    "collapsed": true
   },
   "outputs": [],
   "source": [
    "true_Ki = 10e-9 # arbitrary compound Ki (M)\n",
    "\n",
    "substrate_concentration = 4e-6 # ATP concentration (M)\n",
    "\n",
    "enzyme_concentration = 6e-6 # EphB4 assay concentration (M)"
   ]
  },
  {
   "cell_type": "markdown",
   "metadata": {},
   "source": [
    "Let's suppose the 10 µL of assay mix in each well was dispensed completely accurately, and contains exact concentrations of enzyme and substrate. We presume inhibition is measured by an exact read of the reaction V0/Vmax.  The IC50 would be the interpolated point at which V0/Vmax drops to 0.5, as determined from a fit of the competitive inhibition equations to the observed V0/Vmax for the dilution series, using the ideal dilution series concentrations in the fit."
   ]
  },
  {
   "cell_type": "markdown",
   "metadata": {},
   "source": [
    "We can calculate enzyme activities (V0/Vmax) directly from the values above using the following equation (derived using the assumptions of Michaelis-Menten kinetics for a competitive inhibitor):"
   ]
  },
  {
   "cell_type": "markdown",
   "metadata": {},
   "source": [
    "$$\\frac{V_{0}}{V_{max}} = \\frac{[S]}{K_{m}(1+\\frac{[I]}{K_{i}})+[S]}$$"
   ]
  },
  {
   "cell_type": "code",
   "execution_count": 8,
   "metadata": {
    "collapsed": true
   },
   "outputs": [],
   "source": [
    "#define the function 'competitive_inhibition' using this equation\n",
    "def competitive_inhibition(substrate_concentration, inhibitor_concentration, enzyme_concentration, Ki, Km):\n",
    "    V0_over_Vmax = substrate_concentration / (Km*(1 + inhibitor_concentration/Ki) + substrate_concentration)\n",
    "    return V0_over_Vmax"
   ]
  },
  {
   "cell_type": "markdown",
   "metadata": {},
   "source": [
    "We have already defined everything in this equation except our inhibitor concentration *[I]*, which is exactly the focus of the later parts of this notebook. Here we will define an ideal dilution series to create our inhibitor concentrations:"
   ]
  },
  {
   "cell_type": "markdown",
   "metadata": {},
   "source": [
    "![alt text](img/dilution.png \"dilution.png\")"
   ]
  },
  {
   "cell_type": "code",
   "execution_count": 9,
   "metadata": {
    "collapsed": true
   },
   "outputs": [],
   "source": [
    "def dilution_series(Vinitial, Cinitial, Vtransfer, Vbuffer, ndilutions):\n",
    "    # Initialize concentrations and volumes with zero vectors with Cinitial and Vinitial as first value\n",
    "    concentrations = np.zeros([ndilutions], np.float64)\n",
    "    volumes = np.zeros([ndilutions], np.float64)\n",
    "    concentrations[0] = Cinitial\n",
    "    volumes[0] = Vinitial\n",
    "    \n",
    "    # and Vbuffer as initial volume for all but first.\n",
    "    for n in range(1,ndilutions):\n",
    "        volumes[n] = Vbuffer\n",
    "        \n",
    "    # Create dilution series.\n",
    "    for n in range(1,ndilutions):\n",
    "        concentrations[n] = concentrations[n-1] * Vtransfer / (Vtransfer + Vbuffer)\n",
    "        volumes[n] += Vtransfer\n",
    "        volumes[n-1] -= Vtransfer\n",
    "        \n",
    "    # Remove Vtransfer from last.\n",
    "    volumes[ndilutions-1] -= Vtransfer\n",
    "    \n",
    "    return [volumes, concentrations]"
   ]
  },
  {
   "cell_type": "markdown",
   "metadata": {},
   "source": [
    "Now, let's use this dilution series to create an 8-point dilution series with an initial concentration of 10 mM, an initial volume of 100 µL and Vtransfer and Vbuffer = 50 µL."
   ]
  },
  {
   "cell_type": "code",
   "execution_count": 10,
   "metadata": {
    "collapsed": false
   },
   "outputs": [],
   "source": [
    "Cinitial = 100e-6 # initial dilution concentration (M) = 100 uM\n",
    "\n",
    "ndilutions = 8 # number of dilutions, including initial dilution\n",
    "\n",
    "Vinitial = 100e-6 # working volume (L)\n",
    "\n",
    "Vtransfer = 50e-6 # volume transferred from previous dilution (L)\n",
    "\n",
    "Vbuffer = 50e-6 # volume of diluent (buffer) added (L)\n",
    "\n",
    "[assay_volumes, assay_compound_concentrations] = dilution_series(Vinitial, Cinitial, Vtransfer, Vbuffer, ndilutions)"
   ]
  },
  {
   "cell_type": "code",
   "execution_count": 11,
   "metadata": {
    "collapsed": false
   },
   "outputs": [
    {
     "name": "stdout",
     "output_type": "stream",
     "text": [
      "Now we have an 8-point dilution series from 100.000000 uM to 0.781250 uM.\n"
     ]
    }
   ],
   "source": [
    "print \"Now we have an %s-point dilution series from %f uM to %f uM.\" % (ndilutions, assay_compound_concentrations.max()/1e-6, assay_compound_concentrations.min()/1e-6)"
   ]
  },
  {
   "cell_type": "code",
   "execution_count": 12,
   "metadata": {
    "collapsed": false
   },
   "outputs": [
    {
     "data": {
      "image/png": "[encoded data removed]",
      "text/plain": [
       "<matplotlib.figure.Figure at 0x10c8dba90>"
      ]
     },
     "metadata": {},
     "output_type": "display_data"
    }
   ],
   "source": [
    "f, (ax1,ax2) = plt.subplots(2,1,sharex=True)\n",
    "\n",
    "ax1.scatter(range(ndilutions), assay_compound_concentrations/1e-6, lw=4)\n",
    "\n",
    "ax1.set_title(\"Normal plot\")\n",
    "ax1.set_ylabel('concentration (uM)')\n",
    "ax1.axis([- 0.5, ndilutions - 0.5, 0.0, Cinitial * 1.2/1e-6])\n",
    "\n",
    "ax2.semilogy(range(ndilutions), assay_compound_concentrations,'ko')\n",
    "\n",
    "ax2.set_title(\"Semilogy plot\")\n",
    "ax2.set_ylabel('concentration (M)')\n",
    "ax2.axis([- 0.5, ndilutions - 0.5, 0.0, Cinitial * 1.2])\n",
    "\n",
    "plt.xlabel('dilution number')\n",
    "f.tight_layout()"
   ]
  },
  {
   "cell_type": "markdown",
   "metadata": {},
   "source": [
    "Now we can use these ideal assay_compound_concentrations to calculate what our activity would be for each inhibitor concentration:"
   ]
  },
  {
   "cell_type": "code",
   "execution_count": 13,
   "metadata": {
    "collapsed": false
   },
   "outputs": [],
   "source": [
    "#initialize the activity values with a zero vector\n",
    "activity = np.zeros([ndilutions], np.float64)\n",
    "\n",
    "#calclulate activity with our competitive inhibition model and our ideal assay_compound_concentrations\n",
    "for i in range(ndilutions):\n",
    "    activity[i] = competitive_inhibition(substrate_concentration, assay_compound_concentrations[i], enzyme_concentration, true_Ki, Km)"
   ]
  },
  {
   "cell_type": "code",
   "execution_count": 14,
   "metadata": {
    "collapsed": false
   },
   "outputs": [
    {
     "data": {
      "image/png": "[encoded data removed]",
      "text/plain": [
       "<matplotlib.figure.Figure at 0x10ca0e510>"
      ]
     },
     "metadata": {},
     "output_type": "display_data"
    }
   ],
   "source": [
    "plt.semilogx(assay_compound_concentrations, activity, 'ro');\n",
    "plt.xlabel('ideal $[I]$ (M)');\n",
    "plt.ylabel('$V_{0}/V_{max}$');"
   ]
  },
  {
   "cell_type": "markdown",
   "metadata": {},
   "source": [
    "Of course this is data without error bars, and is not how a real experiment would work. If we assumed both the Genesis (tip-based) and Echo (direct dispensing) methods gave us exactly the right answer for the activity, then these activity values would give us the $pIC_{50}$ values on the 'ideal' line in the first graph."
   ]
  },
  {
   "cell_type": "markdown",
   "metadata": {},
   "source": [
    "###2. Adding the inaccuracy and imprecision of the Tecan Genesis liquid-handling robot."
   ]
  },
  {
   "cell_type": "markdown",
   "metadata": {
    "collapsed": true
   },
   "source": [
    "In reality, every experimental operation---such as a volume transfer---will be imperfect, leading to imperfect assay results.  We can model this---and its often surprising impact on the assay results---by making a simple model for the random and systematic variation with each operation."
   ]
  },
  {
   "cell_type": "markdown",
   "metadata": {},
   "source": [
    "Liquid-handling robots can't transfer the specified volume exactly. Each transfer operation has some (a) inaccuracy (modeled as a constant bias factor for all dispensing operations) and (b) imprecision (random error associated with each volume transfer). It is important to consider these factors separately, as often liquid handlers are calibrated for precision, rather than accuracy, which means bias can creep in. We'll ignore other contributions to error, such as compound stickiness, insolubility, etc., though in future iterations including them may be useful."
   ]
  },
  {
   "cell_type": "markdown",
   "metadata": {},
   "source": [
    "![https://en.wikipedia.org/wiki/Accuracy_and_precision](img/accuracy_precision_simple.png \"https://en.wikipedia.org/wiki/Accuracy_and_precision\")"
   ]
  },
  {
   "cell_type": "markdown",
   "metadata": {},
   "source": [
    "Suppose we generate this dilution series using a Tecan Genesis robot used in the assay.\n",
    "\n",
    "Published manufacturer specifications for the imprecision of the Tecan Genesis are available online:\n",
    "\n",
    "[imprecision data for Tecan Genesis](http://www.frankshospitalworkshop.com/equipment/documents/automated_analyzer/user_manuals/Tecan%20Genesis%20RMP%20-%20User%20manual.pdf)"
   ]
  },
  {
   "cell_type": "markdown",
   "metadata": {},
   "source": [
    "![alt text](img/GenesisImprecision.png \"GenesisImprecision.png\")"
   ]
  },
  {
   "cell_type": "markdown",
   "metadata": {},
   "source": [
    "Tecan does not generally publish inaccuracy specifications, however, since a well-calibrated instrument can essentially eliminate inaccuracy with custom corrections applied to different volume ranges.  In order to illustrate the role inaccuracy can play, we will instead employ inaccuracy data published for a similar class of liquid handling instrument---the Beckman NX/FX span-8:\n",
    "\n",
    "[inaccuracy/imprecision data for Biomek NX/FX](https://www.beckmancoulter.com/wsrportal/bibliography?docname=BR-10150B.pdf)"
   ]
  },
  {
   "cell_type": "markdown",
   "metadata": {},
   "source": [
    "First, we define a pipetting error function for the Tecan Genesis:"
   ]
  },
  {
   "cell_type": "code",
   "execution_count": 15,
   "metadata": {
    "collapsed": true
   },
   "outputs": [],
   "source": [
    "def tecan_genesis_pipetting_model(volume):\n",
    "    # Imprecision from Tecan Genesis manual.\n",
    "    # Inaccuracy estimated from Beckman Biomek NX/FX span-8.\n",
    "    \n",
    "    imprecision_function = interp1d(\n",
    "        [1.5e-6,100e-6], # volume range (L)\n",
    "        [0.03, 0.005]) # published relative imprecision for corresponding volumes Tecan Genesis\n",
    "    inaccuracy_function = interp1d(\n",
    "        [0.5e-6, 1e-6, 100e-6], # volume range (L)\n",
    "        [0.05, 0.03, 0.03]) # published relative inaccuracies for corresponding volumesfor Beckman NX/FX span-8\n",
    "    \n",
    "    return [inaccuracy_function(volume), imprecision_function(volume)]    "
   ]
  },
  {
   "cell_type": "markdown",
   "metadata": {},
   "source": [
    "Just for reference, this is what the ideal pipetting model looks like in comparison:"
   ]
  },
  {
   "cell_type": "code",
   "execution_count": 16,
   "metadata": {
    "collapsed": true
   },
   "outputs": [],
   "source": [
    "def ideal_pipetting_model(volume):\n",
    "\n",
    "    imprecision_function = interp1d(\n",
    "        [1.5e-6, 100e-6], # volume range (L)\n",
    "        [0.0, 0.0]) # relative imprecision for corresponding volumes\n",
    "    inaccuracy_function = interp1d(\n",
    "        [0.5e-6, 1e-6, 100e-6], # volume range (L)\n",
    "        [0.0, 0.0, 0.0]) # relative inaccuracies for corresponding volumes\n",
    "    \n",
    "    return [inaccuracy_function(volume), imprecision_function(volume)]"
   ]
  },
  {
   "cell_type": "markdown",
   "metadata": {},
   "source": [
    "Now consider a single *realization* of the automated pipetting process to generate a dilution series, utilizing the robot pipetting imprecision and inaccuracy model we defined above."
   ]
  },
  {
   "cell_type": "markdown",
   "metadata": {},
   "source": [
    "The main difference between our ideal *dilution_series* function here are that we are adding the inaccuracy in the form of the *transfer_bias*, which is a normal distribution around our inaccuracy value, to the *Vbuffer* and *Vtransfer* values. We are also then distributing this value according to a normal distribution around our imprecision value for both the *Vbuffer* and *Vtransfer* values."
   ]
  },
  {
   "cell_type": "code",
   "execution_count": 17,
   "metadata": {
    "collapsed": true
   },
   "outputs": [],
   "source": [
    "def ROBOT_dilution_series(Vinitial, Cinitial, Vtransfer, Vbuffer, ndilutions, pipetting_model):\n",
    "    \n",
    "    # use pipetting error function\n",
    "    [transfer_inaccuracy, transfer_imprecision] = pipetting_model(Vtransfer)    \n",
    "    # TODO: Discuss whether we need separate buffer_inaccuracy, buffer_imprecision\n",
    "    \n",
    "    # define imprecision of volume transfer operations (including initial volumes)\n",
    "    transfer_bias = transfer_inaccuracy * normal()\n",
    "    \n",
    "    # Initialize concentrations and volumes with zero vectors with Cinitial and Vinitial as first value\n",
    "    actual_concentrations = np.zeros([ndilutions], np.float64)\n",
    "    actual_volumes = np.zeros([ndilutions], np.float64)\n",
    "    actual_concentrations[0] = Cinitial\n",
    "    actual_volumes[0] = Vinitial\n",
    "    \n",
    "    # and Vbuffer as initial volume for all but first.\n",
    "    for n in range(1,ndilutions):\n",
    "        Vbuffer_actual = Vbuffer * ((1+transfer_bias) + transfer_imprecision*normal())\n",
    "        actual_volumes[n] = Vbuffer_actual\n",
    "    \n",
    "    # Create dilution series.\n",
    "    for n in range(1,ndilutions):\n",
    "        Vbuffer_actual = actual_volumes[n] # quantity of buffer originally in well\n",
    "        Vtransfer_actual = Vtransfer * ((1+transfer_bias) + transfer_imprecision*normal())\n",
    "        actual_concentrations[n] = \\\n",
    "            actual_concentrations[n-1] * Vtransfer_actual / (Vtransfer_actual + Vbuffer_actual)\n",
    "        actual_volumes[n] += Vtransfer_actual\n",
    "        actual_volumes[n-1] -= Vtransfer_actual\n",
    "    \n",
    "    # Remove Vtransfer from last.\n",
    "    Vtransfer_actual = Vtransfer * ((1+transfer_bias) + transfer_imprecision*normal())\n",
    "    actual_volumes[ndilutions-1] -= Vtransfer_actual\n",
    "    \n",
    "    return [actual_volumes, actual_concentrations]"
   ]
  },
  {
   "cell_type": "code",
   "execution_count": 18,
   "metadata": {
    "collapsed": false
   },
   "outputs": [],
   "source": [
    "[actual_volumes, actual_concentrations] = \\\n",
    "    ROBOT_dilution_series(Vinitial, Cinitial, Vtransfer, Vbuffer, ndilutions, tecan_genesis_pipetting_model)"
   ]
  },
  {
   "cell_type": "markdown",
   "metadata": {},
   "source": [
    "We can visualize the deviations in concentrations generated by this imprecision and inaccuracy for this single realization."
   ]
  },
  {
   "cell_type": "code",
   "execution_count": 19,
   "metadata": {
    "collapsed": false
   },
   "outputs": [
    {
     "data": {
      "image/png": "[encoded data removed]",
      "text/plain": [
       "<matplotlib.figure.Figure at 0x10d021fd0>"
      ]
     },
     "metadata": {},
     "output_type": "display_data"
    }
   ],
   "source": [
    "#Set 'ideal_concentrations' and 'ideal_volumes' to the ideal assay_compound_concentrations and assay_volumes from before.\n",
    "ideal_concentrations = assay_compound_concentrations\n",
    "ideal_volumes = assay_volumes\n",
    "\n",
    "plt.semilogy(range(ndilutions), ideal_concentrations, 'ko', range(ndilutions), actual_concentrations, 'ro');\n",
    "plt.xlabel('dilution number');\n",
    "plt.ylabel('concentration (M)');\n",
    "plt.legend(['ideal','actual']);\n",
    "plt.axis([-0.5, ndilutions - 0.5, 0.0, Cinitial * 1.2]);"
   ]
  },
  {
   "cell_type": "markdown",
   "metadata": {},
   "source": [
    "Note the trend that the magnitude of the concentration error increases with subsequent dilutions.  To better see this effect, we plot the relative errors in concentration, volume, and total quantity of compound per well."
   ]
  },
  {
   "cell_type": "code",
   "execution_count": 20,
   "metadata": {
    "collapsed": false
   },
   "outputs": [
    {
     "data": {
      "image/png": "[encoded data removed]",
      "text/plain": [
       "<matplotlib.figure.Figure at 0x10c950a10>"
      ]
     },
     "metadata": {},
     "output_type": "display_data"
    }
   ],
   "source": [
    "plt.plot([-0.5, ndilutions], [1, 1], 'k--');\n",
    "plt.plot(range(ndilutions), actual_concentrations / ideal_concentrations, 'ro', \\\n",
    "         range(ndilutions), actual_volumes / ideal_volumes, 'go', \\\n",
    "         range(ndilutions), (actual_volumes*actual_concentrations)/(ideal_volumes*ideal_concentrations), 'bo');\n",
    "plt.legend(['exact', 'concentration', 'volume', 'quantity'], loc='upper left');\n",
    "plt.axis([-0.5, ndilutions - 0.5, 0.5, 1.5]);\n",
    "plt.ylabel('relative quantity');\n",
    "plt.xlabel('dilution number');"
   ]
  },
  {
   "cell_type": "markdown",
   "metadata": {},
   "source": [
    "Since this was only a single *realization* of the pipetting process, it is difficult to draw conclusions about the *typical* errors in creating a dilution series with a liquid handler.  We can do this by simulating *many* independent realizations of the same experiment, and then estimate the **coefficient of variation (CV)** from the variation among experiments."
   ]
  },
  {
   "cell_type": "markdown",
   "metadata": {},
   "source": [
    "So, let's repeat the experiment 5000 times:"
   ]
  },
  {
   "cell_type": "code",
   "execution_count": 21,
   "metadata": {
    "collapsed": false
   },
   "outputs": [],
   "source": [
    "nreplicates = 5000\n",
    "\n",
    "actual_volumes_n = np.zeros([nreplicates, ndilutions], np.float64)\n",
    "actual_concentrations_n = np.zeros([nreplicates, ndilutions], np.float64)\n",
    "\n",
    "for replicate in range(nreplicates):\n",
    "    [actual_volumes_replicate, actual_concentrations_replicate] = \\\n",
    "        ROBOT_dilution_series(Vinitial, Cinitial, Vtransfer, Vbuffer, ndilutions, tecan_genesis_pipetting_model)\n",
    "        \n",
    "    actual_volumes_n[replicate,:] = actual_volumes_replicate\n",
    "    actual_concentrations_n[replicate,:] = actual_concentrations_replicate"
   ]
  },
  {
   "cell_type": "markdown",
   "metadata": {},
   "source": [
    "Now let's use this to compute the CV, using numpy.std, which calculates the standard deviation:"
   ]
  },
  {
   "cell_type": "code",
   "execution_count": 22,
   "metadata": {
    "collapsed": true
   },
   "outputs": [],
   "source": [
    "volumes_cv = (actual_volumes_n / ideal_volumes).std(0)\n",
    "concentrations_cv = (actual_concentrations_n / ideal_concentrations).std(0)\n",
    "quantity_cv = ((actual_volumes_n * actual_concentrations_n) / (ideal_volumes * ideal_concentrations)).std(0)"
   ]
  },
  {
   "cell_type": "markdown",
   "metadata": {},
   "source": [
    "Plotting the CV as a function of dilution number reveals surprising trends."
   ]
  },
  {
   "cell_type": "code",
   "execution_count": 23,
   "metadata": {
    "collapsed": false
   },
   "outputs": [
    {
     "data": {
      "image/png": "[encoded data removed]",
      "text/plain": [
       "<matplotlib.figure.Figure at 0x10cc9db10>"
      ]
     },
     "metadata": {},
     "output_type": "display_data"
    }
   ],
   "source": [
    "plt.plot(range(ndilutions), concentrations_cv*100, 'ro', \\\n",
    "         range(ndilutions), volumes_cv*100, 'go', \\\n",
    "         range(ndilutions), quantity_cv*100, 'bo')\n",
    "plt.xlabel('dilution number')\n",
    "plt.ylabel('CV (%)')\n",
    "plt.xlim([-0.5, ndilutions - 0.5])\n",
    "plt.legend(['concentration', 'volume', 'quantity'], loc='lower right');\n",
    "plt.tight_layout();\n",
    "plt.savefig('tips-quantity_CV.eps', format='eps', dpi=1000);"
   ]
  },
  {
   "cell_type": "markdown",
   "metadata": {},
   "source": [
    "While the error in volume is relatively constant with dilution number, the CV (imprecision) in both concentration and quantity of compound increases with dilution number: up to 6% in the final sample."
   ]
  },
  {
   "cell_type": "markdown",
   "metadata": {},
   "source": [
    "What about bias?  Is there significant deviation from the expected average concentration due to this process?"
   ]
  },
  {
   "cell_type": "markdown",
   "metadata": {},
   "source": [
    "Let's look at the mean of all these values for this 5000 replicate test."
   ]
  },
  {
   "cell_type": "code",
   "execution_count": 24,
   "metadata": {
    "collapsed": false
   },
   "outputs": [
    {
     "data": {
      "image/png": "[encoded data removed]",
      "text/plain": [
       "<matplotlib.figure.Figure at 0x10d9a0cd0>"
      ]
     },
     "metadata": {},
     "output_type": "display_data"
    }
   ],
   "source": [
    "# Compute relative bias.\n",
    "volumes_bias = (actual_volumes_n / ideal_volumes).mean(0) - 1\n",
    "concentrations_bias = (actual_concentrations_n / ideal_concentrations).mean(0) - 1\n",
    "quantity_bias = ((actual_volumes_n * actual_concentrations_n) / (ideal_volumes * ideal_concentrations)).mean(0) - 1\n",
    "\n",
    "#Let's define DILUTIONS to make plotting easier.\n",
    "dilutions = np.arange(ndilutions)\n",
    "\n",
    "# Plot relative biases.\n",
    "plt.plot([0, ndilutions], [0, 0], 'k--', dilutions, concentrations_bias*100, 'ro', \\\n",
    "     dilutions, volumes_bias*100, 'go', dilutions, quantity_bias*100, 'bo')\n",
    "plt.xlabel('dilution number')\n",
    "plt.ylabel('bias (%)')\n",
    "plt.legend(['none','concentration', 'volume', 'quantity'], loc='lower right')\n",
    "plt.axis([-0.5, ndilutions - 0.5, -100, 100]);\n",
    "plt.tight_layout();\n",
    "plt.savefig('tips-quantity_bias.eps', format='eps', dpi=1000);"
   ]
  },
  {
   "cell_type": "markdown",
   "metadata": {
    "collapsed": true
   },
   "source": [
    "We see that the process is essentially free of bias, which is expected if the bias for each realization of the experiment is chosen randomly for this model.  In reality, if multiple experiments are run with the same instrument without recalibration, the same bias in dispensing volumes would lead to biased assay results, but for the purposes of this simulation, we are sampling over many random recalibrations of the same instrument."
   ]
  },
  {
   "cell_type": "markdown",
   "metadata": {
    "collapsed": true
   },
   "source": [
    "Now lets see how our estimation of enzyme activity is affected by including imprecision and inaccuracy, running many assay replicates."
   ]
  },
  {
   "cell_type": "markdown",
   "metadata": {},
   "source": [
    "First we need to add one more step of pipetting that includes our pipetting imprecision and inaccuracy as we transfer  a *compound_volume* (2 uL) of our dilution series into the enzyme assay solution of volume *mix_volume* (10 uL):"
   ]
  },
  {
   "cell_type": "code",
   "execution_count": 25,
   "metadata": {
    "collapsed": true
   },
   "outputs": [],
   "source": [
    "compound_volume = 2.0e-6 # volume of compound dilution added to assay (L)\n",
    "\n",
    "mix_volume = 10.0e-6 # volume of enzyme assay mix added to assay (L)"
   ]
  },
  {
   "cell_type": "code",
   "execution_count": 26,
   "metadata": {
    "collapsed": true
   },
   "outputs": [],
   "source": [
    "def robot_dispense(compound_volume, mix_volume, compound_concentrations, pipetting_model):\n",
    "    [compound_inaccuracy, compound_imprecision] = pipetting_model(compound_volume)\n",
    "    [mix_inaccuracy, mix_imprecision] = pipetting_model(mix_volume)\n",
    "    \n",
    "    from numpy.random import normal\n",
    "    dispense_volume = np.zeros([ndilutions], np.float64)\n",
    "    dispense_compound_concentration = np.zeros([ndilutions], np.float64)\n",
    "    \n",
    "    compound_bias = compound_inaccuracy * normal()\n",
    "    mix_bias = mix_inaccuracy * normal()\n",
    "\n",
    "    for i in range(ndilutions):\n",
    "        compound_volume_dispensed = compound_volume * ((1+compound_bias) + compound_imprecision*normal())\n",
    "        mix_volume_dispensed = mix_volume * ((1+mix_bias) + mix_imprecision*normal())\n",
    "        dispense_volume[i] = compound_volume_dispensed + mix_volume_dispensed\n",
    "        dispense_compound_concentration[i] = compound_concentrations[i] * compound_volume_dispensed / dispense_volume[i]\n",
    "\n",
    "    return [dispense_volume, dispense_compound_concentration]"
   ]
  },
  {
   "cell_type": "code",
   "execution_count": 27,
   "metadata": {
    "collapsed": false
   },
   "outputs": [
    {
     "data": {
      "image/png": "[encoded data removed]",
      "text/plain": [
       "<matplotlib.figure.Figure at 0x10d9a0e50>"
      ]
     },
     "metadata": {},
     "output_type": "display_data"
    }
   ],
   "source": [
    "#initialize the activity values with a zero vector\n",
    "activity = np.zeros([nreplicates,ndilutions], np.float64)\n",
    "\n",
    "#calclulate activity with our competitive inhibition model and our new actual_concentrations for nreplicates\n",
    "for replicate in range(nreplicates):\n",
    "    [actual_volumes, actual_concentrations] = ROBOT_dilution_series(Vinitial, Cinitial, Vtransfer, Vbuffer, ndilutions, tecan_genesis_pipetting_model)\n",
    "    [dispense_volumes, dispense_compound_concentrations] = robot_dispense(compound_volume, mix_volume, actual_concentrations, tecan_genesis_pipetting_model)\n",
    "    for i in range(ndilutions):\n",
    "        activity[replicate,i] = competitive_inhibition(substrate_concentration, dispense_compound_concentrations[i], enzyme_concentration, true_Ki, Km)\n",
    "\n",
    "#plot\n",
    "plt.semilogx(ideal_concentrations * ( compound_volume/(compound_volume + mix_volume) ), activity[::10].transpose(), 'r-');\n",
    "plt.xlabel('ideal [I] (M)');\n",
    "plt.ylabel('$V_{0}/V_{max}$');\n",
    "plt.xlim([10**(-7),10**(-4.8)]);\n",
    "plt.tight_layout();\n",
    "plt.savefig('tips-activity.eps', format='eps', dpi=1000);"
   ]
  },
  {
   "cell_type": "markdown",
   "metadata": {},
   "source": [
    "It's not hard to see that the activity will vary over a substantial range."
   ]
  },
  {
   "cell_type": "markdown",
   "metadata": {},
   "source": [
    "To determine the distribution of $IC_{50}$s consistent with the newly imposed experimental errors, we next use a nonlinear fit to each realization of the experiment to extract an $IC_{50}$ using this relationship to Ki for competitive inhibition, where we have already defined *[S]* and *Km* as constants:"
   ]
  },
  {
   "cell_type": "markdown",
   "metadata": {},
   "source": [
    "$$IC_{50} = K_{i}(1+\\frac{[S]}{K_{m}})$$"
   ]
  },
  {
   "cell_type": "code",
   "execution_count": 28,
   "metadata": {
    "collapsed": false
   },
   "outputs": [],
   "source": [
    "#define the function 'competitive_inhibition_IC50' using this equation\n",
    "def competitive_inhibition_IC50(substrate_concentration, inhibitor_concentration, enzyme_concentration, IC50, Km):\n",
    "    V0_over_Vmax = substrate_concentration / (Km*(1 + inhibitor_concentration/(IC50/(1 + substrate_concentration/Km))) + substrate_concentration)\n",
    "    return V0_over_Vmax"
   ]
  },
  {
   "cell_type": "code",
   "execution_count": 29,
   "metadata": {
    "collapsed": true
   },
   "outputs": [],
   "source": [
    "def fit_ic50(inhibitor_concentrations, activities, IC50_guess):\n",
    "    def objective(inhibitor_concentrations, IC50):\n",
    "        activities = np.zeros([ndilutions], np.float64)\n",
    "        for i in range(ndilutions):\n",
    "            activities[i] = competitive_inhibition_IC50(substrate_concentration, inhibitor_concentrations[i], enzyme_concentration, IC50, Km)\n",
    "        return activities\n",
    "            \n",
    "    import scipy.optimize\n",
    "    [popt, pcov] = scipy.optimize.curve_fit(objective, inhibitor_concentrations, activities, p0=[IC50_guess])\n",
    "    \n",
    "    return popt[0]"
   ]
  },
  {
   "cell_type": "code",
   "execution_count": null,
   "metadata": {
    "collapsed": true
   },
   "outputs": [],
   "source": []
  },
  {
   "cell_type": "code",
   "execution_count": 30,
   "metadata": {
    "collapsed": false
   },
   "outputs": [
    {
     "data": {
      "image/png": "[encoded data removed]",
      "text/plain": [
       "<matplotlib.figure.Figure at 0x10d9f07d0>"
      ]
     },
     "metadata": {},
     "output_type": "display_data"
    }
   ],
   "source": [
    "IC50s_tips = np.zeros([nreplicates], np.float64)\n",
    "for replicate in range(nreplicates):\n",
    "    IC50s_tips[replicate] = fit_ic50(ideal_concentrations * ( compound_volume/(compound_volume + mix_volume) ), activity[replicate,:], true_Ki*(1 + substrate_concentration/Km))\n",
    "pIC50s_tips = np.log10(IC50s_tips)\n",
    "    \n",
    "nhist = 20\n",
    "plt.hist(pIC50s_tips, nhist);\n",
    "plt.xlabel('measured pIC50 (M)');\n",
    "plt.ylabel('P(pIC50)');\n",
    "plt.yticks([]);\n",
    "plt.tight_layout();\n",
    "plt.savefig('tips-pIC50.eps', format='eps', dpi=1000);"
   ]
  },
  {
   "cell_type": "markdown",
   "metadata": {},
   "source": [
    "The imprecision and inaccuracy in the measured $pIC_{50}$s may not be uniform across the whole $K_i$ range, however.  To see if there is variation as a function of true inhibitor $K_i$, we can characterize imprecision and inaccuracy as a function of $pK_i$."
   ]
  },
  {
   "cell_type": "code",
   "execution_count": 31,
   "metadata": {
    "collapsed": false
   },
   "outputs": [],
   "source": [
    "def robot_IC50s(true_Ki):\n",
    "    nreplicates = 1000\n",
    "    IC50s = np.zeros([nreplicates], np.float64)\n",
    "    for replicate in range(nreplicates):\n",
    "        [actual_volumes, actual_concentrations] = ROBOT_dilution_series(Vinitial, Cinitial, Vtransfer, Vbuffer, ndilutions, tecan_genesis_pipetting_model)\n",
    "        [dispense_volumes, dispense_compound_concentrations] = robot_dispense(compound_volume, mix_volume, actual_concentrations, tecan_genesis_pipetting_model)\n",
    "        activities = np.zeros([ndilutions], np.float64)\n",
    "        for i in range(ndilutions):\n",
    "            activities[i] = competitive_inhibition(substrate_concentration,  dispense_compound_concentrations[i], enzyme_concentration, true_Ki, Km)\n",
    "        IC50s[replicate] = fit_ic50(ideal_concentrations * ( compound_volume/(compound_volume + mix_volume) ), activities, true_Ki*(1 + substrate_concentration/Km))\n",
    "    return IC50s"
   ]
  },
  {
   "cell_type": "code",
   "execution_count": 32,
   "metadata": {
    "collapsed": true
   },
   "outputs": [],
   "source": [
    "#define arbitrary pKi array\n",
    "pKis = np.array([-12, -11, -10, -9, -8, -7, -6, -5, -4, -3], np.float64);\n",
    "Kis = 10**pKis\n",
    "nKis = len(pKis)\n",
    "\n",
    "#initialize with zeros\n",
    "genesis_pIC50_bias = np.zeros([nKis], np.float64)\n",
    "genesis_pIC50_CV = np.zeros([nKis], np.float64)\n",
    "\n",
    "for (i, Ki) in enumerate(Kis):\n",
    "    IC50s = robot_IC50s(Ki)    \n",
    "    pIC50s = np.log10(IC50s)\n",
    "    pIC50_true = np.log10(Kis[i]*(1 + substrate_concentration/Km))\n",
    "    genesis_pIC50_bias[i] = pIC50s.mean() - pIC50_true;\n",
    "    genesis_pIC50_CV[i] = pIC50s.std() / abs(pIC50s.mean())   "
   ]
  },
  {
   "cell_type": "markdown",
   "metadata": {},
   "source": [
    "We can plot the bias in the measured $pIC_{50}$ values to examine the bias and CV."
   ]
  },
  {
   "cell_type": "code",
   "execution_count": 33,
   "metadata": {
    "collapsed": false
   },
   "outputs": [
    {
     "data": {
      "image/png": "[encoded data removed]",
      "text/plain": [
       "<matplotlib.figure.Figure at 0x10d5971d0>"
      ]
     },
     "metadata": {},
     "output_type": "display_data"
    }
   ],
   "source": [
    "# Plot relative error in measured Ki values as a function of true Ki.\n",
    "plt.plot([pKis.min(), pKis.max()], [0, 0], 'k-', pKis, genesis_pIC50_bias, 'ro');\n",
    "plt.xlabel('pKi');\n",
    "plt.ylabel('bias in measured pIC50');\n",
    "plt.axis([pKis.min()-0.5, pKis.max()+0.5, -1.5,1.5]);"
   ]
  },
  {
   "cell_type": "code",
   "execution_count": 34,
   "metadata": {
    "collapsed": false
   },
   "outputs": [
    {
     "data": {
      "image/png": "[encoded data removed]",
      "text/plain": [
       "<matplotlib.figure.Figure at 0x10e7cda10>"
      ]
     },
     "metadata": {},
     "output_type": "display_data"
    }
   ],
   "source": [
    "plt.plot(pKis, genesis_pIC50_CV*100, 'ko');\n",
    "plt.xlabel('pKi');\n",
    "plt.ylabel('pIC50 CV (%)');\n",
    "plt.axis([pKis.min(), pKis.max(), 0, 10]);"
   ]
  },
  {
   "cell_type": "code",
   "execution_count": 35,
   "metadata": {
    "collapsed": false
   },
   "outputs": [
    {
     "data": {
      "image/png": "[encoded data removed]",
      "text/plain": [
       "<matplotlib.figure.Figure at 0x10e7d71d0>"
      ]
     },
     "metadata": {},
     "output_type": "display_data"
    }
   ],
   "source": [
    "# Combine these plots into one!\n",
    "fig,ax1 = plt.subplots()\n",
    "\n",
    "ax1.plot([pKis.min(), pKis.max()], [0, 0], 'k-', pKis, genesis_pIC50_bias, 'ro');\n",
    "ax1.set_xlabel('pKi');\n",
    "ax1.set_ylabel('bias in measured pIC50', color='r');\n",
    "ax1.axis([pKis.min()-0.5, pKis.max()+0.5, -1,1]);\n",
    "ax1.legend(['ideal','bias'], loc='upper left')\n",
    "\n",
    "ax2=ax1.twinx()\n",
    "ax2.plot(pKis, genesis_pIC50_CV*100, 'ko');\n",
    "ax2.set_ylabel('pIC50 CV (%)',rotation=270,labelpad=20);\n",
    "ax2.axis([pKis.min()-.5, pKis.max()+.5, 0, 6]);\n",
    "ax2.legend(['CV'], loc='upper right')\n",
    "\n",
    "plt.tight_layout()\n",
    "plt.savefig('tips-CV-bias-pIC50.eps', format='eps', dpi=1000)"
   ]
  },
  {
   "cell_type": "markdown",
   "metadata": {},
   "source": [
    "###3. Compare this to inaccuracy and imprecision for acoustic dispensing with the LabCyte Echo."
   ]
  },
  {
   "cell_type": "markdown",
   "metadata": {
    "collapsed": true
   },
   "source": [
    "Preparation of a dilution series by direct dispensing with the LabCyte Echo is a different process.  In the protocol described in [2], various quantities of 10 mM stock up to 120 uL were dispensed using the Echo, and then backfilled to 120 uL with DMSO.\n",
    "\n",
    "According to published [inaccuracy/imprecision specifications for LabCyte Echo](http://www.labcyte.com/sites/default/files/support_docs/Echo%205XX%20Specifications.pdf), the Echo has an inaccuracy of 10% and an imprecision of 8% over the entire dispense range of 2.5 nL to 10 uL.  We consider a 8-point dilution series spanning 2.5 nL (the smallest quantity the Echo can dispense) to 120 nL (the largest quantity dispensed in the assay) from 10 mM stock solution."
   ]
  },
  {
   "cell_type": "markdown",
   "metadata": {},
   "source": [
    "![alt text](img/Echo.png \"Echo.png\")"
   ]
  },
  {
   "cell_type": "markdown",
   "metadata": {},
   "source": [
    "Unlike for tip-based dispensing, here we aren't creating a dilution series, we will be directly dispensing the assay amounts into the assay wells. We will apply the inaccuracy and imprecision in a similar way as before, to determine the normal distribution around which to define *dispense_volumes* and *backfill_volume*. The *backfill_volume* is the volume of DMSO added to the mix in addition to the compound stock (also in DMSO) so that the concentration of DMSO remains constant throughout the assay."
   ]
  },
  {
   "cell_type": "markdown",
   "metadata": {},
   "source": [
    "![alt text](img/direct_dispense.png \"direct_dispense.png\")"
   ]
  },
  {
   "cell_type": "code",
   "execution_count": 36,
   "metadata": {
    "collapsed": true
   },
   "outputs": [],
   "source": [
    "# define echo_assay_dispense function that mimics the process of dispensing from the Echo into mix_volume\n",
    "def echo_assay_dispense(C0, mix_volume, backfill_volume, dispense_volumes):\n",
    "    inaccuracy = 0.10\n",
    "    imprecision = 0.08\n",
    "\n",
    "    ndilutions = len(dispense_volumes)\n",
    "    echo_volume = np.zeros([ndilutions], np.float64)\n",
    "    echo_concentration = np.zeros([ndilutions], np.float64)\n",
    "    bias = inaccuracy * normal()\n",
    "    \n",
    "    for i in range(ndilutions):\n",
    "        compound_volume_intended = dispense_volumes[i]\n",
    "        backfill_volume_intended = backfill_volume - compound_volume_intended\n",
    "        \n",
    "        compound_volume_dispensed = compound_volume_intended * ((1+bias) + imprecision*normal())\n",
    "        backfill_volume_dispensed = backfill_volume_intended * ((1+bias) + imprecision*normal())\n",
    "        \n",
    "        echo_volume[i] = mix_volume + backfill_volume_dispensed + compound_volume_dispensed\n",
    "        echo_concentration[i] = C0 * compound_volume_dispensed / echo_volume[i]\n",
    "\n",
    "    return [echo_volume, echo_concentration]"
   ]
  },
  {
   "cell_type": "markdown",
   "metadata": {},
   "source": [
    "Now, let's use this *echo_assay_dispense* function to create an 8-point dilution series with DMSO compound stock concentration as 10 mM, a final assay volume of 12 µL, and an 8-point titration of dispense volumes in multiples of 15 nL. To make sure our DMSO concentration does not vary as we vary our compound concentration, we'll always backfill up to 120 nL total DMSO."
   ]
  },
  {
   "cell_type": "code",
   "execution_count": 37,
   "metadata": {
    "collapsed": false
   },
   "outputs": [
    {
     "name": "stdout",
     "output_type": "stream",
     "text": [
      "[  1.25000000e-05   2.50000000e-05   3.75000000e-05   5.00000000e-05\n",
      "   6.25000000e-05   7.50000000e-05   8.75000000e-05   1.00000000e-04]\n"
     ]
    }
   ],
   "source": [
    "echo_C0 = 10e-3 # DMSO stock concentration (M)\n",
    "\n",
    "assay_volume = 12e-6 # final assay volume (L)\n",
    "\n",
    "echo_dispense_volumes = 2.5e-9 * np.array([6, 12, 18, 24, 30, 36, 42, 48]) # dispense volumes in multiples of 15 nL\n",
    "\n",
    "ndilutions = len(echo_dispense_volumes)\n",
    "\n",
    "backfill_volume = 120e-9 # total Echo dispense volume including compound and DMSO backfilling (L)\n",
    "\n",
    "mix_volume = assay_volume - backfill_volume # assay mix volume to be added by liquid handler (L)\n",
    "\n",
    "#Check our concentrations are as expected\n",
    "echo_ideal_concentrations = (echo_C0*echo_dispense_volumes/assay_volume)\n",
    "print echo_ideal_concentrations"
   ]
  },
  {
   "cell_type": "code",
   "execution_count": 38,
   "metadata": {
    "collapsed": true
   },
   "outputs": [],
   "source": [
    "[echo_volumes, echo_concentrations] = echo_assay_dispense(echo_C0, mix_volume, backfill_volume, echo_dispense_volumes)"
   ]
  },
  {
   "cell_type": "markdown",
   "metadata": {
    "collapsed": true
   },
   "source": [
    "Let's plot a single realization of an Echo dispense experiment:"
   ]
  },
  {
   "cell_type": "code",
   "execution_count": 39,
   "metadata": {
    "collapsed": false
   },
   "outputs": [
    {
     "data": {
      "image/png": "[encoded data removed]",
      "text/plain": [
       "<matplotlib.figure.Figure at 0x10e7a1790>"
      ]
     },
     "metadata": {},
     "output_type": "display_data"
    }
   ],
   "source": [
    "plt.plot([0,ndilutions], [1, 1], 'k--', range(ndilutions), echo_volumes / assay_volume,'ro',\\\n",
    "         range(ndilutions), echo_concentrations / echo_ideal_concentrations, 'go');\n",
    "plt.legend(['exact', 'assay well volume rel err', 'concentration rel err'], loc='lower right')\n",
    "plt.axis([-0.5, ndilutions - 0.5, 0.5, 1.5])\n",
    "plt.ylabel('relative quantity')\n",
    "plt.xlabel('dilution number');"
   ]
  },
  {
   "cell_type": "markdown",
   "metadata": {},
   "source": [
    "We simulate many realizations of the same experiment to quantify imprecision and bias in the dilution series."
   ]
  },
  {
   "cell_type": "code",
   "execution_count": 40,
   "metadata": {
    "collapsed": true
   },
   "outputs": [],
   "source": [
    "# initialize with zeros\n",
    "actual_volumes_n = np.zeros([nreplicates, ndilutions], np.float64)\n",
    "actual_concentrations_n = np.zeros([nreplicates, ndilutions], np.float64)\n",
    "\n",
    "# initialize volume array with assay_volume value\n",
    "volume_array = np.ones([ndilutions]) * assay_volume\n",
    "\n",
    "for replicate in range(nreplicates):\n",
    "    [actual_volumes_replicate, actual_concentrations_replicate] = echo_assay_dispense(echo_C0, mix_volume, backfill_volume, echo_dispense_volumes)\n",
    "    actual_volumes_n[replicate,:] = actual_volumes_replicate\n",
    "    actual_concentrations_n[replicate,:] = actual_concentrations_replicate\n",
    "volumes_cv = (actual_volumes_n / assay_volume).std(0)\n",
    "concentrations_cv = (actual_concentrations_n / echo_ideal_concentrations).std(0)\n",
    "quantity_cv = ((actual_volumes_n * actual_concentrations_n) / (assay_volume * echo_ideal_concentrations)).std(0)"
   ]
  },
  {
   "cell_type": "markdown",
   "metadata": {},
   "source": [
    "We can now plot the CVs to examine the imprecision in the resulting compound concentrations."
   ]
  },
  {
   "cell_type": "code",
   "execution_count": 41,
   "metadata": {
    "collapsed": false
   },
   "outputs": [
    {
     "data": {
      "image/png": "[encoded data removed]",
      "text/plain": [
       "<matplotlib.figure.Figure at 0x10f3fb110>"
      ]
     },
     "metadata": {},
     "output_type": "display_data"
    }
   ],
   "source": [
    "# define dilutions to make plotting easier.\n",
    "dilutions = np.arange(ndilutions)\n",
    "\n",
    "plt.plot(dilutions, concentrations_cv*100, 'rs', dilutions, volumes_cv*100, 'go', dilutions, quantity_cv*100, 'bo')\n",
    "plt.xlabel('dilution number')\n",
    "plt.ylabel('CV (%)')\n",
    "plt.xlim([-0.5,ndilutions - 0.5])\n",
    "plt.legend(['concentration', 'volume', 'quantity'], loc='center right');\n",
    "plt.tight_layout();\n",
    "plt.savefig('echo-quantity_CV.eps', format='eps', dpi=1000);"
   ]
  },
  {
   "cell_type": "markdown",
   "metadata": {},
   "source": [
    "We again quantify the bias:"
   ]
  },
  {
   "cell_type": "code",
   "execution_count": 42,
   "metadata": {
    "collapsed": false
   },
   "outputs": [
    {
     "data": {
      "image/png": "[encoded data removed]",
      "text/plain": [
       "<matplotlib.figure.Figure at 0x10d93f0d0>"
      ]
     },
     "metadata": {},
     "output_type": "display_data"
    }
   ],
   "source": [
    "# Compute relative bias.\n",
    "volumes_bias = (actual_volumes_n / assay_volume).mean(0) - 1\n",
    "concentrations_bias = (actual_concentrations_n / echo_ideal_concentrations).mean(0) - 1\n",
    "quantity_bias = ((actual_volumes_n * actual_concentrations_n) / (assay_volume * echo_ideal_concentrations)).mean(0) - 1\n",
    "\n",
    "# Plot relative biases.\n",
    "plt.plot([0, ndilutions], [0, 0], 'k--', dilutions, concentrations_bias*100, 'rs', \\\n",
    "     dilutions, volumes_bias*100, 'go', dilutions, quantity_bias*100, 'bo')\n",
    "plt.xlabel('dilution number')\n",
    "plt.ylabel('bias (%)')\n",
    "plt.legend(['none','concentration', 'volume', 'quantity'], loc='lower right')\n",
    "plt.axis([-0.5, ndilutions - 0.5, -100, 100]);\n",
    "plt.tight_layout();\n",
    "plt.savefig('echo-quantity_bias.eps', format='eps', dpi=1000);"
   ]
  },
  {
   "cell_type": "markdown",
   "metadata": {},
   "source": [
    "Again, bias over many random calibrations of the same instrument is expected to be zero."
   ]
  },
  {
   "cell_type": "markdown",
   "metadata": {},
   "source": [
    "Now lets see how our estimation of enzyme activity is affected by including imprecision and inaccuracy, running many assay replicates."
   ]
  },
  {
   "cell_type": "code",
   "execution_count": 43,
   "metadata": {
    "collapsed": false
   },
   "outputs": [
    {
     "data": {
      "image/png": "[encoded data removed]",
      "text/plain": [
       "<matplotlib.figure.Figure at 0x10f526990>"
      ]
     },
     "metadata": {},
     "output_type": "display_data"
    }
   ],
   "source": [
    "#initialize the activity values with a zero vector\n",
    "activity = np.zeros([nreplicates,ndilutions], np.float64)\n",
    "\n",
    "#calclulate activity with our competitive inhibition model and our new actual_concentrations for nreplicates\n",
    "for replicate in range(nreplicates):\n",
    "    [actual_volumes, actual_concentrations] = echo_assay_dispense(echo_C0, mix_volume, backfill_volume, echo_dispense_volumes)\n",
    "    for i in range(ndilutions):\n",
    "        activity[replicate,i] = competitive_inhibition(substrate_concentration, actual_concentrations[i], enzyme_concentration, true_Ki, Km)\n",
    "\n",
    "#plot\n",
    "plt.semilogx(echo_ideal_concentrations, activity[::10].transpose(), 'r-');\n",
    "plt.xlabel('ideal [I] (M)');\n",
    "plt.ylabel('$V_{0}/V_{max}$');\n",
    "plt.xlim([10**(-5),10**(-3.9)]);\n",
    "plt.tight_layout();\n",
    "plt.savefig('echo-activity.eps', format='eps', dpi=1000);"
   ]
  },
  {
   "cell_type": "markdown",
   "metadata": {},
   "source": [
    "Let's check our $pIC_{50}$ histogram using the same `fit_ic50` function from before."
   ]
  },
  {
   "cell_type": "code",
   "execution_count": 44,
   "metadata": {
    "collapsed": false
   },
   "outputs": [
    {
     "data": {
      "image/png": "[encoded data removed]",
      "text/plain": [
       "<matplotlib.figure.Figure at 0x10f4c2450>"
      ]
     },
     "metadata": {},
     "output_type": "display_data"
    }
   ],
   "source": [
    "IC50s_echo = np.zeros([nreplicates], np.float64)\n",
    "for replicate in range(nreplicates):\n",
    "    IC50s_echo[replicate] = fit_ic50(echo_ideal_concentrations, activity[replicate,:], true_Ki*(1 + substrate_concentration/Km))\n",
    "pIC50s_echo = np.log10(IC50s_echo)\n",
    "    \n",
    "nhist = 20\n",
    "plt.hist(pIC50s_echo, nhist);\n",
    "plt.xlabel('measured pIC50 (M)');\n",
    "plt.ylabel('P(pIC50)');\n",
    "plt.yticks([]);\n",
    "plt.tight_layout();\n",
    "plt.savefig('echo-pIC50s.eps', format='eps', dpi=1000);"
   ]
  },
  {
   "cell_type": "markdown",
   "metadata": {},
   "source": [
    "Similarly, the imprecision and inaccuracy in the measured pIC50s may not be uniform across the whole $K_i$ range, however, so we will characterize imprecision and inaccuracy as a function of $pK_i$."
   ]
  },
  {
   "cell_type": "code",
   "execution_count": 45,
   "metadata": {
    "collapsed": true
   },
   "outputs": [],
   "source": [
    "def echo_IC50s(true_Ki):\n",
    "    nreplicates = 1000\n",
    "    IC50s = np.zeros([nreplicates], np.float64)\n",
    "    for replicate in range(nreplicates):\n",
    "        [assay_volumes, actual_concentrations] = echo_assay_dispense(echo_C0, mix_volume, backfill_volume, echo_dispense_volumes)\n",
    "        activities = np.zeros([ndilutions], np.float64)\n",
    "        for i in range(ndilutions):\n",
    "            activities[i] = competitive_inhibition(substrate_concentration, actual_concentrations[i], enzyme_concentration, true_Ki, Km)\n",
    "        IC50s[replicate] = fit_ic50(echo_ideal_concentrations, activities, true_Ki*(1 + substrate_concentration/Km))\n",
    "    return IC50s"
   ]
  },
  {
   "cell_type": "code",
   "execution_count": 46,
   "metadata": {
    "collapsed": false
   },
   "outputs": [],
   "source": [
    "# Initialize with zeros.\n",
    "echo_pIC50_bias = np.zeros([nKis], np.float64)\n",
    "echo_pIC50_CV = np.zeros([nKis], np.float64)\n",
    "\n",
    "for (i, Ki) in enumerate(Kis):\n",
    "    IC50s = echo_IC50s(Ki)    \n",
    "    pIC50s = np.log10(IC50s)\n",
    "    pIC50_true = np.log10(Kis[i]*(1 + substrate_concentration/Km))\n",
    "    echo_pIC50_bias[i] = pIC50s.mean() - pIC50_true;\n",
    "    echo_pIC50_CV[i] = pIC50s.std() / abs(pIC50s.mean())  "
   ]
  },
  {
   "cell_type": "code",
   "execution_count": 47,
   "metadata": {
    "collapsed": false
   },
   "outputs": [
    {
     "data": {
      "image/png": "[encoded data removed]",
      "text/plain": [
       "<matplotlib.figure.Figure at 0x10f2f1890>"
      ]
     },
     "metadata": {},
     "output_type": "display_data"
    }
   ],
   "source": [
    "# Plot relative error in measured Ki values as a function of true Ki.\n",
    "plt.plot([pKis.min(), pKis.max()], [0, 0], 'k-', pKis, echo_pIC50_bias, 'ro');\n",
    "plt.xlabel('pKi');\n",
    "plt.ylabel('bias in measured pIC50');\n",
    "plt.axis([pKis.min()-0.5, pKis.max()+0.5, -1.5,1.5]);"
   ]
  },
  {
   "cell_type": "code",
   "execution_count": 48,
   "metadata": {
    "collapsed": false
   },
   "outputs": [
    {
     "data": {
      "image/png": "[encoded data removed]",
      "text/plain": [
       "<matplotlib.figure.Figure at 0x10f3e52d0>"
      ]
     },
     "metadata": {},
     "output_type": "display_data"
    }
   ],
   "source": [
    "#Plot CV.\n",
    "plt.plot(pKis, echo_pIC50_CV*100, 'ko');\n",
    "plt.xlabel('pKi');\n",
    "plt.ylabel('measured pIC50 CV (%)');\n",
    "plt.axis([pKis.min(), pKis.max(), 0, 10]);"
   ]
  },
  {
   "cell_type": "code",
   "execution_count": 49,
   "metadata": {
    "collapsed": false
   },
   "outputs": [
    {
     "data": {
      "image/png": "[encoded data removed]",
      "text/plain": [
       "<matplotlib.figure.Figure at 0x10ded3910>"
      ]
     },
     "metadata": {},
     "output_type": "display_data"
    }
   ],
   "source": [
    "# Combine these plots into one!\n",
    "fig,ax1 = plt.subplots()\n",
    "\n",
    "ax1.plot([pKis.min(), pKis.max()], [0, 0], 'k-', pKis, echo_pIC50_bias, 'ro');\n",
    "ax1.set_xlabel('pKi');\n",
    "ax1.set_ylabel('bias in measured pIC50', color='r');\n",
    "ax1.axis([pKis.min()-0.5, pKis.max()+0.5, -1,1]);\n",
    "ax1.legend(['ideal','bias'], loc='upper left')\n",
    "\n",
    "ax2=ax1.twinx()\n",
    "ax2.plot(pKis, echo_pIC50_CV*100, 'ko');\n",
    "ax2.set_ylabel('pIC50 CV (%)',rotation=270,labelpad=20);\n",
    "ax2.axis([pKis.min()-.5, pKis.max()+.5, 0, 6]);\n",
    "ax2.legend(['CV'], loc='upper right')\n",
    "\n",
    "plt.tight_layout()\n",
    "plt.savefig('echo-CV-bias-pIC50.eps', format='eps', dpi=1000)"
   ]
  },
  {
   "cell_type": "markdown",
   "metadata": {},
   "source": [
    "###4. Add to model: dilution by system liquid of the Tecan Genesis liquid-handling robot."
   ]
  },
  {
   "cell_type": "markdown",
   "metadata": {},
   "source": [
    "The Tecan Genesis supports the use of both disposable tips and fixed tips. When operating with fixed tips, syringes use a system liquid (generally water or buffer) to aspirate and dispense during liquid transfers.  While an air gap remains between the liquid being transferred and the system liquid, the system liquid is used to flush the tips into waste after transfers in order to remove any liquid residue before the next transfer. Because a small quantity of system liquid residue remains coating the tip after washing, fixed tips can actually *dilute* the sample being transferred unless special protocols are used to prevent this. A good description of this phenomonen can be found in [Dilution effect in multichannel liquid-handling system equipped with fixed tips:Problems and solutions for bioanalytical sample preparation. J. Lab. Autom. 12(6): 2007](http://dx.doi.org/10.1016/j.jala.2007.07.002), including the diagram below:"
   ]
  },
  {
   "cell_type": "markdown",
   "metadata": {},
   "source": [
    "![alt text](img/dilution_effect_diagram.png \"dilution_effect_diagram.png\")"
   ]
  },
  {
   "cell_type": "markdown",
   "metadata": {
    "collapsed": true
   },
   "source": [
    "The magnitude of this dilution effect was noted in a 2006 paper by Dong et al at BMS, [The use of a dual dye photometric calibration method to identify possible sample dilution from an automated multichannel liquid-handling system. J. Lab. Autom. 11(2): 2006](http://dx.doi.org/10.1016/j.jala.2006.02.005), which quite surprisingly can have a large impact on dilution series preparation. The relevant table from this paper is below."
   ]
  },
  {
   "cell_type": "markdown",
   "metadata": {},
   "source": [
    "![alt text](img/DilutionError_small.png \"DilutionError_small.png\")"
   ]
  },
  {
   "cell_type": "code",
   "execution_count": 50,
   "metadata": {
    "collapsed": true
   },
   "outputs": [],
   "source": [
    "# Define a function to interpolate the dilution effect between the measured values of Dong et al. 2006\n",
    "volume = np.array([20, 200]) * 1e-6 # volumes at which dilution effect was quantified (L)\n",
    "dilution_effect = np.array([-0.0630, -0.0496]) # relative inaccuracy due to dilution with system liquid at corresponding volumes\n",
    "\n",
    "dilution_function = interp1d(volume, dilution_effect) # interpolation function"
   ]
  },
  {
   "cell_type": "markdown",
   "metadata": {},
   "source": [
    "We introduce a modified model of our dilution series that now incorporates this dilution effect."
   ]
  },
  {
   "cell_type": "markdown",
   "metadata": {},
   "source": [
    "Note that the only difference between this function and our `ROBOT_dilution_series` function is that `actual_concentrations[n]` value now includes our `dilution_function` term."
   ]
  },
  {
   "cell_type": "code",
   "execution_count": 51,
   "metadata": {
    "collapsed": true
   },
   "outputs": [],
   "source": [
    "def DILUTE_ROBOT_dilution_series(Vinitial, C0, Vtransfer, Vbuffer, ndilutions, pipetting_model):\n",
    "    \n",
    "    # use pipetting error function\n",
    "    [transfer_inaccuracy, transfer_imprecision] = pipetting_model(Vtransfer)    \n",
    "    # TODO: Discuss whether we need separate buffer_inaccuracy, buffer_imprecision\n",
    "        \n",
    "    # define (b) imprecision of volume transfer operations (including initial volumes)\n",
    "    transfer_bias = transfer_inaccuracy * normal()\n",
    "    \n",
    "    # Initialize concentrations and volumes with zero vectors with C0 and Vinitial as first value\n",
    "    actual_concentrations = np.zeros([ndilutions], np.float64)\n",
    "    actual_volumes = np.zeros([ndilutions], np.float64)\n",
    "    actual_concentrations[0] = C0\n",
    "    actual_volumes[0] = Vinitial\n",
    "    \n",
    "    # and Vbuffer as initial volume for all but first.\n",
    "    for n in range(1,ndilutions):\n",
    "        Vbuffer_actual = Vbuffer * ((1+transfer_bias) + transfer_imprecision*normal())\n",
    "        actual_volumes[n] = Vbuffer_actual\n",
    "    \n",
    "    # Create dilute dilution series \n",
    "    # Observe only change is in actual_concentrations[n].\n",
    "    for n in range(1,ndilutions):\n",
    "        Vtransfer_actual = Vtransfer * ((1+transfer_bias) + transfer_imprecision*normal())\n",
    "        Vbuffer_actual = actual_volumes[n]\n",
    "        actual_concentrations[n] = \\\n",
    "             actual_concentrations[n-1] * Vtransfer_actual / (Vtransfer_actual + Vbuffer_actual)\\\n",
    "             * (1+dilution_function(Vtransfer))\n",
    "        actual_volumes[n] += Vtransfer_actual \n",
    "        actual_volumes[n-1] -= Vtransfer_actual\n",
    "    \n",
    "    # Remove Vtransfer from last so that all wells have same intended volume.\n",
    "    Vtransfer_actual = Vtransfer * ((1+transfer_bias) + transfer_imprecision*normal())\n",
    "    actual_volumes[ndilutions-1] -= Vtransfer_actual\n",
    "    \n",
    "    return [actual_volumes, actual_concentrations]"
   ]
  },
  {
   "cell_type": "markdown",
   "metadata": {
    "collapsed": true
   },
   "source": [
    "Once again, we simulate many replicates of the same experiment, this time including the dilution effect."
   ]
  },
  {
   "cell_type": "code",
   "execution_count": 52,
   "metadata": {
    "collapsed": false
   },
   "outputs": [],
   "source": [
    "#initialize with zeros\n",
    "actual_volumes_n = np.zeros([nreplicates, ndilutions], np.float64)\n",
    "actual_concentrations_n = np.zeros([nreplicates, ndilutions], np.float64)\n",
    "\n",
    "for replicate in range(nreplicates):\n",
    "    [actual_volumes_replicate, actual_concentrations_replicate] = DILUTE_ROBOT_dilution_series(Vinitial, Cinitial, Vtransfer, Vbuffer, ndilutions, tecan_genesis_pipetting_model)\n",
    "    actual_volumes_n[replicate,:] = actual_volumes_replicate\n",
    "    actual_concentrations_n[replicate,:] = actual_concentrations_replicate"
   ]
  },
  {
   "cell_type": "markdown",
   "metadata": {},
   "source": [
    "We can quantify the impact on imprecision by visualizing the CVs as a function of dilution number."
   ]
  },
  {
   "cell_type": "code",
   "execution_count": 53,
   "metadata": {
    "collapsed": false
   },
   "outputs": [
    {
     "data": {
      "image/png": "[encoded data removed]",
      "text/plain": [
       "<matplotlib.figure.Figure at 0x105cf7350>"
      ]
     },
     "metadata": {},
     "output_type": "display_data"
    }
   ],
   "source": [
    "volumes_cv = (actual_volumes_n / ideal_volumes).std(0)\n",
    "concentrations_cv = (actual_concentrations_n / ideal_concentrations).std(0)\n",
    "quantity_cv = ((actual_volumes_n * actual_concentrations_n) / (ideal_volumes * ideal_concentrations)).std(0)\n",
    "\n",
    "# Plot CVs\n",
    "plt.plot(dilutions, concentrations_cv*100, 'ro', dilutions, volumes_cv*100, 'go', dilutions, quantity_cv*100, 'bo')\n",
    "plt.xlabel('dilution number')\n",
    "plt.ylabel('CV (%)')\n",
    "plt.xlim([-0.5, ndilutions -0.5])\n",
    "plt.legend(['concentration', 'volume', 'quantity'], loc='lower right');\n",
    "plt.tight_layout();\n",
    "plt.savefig('dilute-quantity_CV.eps', format='eps', dpi=1000);"
   ]
  },
  {
   "cell_type": "markdown",
   "metadata": {},
   "source": [
    "We also examine the bias."
   ]
  },
  {
   "cell_type": "code",
   "execution_count": 54,
   "metadata": {
    "collapsed": false
   },
   "outputs": [
    {
     "data": {
      "image/png": "[encoded data removed]",
      "text/plain": [
       "<matplotlib.figure.Figure at 0x10d81b990>"
      ]
     },
     "metadata": {},
     "output_type": "display_data"
    }
   ],
   "source": [
    "# Compute relative bias.\n",
    "volumes_bias = (actual_volumes_n / ideal_volumes).mean(0) - 1\n",
    "concentrations_bias = (actual_concentrations_n / ideal_concentrations).mean(0) - 1\n",
    "quantity_bias = ((actual_volumes_n * actual_concentrations_n) / (ideal_volumes * ideal_concentrations)).mean(0)- 1\n",
    "\n",
    "# Plot relative biases.\n",
    "plt.plot([0, ndilutions], [0, 0], 'k--', dilutions, concentrations_bias*100, 'rs',\\\n",
    "     dilutions, volumes_bias*100, 'go', dilutions, quantity_bias*100, 'bo');\n",
    "plt.xlabel('dilution number');\n",
    "plt.ylabel('bias (%)');\n",
    "plt.legend(['none', 'concentration', 'volume', 'quantity'], loc='upper right');\n",
    "plt.axis([-0.5, ndilutions - 0.5, -100, 100]);\n",
    "plt.tight_layout();\n",
    "plt.savefig('dilute-quantity_bias.eps', format='eps', dpi=1000);"
   ]
  },
  {
   "cell_type": "markdown",
   "metadata": {},
   "source": [
    "We now see that over many realizations with random calibrations, significant bias in both the concentration and quantity of compound accumulates with dilution number."
   ]
  },
  {
   "cell_type": "code",
   "execution_count": 55,
   "metadata": {
    "collapsed": false
   },
   "outputs": [
    {
     "data": {
      "image/png": "[encoded data removed]",
      "text/plain": [
       "<matplotlib.figure.Figure at 0x10e628550>"
      ]
     },
     "metadata": {},
     "output_type": "display_data"
    }
   ],
   "source": [
    "#initialize the activity values with a zero vector\n",
    "activity = np.zeros([nreplicates,ndilutions], np.float64)\n",
    "\n",
    "#calclulate activity with our competitive inhibition model and our new actual_concentrations for nreplicates\n",
    "for replicate in range(nreplicates):\n",
    "    [actual_volumes, actual_concentrations] = DILUTE_ROBOT_dilution_series(Vinitial, Cinitial, Vtransfer, Vbuffer, ndilutions, tecan_genesis_pipetting_model)\n",
    "    [dispense_volumes, dispense_compound_concentrations] = robot_dispense(compound_volume, mix_volume, actual_concentrations, tecan_genesis_pipetting_model)\n",
    "    for i in range(ndilutions):\n",
    "        activity[replicate,i] = competitive_inhibition(substrate_concentration, dispense_compound_concentrations[i], enzyme_concentration, true_Ki, Km)\n",
    "\n",
    "#plot\n",
    "plt.semilogx(ideal_concentrations * ( compound_volume/(compound_volume + mix_volume) ), activity[::10].transpose(), 'r-');\n",
    "plt.xlabel('ideal [I] (M)');\n",
    "plt.ylabel('$V_{0}/V_{max}$');\n",
    "plt.xlim([10**(-7),10**(-4.8)]);\n",
    "plt.tight_layout();\n",
    "plt.savefig('dilute-activity.eps', format='eps', dpi=1000);"
   ]
  },
  {
   "cell_type": "code",
   "execution_count": 56,
   "metadata": {
    "collapsed": false
   },
   "outputs": [
    {
     "data": {
      "image/png": "[encoded data removed]",
      "text/plain": [
       "<matplotlib.figure.Figure at 0x10e632b50>"
      ]
     },
     "metadata": {},
     "output_type": "display_data"
    }
   ],
   "source": [
    "IC50s_tips_dilute = np.zeros([nreplicates], np.float64)\n",
    "for replicate in range(nreplicates):\n",
    "    IC50s_tips_dilute[replicate] = fit_ic50(ideal_concentrations * ( compound_volume/(compound_volume + mix_volume) ), activity[replicate,:], true_Ki*(1 + substrate_concentration/Km))\n",
    "pIC50s_tips_dilute = np.log10(IC50s_tips_dilute)\n",
    "    \n",
    "nhist = 20\n",
    "plt.hist(pIC50s_tips_dilute, nhist);\n",
    "plt.xlabel('measured pIC50 (M)');\n",
    "plt.ylabel('P(pIC50)');\n",
    "plt.yticks([]);\n",
    "plt.tight_layout();\n",
    "plt.savefig('dilute-pIC50s.eps', format='eps', dpi=1000);"
   ]
  },
  {
   "cell_type": "code",
   "execution_count": 57,
   "metadata": {
    "collapsed": false
   },
   "outputs": [
    {
     "name": "stdout",
     "output_type": "stream",
     "text": [
      "[  1.00000000e-04   4.75827979e-05   2.28367110e-05   1.07366019e-05\n",
      "   5.08958338e-06   2.40957283e-06   1.12952117e-06   5.25599604e-07]\n"
     ]
    }
   ],
   "source": [
    "def dilute_robot_IC50s(true_Ki):\n",
    "    nreplicates = 1000\n",
    "    IC50s = np.zeros([nreplicates], np.float64)\n",
    "    for replicate in range(nreplicates):\n",
    "        [actual_volumes, actual_concentrations] = DILUTE_ROBOT_dilution_series(Vinitial, Cinitial, Vtransfer, Vbuffer, ndilutions, tecan_genesis_pipetting_model)\n",
    "        [dispense_volumes, dispense_compound_concentrations] = robot_dispense(compound_volume, mix_volume, actual_concentrations, tecan_genesis_pipetting_model)\n",
    "        activities = np.zeros([ndilutions], np.float64)\n",
    "        for i in range(ndilutions):\n",
    "            activities[i] = competitive_inhibition(substrate_concentration, dispense_compound_concentrations[i], enzyme_concentration, true_Ki, Km)\n",
    "        IC50s[replicate] = fit_ic50(ideal_concentrations * ( compound_volume/(compound_volume + mix_volume) ), activities, true_Ki*(1 + substrate_concentration/Km))\n",
    "    return IC50s\n",
    "\n",
    "print actual_concentrations"
   ]
  },
  {
   "cell_type": "code",
   "execution_count": 58,
   "metadata": {
    "collapsed": false
   },
   "outputs": [
    {
     "name": "stdout",
     "output_type": "stream",
     "text": [
      "[  1.44092219e-05   7.20461095e-06   3.60230548e-06   1.80115274e-06\n",
      "   9.00576369e-07   4.50288184e-07   2.25144092e-07   1.12572046e-07]\n"
     ]
    }
   ],
   "source": [
    "print ideal_concentrations * ( compound_volume/(compound_volume + mix_volume) )"
   ]
  },
  {
   "cell_type": "code",
   "execution_count": 59,
   "metadata": {
    "collapsed": false
   },
   "outputs": [
    {
     "name": "stdout",
     "output_type": "stream",
     "text": [
      "[  1.00000000e-04   5.00000000e-05   2.50000000e-05   1.25000000e-05\n",
      "   6.25000000e-06   3.12500000e-06   1.56250000e-06   7.81250000e-07]\n"
     ]
    }
   ],
   "source": [
    "print ideal_concentrations"
   ]
  },
  {
   "cell_type": "code",
   "execution_count": 60,
   "metadata": {
    "collapsed": true
   },
   "outputs": [],
   "source": [
    "#initialize with zeros\n",
    "dilute_genesis_pIC50_bias = np.zeros([nKis], np.float64)\n",
    "dilute_genesis_pIC50_CV = np.zeros([nKis], np.float64)\n",
    "\n",
    "for (i, Ki) in enumerate(Kis):\n",
    "    IC50s = dilute_robot_IC50s(Ki)    \n",
    "    pIC50s = np.log10(IC50s)\n",
    "    pIC50_true = np.log10(Kis[i]*(1 + substrate_concentration/Km))\n",
    "    dilute_genesis_pIC50_bias[i] = pIC50s.mean() - pIC50_true;\n",
    "    dilute_genesis_pIC50_CV[i] = pIC50s.std() / abs(pIC50s.mean())   "
   ]
  },
  {
   "cell_type": "code",
   "execution_count": 61,
   "metadata": {
    "collapsed": false
   },
   "outputs": [
    {
     "data": {
      "image/png": "[encoded data removed]",
      "text/plain": [
       "<matplotlib.figure.Figure at 0x10de24150>"
      ]
     },
     "metadata": {},
     "output_type": "display_data"
    }
   ],
   "source": [
    "# Plot relative error in measured Ki values as a function of true Ki.\n",
    "plt.plot([pKis.min(), pKis.max()], [0, 0], 'k-', pKis, dilute_genesis_pIC50_bias, 'ro');\n",
    "plt.xlabel('pKi');\n",
    "plt.ylabel('bias in measured pIC50');\n",
    "plt.axis([pKis.min()-0.5, pKis.max()+0.5, -1.5,1.5]);"
   ]
  },
  {
   "cell_type": "code",
   "execution_count": 62,
   "metadata": {
    "collapsed": false
   },
   "outputs": [
    {
     "data": {
      "image/png": "[encoded data removed]",
      "text/plain": [
       "<matplotlib.figure.Figure at 0x10de24e10>"
      ]
     },
     "metadata": {},
     "output_type": "display_data"
    }
   ],
   "source": [
    "plt.plot(pKis, dilute_genesis_pIC50_CV*100, 'ko');\n",
    "plt.xlabel('pKi');\n",
    "plt.ylabel('pIC50 CV (%)');\n",
    "plt.axis([pKis.min(), pKis.max(), 0, 10]);"
   ]
  },
  {
   "cell_type": "code",
   "execution_count": 63,
   "metadata": {
    "collapsed": false
   },
   "outputs": [
    {
     "data": {
      "image/png": "[encoded data removed]",
      "text/plain": [
       "<matplotlib.figure.Figure at 0x10f53bd10>"
      ]
     },
     "metadata": {},
     "output_type": "display_data"
    }
   ],
   "source": [
    "# Combine these plots into one!\n",
    "fig,ax1 = plt.subplots()\n",
    "\n",
    "ax1.plot([pKis.min(), pKis.max()], [0, 0], 'k-', pKis, dilute_genesis_pIC50_bias, 'ro');\n",
    "ax1.set_xlabel('pKi');\n",
    "ax1.set_ylabel('bias in measured pIC50', color='r');\n",
    "ax1.axis([pKis.min()-0.5, pKis.max()+0.5, -1,1]);\n",
    "ax1.legend(['ideal','bias'], loc='upper left')\n",
    "\n",
    "ax2=ax1.twinx()\n",
    "ax2.plot(pKis, dilute_genesis_pIC50_CV*100, 'ko');\n",
    "ax2.set_ylabel('pIC50 CV (%)',rotation=270,labelpad=20);\n",
    "ax2.axis([pKis.min()-.5, pKis.max()+.5, 0, 6]);\n",
    "ax2.legend(['CV'], loc='upper right')\n",
    "\n",
    "plt.tight_layout()\n",
    "plt.savefig('dilute-CV-bias-pIC50.eps', format='eps', dpi=1000)"
   ]
  },
  {
   "cell_type": "markdown",
   "metadata": {},
   "source": [
    "###5. Now compare Tecan Genesis and LabCyte Echo errors."
   ]
  },
  {
   "cell_type": "code",
   "execution_count": 64,
   "metadata": {
    "collapsed": false
   },
   "outputs": [
    {
     "data": {
      "image/png": "[encoded data removed]",
      "text/plain": [
       "<matplotlib.figure.Figure at 0x10d9af310>"
      ]
     },
     "metadata": {},
     "output_type": "display_data"
    }
   ],
   "source": [
    "plt.plot(pKis, echo_pIC50_CV*100, 'go');\n",
    "plt.plot(pKis, genesis_pIC50_CV*100, 'bo');\n",
    "plt.plot(pKis, dilute_genesis_pIC50_CV*100, 'ko');\n",
    "plt.xlabel('pKi');\n",
    "plt.ylabel('pIC50 CV (%)');\n",
    "plt.legend(['echo','tips','dilute tips'])\n",
    "plt.axis([pKis.min(), pKis.max(), 0, 6]);"
   ]
  },
  {
   "cell_type": "code",
   "execution_count": 65,
   "metadata": {
    "collapsed": false
   },
   "outputs": [
    {
     "data": {
      "image/png": "[encoded data removed]",
      "text/plain": [
       "<matplotlib.figure.Figure at 0x10f264050>"
      ]
     },
     "metadata": {},
     "output_type": "display_data"
    }
   ],
   "source": [
    "echo_pIC50_err = (echo_pIC50_CV*np.abs(pKis))\n",
    "genesis_pIC50_err = (genesis_pIC50_CV*np.abs(pKis))\n",
    "dilute_genesis_pIC50_err = (dilute_genesis_pIC50_CV*np.abs(pKis))\n",
    "\n",
    "clf();\n",
    "subplot(111, aspect='equal');\n",
    "hold(True);\n",
    "plot([pKis.min(), pKis.max()], [pKis.min(), pKis.max()], 'k-');\n",
    "plot(pKis, pKis, 'ko');\n",
    "errorbar(pKis + echo_pIC50_bias, pKis + genesis_pIC50_bias, xerr=2*echo_pIC50_err, yerr=2*genesis_pIC50_err, fmt='bo');\n",
    "errorbar(pKis + echo_pIC50_bias, pKis + dilute_genesis_pIC50_bias, xerr=2*echo_pIC50_err, yerr=2*dilute_genesis_pIC50_err, fmt='ro');\n",
    "axis([pKis.min(), pKis.max(), pKis.min(), pKis.max()]);\n",
    "xlabel('acoustic pIC50');\n",
    "ylabel('tips pIC50');\n",
    "title('95% confidence intervals shown');\n",
    "plt.legend(['ideal', 'ideal', 'model', 'dilute model'], loc='lower right');"
   ]
  },
  {
   "cell_type": "code",
   "execution_count": 66,
   "metadata": {
    "collapsed": true
   },
   "outputs": [],
   "source": [
    "figsize(10,10)"
   ]
  },
  {
   "cell_type": "code",
   "execution_count": 67,
   "metadata": {
    "collapsed": false
   },
   "outputs": [
    {
     "data": {
      "image/png": "[encoded data removed]",
      "text/plain": [
       "<matplotlib.figure.Figure at 0x10f3cbf90>"
      ]
     },
     "metadata": {},
     "output_type": "display_data"
    }
   ],
   "source": [
    "# Interpolate bias and CV for Echo and Genesis.\n",
    "echo_bias_interpolation = interp1d(pKis, echo_pIC50_bias);\n",
    "echo_CV_interpolation = interp1d(pKis, echo_pIC50_CV);\n",
    "genesis_bias_interpolation = interp1d(pKis, genesis_pIC50_bias);\n",
    "genesis_CV_interpolation = interp1d(pKis, genesis_pIC50_CV);\n",
    "dilute_genesis_bias_interpolation = interp1d(pKis, dilute_genesis_pIC50_bias);\n",
    "dilute_genesis_CV_interpolation = interp1d(pKis, dilute_genesis_pIC50_CV);\n",
    "\n",
    "# Compute error bars for Echo and Genesis.\n",
    "echo_pIC50_err = (echo_CV_interpolation(echo_pIC50s)*np.abs(echo_pIC50s))\n",
    "genesis_pIC50_err = (genesis_CV_interpolation(genesis_pIC50s)*np.abs(genesis_pIC50s))\n",
    "dilute_genesis_pIC50_err = (dilute_genesis_CV_interpolation(genesis_pIC50s)*np.abs(genesis_pIC50s))\n",
    "\n",
    "# Plot with error bars.\n",
    "figure();\n",
    "subplot(111, aspect='equal');\n",
    "hold(True);\n",
    "plot([-9, -4], [-9, -4], 'k-');\n",
    "errorbar(echo_pIC50s, genesis_pIC50s, xerr=2*echo_pIC50_err, yerr=2*dilute_genesis_pIC50_err, fmt='ro');\n",
    "plot([-9, -6], [-9, -6], 'k-');\n",
    "xlabel('pIC50 (acoustic)');\n",
    "ylabel('pIC50 (tips)');\n",
    "legend(['ideal', 'original'], loc='lower right');\n",
    "title('95% confidence intervals shown');"
   ]
  },
  {
   "cell_type": "code",
   "execution_count": 68,
   "metadata": {
    "collapsed": false
   },
   "outputs": [
    {
     "data": {
      "image/png": "[encoded data removed]",
      "text/plain": [
       "<matplotlib.figure.Figure at 0x10e0d71d0>"
      ]
     },
     "metadata": {},
     "output_type": "display_data"
    }
   ],
   "source": [
    "figsize(7,7)\n",
    "# Plot.\n",
    "figure();\n",
    "subplot(111, aspect='equal');\n",
    "hold(True);\n",
    "plot([-9, -4], [-9, -4], 'k-');\n",
    "#errorbar(echo_pIC50s, genesis_pIC50s, xerr=2*echo_pIC50_err, yerr=2*genesis_pIC50_err, fmt='o');\n",
    "errorbar(echo_pIC50s, genesis_pIC50s, fmt='ro', markersize=8, zorder=5);\n",
    "errorbar(echo_pIC50s - echo_bias_interpolation(echo_pIC50s), genesis_pIC50s - genesis_bias_interpolation(genesis_pIC50s), xerr=2*echo_pIC50_err, yerr=2*genesis_pIC50_err, markersize=12, fmt='bo');\n",
    "errorbar(echo_pIC50s - echo_bias_interpolation(echo_pIC50s), genesis_pIC50s - dilute_genesis_bias_interpolation(genesis_pIC50s), xerr=2*echo_pIC50_err, yerr=2*dilute_genesis_pIC50_err, markersize=12, fmt='go');\n",
    "plot([-9, -6], [-9, -6], 'k-');\n",
    "xlabel('pIC50 (acoustic)');\n",
    "ylabel('pIC50 (tips)');\n",
    "legend(['ideal', 'original', 'bias corrected','dilute bias corrected'], loc='lower right');\n",
    "title('95% confidence intervals shown');\n",
    "plt.savefig('compare-pIC50-bias_corrected.eps', format='eps', dpi=1000)"
   ]
  },
  {
   "cell_type": "code",
   "execution_count": 69,
   "metadata": {
    "collapsed": false
   },
   "outputs": [
    {
     "name": "stdout",
     "output_type": "stream",
     "text": [
      "1.56162824385\n"
     ]
    }
   ],
   "source": [
    "def rmse(tips,acoustic):\n",
    "    return np.sqrt(((tips - acoustic) ** 2).mean())\n",
    "\n",
    "rootmeansquareerror = rmse(genesis_pIC50s,echo_pIC50s)\n",
    "print rootmeansquareerror"
   ]
  },
  {
   "cell_type": "code",
   "execution_count": 70,
   "metadata": {
    "collapsed": false
   },
   "outputs": [
    {
     "name": "stdout",
     "output_type": "stream",
     "text": [
      "1.56664592207\n"
     ]
    }
   ],
   "source": [
    "rootmeansquareerror_withbias = rmse(genesis_pIC50s - genesis_bias_interpolation(genesis_pIC50s),echo_pIC50s - echo_bias_interpolation(echo_pIC50s))\n",
    "print rootmeansquareerror_withbias"
   ]
  },
  {
   "cell_type": "markdown",
   "metadata": {},
   "source": [
    "###7. Adding some sliders just for fun."
   ]
  },
  {
   "cell_type": "code",
   "execution_count": 71,
   "metadata": {
    "collapsed": false
   },
   "outputs": [
    {
     "name": "stdout",
     "output_type": "stream",
     "text": [
      "[ -1.46756901e-04   6.51235722e-04  -3.22674165e-06  -1.14227255e-04\n",
      "  -1.61321769e-04  -1.42680074e-04  -9.61168139e-05  -1.59118192e-05\n",
      "   1.88697973e-05   1.39783808e-03  -4.80565077e-05   1.82652539e-04\n",
      "   5.84457180e-05  -6.58354197e-06]\n"
     ]
    }
   ],
   "source": [
    "clf;\n",
    "print genesis_bias_interpolation(genesis_pIC50s)"
   ]
  },
  {
   "cell_type": "code",
   "execution_count": 72,
   "metadata": {
    "collapsed": false
   },
   "outputs": [
    {
     "name": "stdout",
     "output_type": "stream",
     "text": [
      "0.000112440031207\n"
     ]
    }
   ],
   "source": [
    "average_genesis_bias = np.mean(genesis_bias_interpolation(genesis_pIC50s))\n",
    "print average_genesis_bias"
   ]
  },
  {
   "cell_type": "code",
   "execution_count": 73,
   "metadata": {
    "collapsed": false
   },
   "outputs": [
    {
     "name": "stdout",
     "output_type": "stream",
     "text": [
      "[ 0.00372419  0.00263116  0.00643777  0.00631511  0.00669411  0.00643777\n",
      "  0.00652481  0.00406847  0.00628975  0.00282176  0.00288208  0.00655022\n",
      "  0.00666367  0.00649125]\n"
     ]
    }
   ],
   "source": [
    "print echo_bias_interpolation(echo_pIC50s)"
   ]
  },
  {
   "cell_type": "code",
   "execution_count": 74,
   "metadata": {
    "collapsed": false
   },
   "outputs": [
    {
     "name": "stdout",
     "output_type": "stream",
     "text": [
      "0.00532372289672\n"
     ]
    }
   ],
   "source": [
    "average_echo_bias = np.mean(echo_bias_interpolation(echo_pIC50s))\n",
    "print average_echo_bias"
   ]
  },
  {
   "cell_type": "markdown",
   "metadata": {},
   "source": [
    "Now we're going to have a bit of fun. Notice, how the main contribution of error is the bias in the genesis. The average of this is representative for most of the data points, so we lets make this into a slider and watch how this biases changes our data in real time!"
   ]
  },
  {
   "cell_type": "markdown",
   "metadata": {},
   "source": [
    "Note that this uses ipywidgets, which needs to be downloaded.\n",
    "A tutorial can be found [here](https://jakevdp.github.io/blog/2013/12/05/static-interactive-widgets/)."
   ]
  },
  {
   "cell_type": "code",
   "execution_count": 75,
   "metadata": {
    "collapsed": true
   },
   "outputs": [],
   "source": [
    "import matplotlib.pyplot as mpld3\n",
    "from matplotlib.widgets import Slider, Button, RadioButtons\n",
    "from ipywidgets import StaticInteract, RangeWidget, RadioWidget"
   ]
  },
  {
   "cell_type": "code",
   "execution_count": 76,
   "metadata": {
    "collapsed": false
   },
   "outputs": [
    {
     "data": {
      "text/html": [
       "\n",
       "    <script type=\"text/javascript\">\n",
       "      var mergeNodes = function(a, b) {\n",
       "        return [].slice.call(a).concat([].slice.call(b));\n",
       "      }; // http://stackoverflow.com/questions/914783/javascript-nodelist/17262552#17262552\n",
       "      function interactUpdate(div){\n",
       "         var outputs = div.getElementsByTagName(\"div\");\n",
       "         //var controls = div.getElementsByTagName(\"input\");\n",
       "         var controls = mergeNodes(div.getElementsByTagName(\"input\"), div.getElementsByTagName(\"select\"));\n",
       "         function nameCompare(a,b) {\n",
       "            return a.getAttribute(\"name\").localeCompare(b.getAttribute(\"name\"));\n",
       "         }\n",
       "         controls.sort(nameCompare);\n",
       "\n",
       "         var value = \"\";\n",
       "         for(i=0; i<controls.length; i++){\n",
       "           if((controls[i].type == \"range\") || controls[i].checked){\n",
       "             value = value + controls[i].getAttribute(\"name\") + controls[i].value;\n",
       "           }\n",
       "           if(controls[i].type == \"select-one\"){\n",
       "             value = value + controls[i].getAttribute(\"name\") + controls[i][controls[i].selectedIndex].value;\n",
       "           }\n",
       "         }\n",
       "\n",
       "         for(i=0; i<outputs.length; i++){\n",
       "           var name = outputs[i].getAttribute(\"name\");\n",
       "           if(name == value){\n",
       "              outputs[i].style.display = 'block';\n",
       "           } else if(name != \"controls\"){\n",
       "              outputs[i].style.display = 'none';\n",
       "           }\n",
       "         }\n",
       "      }\n",
       "    </script>\n",
       "    \n",
       "    <div>\n",
       "      \n",
       "    <div name=\"colorblueerror0.01\" style=\"display:block\">\n",
       "      <img src=\"data:image/png;base64,iVBORw0KGgoAAAANSUhEUgAAAaMAAAFeCAYAAAAomXAzAAAABHNCSVQICAgIfAhkiAAAAAlwSFlz\n",
       "AAALEgAACxIB0t1+/AAAIABJREFUeJzt3Xe8I1X9//FXdkGKsJSFpSPwAz6KFBEEBAQW+SqgFOlg\n",
       "A1QQaSIua6dIW0S60gTpiIAISEdAmvQi9YOCC0qRhV0EWfrm98fnZO9sNrk3995MJuX9fDzyuDfJ\n",
       "ZOYkmcx7zpkzc0rlchkREZEijSi6ACIiIgojEREpnMJIREQKpzASEZHCKYxERKRwCiMRESncLANN\n",
       "YGa3AOtVPfwe8DJwLTDO3V9rdIFmNg3Yw91PbXD6FYEJ7v6FdH9n4Exgdnd/t9HlDoeZHQTs7u6L\n",
       "9DPNROACd/9RzmU5Ffgy8C6woru/MIR53AK86O47Vj2+CbAPsBrwIeBJ4AR3v6BqumuAz1fN9iV3\n",
       "XzQzzQ7AgcBHgEeA77r7XwdbVpmRmf0G+H/uPrbO87cAf3f3b+VcjhuBf7n7Lma2AXAT8FF3f8rM\n",
       "5gDOBzYBJhPrwK8Y5nrbLNXblDrTfAlYz933a+JyB7XtG8ZyJgIXuvsPmzjPacC33f20Zs2zWiM1\n",
       "ozJwA7BW5vY54CRgJ+CMISx3MCc3bQN8MnP/T8BarQqijIHKvAXxg8uNma0JfAuYAGwxjB90mar3\n",
       "Y2Y/By4HngF2AbYF7gbONbPDql6/InAEM64Tm2bm9TngPOCPwJeA/wDXmtkSQyyvzKi/dXGm7zbH\n",
       "MlSWcz+xDjyb7m8ObEns2GxF7Nw0Y71tluptSi37AgvlsOxWfzfNshbwhybPcwYD1oyAEvCqu99T\n",
       "9fhfzGwu4EdmNqe7T21+8Wbm7q8Ar7RiWVVK/T3p7g+3oAzzpr/nuvvEYcxnhvdiZp8Hfgx8zd3P\n",
       "yzx1g5m9AhxsZhe4+2NmNj+wGHB1jXWi4ifApZU9s7QX/SSwN3DAMMotod91sdXc/Q0guy7Mmx4/\n",
       "HaavXzD89bbV2upzLlI/v/WmaSSM+vNG+jv9SzOzLwI/Bz4KvAD80t1/XW8GafofAqsQNbUHiaa/\n",
       "O1Pz2M/SdNOAscDSZJrpzKwE7AHsmZ6bCBzl7mel1y1F7O1/Afg+8GmiifHwbJXTzH4A7AYsmuZx\n",
       "orvPUNNJTYQ/BRYB7iOa7p5Iz00kVY3TdD8Hvgf8AhgN3ALs6e7P9fNZLAscBXyG+G6uBfZ39xey\n",
       "nwXwjJmd5e671pjHROAEYB1gY6JWcnR/3wGwH3B/VRBVHAMsQN+6slL6+2id9zAHsRe1S+Uxd//A\n",
       "zK4matQHpOm+CBxCrCdTgEuA8e7+dp35TgSOB1Yl9rrfBA4jal+/IT6zp4nv5K+Z1+0CjAeWSs8f\n",
       "6O6XZJ5fnKjl/R8wP/A8cLq7H56Zpu66UasJ18w2Bq4GlnL351LT2aPAx4E1gYPdfYKZfSx9vp8B\n",
       "3gIuBA7IfgZm9kNi3R4FnAWMrPX5VJndzE4Htgf+lz6fA929bGZXAAu4+9qZZXyY+E3sXmsdMLNZ\n",
       "gSOBr6blH1P1/AZEM93HiN/y19Lj04CDieZaiPX27NS0Nw/x2/gSMAfwZ2Dvyu8jfa4bEU28XwZu\n",
       "c/cvNPi6zxItNj8lvrN7iCamJ2psUzZw91ur3s8tpEMTZra9u49I/386LfuTRPPj6cAh7l7OvHYf\n",
       "YC9ih+0p4CfuflVm9ouY2R+I38LrwMnu/vP02p2J7cbuxHZgWeDx9P7uyCzjs8RvZ2Xgv0QrxE/d\n",
       "/T1q6G+7kplmp/S5LAncBZwDnJl57zM0MQ607prZIkTr2frAbMBfie163Z32RjswjDCzkWY2S7rN\n",
       "Y2abAvsTe8hvpgJsTGwc7iOq6mcBx5vZd+p8SJ8mmobuJMLia8A8wAVmNoL4ss8gvvi1gAdqzOYX\n",
       "wLHABWmZ1wFnmtkeVdP9lmhu3BS4AzglfaCY2VeJH8yRxEbpEuDEzB4dwILAuHT7MtEOfmHm+eqq\n",
       "8Wjiy/h5el9G1DRq7gCY2ZJEs9jCwDeAbxPNG5Ua6OlEaED8EH9eaz6pDD9Lf7ciqtYnmdnX6yy3\n",
       "RIT8tbWed/c33X3fzEq0ErETcqKZTTaz/5rZb9IGDWAZYoX/R9WsJhI/rsqP4xJiA7YxsdHYBTio\n",
       "znuqOIj48W0O3EyE0/XEBmlLYkN5Tua97UZ8bn8ENkvTXpSCkLSOXZvK9c1UlhuAQ81sozRNI+tG\n",
       "I00iuxE/yK2Ay81sUeBW4MNEaIwDdqgq//j0nk8EtgOWI9a9/pZXAnYk1s/tiR2T8cTGizT/tdL6\n",
       "VrF5mudldeZ5AtHM9jNgZ6JJev0a05XTco5K99cigjC73h6SPvc/EZ/3fuk9LQLcnFmPANYAlkjL\n",
       "Ozqtq428biVi23RA+gyWJH7/MPM25cEa72OP9Hjl8ARmtjKxvk5K72MC8Z1NqLzIzMYBRxPbhc2I\n",
       "7dofzCzbJPgT4O/AF4FLiVaHLTPPjya+7wnpfZeJdXZkWsZmqVxPEevSUcB3iECaSQPbFdK2/Fzi\n",
       "97EF0YpxCjOvZ+U0/YDrbirPEsS2b2tgTuCq9N3X1GjNaLt0y3oDuJj40isOAa7PHDy9Ie1VHWRm\n",
       "p7r7B1Xz+ChwnruPqzxgZh8QX9IS7v6smT0PvFepJpoZmWkXINqlD3T3I9LDN5rZ3MRKnz1QeKa7\n",
       "H5ledw9xTGRj4AmiFjExU1O6zczeBrJNjyOAbd398TSPhYFfmdncqZmi2uzAzu7++zT9U8DfiBX5\n",
       "4hrT7wdMAz7n7v/LlNOBb7j78WbmadoH+6lhlYB/u/s26f51aYU8ADi7xvQLALMCdWtsVVYG5iZq\n",
       "EJsTP/xDiZ2IbYk9eOirNZO5P2f6f3Wig8TR7v4ScKuZvcPA66O7+94AZvYM8QO43d1/kR47DDgv\n",
       "7T2/QayPp7n7D9LrbzCz0USQ/wlYnL4awd/TPG4mjimsA9xIY+tGI805L2U7t5jZUcAHwCaZnbnn\n",
       "iPV3ZaIm9X3gOHefkJ6/iQj1gfwH+GI6rnqNmc0L7G1mh6T3/V/is6uExo7AFZVyZFk0y34T2Mfd\n",
       "T0mP3U3f8aEZuPszqRZL5jc7w3qbNn7rEMd+K9PcQqyD3yR2MiDWh33d/ek0TaOvGwVs7e5PpWkW\n",
       "Ak41s/nc/fnqbUqN9/CEmb3BjIcnfkLsYG2VakLXmdmbwMnpu5xMhP6J7l6pCd5kZisA69K3I32Z\n",
       "u49P5foLsa59hthhgthu7OHu16dpphE72CsTAXkIcIO7V1oebjCzycA5ZnaYu/+t6u30u11Jn9mP\n",
       "gSvdfZ/MPBcnKgi1fJd+1t1UhrWBg9z96vR85Vj03MT6N5NGw+i6VOAS0czwC2LjPr2nSdozWQ3Y\n",
       "r2rv/3rii1wRmKGK5u6/BX6bwuNjRDhtkZ7+UAPlWjO9h+qN+++BXdP8KhuNuzPLnWpmU4hkh0j5\n",
       "3dKX9Hvih3lo1TzfqARRUvkxVjZ81T4g9qIry3wsfSHr1CgvxAp7XWWFSa/5p5ndm547vsZraimn\n",
       "95B1BbCNmc3j7tUrQmUHoZHmH4BfAme5+53p/u1mNgn4vZl9nL7adq2998pj9wDvAHeb2QXAlURP\n",
       "xIEOzN+duf9y+putLU9Of+chmmfGEBuN7Pp4HfAVM5s3BfqGqdZvRO31k0Q4V9a/RtaNRjxVdX99\n",
       "oob+dqZ8txNNHmOJHqujgWsqL0jN0tcQtc96ykRrRbaDz5+InZGV3P0BM7uEFEZmNh/RZLTNzLMC\n",
       "4jc2sqocL5vZnXWmb8T6xHd1f+a9v0l8v2PpW9ffJ5rYB/u61ytBlDyf/n6YaBIeapnPB0Zmdoiv\n",
       "J9aVdYjvd37is57OZ+71eGfmuXLaiM9TNU12PZ9e9lSTWZloxsu6mNjRXJfY4c3qb7uyjpmdQnzH\n",
       "1b0vLyFqb7UMtO7+DbiNqBCsRPy+r3b3H9eZH9B4M90Ud3/A3e9Pxx52B/a1aEuvmI8Iq+OI7puV\n",
       "263ED2SmbtFmNpeZ/Y5YQW4lerBUNLK3OV/6+5+qxysbqlGZx96qmmYa6f17dF3eNd0/CnjSzG5P\n",
       "zUkV1R00pqW/9T7DSe4+rfox+johVJuXmd9H5TVz13lNPS/WmAf0fV7Tuftk4rhC3Z5uZrZYZnrP\n",
       "BFHFDenvivTt9cxVNc3caTm4+zPE8YDHiD2324njCZvUK0NSK/TrdZwZnf5exozr47nE+rgwTG/K\n",
       "e4moIZ9ANIW9R1r/Glw3GvFy1f3RRC35vUzZ3ib2jBehbz2p7qxTPZ9aqtejyvdf2eidB3zCzJYj\n",
       "mlDeIBM2VSrrTHU5aq2rjRpNbLiz7/1dYp1YODPdq1U7KI2+rtZvHYZ3XuVookaQXe5z9G3b5k/T\n",
       "Tar56j7V62u5Rrmy5c+WfV5ivZzhs3f3d4jjT9ntXUV/25VRxPc7oka5+/t+B1p3IZrvTiG+mwuB\n",
       "/5jZsamptaYhdWBw9/PM7GvAgWZ2capGVzZCP6Rv41RRYuZjCNB3oH0D4K/pQPcmxBttRGUvZyFm\n",
       "3FBVumROpkEeHR7OSs1vWxLV4ZOIpryhmGnDn8p1e53ppzDjDyr7mn8Octmjq+6PIVb6er0Q/0zs\n",
       "Hc+052JmcwJuZr9y9/Fmth3wfPaAKrESQoTNM8QPaBng3sw0SxNNAwCk12+a5r9xWvbvzGyBegdi\n",
       "B6ly7tvOzNzZogRMNLP1gZOJ5pXTK7VGM3spO/EA60aZmWuV1UFcS6XTxpE1yvafzDzGVD0/PwOr\n",
       "nqYyj8oG51ZiQ/ol4rd3cY0m9IrKb2gMaWciGU3fXvtgvUY0N1bXxkrU37kYzuuGorqWPoU4Ll3d\n",
       "1F0iPsvKNmeB7JNmtirRJFizw0+N5fTnv2n6Gbqcm9nsxI5Gre3dQNuVSUQNtHo9W7Cfcgy07uLu\n",
       "U4jKxb5mtjqxQ7cvUev7Xa2ZNnqeUS37EVXUI9PC3yB6viyValEPuPsDxJs8kNrNbp8GLnf32zM/\n",
       "hv+rKlu9HwlEc897zHw8azviQ/57P6+dzszOMbOL0/t4KbWNX0r0iBmq2cxsw8wyViY2yDfXmf4O\n",
       "4POpybLymqWJps/BnCxaInPOT7IlcF+mql79nZ4ErGbRo6baeKLXUqXp7zvEQdqsrYhmt3s9uvjf\n",
       "RV9zK6kqvynpvZvZt83sGTObxd2nuvsfiFrH3NTeuxuKJ4kf5yJV6+PK6T1NIw5Ov+3uR2eCaGVi\n",
       "na30Ihpo3fgfMF8K1Yp1GyjfnUTT9EOZsr0AHA4s6+5PEjW2rSsvsDiIvREDd2DYyGY8ULwVsSPy\n",
       "eHofZWLDuh0RRhdQ31+J31i2HPOSDuwP0R1EM+qkzHt/kNimfDaH11Xrb5tSMY0ZW2fuBJavWpc+\n",
       "II6XLkjsaL3GzMdZTieOaw9b2sb+jZm3d9umv7W2E/1uV9J2d4bfa1KviQ4GWHfNbCEz+7eljhnu\n",
       "fh/RI/Qt+tmmNnqe0UxVq3QM5GxgFzNby93vIrpxXmRm/yN6KS1F9Aq5z91rVV/vBbYzszuIRN2c\n",
       "OJgKfXuGrwHzp4OXM3zY7j7JzH5F1NBGEKm7CbE3vG9qk+3vfVXcDJyRDvDeBPw/ok39xHovHmB+\n",
       "FWdZ9Ih6n+g+fLe712sOOTaV+3ozO5KobRwC/Ju+nkCNWseia+8lxN77lsRnmy3r9PK6+5/N7NfA\n",
       "2RY9HK8m1o2tiN4wh7r7/Wnyo4A/mdkZRPV7VaLH17HuXmlCmkD0GHuJ6ATwbfp6F0J0cz+WqAmd\n",
       "QnzXPyE6I7xa5z0N6pwPd3/fzA4nesbNSvwoVyG6g5+bjr/cC8xhZr8g2vqXT+V4jb71b6B141ri\n",
       "GOpp6TNZm2iiGKj8xwJfB/5o0dFmVmKnbUH6jq0eTHSSeYVY979FNIPU7DyQsQRwvsXVGtYluhrv\n",
       "X9VsfC7wA+BZd69XW8fd/2tmxxC9vt4nNrrjU3mH6kqiifZai5OtXyHe25ZE006zX1dtCpltStqL\n",
       "rzXNyma2gbvfQmxobzOzM4GLiNrnYcTOiKdWnaOI4ySvE9/XtsAKZE5zqGGw5zIdBFxmZmcRvz8j\n",
       "OuT8wd0fqTHPRrYrhxIdXY4HriJaSbamr4mwWr/rrrtPMbOngePSTtqLxG9mZJp/TY3WjOrtif2U\n",
       "SLujANIe7g7E3ttVxI/pAuofHN2fONB1MnEQbh7gE8QXvGaa5nfECngpUWuqLs/+aTnfJA7UfxbY\n",
       "xd1PMrPZiC+qRHSx/KNFt0Sy80gdKfYnNiLXEF1YT6Kvq3G9z6Bc5/+K7xGfzWnExrDuMZF0MP0z\n",
       "RFX8fOJqDvcCa2cPPtZZTnWZjic2/pcR38W2PuO5DjO9H3ffi/gMVyOOKZxLbJy3z/QOIvWO2Zr4\n",
       "ni4nakqHeqanmLtfSfTU2YIIxAWAjd39X+n5J4kmoiVSGc8AHiKz913nfTUi+70eQ3wHXyG+132I\n",
       "Wt2e6fmb6Ov+ey2x0diV+JGvmabpd91w98eIY6jrEOv8uml51etG9ec9kb5zMC5Kn8FEYGxl4+hx\n",
       "TsfexA7BpURT1MkNvP9fE7WZK9L72d/dT6ha/hPEBunCmeYwsx8RLSDjiN/zA8zcDbxmN+Ba9939\n",
       "fWKDdzfxWf6RWBc2ywRjrc9sSK+rUZ6LmHGbUstxRFP7n8xsMXe/Oy3biPd+HLHt+r9Kq45Hb90f\n",
       "EOvRFcTOzyaZkKhloM9thsfc/XJiJ3EV4ve3P7FjtGOd6Qfcrnj03NuVaL24nL6dtppNn42su8Tv\n",
       "5Q7iXKSrie3FZum3X1Opm4cdN7NDiT3VrYheN6cA87p7fxu9Zix3ZzInjLWSmf0T+K27HzLgxNKz\n",
       "LM6xewz4mLv7QNNL90rNaU9mgyK1Knze3VdrVTmGewWGdvcz4EPu/rbF+SXzMHBvl06nS5hIXWa2\n",
       "PLEXvQNxvoqCSDYHjkm9o18izgPcl76TlVui48MoHdSt1fV5mru/TvSFP5AIpuepfeZ4HoqqcnZv\n",
       "VVeaYSTRRXkiM5+vIr3pu0Tz9bHEsbCngf08xyt019LxzXQWl225vsZTE919mTTNbESN4UiiXXSF\n",
       "1P4sIiJtoOPDaDBSr6r/AWu6+0P9TDcb8CmiF0gj3UBFRBoxkugReW86WVWSjm+m60/qhnlPOjcE\n",
       "ogviCPpOiKznU0RPGRGRPHyG+ifA96SuDiOiC+i4dD2vSUSX51t94DFVKpfT+QzR/VVEpBkWJ3Z0\n",
       "qy/Z1fO6Oozc/VQzG0P0d/8QcZHMbft/FdDXNPfvBoJLRKQhmZPw1fxfpavDCMBj4Kp6Y/+IiEgb\n",
       "aPlJmSIiItUURiIiUjiFkYiIFE5hJCIihVMYiYhI4RRGIiJSOIWRiIgUTmEkIiKFUxiJiEjhFEYi\n",
       "IlI4hZGIiBROYSQiIoVTGImISOEURiIiUjiFkYiIFE5hJCIihVMYiYhI4RRGIiJSOIWRiIgUTmEk\n",
       "IiKFUxiJiEjhFEYiIlI4hZGIiBROYSQiIoVTGImISOEURiIiUjiFkYiIFE5hJCIihVMYiYhI4RRG\n",
       "IiJSuJ4JIzPb1cwmFV0OERGZWU+EkZktAxwDlIsui4iIzKzrw8jMRgLnAKcApYKLIyIiNcxSdAGG\n",
       "K4XN3DWemuburwM/AB4BrgG+0cqyiYhIY7qhZjQWmFzj9pCZrQZ8Gdgf1YpEul6pVFq4VCr9qFQq\n",
       "LVd0WWRwOr5m5O43UiNUzWx24D7gm+4+1cxaXjYRaZ1SqbQYcAuwLLA8sHOR5ZHB6fgw6sengKWB\n",
       "q1IQzQLMaWaTgZXd/d9FFk5EmqcqiN4Fzi60QDJoXRtG7n4b8OHKfTNbH7jE3RcsrlQi0mw1gmir\n",
       "crl8c6GFkkHrhmNGjSqhrt0iXaVOEF1VaKFkSLq2ZlTN3W8BxhRdDhFpDgVRd+mlmpGIdAkFUfdR\n",
       "GIlIR1EQdSeFkYh0DAVR91IYiUhHUBB1N4WRiLQ9BVH3UxiJSFtTEPUGhZGItC0FUe9QGIlIW1IQ\n",
       "9RaFkYi0HQVR71EYiUhbURD1JoWRiLQNBVHvUhiJSFtQEPU2hZGIFE5BJAojESmUgkhAYSQiBVIQ\n",
       "SYXCSEQKoSCSLIWRiLScgkiqKYxEpKUURFKLwkhEWkZBJPUojESkJRRE0h+FkYjkTkEkA1EYiUiu\n",
       "FETSCIWRiORGQSSNUhiJSC4URDIYCiMRaToFkQyWwkhEmkpBJEOhMBKpo1RiVKnEb0slxmQeG5Me\n",
       "G1Vk2dqVgkiGapaiCyDSxo4HdgbWKJUYmx67GVgh/b9LEYVqVwoiGQ6FkUh944E1iPB5ND22IPB4\n",
       "ek4SBZEMl5rpROool3kZGAtMIkJowfT/2PScoCCS5uj6mpGZPQosDUxLD01095UKLJJI11AQSbN0\n",
       "dRiZ2RyAAWPcfUrR5ZHOkjou3ExfjYj0/82lkmpHCiJppm5vplsJeElBJEM0gThe9DiwYro9nh6b\n",
       "UGC5Cqcgkmbr+JqRmY0E5q7x1DRgVeA9M7uT+NE8COzr7k+2sIjSufZNf8dXakGpV92EzHM9R0Ek\n",
       "eeiGmtFYYHKN20NAGbgH2AFYErgPuNrMZi+mqNJJymVeL5fZJdscVy7zcnrs9SLLVhQFkeSl42tG\n",
       "7n4j/YfqaZn/f2xmewKrAHfnWjCRLqMgkjx1Q82oLjPb3cw+m7k/CzAr8HZxpRLpPAoiyVvH14wG\n",
       "MAbY28w2Bl4l2vqfcPeHiy2WSOdQEEkrdHsYHQ6MIo4bzUX8oLYoskAinURBJK3S1WHk7h8A49JN\n",
       "RAZBQSSt1NXHjERkaBRE0moKIxGZgYJIiqAwEpHpFERSFIWRiAAKIimWwkhEFERSOIWRSI9TEEk7\n",
       "UBiJ9DAFkbQLhZFIj1IQSTtRGIn0IAWRtBuFkUiPURBJO1IYifQQBZG0K4WRSI9QEEk7UxiJNFmp\n",
       "xKhSid+WSozJPDYmPTaqmDIpiKS9dfVVu0UKcjywM7BGqcTY9NjNwArp/11aWRgFkXQChZFI840H\n",
       "1iDC59H02ILA4+m5llEQSadQM51Ik5XLvAyMBSYRIbRg+n9seq4lFETSSRRGIl1IQSSdRmEk0mSp\n",
       "48LN9NWIKjWkm7OdGvJbvoJIOo/CSKT5JhDHix4HVky3x9NjE/JcsIJIOlVLOjCY2fzA6sAYYBrw\n",
       "EvCgu09pxfJFWmzf9Hd85RhR6lU3IfNc0ymIpJPlFkZmNiuwPbA3EUTvAlOAkcD8QMnM/gqcAlzo\n",
       "7tPyKotIK5XLvE5V9+0USrl16VYQSafLpZnOzNYHHgK+CpwNGPBhd1/U3RcCZgNWBS4EvgM8aWZj\n",
       "681PROpTEEk3yKtmtA+wjbs/UevJVAt6JN1+bWarAAcTB31FpEEKIukWuYSRu289yOkfBrbMoywi\n",
       "3UpBJN2kVR0YFgCmuvtUM1sN2BS4392vbsXyRbqNgki6Te5du81sS+DfwNpmtizxA9oBuNjM9s57\n",
       "+SLdRkEk3agV5xn9HPiZu98IfAP4l7t/nAik77Zg+SJdQ0Ek3aoVYbQc0WsOYDPg8vT/I8BiLVi+\n",
       "SFdQEEk3a0UYvQB80sw+SZyBXvnxbAo824Lli3Q8BZF0u1Z0YPgFcHH6/253v93MDgZ+DOzeguWL\n",
       "dDQFkfSC3MPI3U82s7uApYBr08O3Aje4++15L9/MvgQcASwKPAbs7u5/y3u5Is2gIJJe0ZILpbr7\n",
       "g8A/ga3MbAfghRYF0arAGcCu7j4KuIy+WppIW1MQSS9pRdfuhczsTuABYjjmk4HHzOw6MxuV8+J3\n",
       "B05z9zvT/WOAHcyslPNyu1apxKhSid9mh0IolRiTHsv7++wZCiLpNa04ZnQa8D6wrLs/A2BmywNn\n",
       "AScBXxvOzM1sJDB3jaemEde/+5OZ/RlYGXgQ2NPdy8NZZo87HtgZWCNdiRriMk4rpP9zuxhor1AQ\n",
       "SS9qRTPdZ4G9KkEE4O5PAXsCWzRh/mOByTVuDxNXB98DGEd0I78fuCIFmAzNePrG5nk03Spj94wv\n",
       "sFxdQUEkvaoVNaMXgI8A1Z0G5gNeGe7M08m0NUPVzB4FLnX3B9L9nwLfI64i/vhwl92LymVeTjWi\n",
       "R4nRSyFGMh1bGbunCKmJ8HhmHENoDGkMoTSsQ1tTEEkva0UYHQ6cYmZLArcRTXarA4cCZ5jZepUJ\n",
       "3f3WJi/bgdkz90cApXTrWd2w4a6ho5sPFUTS61oRRmemvyfWeO7AdKtodrPhWcA5ZnY+Mb7SoYC7\n",
       "+2NNXk6nGfKGO4XWzUStaFJ6eEHg5lKp0NrReGAN+poPK+Vq++ZDBZFIa84zakn38TrLvtLM9iIG\n",
       "+FucOGakoSqGt+GeQN8xouogm0BBNZB2bT4ciIJIJOQSRmb2IXd/t/J/f9NWpsuLu58PnJ/nMjrN\n",
       "MDfc+6a/2Sa+saQmvjzK260URCJ98qq1vG1mlfNQ3u7n9lZOy5eclMu8Xi6zSza0ymVeTo8Vdqyp\n",
       "RvPhJPqaD8f099oiKIhEZpRXM92GwJTM//XofJ8CtPFxn+Foy+bDWhREIjPLa9jxWzJ31wN+6e5v\n",
       "ZqdJV184GPhLHmXodQP0mJuVDtlwD0JHNB8qiERqy+uY0UrAIkQX6oMAN7MpVZOtSFyuZ788yiD9\n",
       "9pg7n+hp2NYb7sFITYS7VD32cvVjRVIQidSXVzPdaPqu0A19g+tl/Y8YXkLy0V+Pue9VN8W124a7\n",
       "2yiIRPqXZzPdCAAzmwis7u7DvtqCNK5Tuzp3IwWRyMBy6U1nZh+p/O/uSzUSRGa2VB5lkcboatz5\n",
       "UBCJNCavZrpLzOwO4ITsBVJrMbMVge8AawGfzKk8PWcIPeY6+nI67UhBJNK4vMJobaJjwt1m9iJw\n",
       "PTHK6itEbWwB4BNET7tFgV/SoQfO29hguzp37OV02pGCSGRw8jpm9B5wlJmdCOwIbApsDYwhxhl6\n",
       "ibg0z9HEVbWn5lGOHjeors46xtQ8CiKRwcv12nTu/hZxodQzB5pWmqsTujp3IwWRyNAUdhFTaS+d\n",
       "djmddqQgEhk6hZFUZI8xrZhulRFdJxRYro6gIBIZnlaMZySdoSMup9OOFEQiw6cwEkDHmIZKQSTS\n",
       "HLmGkZktT3TzXgyYDZgKPA/c6e5P57lskbwpiESaJ68LpY4GzgM+DzxHdOV+hwikRYAlzOwq4Gvu\n",
       "Xn0BVZGOZKYJAAAadElEQVSWG+Aq5/tWj9WkIBJprrxqRqcAHwaWcvfnqp9Mlws6DzgV2C6nMogM\n",
       "RsNXoFAQiTRfXr3pNgH2qhVEAO7+LLAXsHFOyxcZrPH09R58NN0qvQunX4FCQSSSj7zC6FXix9qf\n",
       "jwJv5LR8kUFJTXNj6Tu/qnK+1di+ZjsFkUhe8mqmOxw428zWIEZyfQF4m75jRusR3YV/lNPyRZpK\n",
       "QSSSr7yuTXeqmb1AXCx1L2DOzNNvAXcDX3X3y/JYvshg9X+V8712BC5FQSSSm9y6drv7lcCVZjYC\n",
       "mI8IpKnAZHcv57Vc6R2D7QE3gDpXOX9+Bbj0NmAUCiKR3OTVtfuTwMPu/oG7TwNeNbO5gX2ARczs\n",
       "SeA37j6YjYVItWaOwVTjChR77RhB9JKCSCRneXVguA8YXbmTjh09CnwJmBfYDXjKzFao/XJplQ4f\n",
       "4bWhHnCNKJd5vVxmlxk7K/zqUgWRSGu06kKpRwLnu/vK7r4dscG4AjihRcuXjKoAqtQubi2VuLBU\n",
       "YhmidrFzeq5tNdIDbijUWUGk9VoVRh8jTnAFIDXdHUNcKkharxJANwO/ABwwYAdiRN4h1S66gYJI\n",
       "pBh5htHozP+P0Dd6aMXixPlI0nrZ5q1bmPG7mp0OGeG12WMwKYhEipNXGE0BHjOzKWZ2F7GxO9nM\n",
       "5gAws28BZwPn57R86UeN5q0FgE7s4di0MZgURCLFyiWM3H00sCiwNXENuruBicB7aZKfABcDP8tj\n",
       "+TIkJeAVOmuE132Bs0i1uEzInsUgxmBSEIkUL8/zjF4irtZ9U43nPpLXcrPM7Bpg3cxDI4A5gLXd\n",
       "/a5WlKEdVTVvvU00zUE0m25F7ChUahfDGs+oyecCzaAZYzApiETaQ25hZGYjiQ3bddnzicxsN+B1\n",
       "4KK8T351902qynQWMLKXgyjJNm9tBhwGrEp0YhgHTR3htZnnAjWVgkikfeTSTGdmHwauBy4EVqp6\n",
       "ejXgHOAqM5u9+rV5MbMtgQ2Bb7dqmW0s27z1TLnMjsT1As8iaisvp3NumnFSctPOBWomBZFIe8mr\n",
       "ZvRDorfcx93ds0+4++5mdiJwNbExOng4C0o1sLlrPDWtUiMzs1mIruT7u/ubw1leN2jlEOPlMi+n\n",
       "GtGj9PWoLLS3noJIpP3k1ZtuB2C/6iCqcPdHge8DOzVhWWOByTVuD2Wm2R6Y6u4XN2F5PanDr9Qw\n",
       "nYJIpD3lVTNalDh5sj/3AUsMd0HufiMDh+ouwGnDXVaPG9Kxn/6vht3a2pGCSKR95VUz+jew3ADT\n",
       "LA38J6flT5cu0Loe8Pu8l9Xlhnrsp2nnAg2HgkikveUVRpcCB5rZbLWeTB0XDiGOG+VtdeCF1NVc\n",
       "hmgY14FryrlAw6EgEml/eTXTHQHcBdyfOivcA/yXGNdoTWDvtOxhdV5o0EeIkWalAK3sLFGLgkik\n",
       "M+Q10uvrZrY2EUpHMWNvt8nABcDB7p77tenc/SxiL1yGoZ2O/TRKQSTSOfK8AsNrwB5m9l1gGaJW\n",
       "9ArwtLt/kNdyJTd1RkJtzpUamk1BJNJZcgujCnd/B3gi7+VI7mqMhNrUKzU0jYJIpPPkNez4hcRV\n",
       "oEsDTFp292acayQ5K/rYT6MURCKdKa+a0Ts0GEY5LV96kIJIpHPl1YFh5zzmK50hzyt111+mgkik\n",
       "k+V+zKjCzFYhTnj8AHjY3XUcqXu19ErdCiKRzpd7GJnZQsBlwFpEt+6RwDxmdgOwbXZ4Ceka44E1\n",
       "6LtaA0Q38KZfqVtBJNId8roCQ9ZpwPvAsu6+gLvPB3yUOPfopBYsX1psGFdrGBQFkUj3aEUYfRbY\n",
       "y92fqTzg7k8BewJbtGD50oUURCLdpRVh9AJxSZ5qlZNgpcvUuFpDpYZ0c3YIiqHPX0Ek0m1a0YHh\n",
       "cOAUM1sSuI1oslsdOBQ4w8zWq0zo7re2oDySv9yu1qAgEulOrQijM9PfE2s8d2C6VbSipib5y+Vq\n",
       "DQoike7VissBKWB6TB5Xa1AQiXQ3BYW0PQWRSPdTGElbUxCJ9AaFkbQtBZFI71AYSVtSEIn0FoWR\n",
       "tB0FkUjvURhJW1EQifQmhZG0DQWRSO9SGElbUBCJ9DaFkRROQSQiCiMplIJIREBhJAVSEIlIhcJI\n",
       "CqEgEpEshZG0nIJIRKopjKSlFEQiUovCSFpGQSQi9SiMpCUURCLSH4WR5E5BJCIDacWw44Uxs5HA\n",
       "0cAOwOzA3cAe7v7PQgvWQxREItKIbq8ZfR34AvAJYAHgH8BvCi1RD1EQiUijuj2MXife4yzASGAa\n",
       "MLXQEvUIBZGIDEbHN9Olpri5azw1zd0vMbPNgH8BHwAvAOu0sny9SEEkIoPVDTWjscDkGreHzOz7\n",
       "wJrAcsC8wHXARQWVsycoiERkKDq+ZuTuN1InVM3sQeBId3863d8HeMPMPu7uj7WwmD1BQSQiQ9UN\n",
       "NaP+vE30oquYlm7vF1Oc7qUgEpHh6Pia0QB+B4wzs2uBF4EjgEfc3YstVndREInIcHV7GJ1AdG64\n",
       "BZgLuA3YssgCdRsFkYg0Q1eHkbuXgUPTTZpMQSQizdLtx4wkJwoiEWkmhZEMmoJIRJpNYSSDoiAS\n",
       "kTwojKRhCiIRyYvCSBqiIBKRPCmMZEAKIhHJm8JI+qUgEpFWUBhJXQoiEWkVhZHUpCASkVZSGMlM\n",
       "FEQi0moKI5mBgkhEiqAwkukURCJSFIWRAAoiESmWwkgURCJSOIVRj1MQiUg7UBj1MAWRiLQLhVGP\n",
       "UhCJSDtRGPUgBZGItBuFUY9REIlIO1IY9RAFkYi0K4VRj1AQiUg7Uxj1AAWRiLQ7hVGXUxCJSCdQ\n",
       "GHUxBZGIdAqFUZdSEIlIJ1EYdSEFkYh0GoVRl1EQiUgnUhh1EQWRiHQqhVGXUBCJSCebpegC5MnM\n",
       "ZgEOAnYGZgcuA77r7m8WWKymUxCJSKfr9prR94CdgA2BJYG5gDMLLVGTKYhEpBt0exhtBRzp7k+5\n",
       "+1TgR8BWZjaq4HI1hYJIRLpFxzfTmdlIYO4aT00DRgJvZR4rp8eWAR7Kv3T5URCJSDfphprRWGBy\n",
       "jdvDwBXA981sKTObCziECKnZCyprUyiIRIKZLWlmb5jZHDWee9LM1h/m/Hc2s3uHMw9pTMfXjNz9\n",
       "RuqEqpnNCswD3A5MBY4CtgNea1kB83EiCiIR3P05areMQLSElFtYHBmGjg+jASwGHO3u3wcws9WA\n",
       "94CnCi3V8N0FrALsXS6Xry66MNIbSqXSh4AlWrS4f5XL5XcHmsjMlgKeITonbQYcBowBzgNmzUw3\n",
       "P3A88Dlix/QUd5+QnhsNnACsnV77D2APd7+zie9HBtDtYfQVYAMz25zYe/ol8Bt3n1ZssYanXC4f\n",
       "RdTyRFoiBZEDS7VokRNLpZI1EkjJskRP2c2AvwAHEMeGK84FJhHlHwP8ycz+4+5nEb+lacBH09/j\n",
       "gCOB9Yb/NqRR3R5GvwD+H/AcsZKdD4wrtEQikoevAde6+00AZnYksFf6f2FgY2BBd38LeNbMjgZ2\n",
       "A84ietlOJbYRSwH/JVpVpIW6Oozc/R1gl6LLIdLpyuXyu6VSyWizZrqM+YDnK3fcvWxmz6a7SwIl\n",
       "4Gkzq0wyAng1/b8Y0YT3MeBJogNUaehFl6Ho6jASkeZJ4fB00eWo41lgtarHFk1/XwTeB8a4+3sA\n",
       "ZjYPcZwJ4HfAye5+bHrua8BKuZdYZqAwEpFucBlwgJltClxPNNEtCeDu/zKz24CjzOyHwJzA74ma\n",
       "1NeJ48lTAczsY8TxpllnWoLkqhvOMxKR3lYmamzbAUcTp26sCWTPD9oRWAiYSPSmfR7YMz23GzDO\n",
       "zF4lTpsYByxgZvOh7uEtUyqX9TlXS91F/wks7e4Tiy2NiHQLbVvqU81IREQKpzASEZHCKYxERKRw\n",
       "CiMRESmcwkhERAqnMBIRkcIpjEREpHAKIxERKZzCSER6jpktbmYjiy6H9NG16USk6UolFiyXmZS5\n",
       "XwIWyD5WFDNbiLg69xjSNemGOJ+lSAP7ufuQ5yNBNSMRaapSie8CXirFVbRTEB0GPFQqsXyhhQtz\n",
       "EBdL1TARbUQ1IxFpmlKJEcQIqfMBN5ZKbARsDfwQ+IAYM+ipZi7TzHYAvg8snR76vbvvYWZLAL9O\n",
       "5XkD+GUaJuL+NN2LZrYe8F1gkruPS/P7InCiuy9tZiOAg4FtiHGPXgMOdffTmvkeRDUjEWmicplp\n",
       "wA7EkA7zAvfRF0Tbl8tc3szlpaay04Fvu/toYF1gJzPbELiYuDr3QsD6xBATGwGfTC9f2N0fov8r\n",
       "c38Z+BKwvruPAn4AHGdmczbzfYhqRiLSZOUy75ZK7AC8k3n4qHKZS3NY3PPAiu7+rJmNBkYDU4hQ\n",
       "WgP4P3d/mxjldSzwCn2D6mXVa7L7IzE+0iQzW5x4T7MD8zf3bYhqRiLSVOkY0UFVD+9ROYbUZO8D\n",
       "u5nZi8BdwN7EwHjvAP9z9zcqE7r7k+7+yiDn/yFijKNXgCuBL6bHte1sMn2gItI0mc4Klaa5Helr\n",
       "srsxh0DakRhUbxV3X87dtwfeJgJpLjMbVZnQzLY3s8/XmMcHROhUjM78f0T6u4i7rwoc2NTSy3Rq\n",
       "phORZioBC9J3jOjSUok/AL8DNgZG9ffiIZgbeA9418xmA/YlOjK8BNwGHGFm3yOGID8G+Cp9zYfz\n",
       "EF27nwK+koJrduDb9B1DmjtN/0FqBjw6PT5reo/SJKoZiUjTpA4MuwNrVY4Rlcu8S3RqWKdc5uYm\n",
       "L/Js4FFiOPFHiPA4HfhoWuYixHGlG4GD3f0md38RuBr4u5ltAJxKDFs+EfgLEZwVPwOWBV4FbiCO\n",
       "IT1G9AoEDUneNBp2vAYNDSwiedC2pT7VjEREpHAKIxERKZzCSERECqcwEhGRwimMRESkcAojEREp\n",
       "nMJIREQK11VXYDCz44F3K5eCT49tBBwHLAU8AHzD3f9eTAlFRKSWrqgZmdloMzuLuEhiOfP4QsCl\n",
       "wHjStbGI62SJiEgb6YowIq5B9S4RPNlLwW8FPOjuV7n7+8ChwKJm9qkCyigiInV0RDOdmY0krjlV\n",
       "bZq7vw5s6O4vmdlvq57/KPB45Y67TzOzp9Pj9+ZWYBERGZROqRmNBSbXuD0E4O4v1XndnMBbVY9N\n",
       "BebIp5giIjIUHVEzcvcbGVpw1gqeOYH/DfC6kenv4mY2hMWKiNS0ePo7st+pelBHhNEwPAFsW7mT\n",
       "mvuWJdN0V8ci6e9tOZVLRHrbIsSwFZJ0WxhVj2N/GTDBzL4EXEWMPvkvd39ogPncC3wGeBENoCUi\n",
       "zTOSCCIds67SbWFUJtO1293/Y2ZbEOcZnQ08SPSw65e7vwPcnlchRaSnqUZUgwbXExGRwnVKbzoR\n",
       "EeliCiMRESmcwkhERAqnMBIRkcIpjEREpHDd1rW7aTphOAozmwU4CNgZmJ04r+q77v5mUWWqSCcY\n",
       "Hw3sQJTtbmAPd/9noQVLzOwaYN3MQyOIq3Ws7e53FVOqGaXz444AFgUeA3Z3978VW6o+ZvYosDQw\n",
       "LT000d1XKrBINZnZrsAEd1+w6LJUmNlswLHANsCHgFuA77j7C0WWq0iqGVXpsOEovgfsBGwILAnM\n",
       "BZxZaIn6fB34AvAJYAHgH8BvCi1Rhrtv4u5zV27AxcD5bRREqwJnALu6+yhiXbu42FL1MbM5AAMW\n",
       "z3yO7RhEywDHkPktt4mfEhdsXh5YEHgVOLHQEhVMYTSzThqOYivgSHd/yt2nAj8CtjKzUQWWqeJ1\n",
       "Yv2ahTjrfBpxrcC2Y2ZbEoH+7aLLkrE7cJq735nuHwPsYGbVVxkpykrAS+4+peiC1JNq5+cApzDz\n",
       "1VmK9jNgU3d/DRgFzANMKrZIxeq5ZrpOG46iv/ISG/nsVcnL6bFlSFc0z9MAn+UlZrYZ8C/ikkov\n",
       "AOvkXaZBlO/1NM0sxIZ+/1Y3bw7w3a4K/MnM/gysTFw9ZE93b9kefgPle8/M7iSu9/ggsK+7P9kO\n",
       "5Uvf7w+AR4BrgG+0qlwVDZTvbTM7kAim54H1W1m+dtOLNaNOG46iXnkfBq4Avm9mS5nZXMAhxIZi\n",
       "9pzLNFDZHjKz7wNrAssRzZrXARe1qFwDli8zzfbAVHcvogmsv+92fmAPYBywGHA/cEXawBVdvoeI\n",
       "HZ97iGOCSwL3AVebWavWvX7LZ2arAV8G9qe4WlEj69+RwIeBPwDXpZ2jntRzb7yA4SiGpb/ymtms\n",
       "RPX+9lS+o4DtgNfyLFODZXuQaEJ8Ot3fB3jDzD7u7o8VXb6MXYDTWlCcmQzw+T0KXOruD6T7PyWO\n",
       "ERoDX3U+9/Il2c/tx2a2J7AK0Vkld/XKlwLxPuCb7j61qGFgGln/0nUwMbNxxM7HirSgVaMd9WLN\n",
       "aKieIDYEwKCGo8jTYsDR7r64uy9PNJW8BzxVYJkq3mbGGtq0dHu/mOLMzMzmBtYDfl90WWpwZvz8\n",
       "RhB7+G1x7MPMdjezz2buzwLMSnzvRfsU0cvvKjObAlwJzG9mk81s8f5f2hpmdqaZZY9Rzkp8xy3Z\n",
       "kWxHPVczGoRmDUeRp68AG5jZ5kTb9C+B37j7tP5f1hK/A8aZ2bXEUBxHAI+4uxdbrBmsDrzQT9Ns\n",
       "kc4CzjGz84k95UMBb1WtsgFjgL3NbGOiJ9gE4Al3f7jYYoG730Y0fQFgZusDl7RT126i9jgunWIw\n",
       "CTgeuNXdJxZaqgKpZlTfTMNRAFsABwKvEL2vBhyOIme/IDoIPEccqH2QOMbQDk4AfkucP/E8sae6\n",
       "ZZEFquEjRMeKtuPuVwJ7EUOfvErs7bfT53c40THgHuA/xLl3WxRZoH6UaLOu3e5+KvHd3gFMJGrB\n",
       "2/b3mm6nISRERKRwqhmJiEjhFEYiIlI4hZGIiBROYSQiIoVTGImISOEURiIiUjiFkYiIFE5XYJC2\n",
       "lcaVms3dd8w8Noq4+sXWwOLESau/A47IXnXbzF4F5qua5eqZa73tTgy5MZo4efPb7v5qP2WZFbgT\n",
       "2Mbdnx3+u8uHmW0AvOruj6T/bwJmd/d3B3jdpcAJ7v6X/EspMjPVjKSdzXAVDDObF7iLGKH1O8DH\n",
       "gH2IM9enX9HazBYmgujjwMKZ28Pp+c2IUWj3A9YGFgLOG6As+wF3tHMQJTcBi6T/7wAWHiiIkp8A\n",
       "v06hK9JyqhlJO6u+MOgRxMVWN6pc7Rh4No0r9RhxeaaLgRWA/7r7E3Xmux/wK3f/A4CZfQWYaGbL\n",
       "u/tMF5lNo5qOI4bE6AQlAHd/D3i5kRe4+xNm9m9iSI2Bglmk6RRGUhgzmwbsSjSXLQr8GdgtXQew\n",
       "etrZiCHWD8gEERBXD00Xw3wkPbQCcdXrWsscAaxBXNev8vrnzOw5opZU64rnOwIvuvszmflsChxM\n",
       "1L4+IIbx+Ka7P5+e34AYq2Yl4N/AIe5+fnpuOWJAv3WJUYUvBMa7+zu1mtbM7EhgTXcfm66OfQLR\n",
       "TDkXUVPc290fN7OJqXjXmNlBwK3ZeZnZkum1GwJvEtdG+2FmwL7Lgb1RGEkB1EwnRTuMGABtbaJp\n",
       "7bI60y1DXJn8nlpPuvsdldFbiTCa1cyuN7MXzewmM1sjPTcfMQ5V9QVSXyKG5KhlU+D6yh0zWzqV\n",
       "82xipN9NUvl+lp43YjDBPxPj+xwBnGlmnzKz+Yngei29552AzYlw6k8lMPZKy/sCMfbNq/SFx+rp\n",
       "747EFdynS2F+A7EDujZRA/oa8dlXXA+snsoo0lKqGUnRDk9XqMbMdgb+YWar1BiKoNIZ4b8NzPOj\n",
       "afofEZfn3x24ycxWJGoxMPO4O+8As9WZ32rEsCEVI4khtk9J958zs4uBDdL9bwIPuvuP0/1/pONd\n",
       "sxGjj74P7Jqa0Z4ws+8AV5rZjxp4b0sTIw4/6+6T0oB2BuDur6SB5Ka4+5tVg8ptBCwBrOXuUwDS\n",
       "eDrzZKZ5hqiprU4mfEVaQWEkRbut8o+7P2Nmk4k9/uoweiX9re4hV8vngFndvTJM/O5m9mliVNcT\n",
       "0mPVwTMbMVpuLWMyy8fd/2Fmb5nZ+FTWjwErE6OLQtTM7s3OwN2PAzCznYCHUhBV3EkEXH9DklaO\n",
       "nZ1CjOb7gpndSTStndnP6yqvXQF4phJEqUxXVJVxWhqMbswA8xNpOjXTSdGqR34dSV/tJetpYDJ1\n",
       "OhGY2almthuAu7+fCaKKJ4leZpOJmsUiVc8vQoy7VMs0Mr8VM1spze+TpGM2RO+8ineoPyLrWzWe\n",
       "G5n5W2tMl+k7jalTxlLANqkMBwD3mNmHa7yuokzUeBoxkni/Ii2lMJKiVY5zYGbLE81GM40W6u4f\n",
       "ABcQo4tmh+MmNb/tArye7j9rZt/KPD+CqLk8mQ7W300MN155/iNEE9addcr4EpAdJXQ34C53397d\n",
       "f+XufyWGoK+EzFPAqlVlvMDMfkoEyCfM7EOZp9cmAuDv9IVGtvlsGVJIpaa1bdz9cnffnTgmtSwR\n",
       "jP15CljazKbP18z2NLPrMvdHAPOn9yvSUmqmk6IdmroUTwF+BdzQT5fsg4mD9382s58B/yTC7Gjg\n",
       "RuCiNN1lwEFm9k+iJ9v3gHmB36TnTwTONbO/EeFwEnCVuz9dZ7n3Exv9iueBrVPT38vADsAX6evB\n",
       "dzKwr5n9hDghdz2i2/m6wOPEaMFnmtlhRKeJk4CL0jGfd4na00/M7DjiWM9G9DUBzg/83MwmEQGz\n",
       "E9G8+Hh6/n/AimZ2V9V7uC59Xmekz25h4uThbI3u40SgPljncxDJjWpGUrQzgNOJ4cn/wYxDL1cP\n",
       "/f4qsA7wEBEsjwI/T/PYKtNF+QDgXGLY8weImsWGld527n4Z0bnhGOKY1YtEz7J6riJTkyKOO91K\n",
       "XLnhbiJQtgOWM7M504mxmxPdrx8hwnAnd7/P3acCnyfC4P5UzouJmh2pjLsCmxHnTm1MdBGvOCrz\n",
       "3p4EvgRslrl6xLHAoURwT//83H1aKtOcxPGsc4DTK8eyks8Af80eVxJpFQ07LoVJ5xlt4O63Fl2W\n",
       "/pjZnMCzwFh3f7To8uTFzO4Afl05H0qklVQzEhlAqs38krgEUVcys1WI42IXFl0W6U0KI5HG/BJY\n",
       "y8yWKrogOTkY2D0154m0nJrpRESkcKoZiYhI4RRGIiJSOIWRiIgUTmEkIiKFUxiJiEjhFEYiIlK4\n",
       "/w82h4srYjNjkwAAAABJRU5ErkJggg==\n",
       "\">\n",
       "    </div>\n",
       "    \n",
       "      <b>color:</b> blue: <input type=\"radio\" name=\"color\" value=\"blue\" checked=\"checked\" onchange=\"interactUpdate(this.parentNode);\">\n",
       "<br>\n",
       "<b>error:</b> <input type=\"range\" name=\"error\" min=\"0.01\" max=\"0.000112440031207\" step=\"0.01\" value=\"0.01\" style=\"width:350px\" oninput=\"interactUpdate(this.parentNode);\" onchange=\"interactUpdate(this.parentNode);\">\n",
       "    </div>\n",
       "    "
      ],
      "text/plain": [
       "<ipywidgets.interact.StaticInteract at 0x10e0ff810>"
      ]
     },
     "execution_count": 76,
     "metadata": {},
     "output_type": "execute_result"
    }
   ],
   "source": [
    "def slider_plot(error, color):\n",
    "    fig, ax = sns.plt.subplots(figsize=(5, 5),\n",
    "                           subplot_kw={'axisbelow':True})\n",
    "    #ax.grid(color='w', linewidth=2, linestyle='solid')\n",
    "    ax.plot([-9, -4], [-9, -4], 'k-');\n",
    "    ax.scatter(echo_pIC50s, genesis_pIC50s - error, color=color,marker='x',s=40, linewidth=2)\n",
    "    ax.set_xlabel('pIC50 (acoustic)');\n",
    "    ax.set_ylabel('pIC50 (tips)');\n",
    "    ax.legend(['ideal', 'actual'], loc='lower right');\n",
    "    ax.set_title('Relationship of pIC50s measured by different technologies');\n",
    "    return fig\n",
    "\n",
    "StaticInteract(slider_plot,\n",
    "               error=RangeWidget(0.01, average_genesis_bias, 0.01),\n",
    "               color=RadioWidget(['blue']))"
   ]
  },
  {
   "cell_type": "markdown",
   "metadata": {},
   "source": [
    "Now, we'll also make the same slider for the average_echo_bias, isn't quite as fun."
   ]
  },
  {
   "cell_type": "code",
   "execution_count": 77,
   "metadata": {
    "collapsed": false
   },
   "outputs": [
    {
     "data": {
      "text/html": [
       "\n",
       "    <script type=\"text/javascript\">\n",
       "      var mergeNodes = function(a, b) {\n",
       "        return [].slice.call(a).concat([].slice.call(b));\n",
       "      }; // http://stackoverflow.com/questions/914783/javascript-nodelist/17262552#17262552\n",
       "      function interactUpdate(div){\n",
       "         var outputs = div.getElementsByTagName(\"div\");\n",
       "         //var controls = div.getElementsByTagName(\"input\");\n",
       "         var controls = mergeNodes(div.getElementsByTagName(\"input\"), div.getElementsByTagName(\"select\"));\n",
       "         function nameCompare(a,b) {\n",
       "            return a.getAttribute(\"name\").localeCompare(b.getAttribute(\"name\"));\n",
       "         }\n",
       "         controls.sort(nameCompare);\n",
       "\n",
       "         var value = \"\";\n",
       "         for(i=0; i<controls.length; i++){\n",
       "           if((controls[i].type == \"range\") || controls[i].checked){\n",
       "             value = value + controls[i].getAttribute(\"name\") + controls[i].value;\n",
       "           }\n",
       "           if(controls[i].type == \"select-one\"){\n",
       "             value = value + controls[i].getAttribute(\"name\") + controls[i][controls[i].selectedIndex].value;\n",
       "           }\n",
       "         }\n",
       "\n",
       "         for(i=0; i<outputs.length; i++){\n",
       "           var name = outputs[i].getAttribute(\"name\");\n",
       "           if(name == value){\n",
       "              outputs[i].style.display = 'block';\n",
       "           } else if(name != \"controls\"){\n",
       "              outputs[i].style.display = 'none';\n",
       "           }\n",
       "         }\n",
       "      }\n",
       "    </script>\n",
       "    \n",
       "    <div>\n",
       "      \n",
       "    <div name=\"colorgreenerror0.001\" style=\"display:block\">\n",
       "      <img src=\"data:image/png;base64,iVBORw0KGgoAAAANSUhEUgAAAaMAAAFeCAYAAAAomXAzAAAABHNCSVQICAgIfAhkiAAAAAlwSFlz\n",
       "AAALEgAACxIB0t1+/AAAIABJREFUeJzt3Xm8JNPdx/FPzxBLGMswdhke/BKxxBIEwYgnQWKJneQR\n",
       "JDERW0SGrMYgGBF7EksIEVsQQeyC2GJfYv1JyJBYYpgRYmK99/njd9qt6dt9b9+5XV29fN+vV7/u\n",
       "7e7qqtPd1fWtc+pUnVJvby8iIiJFGlF0AURERBRGIiJSOIWRiIgUTmEkIiKFUxiJiEjhFEYiIlK4\n",
       "2QabwMxuATaoePhd4GXgWmCCu79W7wLNrAfYy91Pq3P6lYDJ7v75dH834CxgTnd/p97lDoeZHQqM\n",
       "d/fFBphmCnC+u38/57KcBnwJeAdYyd1fmIV53AK86O47Vzy+GbAfsAbwIeBJ4CR3P79iumuAz1XM\n",
       "9iV3XzwzzU7AROAjwCPAt9z9z0Mtq8zMzH4J/I+7j6vx/C3AX9396zmX40bgH+6+u5ltBNwEfNTd\n",
       "nzKzuYDzgM2AacQ68DOGud42SuU2pcY0XwQ2cPcDGrjcIW37hrGcKcAF7v69Bs6zB/iGu5/eqHlW\n",
       "qqdm1AvcAKyTuX0WOAXYBThzFpY7lJObtgNWz9z/A7BOs4IoY7Ayb0X84HJjZmsDXwcmA1sN4wfd\n",
       "S8X7MbPDgcuBZ4Ddge2Bu4FzzezHFa9fCTiKmdeJzTPz+izwG+D3wBeBfwHXmtlSs1hemdlA62K/\n",
       "7zbHMpSXcz+xDjyb7m8JbE3s2GxD7Nw0Yr1tlMptSjX7A4vksOxmfzeNsg7wuwbPcyaD1oyAEvCq\n",
       "u99T8fifzGwe4PtmNre7z2h88fpz91eAV5qxrAqlgZ5094ebUIb5099z3X3KMOYz03sxs88BPwB2\n",
       "dfffZJ66wcxeASaZ2fnu/piZLQgsAVxdZZ0o+yFwaXnPLO1FPwnsCxw0jHJLGHBdbDZ3fwPIrgvz\n",
       "p8fPgA/WLxj+ettsLfU5F2mA33rD1BNGA3kj/f3gSzOzLwCHAx8FXgB+6u4/rzWDNP33gFWJmtqD\n",
       "RNPfnal57JA0XQ8wDliGTDOdmZWAvYC903NTgGPc/ez0urHE3v7nge8AnyKaGI/MVjnN7LvAnsDi\n",
       "aR4nu/tMNZ3URPgjYDHgPqLp7on03BRS1ThNdzjwbeAnwGjgFmBvd39ugM9iOeAY4NPEd3MtcKC7\n",
       "v5D9LIBnzOxsd9+jyjymACcB6wGbErWSYwf6DoADgPsrgqjsOGAh+taVldPfR2u8h7mIvajdy4+5\n",
       "+/tmdjVRoz4oTfcF4DBiPZkOXAIc7O5v1ZjvFOBEYDVir/tN4MdE7euXxGf2NPGd/Dnzut2Bg4Gx\n",
       "6fmJ7n5J5vkliVre/wILAs8DZ7j7kZlpaq4b1ZpwzWxT4GpgrLs/l5rOHgU+DqwNTHL3yWb2sfT5\n",
       "fhr4L3ABcFD2MzCz7xHr9ijgbGBktc+nwpxmdgawI/Cf9PlMdPdeM7sCWMjd180s48PEb2J8tXXA\n",
       "zGYHjgb+Ly3/uIrnNyKa6T5G/JZ3TY/3AJOI5lqI9fac1LQ3H/Hb+CIwF/BHYN/y7yN9rpsQTbxf\n",
       "Am5z98/X+brPEC02PyK+s3uIJqYnqmxTNnL3Wyvezy2kQxNmtqO7j0j/fyote3Wi+fEM4DB37828\n",
       "dj9gH2KH7Sngh+5+VWb2i5nZ74jfwuvAL9z98PTa3YjtxnhiO7Ac8Hh6f3dklvEZ4rezCvBvohXi\n",
       "R+7+LlUMtF3JTLNL+lyWBu4Cfg2clXnvMzUxDrbumtliROvZhsAcwJ+J7XrNnfZ6OzCMMLORZjZb\n",
       "us1nZpsDBxJ7yG+mAmxKbBzuI6rqZwMnmtk3a3xInyKahu4kwmJXYD7gfDMbQXzZZxJf/DrAA1Vm\n",
       "8xPgeOD8tMzrgLPMbK+K6X5FNDduDtwBnJo+UMzs/4gfzNHERukS4OTMHh3AwsCEdPsS0Q5+Qeb5\n",
       "yqrxaOLLODy9LyNqGlV3AMxsaaJZbFHgq8A3iOaNcg30DCI0IH6Ih1ebTyrDIenvNkTV+hQz+0qN\n",
       "5ZaIkL+22vPu/qa7759ZiVYmdkJONrNpZvZvM/tl2qABLEus8H+rmNUU4sdV/nFcQmzANiU2GrsD\n",
       "h9Z4T2WHEj++LYGbiXC6ntggbU1sKH+deW97Ep/b74Et0rQXpSAkrWPXpnJ9LZXlBuAIM9skTVPP\n",
       "ulFPk8iexA9yG+ByM1scuBX4MBEaE4CdKsp/cHrPJwM7AMsT695AyysBOxPr547EjsnBxMaLNP91\n",
       "0vpWtmWa52U15nkS0cx2CLAb0SS9YZXpetNyjkn31yGCMLveHpY+9z8Qn/cB6T0tBtycWY8A1gKW\n",
       "Sss7Nq2r9bxuZWLbdFD6DJYmfv/Qf5vyYJX3sVd6vHx4AjNbhVhfp6b3MZn4ziaXX2RmE4Bjie3C\n",
       "FsR27Xdmlm0S/CHwV+ALwKVEq8PWmedHE9/35PS+e4l1dmRaxhapXE8R69IxwDeJQOqnju0KaVt+\n",
       "LvH72IpoxTiV/utZb5p+0HU3lWcpYtu3LTA3cFX67quqt2a0Q7plvQFcTHzpZYcB12cOnt6Q9qoO\n",
       "NbPT3P39inl8FPiNu08oP2Bm7xNf0lLu/qyZPQ+8W64mmhmZaRci2qUnuvtR6eEbzWxeYqXPHig8\n",
       "y92PTq+7hzgmsinwBFGLmJKpKd1mZm8B2abHEcD27v54mseiwM/MbN7UTFFpTmA3d/9tmv4p4C/E\n",
       "inxxlekPAHqAz7r7fzLldOCr7n6imXma9sEBalgl4J/uvl26f11aIQ8Czqky/ULA7EDNGluFVYB5\n",
       "iRrElsQP/whiJ2J7Yg8e+mrNZO7Pnf5fk+ggcay7vwTcamZvM/j66O6+L4CZPUP8AG5395+kx34M\n",
       "/CbtPb9BrI+nu/t30+tvMLPRRJD/AViSvhrBX9M8biaOKawH3Eh960Y9zTkvZTu3mNkxwPvAZpmd\n",
       "ueeI9XcVoib1HeAEd5+cnr+JCPXB/Av4Qjqueo2ZzQ/sa2aHpff9b+KzK4fGzsAV5XJkWTTLfg3Y\n",
       "z91PTY/dTd/xoZm4+zOpFkvmNzvTeps2fusRx37L09xCrINfI3YyINaH/d396TRNva8bBWzr7k+l\n",
       "aRYBTjOzBdz9+cptSpX38ISZvcHMhyd+SOxgbZNqQteZ2ZvAL9J3OY0I/ZPdvVwTvMnMVgTWp29H\n",
       "+jJ3PziV60/EuvZpYocJYruxl7tfn6bpIXawVyEC8jDgBncvtzzcYGbTgF+b2Y/d/S8Vb2fA7Ur6\n",
       "zH4AXOnu+2XmuSRRQajmWwyw7qYyrAsc6u5Xp+fLx6LnJda/fuoNo+tSgUtEM8NPiI37Bz1N0p7J\n",
       "GsABFXv/1xNf5ErATFU0d/8V8KsUHh8jwmmr9PSH6ijX2uk9VG7cfwvskeZX3mjcnVnuDDObTiQ7\n",
       "RMrvmb6k3xI/zCMq5vlGOYiS8o+xvOGr9D6xF11e5mPpC1mvSnkhVtjryitMes3fzeze9NyJVV5T\n",
       "TW96D1lXANuZ2XzuXrkilHcQ6mn+AfgpcLa735nu325mU4HfmtnH6attV9t7Lz92D/A2cLeZnQ9c\n",
       "SfREHOzA/N2Z+y+nv9na8rT0dz6ieWYMsdHIro/XAV82s/lToG+cav1G1F5XJ8K5vP7Vs27U46mK\n",
       "+xsSNfS3MuW7nWjyGEf0WB0NXFN+QWqWvoaofdbSS7RWZDv4/IHYGVnZ3R8ws0tIYWRmCxBNRtv1\n",
       "nxUQv7GRFeV42czurDF9PTYkvqv7M+/9TeL7HUffuv4e0cQ+1Ne9Xg6i5Pn098NEk/Cslvk8YGRm\n",
       "h/h6Yl1Zj/h+FyQ+6w94/16Pd2ae600b8fkqpsmu5x+UPdVkViGa8bIuJnY01yd2eLMG2q6sZ2an\n",
       "Et9xZe/LS4jaWzWDrbt/AW4jKgQrE7/vq939BzXmB9TfTDfd3R9w9/vTsYfxwP4WbellCxBhdQLR\n",
       "fbN8u5X4gfTrFm1m85jZhcQKcivRg6Wsnr3NBdLff1U8Xt5Qjco89t+KaXpI79+j6/Ie6f4xwJNm\n",
       "dntqTiqr7KDRk/7W+gynuntP5WP0dUKoND/930f5NfPWeE0tL1aZB/R9Xh9w92nEcYWaPd3MbInM\n",
       "9J4JorIb0t+V6NvrmadimnnTcnD3Z4jjAY8Re263E8cTNqtVhqRa6NfqODM6/b2MmdfHc4n1cVH4\n",
       "oCnvJaKGfBLRFPYuaf2rc92ox8sV90cTteR3M2V7i9gzXoy+9aSys07lfKqpXI/K3395o/cb4BNm\n",
       "tjzRhPIGmbCpUF5nKstRbV2t12hiw5197+8Q68SimelerdhBqfd11X7rMLzzKkcTNYLscp+jb9u2\n",
       "YJpuatVX96lcX3urlCtb/mzZ5yfWy5k+e3d/mzj+lN3elQ20XRlFfL8jqpR7oO93sHUXovnuVOK7\n",
       "uQD4l5kdn5paq5qlDgzu/hsz2xWYaGYXp2p0eSP0Pfo2TmUl+h9DgL4D7RsBf04Hujcj3mg9yns5\n",
       "izDzhqrcJXMadfLo8HB2an7bmqgOn0I05c2Kfhv+VK7ba0w/nZl/UNnX/H2Iyx5dcX8MsdLX6oX4\n",
       "R2LvuN+ei5nNDbiZ/czdDzazHYDnswdUiZUQImyeIX5AywL3ZqZZhmgaACC9fvM0/03Tsi80s4Vq\n",
       "HYgdovK5b7vRv7NFCZhiZhsCvyCaV84o1xrN7KXsxIOsG730r1VWBnE15U4bR1cp278y8xhT8fyC\n",
       "DK5ymvI8yhucW4kN6ReJ397FVZrQy8q/oTGknYlkNH177UP1GtHcWFkbK1F752I4r5sVlbX06cRx\n",
       "6cqm7hLxWZa3OQtlnzSz1YgmwaodfqosZyD/TtPP1OXczOYkdjSqbe8G265MJWqglevZwgOUY7B1\n",
       "F3efTlQu9jezNYkduv2JWt+F1WZa73lG1RxAVFGPTgt/g+j5MjbVoh5w9weINzmR6s1unwIud/fb\n",
       "Mz+G/60oW60fCURzz7v0P561A/Eh/3WA137AzH5tZhen9/FSahu/lOgRM6vmMLONM8tYhdgg31xj\n",
       "+juAz6Umy/JrliGaPodysmiJzDk/ydbAfZmqeuV3egqwhkWPmkoHE72Wyk1/3yQO0mZtQzS73evR\n",
       "xf8u+ppbSVX5zUnv3cy+YWbPmNls7j7D3X9H1Drmpfre3ax4kvhxLlaxPq6S3lMPcXD6LXc/NhNE\n",
       "qxDrbLkX0WDrxn+ABVKolq1fR/nuJJqmH8qU7QXgSGA5d3+SqLFtW36BxUHsTRi8A8MmNvOB4m2I\n",
       "HZHH0/voJTasOxBhdD61/Zn4jWXLMT/pwP4suoNoRp2aee8PEtuUz+TwukoDbVPKepi5deZOYIWK\n",
       "del94njpwsSO1mv0P85yBnFce9jSNvYv9N/ebZ/+VttODLhdSdvdmX6vSa0mOhhk3TWzRczsn5Y6\n",
       "Zrj7fUSP0P8ywDa13vOM+lWt0jGQc4DdzWwdd7+L6MZ5kZn9h+ilNJboFXKfu1ervt4L7GBmdxCJ\n",
       "uiVxMBX69gxfAxZMBy9n+rDdfaqZ/YyooY0gUnczYm94/9QmO9D7KrsZODMd4L0J+B+iTf3kWi8e\n",
       "ZH5lZ1v0iHqP6D58t7vXag45PpX7ejM7mqhtHAb8k76eQPVaz6Jr7yXE3vvWxGebLesH5XX3P5rZ\n",
       "z4FzLHo4Xk2sG9sQvWGOcPf70+THAH8wszOJ6vdqRI+v49293IQ0megx9hLRCeAb9PUuhOjmfjxR\n",
       "EzqV+K5/SHRGeLXGexrSOR/u/p6ZHUn0jJud+FGuSnQHPzcdf7kXmMvMfkK09a+QyvEafevfYOvG\n",
       "tcQx1NPTZ7Iu0UQxWPmPB74C/N6io83sxE7bwvQdW51EdJJ5hVj3v040g1TtPJCxFHCexdUa1ie6\n",
       "Gh9Y0Wx8LvBd4Fl3r1Vbx93/bWbHEb2+3iM2ugen8s6qK4km2mstTrZ+hXhvWxNNO41+XaXpZLYp\n",
       "aS++2jSrmNlG7n4LsaG9zczOAi4iap8/JnZGPLXqHEMcJ3md+L62B1Ykc5pDFUM9l+lQ4DIzO5v4\n",
       "/RnRIed37v5IlXnWs105gujociJwFdFKsi19TYSVBlx33X26mT0NnJB20l4kfjMj0/yrqrdmVGtP\n",
       "7EdE2h0DkPZwdyL23q4ifkznU/vg6IHEga5fEAfh5gM+QXzBa6dpLiRWwEuJWlNleQ5My/kacaD+\n",
       "M8Du7n6Kmc1BfFEloovl7y26JZKdR+pIcSCxEbmG6MJ6Cn1djWt9Br01/i/7NvHZnE5sDGseE0kH\n",
       "0z9NVMXPI67mcC+wbvbgY43lVJbpRGLjfxnxXWzvM5/r0O/9uPs+xGe4BnFM4Vxi47xjpncQqXfM\n",
       "tsT3dDlRUzrCMz3F3P1KoqfOVkQgLgRs6u7/SM8/STQRLZXKeCbwEJm97xrvqx7Z7/U44jv4MvG9\n",
       "7kfU6vZOz99EX/ffa4mNxh7Ej3ztNM2A64a7P0YcQ12PWOfXT8urXDcqP+8p9J2DcVH6DKYA48ob\n",
       "R49zOvYldgguJZqiflHH+/85UZu5Ir2fA939pIrlP0FskC7oN4f+vk+0gEwgfs8P0L8beNVuwNXu\n",
       "u/t7xAbvbuKz/D2xLmyRCcZqn9ksva5KeS5i5m1KNScQTe1/MLMl3P3utGwj3vsJxLbrf8utOh69\n",
       "db9LrEdXEDs/m2VCoprBPreZHnP3y4mdxFWJ39+BxI7RzjWmH3S74tFzbw+i9eJy+nbaqjZ91rPu\n",
       "Er+XO4hzka4mthdbpN9+VaVOHnbczI4g9lS3IXrdnArM7+4DbfQasdzdyJww1kxm9nfgV+5+2KAT\n",
       "S9eyOMfuMeBj7u6DTS+dKzWnPZkNitSq8Dl3X6NZ5RjuFRha3SHAh9z9LYvzS+Zj8N4u7U6XMJGa\n",
       "zGwFYi96J+J8FQWRbAkcl3pHv0ScB7g/fScrN0Xbh1E6qFut63OPu79O9IWfSATT81Q/czwPRVU5\n",
       "O7eqK40wkuiiPIX+56tId/oW0Xx9PHEs7GngAM/xCt3VtH0zncVlW66v8tQUd182TTMHUWM4mmgX\n",
       "XTG1P4uISAto+zAaitSr6j/A2u7+0ADTzQF8kugFUk83UBGReowkekTem05WlaTtm+kGkrph3pPO\n",
       "DYHogjiCvhMia/kk0VNGRCQPn6b2CfBdqaPDiOgCOiFdz2sq0eX5Vh98TJXy5XQ+TXR/FRFphCWJ\n",
       "Hd3KS3Z1vY4OI3c/zczGEP3dP0RcJHP7gV8F9DXN/bOO4BIRqUvmJHw1/1fo6DAC8Bi4qtbYPyIi\n",
       "0gKaflKmiIhIJYWRiIgUTmEkIiKFUxiJiEjhFEYiIlI4hZGIiBROYSQiIoVTGImISOEURiIiUjiF\n",
       "kYiIFE5hJCIihVMYiYhI4RRGIiJSOIWRiIgUTmEkIiKFUxiJiEjhFEYiIlI4hZGIiBROYSQiIoVT\n",
       "GImISOEURiIiUjiFkYiIFE5hJCIihVMYiYhI4RRGIiJSOIWRiIgUTmEkIiKFUxiJiEjhFEYiIlI4\n",
       "hZGIiBSua8LIzPYws6lFl0NERPrrijAys2WB44DeossiIiL9dXwYmdlI4NfAqUCp4OKIiEgVsxVd\n",
       "gOFKYTNvlad63P114LvAI8A1wFebWTYREalPJ9SMxgHTqtweMrM1gC8BB6JakUjHK5VKi5ZKpe+X\n",
       "SqXliy6LDE3b14zc/UaqhKqZzQncB3zN3WeYWdPLJiLNUyqVlgBuAZYDVgB2K7I8MjRtH0YD+CSw\n",
       "DHBVCqLZgLnNbBqwirv/s8jCiUjjVATRO8A5hRZIhqxjw8jdbwM+XL5vZhsCl7j7wsWVSkQarUoQ\n",
       "bdPb23tzoYWSIeuEY0b1KqGu3SIdpUYQXVVooWSWdGzNqJK73wKMKbocItIYCqLO0k01IxHpEAqi\n",
       "zqMwEpG2oiDqTAojEWkbCqLOpTASkbagIOpsCiMRaXkKos6nMBKRlqYg6g4KIxFpWQqi7qEwEpGW\n",
       "pCDqLgojEWk5CqLuozASkZaiIOpOCiMRaRkKou6lMBKRlqAg6m4KIxEpnIJIFEYiUigFkYDCSEQK\n",
       "pCCSMoWRiBRCQSRZCiMRaToFkVRSGIlIUymIpBqFkYg0jYJIalEYiUhTKIhkIAojEcmdgkgGozAS\n",
       "kVwpiKQeCiMRyY2CSOqlMBKRXCiIZCgURiLScAoiGSqFkUgNpUmlUaVJpV+VJpXGZB4bkx4bVWTZ\n",
       "WpmCSGbFbEUXQKSFnQjsBqxVmlQalx67GVgx/b97EYVqZQoimVUKI5HaDgbWIsLn0fTYwsDj6TnJ\n",
       "UBDJcKiZTqSG3om9LwPjgKlECC2c/h+XnpNEQSTDpTASkWFREEkjdHwznZk9CiwD9KSHprj7ygUW\n",
       "SdpE6rhwM301ItL/N5cmlVQ7QkEkjdPRYWRmcwEGjHH36UWXR9rOZOJ40eNEcx30dWCYTJd3YFAQ\n",
       "SSN1dBgBKwMvKYhkFu2f/h5crgWlXnWTM891JQWRNFrbh5GZjQTmrfJUD7Aa8K6Z3Un8aB4E9nf3\n",
       "J5tYRGlTvRN7X6ei9pNCSTUiBZE0WCd0YBgHTKtyewjoBe4BdgKWBu4DrjazOYspqkh7UxBJXtq+\n",
       "ZuTuNzJwqJ6e+f8HZrY3sCpwd64FE+kwCiLJUyfUjGoys/Fm9pnM/dmA2YG3iiuVSPtREEne2r5m\n",
       "NIgxwL5mtinwKnHg+Ql3f7jYYom0DwWRNEOnh9GRwCjiuNE8xA9qqyILJNJOFETSLB0dRu7+PjAh\n",
       "3URkCBRE0kwdfcxIRGaNgkiaTWEkIjNREEkRFEYi8gEFkRRFYSQigIJIiqUwEhEFkRROYSTS5RRE\n",
       "0goURiJdTEEkrUJhJNKlFETSShRGIl1IQSStRmEk0mUURNKKFEYiXURBJK1KYSTSJRRE0soURiIN\n",
       "VppUGlWaVPpVaVJpTOaxMemxUYWUSUEkLa6jr9otUpATgd2AtUqTSuPSYzcDK6b/d29mYRRE0g4U\n",
       "RiKNdzCwFhE+j6bHFgYeT881jYJI2oWa6UQarHdi78vAOGAqEUILp//HpeeaQkEk7URhJNKBFETS\n",
       "bhRGIg2WOi7cTF+NqFxDujnbqSG35SuIpA0pjEQabzJxvOhxYKV0ezw9NjnPBSuIpF01pQODmS0I\n",
       "rAmMAXqAl4AH3X16M5Yv0mT7p78Hl48RpV51kzPPNZyCSNpZbmFkZrMDOwL7EkH0DjAdGAksCJTM\n",
       "7M/AqcAF7t6TV1lEmql3Yu/rVHTfTqGUW5duBZG0u1ya6cxsQ+Ah4P+AcwADPuzui7v7IsAcwGrA\n",
       "BcA3gSfNbFyt+YlIbQoi6QR51Yz2A7Zz9yeqPZlqQY+k28/NbFVgEnHQV0TqpCCSTpFLGLn7tkOc\n",
       "/mFg6zzKItKpFETSSZrVgWEhYIa7zzCzNYDNgfvd/epmLF+k0yiIpNPk3rXbzLYG/gmsa2bLET+g\n",
       "nYCLzWzfvJcv0mkURNKJmnGe0eHAIe5+I/BV4B/u/nEikL7VhOWLdAwFkXSqZoTR8kSvOYAtgMvT\n",
       "/48ASzRh+SIdQUEknawZYfQCsLqZrU6cgV7+8WwOPNuE5Yu0PQWRdLpmdGD4CXBx+v9ud7/dzCYB\n",
       "PwDGN2H5Im1NQSTdIPcwcvdfmNldwFjg2vTwrcAN7n573ss3sy8CRwGLA48B4939L3kvV6QRFETS\n",
       "LZpyoVR3fxD4O7CNme0EvNCkIFoNOBPYw91HAZfRV0sTaWkKIukmudeMzGwRIgTWAaYR16abz8xu\n",
       "ALZ399dzXPx44HR3vzPdPw64wcxK7t6b43I7VmlSaRQxrHb2IqBjSBcBTddlk2FSEEm3acYxo9OB\n",
       "94Dl3P0ZADNbATgbOAXYdTgzN7ORwLxVnuohrn/3BzP7I7AK8CCwt4JoWE4EdgPWSleihriM04rp\n",
       "/9wuBtotFETSjZrRTPcZYJ9yEAG4+1PA3sBWDZj/OKLGVXl7mLg6+F7ABKIb+f3AFSnAZNYcTN/Y\n",
       "PI+mW3nsnoMLLFdHUBBJt2pGzegF4CNAZaeBBYBXhjvzdDJt1VA1s0eBS939gXT/R8C3iauIPz7c\n",
       "ZXej3om9L6ca0aPE6KUQI5mOKzfbFaETmg8VRNLNmhFGRwKnmtnSwG1Ek92awBHAmWa2QXlCd7+1\n",
       "wct2YM7M/RFAKd26VidsuKto6+ZDBZF0u2aE0Vnp78lVnpuYbmWNbjY8G/i1mZ1HjK90BODu/liD\n",
       "l9NuZnnDnULrZqJWNDU9vDBwc2lSqcja0cHAWvQ1H5bL1fLNhwoikeacZ9SU7uM1ln2lme1DDPC3\n",
       "JHHMSENVDG/DPZm+Y0SVQTaZgmogrdp8OBgFkUjIJYzM7EPu/k75/4GmLU+XF3c/Dzgvz2W0m2Fu\n",
       "uPdPf7NNfONITXx5lLdTKYhE+uRVM3rLzBZ195eBtwaYrpc470jaRDqetHvFYy9XPtZsLdx8WJWC\n",
       "SGRmeYXRxsD0zP+16HyfArTbhrtOLdl8WI2CSKS/vIYdvyVzdwPgp+7+ZnYaMxsFTAL+lEcZut0g\n",
       "PeZmp0023EPQFs2HCiKR6vI6ZrQysBjRhfpQwM1sesVkKxGX6zkgjzLIgD3mziN6Grb0hnsoWrX5\n",
       "MEtBJFJbXs10o+m7Qjf0Da6X9R9ieAnJx0A95r5d2RTXahvuTqMgEhlYns10IwDMbAqwprsP+2oL\n",
       "Ur+h9pjr0BNhW4KCSGRweTXTfcTdnwVw97F1vmasu0/JozxSl7a+gkGrUhCJ1CevE1IvMbMTzGzZ\n",
       "wSY0s5XM7OfA73IqS1eq0mNuKn095sZUeYkugNpgCiKR+uV1zGhdomPC3Wb2InA9McrqK0QALgR8\n",
       "guhptzjwU9r0wHkLG1JX53a9gkGrUhCJDE1ex4zeBY4xs5OBnYHNgW2BMcQ4Qy8Rl+Y5lriq9ow8\n",
       "ytHl2qKrcydSEIkMXam3V+edVjKzscQw6ct0y3GsTLPeisx8IuzjqHZUNwWRDKQbty31KuwiptJy\n",
       "ss16K6Vb+RjS5ALL1TYURCKzrhlDSEh7ULPeMCiIRIZHYSRAe1zBoFUpiESGT810IsOgIBJpjFxr\n",
       "Rma2AtHNewlgDmAG8Dxwp7s/neeyRYZiVq5AoSASaZy8rsAwGvgN8DngOaIr99tEIC0GLGVmVwG7\n",
       "unvlBVRU2SPkAAAaVklEQVRFijCkK1AoiEQaK6+a0anAh4Gx7v5c5ZNm9hEirE4DdsipDCJDUfdQ\n",
       "7AoikcbL65jRZsA+1YIIIF23bh9g05yWLzIkqWluHH2XTSpfRmmmc6wURCL5yCuMXiV+rAP5KPBG\n",
       "TssXaTgFkUh+8mqmOxI4x8zWIkZyfQF4i75jRhsQ5658P6fliwzJYEOxcyizoyASyU1e16Y7zcxe\n",
       "IC6Wug8wd+bp/wJ3A//n7pflsXyRWVD7wrJTORlYHQWRSG5y69rt7lcCV5rZCGABIpBmANPcXRfE\n",
       "k2Fr8ICA1a9AMZWT+TlrAsuiIBLJTV5du1cHHnb39929B3jVzOYF9gMWM7MngV+6u0YPleFo2ICA\n",
       "1a5AkZrmVkdBJJK7vDow3AeMLt9Jx44eBb4IzA/sCTxlZitWf7k0S2lSaVRpUulX2QH3SpNKY9Jj\n",
       "o4osWx1yGxBQnRVEmqtZ16Y7GjjP3ccDpKa7U4GTgE2aVAZJss1bRJPWbsCnSpNKDwI/AK6kDYYb\n",
       "z2tAQAWRSPM169p0HyNOcAUgNd0dR1wqSJqv3Lx1M/ATwAEDdiJG5O3a4cYVRCLFyDOMRmf+f4S+\n",
       "PdeyJYnzkaT5ss1btzDzdzUnbTLceJXu2OUTVm/ONjvWPT8FkUhh8gqj6cBjZjbdzO4iNna/MLO5\n",
       "AMzs68A5wHk5LV8GUOVqAwsB7djDsWEDAiqIRIqVSxi5+2hgcWBb4hp0dwNTgHfTJD8ELgYOyWP5\n",
       "MktKwCsMs3Yx0wzz7xyxP3A2qRaXCdmzGcKAgAoikeLleZ7RS8TVum+q8txH8lpulpldA6yfeWgE\n",
       "MBewrrvf1YwytKKK5q23iKY5iGbTbYgdhXLtYjgdGBrW9bqaRgwIqCASaQ25hZGZjSQ2bNdlzycy\n",
       "sz2B14GL8j751d03qyjT2cDIbg6iJNu8tQXwY2A1ohPDBKJ20Yjhxuu+EnYRFEQirSOvk14/DFwB\n",
       "bJhud2SeXoPYc93VzLZx97fyKEOVMm0NbEz07Ot2lVcb2LnKlQuG3aU7r67XjaAgEmktedWMvkf0\n",
       "lvu4u3v2CXcfb2YnA1cTe8eThrOgVAObt8pTPeUamZnNRnQlP9Dd3xzO8jpBI5q32pmCSKT15NWb\n",
       "bifggMogKnP3R4HvALs0YFnjgGlVbg9lptkRmOHuFzdgeV1pVjojNLrrdSMoiERaU141o8WJkycH\n",
       "ch+w1HAX5O43Mnio7g6cPtxldblZ6YxQ+0rYw+8cMWQKIpHWlVcY/RNYHnh2gGmWAf6V0/I/kC7Q\n",
       "ugHw5byX1eFmpTNC9SthN6ZzxJAoiERaW15hdCkw0cxuc/e3K580szmBw4jjRnlbE3ghdTWXWTQr\n",
       "nRFa5diUgkik9eUVRkcBdwH3p84K9wD/JsY1WhvYNy17WJ0X6vQRYqRZ6UIKIpH2kNcVGF4nLoJ6\n",
       "G3AMcD/wN+BeokZ0A7COu+fevdfdz3Z3XZB1mFqxM8JgFEQi7SPPKzC8BuxlZt8iBidbgLjczNPu\n",
       "/n5ey5XctFRnhMEoiETaS+7jGaVjRk/kvRzJXct0RhiMgkik/eR1BYYLiKtAlwaZtNfdG3GukeSs\n",
       "VTojDEZBJNKe8qoZvU2dYZTT8qVA2ZFkM7WoyssNNX65CiKRtpVLGLn7bnnMV9pGrlfrrkZBJNLe\n",
       "cj9mVGZmqxKDn70PPOzuOo7UuZp6tW4FkUj7yz2MzGwR4DJgHeKacSOB+czsBmD77PAS0hmaebVu\n",
       "BZFIZ8jrQqlZpwPvAcu5+0LuvgDwUeJK26c0YfnSoRREIp2jGWH0GWAfd3+m/IC7PwXsDWzVhOVL\n",
       "kzXjBFkFkUhnaUYYvUBckqdS+SRY6TzZE2RXSrfH6TtBdlgURCKdpxkdGI4ETjWzpYnLA71HXLz0\n",
       "COBMM9ugPKG739qE8kj+cjtBVkEk0pmaEUZnpb8nV3luYrqVNaOmJjnL6wRZBZFI52rG5YAUMDJs\n",
       "CiKRzqagkJanIBLpfAojaWkKIpHuoDCSlqUgEukeCiNpSQoike6iMJKWoyAS6T4KI2kpCiKR7qQw\n",
       "kpahIBLpXgojaQkKIpHupjCSwimIRERhJIVSEIkIKIykQAoiESlTGEkhFEQikqUwkqZTEIlIJYWR\n",
       "NJWCSESqURhJ0yiIRKQWhZE0hYJIRAaiMJLcKYhEZDDNGHa8MGY2EjgW2AmYE7gb2Mvd/15owbqI\n",
       "gkhE6tHpNaOvAJ8HPgEsBPwN+GWhJeoiCiIRqVenh9HrxHucDRgJ9AAzCi1Rl1AQichQtH0zXWqK\n",
       "m7fKUz3ufomZbQH8A3gfeAFYr5nl60YKIhEZqk6oGY0DplW5PWRm3wHWBpYH5geuAy4qqJxdQUEk\n",
       "IrOi7WtG7n4jNULVzB4Ejnb3p9P9/YA3zOzj7v5YE4vZFRREIjKrOqFmNJC3iF50ZT3p9l4xxelc\n",
       "CiIRGY62rxkN4kJggpldC7wIHAU84u5ebLE6i4JIRIar08PoJKJzwy3APMBtwNZFFqjTKIhEpBE6\n",
       "OozcvRc4It2kwRREItIonX7MSHKiIBKRRlIYyZApiESk0RRGMiQKIhHJg8JI6qYgEpG8KIykLgoi\n",
       "EcmTwkgGpSASkbwpjGRACiIRaQaFkdSkIBKRZlEYSVUKIhFpJoWR9KMgEpFmUxjJTBREIlIEhZF8\n",
       "QEEkIkVRGAmgIBKRYimMREEkIoVTGHU5BZGItAKFURdTEIlIq1AYdSkFkYi0EoVRF1IQiUirURh1\n",
       "GQWRiLQihVEXURCJSKtSGHUJBZGItDKFURdQEIlIq1MYdTgFkYi0A4VRB1MQiUi7UBh1KAWRiLQT\n",
       "hVEHUhCJSLtRGHUYBZGItCOFUQdREIlIu1IYdQgFkYi0s9mKLkCezGw24FBgN2BO4DLgW+7+ZoHF\n",
       "ajgFkYi0u06vGX0b2AXYGFgamAc4q9ASNZiCSEQ6QaeH0TbA0e7+lLvPAL4PbGNmowouV0MoiESk\n",
       "U7R9M52ZjQTmrfJUDzAS+G/msd702LLAQ/mXLj8KIhHpJJ1QMxoHTKtyexi4AviOmY01s3mAw4iQ\n",
       "mrOgsjaEgkgkmNnSZvaGmc1V5bknzWzDYc5/NzO7dzjzkPq0fc3I3W+kRqia2ezAfMDtwAzgGGAH\n",
       "4LWmFTAfJ6MgEsHdn6N6ywhES0hvE4sjw9D2YTSIJYBj3f07AGa2BvAu8FShpRq+u4BVgX17e3uv\n",
       "Lrow0h1KpdKHgKWatLh/9Pb2vjPYRGY2FniG6Jy0BfBjYAzwG2D2zHQLAicCnyV2TE9198npudHA\n",
       "ScC66bV/A/Zy9zsb+H5kEJ0eRl8GNjKzLYm9p58Cv3T3nmKLNTy9vb3HELU8kaZIQeTA2CYtckqp\n",
       "VLJ6AilZjugpuwXwJ+Ag4thw2bnAVKL8Y4A/mNm/3P1s4rfUA3w0/T0BOBrYYPhvQ+rV6WH0E+B/\n",
       "gOeIlew8YEKhJRKRPOwKXOvuNwGY2dHAPun/RYFNgYXd/b/As2Z2LLAncDbRy3YGsY0YC/ybaFWR\n",
       "JuroMHL3t4Hdiy6HSLvr7e19p1QqGS3WTJexAPB8+Y6795rZs+nu0kAJeNrMypOMAF5N/y9BNOF9\n",
       "DHiS6ABVmvWiy6zo6DASkcZJ4fB00eWo4VlgjYrHFk9/XwTeA8a4+7sAZjYfcZwJ4ELgF+5+fHpu\n",
       "V2Dl3EssM1EYiUgnuAw4yMw2B64nmuiWBnD3f5jZbcAxZvY9YG7gt0RN6ivE8eQZAGb2MeJ40+z9\n",
       "liC56oTzjESku/USNbYdgGOJUzfWBrLnB+0MLAJMIXrTPg/snZ7bE5hgZq8Sp01MABYyswVQ9/Cm\n",
       "KfX26nOulLqL/h1Yxt2nFFsaEekU2rbUppqRiIgUTmEkIiKFUxiJiEjhFEYiIlI4hZGIiBROYSQi\n",
       "IoVTGImISOEURiIiUjiFkYh0HTNb0sxGFl0O6aMwEpGGK00qLVxxv1T5WFHMbBHi6txzDHM+Y82s\n",
       "x8zmbkzJupvCSEQaqjSp9C3AS5NKa6T7JWIE1odKk0orFFq4MBdxsVQNE9FCdNVuEWmY0qTSCGKE\n",
       "1AWAG0uTSpsA2wLfA94nxgx6qpHLNLOdgO8Ay6SHfuvue5nZUsDPU3neAH6ahom4P033opltAHwL\n",
       "mOruE9L8vgCc7O7LmNkIYBKwHTHu0WvAEe5+eiPfg6hmJCIN1DuxtwfYiRjSYX7gPvqCaMfeib2X\n",
       "N3J56cKjZwDfcPfRwPrALma2MXAxcXXuRYANiSEmNgFWTy9f1N0fYuArc38J+CKwobuPAr4LnKCm\n",
       "ucZTGIlIQ/VO7H2HCKSsY3on9l6aw+KeB1Zy9/vMbDQwGphOhNJawAR3f8vdnwbGAQ9RvXmuVpPd\n",
       "74HPAFPNbEngbWBOYMHGvg1RGIlIQ6VjRIdWPLxX+RhSg70H7GlmLwJ3AfsSA+O9DfzH3d8oT+ju\n",
       "T7r7K0Oc/4eIMY5eAa4EvpAe17azwfSBikjDZDorlJvmdqavye7GHAJpZ2JQvVXdfXl33xF4iwik\n",
       "ecxsVHlCM9vRzD5XZR7vE6FTNjrz/1Hp72LuvhowsaGllw8ojESkkUrAwvQdI7qQvmNIcwCjBnjt\n",
       "rJgXeBd4x8zmMLODiI4MLwG3AUelx5cHjkvTvp1eO1/6+xQwzsxGmdkY4Bv0HUOaN03/fmoGPDY9\n",
       "rmHJG0xhJCINkzowjAfWKR8jyhxDWq93Yu/NDV7kOcCjxHDijxDhcQbw0bTMxYjjSjcCk9z9Jnd/\n",
       "Ebga+KuZbQScRgxbPgX4E3BhZv6HAMsBrwI3EMeQHiN6BYKGJG8YDTtehYYGFpE8aNtSm2pGIiJS\n",
       "OIWRiIgUTmEkIiKFUxiJiEjhFEYiIlI4hZGIiBROYSQiIoXrqCEkzOxE4J3ypeDTY5sAJwBjgQeA\n",
       "r7r7X4spoYiIVNMRNSMzG21mZxMXSezNPL4IcClwMOnaWMRlSUREpIV0RBgR16B6hwie7KXgtwEe\n",
       "dPer3P094AhgcTP7ZAFlFBGRGtqimc7MRhLXnKrU4+6vAxu7+0tm9quK5z8KPF6+4+49ZvZ0evze\n",
       "3AosIiJD0i41o3HAtCq3hwDc/aUar5sb+G/FYzOAufIppoiIzIq2qBm5+43MWnBWC565gf8M8rqR\n",
       "6e+SZjYLixURqWrJ9HfkgFN1obYIo2F4Ati+fCc19y1HpumuhsXS39tyKpeIdLfFiGErJOm0MKoc\n",
       "x/4yYLKZfRG4ihh98h/u/tAg87kX+DTwIjFImIhII4wkgkjHrCt0Whj1kuna7e7/MrOtiPOMzgEe\n",
       "JHrYDcjd3wZuz6uQItLVVCOqQoPriYhI4dqlN52IiHQwhZGIiBROYSQiIoVTGImISOEURiIiUrhO\n",
       "69rdMO0wHIWZzQYcCuwGzEmcV/Utd3+zqDKVpROMjwV2Isp2N7CXu/+90IIlZnYNsH7moRHE1TrW\n",
       "dfe7iinVzNL5cUcBiwOPAePd/S/FlqqPmT0KLAP0pIemuPvKBRapKjPbA5js7gsXXZYyM5sDOB7Y\n",
       "DvgQcAvwTXd/ochyFUk1owptNhzFt4FdgI2BpYF5gLMKLVGfrwCfBz4BLAT8DfhloSXKcPfN3H3e\n",
       "8g24GDivhYJoNeBMYA93H0WsaxcXW6o+ZjYXYMCSmc+xFYNoWeA4Mr/lFvEj4oLNKwALA68CJxda\n",
       "ooIpjPprp+EotgGOdven3H0G8H1gGzMbVWCZyl4n1q/ZiLPOe4hrBbYcM9uaCPRvFF2WjPHA6e5+\n",
       "Z7p/HLCTmVVeZaQoKwMvufv0ogtSS6qd/xo4lf5XZynaIcDm7v4aMAqYD5habJGK1XXNdO02HMVA\n",
       "5SU28tmrkvemx5YlXdE8T4N8lpeY2RbAP4hLKr0ArJd3mYZQvtfTNLMRG/oDm928Och3uxrwBzP7\n",
       "I7AKcfWQvd29aXv4dZTvXTO7k7je44PA/u7+ZCuUL32/3wUeAa4BvtqscpXVUb63zGwiEUzPAxs2\n",
       "s3ytphtrRu02HEWt8j4MXAF8x8zGmtk8wGHEhmLOnMs0WNkeMrPvAGsDyxPNmtcBFzWpXIOWLzPN\n",
       "jsAMdy+iCWyg73ZBYC9gArAEcD9wRdrAFV2+h4gdn3uIY4JLA/cBV5tZs9a9ActnZmsAXwIOpLha\n",
       "UT3r39HAh4HfAdelnaOu1HVvvIDhKIZloPKa2exE9f72VL5jgB2A1/IsU51le5BoQnw63d8PeMPM\n",
       "Pu7ujxVdvozdgdObUJx+Bvn8HgUudfcH0v0fEccIjcGvOp97+ZLs5/YDM9sbWJXorJK7WuVLgXgf\n",
       "8DV3n1HUMDD1rH/pOpiY2QRi52MlmtCq0Yq6sWY0q54gNgTAkIajyNMSwLHuvqS7r0A0lbwLPFVg\n",
       "mcreYuYaWk+6vVdMcfozs3mBDYDfFl2WKpyZP78RxB5+Sxz7MLPxZvaZzP3ZgNmJ771onyR6+V1l\n",
       "ZtOBK4EFzWyamS058Eubw8zOMrPsMcrZie+4KTuSrajrakZD0KjhKPL0ZWAjM9uSaJv+KfBLd+8Z\n",
       "+GVNcSEwwcyuJYbiOAp4xN292GLNZE3ghQGaZot0NvBrMzuP2FM+AvBm1SrrMAbY18w2JXqCTQae\n",
       "cPeHiy0WuPttRNMXAGa2IXBJK3XtJmqPE9IpBlOBE4Fb3X1KoaUqkGpGtfUbjgLYCpgIvEL0vhp0\n",
       "OIqc/YToIPAccaD2QeIYQys4CfgVcf7E88Se6tZFFqiKjxAdK1qOu18J7EMMffIqsbffSp/fkUTH\n",
       "gHuAfxHn3m1VZIEGUKLFuna7+2nEd3sHMIWoBW8/0Gs6nYaQEBGRwqlmJCIihVMYiYhI4RRGIiJS\n",
       "OIWRiIgUTmEkIiKFUxiJiEjhFEYiIlI4XYFBWlYaV2oOd98589go4uoX2wJLEietXggclb3qtpm9\n",
       "CixQMcs1M9d6G08MuTGaOHnzG+7+6gBlmR24E9jO3Z8d/rvLh5ltBLzq7o+k/28C5nT3dwZ53aXA\n",
       "Se7+p/xLKdKfakbSyma6CoaZzQ/cRYzQ+k3gY8B+xJnrH1zR2swWJYLo48CimdvD6fktiFFoDwDW\n",
       "BRYBfjNIWQ4A7mjlIEpuAhZL/98BLDpYECU/BH6eQlek6VQzklZWeWHQo4iLrW5Svtox8GwaV+ox\n",
       "4vJMFwMrAv929ydqzPcA4Gfu/jsAM/syMMXMVnD3fheZTaOaTiCGxGgHJQB3fxd4uZ4XuPsTZvZP\n",
       "YkiNwYJZpOEURlIYM+sB9iCayxYH/gjsma4DWDntHMQQ6wdlggiIq4emi2E+kh5akbjqdbVljgDW\n",
       "Iq7rV379c2b2HFFLqnbF852BF939mcx8NgcmEbWv94lhPL7m7s+n5zcixqpZGfgncJi7n5eeW54Y\n",
       "0G99YlThC4CD3f3tak1rZnY0sLa7j0tXxz6JaKach6gp7uvuj5vZlFS8a8zsUODW7LzMbOn02o2B\n",
       "N4lro30vM2Df5cC+KIykAGqmk6L9mBgAbV2iae2yGtMtS1yZ/J5qT7r7HeXRW4kwmt3MrjezF83s\n",
       "JjNbKz23ADEOVeUFUl8ihuSoZnPg+vIdM1smlfMcYqTfzVL5DknPGzGY4B+J8X2OAs4ys0+a2YJE\n",
       "cL2W3vMuwJZEOA2kHBj7pOV9nhj75lX6wmPN9Hdn4gruH0hhfgOxA7ouUQPalfjsy64H1kxlFGkq\n",
       "1YykaEemK1RjZrsBfzOzVasMRVDujPDvOub50TT994nL848HbjKzlYhaDPQfd+dtYI4a81uDGDak\n",
       "bCQxxPap6f5zZnYxsFG6/zXgQXf/Qbr/t3S8aw5i9NH3gD1SM9oTZvZN4Eoz+34d720ZYsThZ919\n",
       "ahrQzgDc/ZU0kNx0d3+zYlC5TYClgHXcfTpAGk9nvsw0zxA1tTXJhK9IMyiMpGi3lf9x92fMbBqx\n",
       "x18ZRq+kv5U95Kr5LDC7u5eHiR9vZp8iRnU9KT1WGTxzEKPlVjMms3zc/W9m9l8zOziV9WPAKsTo\n",
       "ohA1s3uzM3D3EwDMbBfgoRREZXcSATfQkKTlY2enEqP5vmBmdxJNa2cN8Lrya1cEnikHUSrTFRVl\n",
       "7EmD0Y0ZZH4iDadmOila5civI+mrvWQ9DUyjRicCMzvNzPYEcPf3MkFU9iTRy2waUbNYrOL5xYhx\n",
       "l6rpIfNbMbOV0/xWJx2zIXrnlb1N7RFZ/1vluZGZv9XGdPlgpzF1yhgLbJfKcBBwj5l9uMrrynqJ\n",
       "Gk89RhLvV6SpFEZStPJxDsxsBaLZqN9ooe7+PnA+MbpodjhuUvPb7sDr6f6zZvb1zPMjiJrLk+lg\n",
       "/d3EcOPl5z9CNGHdWaOMLwHZUUL3BO5y9x3d/Wfu/mdiCPpyyDwFrFZRxvPN7EdEgHzCzD6UeXpd\n",
       "IgD+Sl9oZJvPliWFVGpa287dL3f38cQxqeWIYBzIU8AyZvbBfM1sbzO7LnN/BLBger8iTaVmOina\n",
       "EalL8XTgZ8ANA3TJnkQcvP+jmR0C/J0Is2OBG4GL0nSXAYea2d+JnmzfBuYHfpmePxk418z+QoTD\n",
       "KcBV7v50jeXeT2z0y54Htk1Nfy8DOwFfoK8H3y+A/c3sh8QJuRsQ3c7XBx4nRgs+y8x+THSaOAW4\n",
       "KB3zeYeoPf3QzE4gjvVsQl8T4ILA4WY2lQiYXYjmxcfT8/8BVjKzuyrew3Xp8zozfXaLEicPZ2t0\n",
       "HycC9cEan4NIblQzkqKdCZxBDE/+N2Yeerly6PdXgfWAh4hgeRQ4PM1jm0wX5YOAc4lhzx8gahYb\n",
       "l3vbuftlROeG44hjVi8SPctquYpMTYo47nQrceWGu4lA2QFY3szmTifGbkl0v36ECMNd3P0+d58B\n",
       "fI4Ig/tTOS8manakMu4BbEGcO7Up0UW87JjMe3sS+CKwRebqEccDRxDB/cHn5+49qUxzE8ezfg2c\n",
       "UT6WlXwa+HP2uJJIs2jYcSlMOs9oI3e/teiyDMTM5gaeBca5+6NFlycvZnYH8PPy+VAizaSakcgg\n",
       "Um3mp8QliDqSma1KHBe7oOiySHdSGInU56fAOmY2tuiC5GQSMD4154k0nZrpRESkcKoZiYhI4RRG\n",
       "IiJSOIWRiIgUTmEkIiKFUxiJiEjhFEYiIlK4/wdDhNVf2jhzhgAAAABJRU5ErkJggg==\n",
       "\">\n",
       "    </div>\n",
       "    \n",
       "    <div name=\"colorgreenerror0.002\" style=\"display:none\">\n",
       "      <img src=\"data:image/png;base64,iVBORw0KGgoAAAANSUhEUgAAAaMAAAFeCAYAAAAomXAzAAAABHNCSVQICAgIfAhkiAAAAAlwSFlz\n",
       "AAALEgAACxIB0t1+/AAAIABJREFUeJzt3Xm8JNPdx/FPzxBLGMswdhke/BKxxBIEwYgnQWKJneQR\n",
       "JDERW0SGrMYgGBF7EksIEVsQQeyC2GJfYv1JyJBYYpgRYmK99/njd9qt6dt9b9+5XV29fN+vV7/u\n",
       "7e7qqtPd1fWtc+pUnVJvby8iIiJFGlF0AURERBRGIiJSOIWRiIgUTmEkIiKFUxiJiEjhFEYiIlK4\n",
       "2QabwMxuATaoePhd4GXgWmCCu79W7wLNrAfYy91Pq3P6lYDJ7v75dH834CxgTnd/p97lDoeZHQqM\n",
       "d/fFBphmCnC+u38/57KcBnwJeAdYyd1fmIV53AK86O47Vzy+GbAfsAbwIeBJ4CR3P79iumuAz1XM\n",
       "9iV3XzwzzU7AROAjwCPAt9z9z0Mtq8zMzH4J/I+7j6vx/C3AX9396zmX40bgH+6+u5ltBNwEfNTd\n",
       "nzKzuYDzgM2AacQ68DOGud42SuU2pcY0XwQ2cPcDGrjcIW37hrGcKcAF7v69Bs6zB/iGu5/eqHlW\n",
       "qqdm1AvcAKyTuX0WOAXYBThzFpY7lJObtgNWz9z/A7BOs4IoY7Ayb0X84HJjZmsDXwcmA1sN4wfd\n",
       "S8X7MbPDgcuBZ4Ddge2Bu4FzzezHFa9fCTiKmdeJzTPz+izwG+D3wBeBfwHXmtlSs1hemdlA62K/\n",
       "7zbHMpSXcz+xDjyb7m8JbE3s2GxD7Nw0Yr1tlMptSjX7A4vksOxmfzeNsg7wuwbPcyaD1oyAEvCq\n",
       "u99T8fifzGwe4PtmNre7z2h88fpz91eAV5qxrAqlgZ5094ebUIb5099z3X3KMOYz03sxs88BPwB2\n",
       "dfffZJ66wcxeASaZ2fnu/piZLQgsAVxdZZ0o+yFwaXnPLO1FPwnsCxw0jHJLGHBdbDZ3fwPIrgvz\n",
       "p8fPgA/WLxj+ettsLfU5F2mA33rD1BNGA3kj/f3gSzOzLwCHAx8FXgB+6u4/rzWDNP33gFWJmtqD\n",
       "RNPfnal57JA0XQ8wDliGTDOdmZWAvYC903NTgGPc/ez0urHE3v7nge8AnyKaGI/MVjnN7LvAnsDi\n",
       "aR4nu/tMNZ3URPgjYDHgPqLp7on03BRS1ThNdzjwbeAnwGjgFmBvd39ugM9iOeAY4NPEd3MtcKC7\n",
       "v5D9LIBnzOxsd9+jyjymACcB6wGbErWSYwf6DoADgPsrgqjsOGAh+taVldPfR2u8h7mIvajdy4+5\n",
       "+/tmdjVRoz4oTfcF4DBiPZkOXAIc7O5v1ZjvFOBEYDVir/tN4MdE7euXxGf2NPGd/Dnzut2Bg4Gx\n",
       "6fmJ7n5J5vkliVre/wILAs8DZ7j7kZlpaq4b1ZpwzWxT4GpgrLs/l5rOHgU+DqwNTHL3yWb2sfT5\n",
       "fhr4L3ABcFD2MzCz7xHr9ijgbGBktc+nwpxmdgawI/Cf9PlMdPdeM7sCWMjd180s48PEb2J8tXXA\n",
       "zGYHjgb+Ly3/uIrnNyKa6T5G/JZ3TY/3AJOI5lqI9fac1LQ3H/Hb+CIwF/BHYN/y7yN9rpsQTbxf\n",
       "Am5z98/X+brPEC02PyK+s3uIJqYnqmxTNnL3Wyvezy2kQxNmtqO7j0j/fyote3Wi+fEM4DB37828\n",
       "dj9gH2KH7Sngh+5+VWb2i5nZ74jfwuvAL9z98PTa3YjtxnhiO7Ac8Hh6f3dklvEZ4rezCvBvohXi\n",
       "R+7+LlUMtF3JTLNL+lyWBu4Cfg2clXnvMzUxDrbumtliROvZhsAcwJ+J7XrNnfZ6OzCMMLORZjZb\n",
       "us1nZpsDBxJ7yG+mAmxKbBzuI6rqZwMnmtk3a3xInyKahu4kwmJXYD7gfDMbQXzZZxJf/DrAA1Vm\n",
       "8xPgeOD8tMzrgLPMbK+K6X5FNDduDtwBnJo+UMzs/4gfzNHERukS4OTMHh3AwsCEdPsS0Q5+Qeb5\n",
       "yqrxaOLLODy9LyNqGlV3AMxsaaJZbFHgq8A3iOaNcg30DCI0IH6Ih1ebTyrDIenvNkTV+hQz+0qN\n",
       "5ZaIkL+22vPu/qa7759ZiVYmdkJONrNpZvZvM/tl2qABLEus8H+rmNUU4sdV/nFcQmzANiU2GrsD\n",
       "h9Z4T2WHEj++LYGbiXC6ntggbU1sKH+deW97Ep/b74Et0rQXpSAkrWPXpnJ9LZXlBuAIM9skTVPP\n",
       "ulFPk8iexA9yG+ByM1scuBX4MBEaE4CdKsp/cHrPJwM7AMsT695AyysBOxPr547EjsnBxMaLNP91\n",
       "0vpWtmWa52U15nkS0cx2CLAb0SS9YZXpetNyjkn31yGCMLveHpY+9z8Qn/cB6T0tBtycWY8A1gKW\n",
       "Sss7Nq2r9bxuZWLbdFD6DJYmfv/Qf5vyYJX3sVd6vHx4AjNbhVhfp6b3MZn4ziaXX2RmE4Bjie3C\n",
       "FsR27Xdmlm0S/CHwV+ALwKVEq8PWmedHE9/35PS+e4l1dmRaxhapXE8R69IxwDeJQOqnju0KaVt+\n",
       "LvH72IpoxTiV/utZb5p+0HU3lWcpYtu3LTA3cFX67quqt2a0Q7plvQFcTHzpZYcB12cOnt6Q9qoO\n",
       "NbPT3P39inl8FPiNu08oP2Bm7xNf0lLu/qyZPQ+8W64mmhmZaRci2qUnuvtR6eEbzWxeYqXPHig8\n",
       "y92PTq+7hzgmsinwBFGLmJKpKd1mZm8B2abHEcD27v54mseiwM/MbN7UTFFpTmA3d/9tmv4p4C/E\n",
       "inxxlekPAHqAz7r7fzLldOCr7n6imXma9sEBalgl4J/uvl26f11aIQ8Czqky/ULA7EDNGluFVYB5\n",
       "iRrElsQP/whiJ2J7Yg8e+mrNZO7Pnf5fk+ggcay7vwTcamZvM/j66O6+L4CZPUP8AG5395+kx34M\n",
       "/CbtPb9BrI+nu/t30+tvMLPRRJD/AViSvhrBX9M8biaOKawH3Eh960Y9zTkvZTu3mNkxwPvAZpmd\n",
       "ueeI9XcVoib1HeAEd5+cnr+JCPXB/Av4Qjqueo2ZzQ/sa2aHpff9b+KzK4fGzsAV5XJkWTTLfg3Y\n",
       "z91PTY/dTd/xoZm4+zOpFkvmNzvTeps2fusRx37L09xCrINfI3YyINaH/d396TRNva8bBWzr7k+l\n",
       "aRYBTjOzBdz9+cptSpX38ISZvcHMhyd+SOxgbZNqQteZ2ZvAL9J3OY0I/ZPdvVwTvMnMVgTWp29H\n",
       "+jJ3PziV60/EuvZpYocJYruxl7tfn6bpIXawVyEC8jDgBncvtzzcYGbTgF+b2Y/d/S8Vb2fA7Ur6\n",
       "zH4AXOnu+2XmuSRRQajmWwyw7qYyrAsc6u5Xp+fLx6LnJda/fuoNo+tSgUtEM8NPiI37Bz1N0p7J\n",
       "GsABFXv/1xNf5ErATFU0d/8V8KsUHh8jwmmr9PSH6ijX2uk9VG7cfwvskeZX3mjcnVnuDDObTiQ7\n",
       "RMrvmb6k3xI/zCMq5vlGOYiS8o+xvOGr9D6xF11e5mPpC1mvSnkhVtjryitMes3fzeze9NyJVV5T\n",
       "TW96D1lXANuZ2XzuXrkilHcQ6mn+AfgpcLa735nu325mU4HfmtnH6attV9t7Lz92D/A2cLeZnQ9c\n",
       "SfREHOzA/N2Z+y+nv9na8rT0dz6ieWYMsdHIro/XAV82s/lToG+cav1G1F5XJ8K5vP7Vs27U46mK\n",
       "+xsSNfS3MuW7nWjyGEf0WB0NXFN+QWqWvoaofdbSS7RWZDv4/IHYGVnZ3R8ws0tIYWRmCxBNRtv1\n",
       "nxUQv7GRFeV42czurDF9PTYkvqv7M+/9TeL7HUffuv4e0cQ+1Ne9Xg6i5Pn098NEk/Cslvk8YGRm\n",
       "h/h6Yl1Zj/h+FyQ+6w94/16Pd2ae600b8fkqpsmu5x+UPdVkViGa8bIuJnY01yd2eLMG2q6sZ2an\n",
       "Et9xZe/LS4jaWzWDrbt/AW4jKgQrE7/vq939BzXmB9TfTDfd3R9w9/vTsYfxwP4WbellCxBhdQLR\n",
       "fbN8u5X4gfTrFm1m85jZhcQKcivRg6Wsnr3NBdLff1U8Xt5Qjco89t+KaXpI79+j6/Ie6f4xwJNm\n",
       "dntqTiqr7KDRk/7W+gynuntP5WP0dUKoND/930f5NfPWeE0tL1aZB/R9Xh9w92nEcYWaPd3MbInM\n",
       "9J4JorIb0t+V6NvrmadimnnTcnD3Z4jjAY8Re263E8cTNqtVhqRa6NfqODM6/b2MmdfHc4n1cVH4\n",
       "oCnvJaKGfBLRFPYuaf2rc92ox8sV90cTteR3M2V7i9gzXoy+9aSys07lfKqpXI/K3395o/cb4BNm\n",
       "tjzRhPIGmbCpUF5nKstRbV2t12hiw5197+8Q68SimelerdhBqfd11X7rMLzzKkcTNYLscp+jb9u2\n",
       "YJpuatVX96lcX3urlCtb/mzZ5yfWy5k+e3d/mzj+lN3elQ20XRlFfL8jqpR7oO93sHUXovnuVOK7\n",
       "uQD4l5kdn5paq5qlDgzu/hsz2xWYaGYXp2p0eSP0Pfo2TmUl+h9DgL4D7RsBf04Hujcj3mg9yns5\n",
       "izDzhqrcJXMadfLo8HB2an7bmqgOn0I05c2Kfhv+VK7ba0w/nZl/UNnX/H2Iyx5dcX8MsdLX6oX4\n",
       "R2LvuN+ei5nNDbiZ/czdDzazHYDnswdUiZUQImyeIX5AywL3ZqZZhmgaACC9fvM0/03Tsi80s4Vq\n",
       "HYgdovK5b7vRv7NFCZhiZhsCvyCaV84o1xrN7KXsxIOsG730r1VWBnE15U4bR1cp278y8xhT8fyC\n",
       "DK5ymvI8yhucW4kN6ReJ397FVZrQy8q/oTGknYlkNH177UP1GtHcWFkbK1F752I4r5sVlbX06cRx\n",
       "6cqm7hLxWZa3OQtlnzSz1YgmwaodfqosZyD/TtPP1OXczOYkdjSqbe8G265MJWqglevZwgOUY7B1\n",
       "F3efTlQu9jezNYkduv2JWt+F1WZa73lG1RxAVFGPTgt/g+j5MjbVoh5w9weINzmR6s1unwIud/fb\n",
       "Mz+G/60oW60fCURzz7v0P561A/Eh/3WA137AzH5tZhen9/FSahu/lOgRM6vmMLONM8tYhdgg31xj\n",
       "+juAz6Umy/JrliGaPodysmiJzDk/ydbAfZmqeuV3egqwhkWPmkoHE72Wyk1/3yQO0mZtQzS73evR\n",
       "xf8u+ppbSVX5zUnv3cy+YWbPmNls7j7D3X9H1Drmpfre3ax4kvhxLlaxPq6S3lMPcXD6LXc/NhNE\n",
       "qxDrbLkX0WDrxn+ABVKolq1fR/nuJJqmH8qU7QXgSGA5d3+SqLFtW36BxUHsTRi8A8MmNvOB4m2I\n",
       "HZHH0/voJTasOxBhdD61/Zn4jWXLMT/pwP4suoNoRp2aee8PEtuUz+TwukoDbVPKepi5deZOYIWK\n",
       "del94njpwsSO1mv0P85yBnFce9jSNvYv9N/ebZ/+VttODLhdSdvdmX6vSa0mOhhk3TWzRczsn5Y6\n",
       "Zrj7fUSP0P8ywDa13vOM+lWt0jGQc4DdzWwdd7+L6MZ5kZn9h+ilNJboFXKfu1ervt4L7GBmdxCJ\n",
       "uiVxMBX69gxfAxZMBy9n+rDdfaqZ/YyooY0gUnczYm94/9QmO9D7KrsZODMd4L0J+B+iTf3kWi8e\n",
       "ZH5lZ1v0iHqP6D58t7vXag45PpX7ejM7mqhtHAb8k76eQPVaz6Jr7yXE3vvWxGebLesH5XX3P5rZ\n",
       "z4FzLHo4Xk2sG9sQvWGOcPf70+THAH8wszOJ6vdqRI+v49293IQ0megx9hLRCeAb9PUuhOjmfjxR\n",
       "EzqV+K5/SHRGeLXGexrSOR/u/p6ZHUn0jJud+FGuSnQHPzcdf7kXmMvMfkK09a+QyvEafevfYOvG\n",
       "tcQx1NPTZ7Iu0UQxWPmPB74C/N6io83sxE7bwvQdW51EdJJ5hVj3v040g1TtPJCxFHCexdUa1ie6\n",
       "Gh9Y0Wx8LvBd4Fl3r1Vbx93/bWbHEb2+3iM2ugen8s6qK4km2mstTrZ+hXhvWxNNO41+XaXpZLYp\n",
       "aS++2jSrmNlG7n4LsaG9zczOAi4iap8/JnZGPLXqHEMcJ3md+L62B1Ykc5pDFUM9l+lQ4DIzO5v4\n",
       "/RnRIed37v5IlXnWs105gujociJwFdFKsi19TYSVBlx33X26mT0NnJB20l4kfjMj0/yrqrdmVGtP\n",
       "7EdE2h0DkPZwdyL23q4ifkznU/vg6IHEga5fEAfh5gM+QXzBa6dpLiRWwEuJWlNleQ5My/kacaD+\n",
       "M8Du7n6Kmc1BfFEloovl7y26JZKdR+pIcSCxEbmG6MJ6Cn1djWt9Br01/i/7NvHZnE5sDGseE0kH\n",
       "0z9NVMXPI67mcC+wbvbgY43lVJbpRGLjfxnxXWzvM5/r0O/9uPs+xGe4BnFM4Vxi47xjpncQqXfM\n",
       "tsT3dDlRUzrCMz3F3P1KoqfOVkQgLgRs6u7/SM8/STQRLZXKeCbwEJm97xrvqx7Z7/U44jv4MvG9\n",
       "7kfU6vZOz99EX/ffa4mNxh7Ej3ztNM2A64a7P0YcQ12PWOfXT8urXDcqP+8p9J2DcVH6DKYA48ob\n",
       "R49zOvYldgguJZqiflHH+/85UZu5Ir2fA939pIrlP0FskC7oN4f+vk+0gEwgfs8P0L8beNVuwNXu\n",
       "u/t7xAbvbuKz/D2xLmyRCcZqn9ksva5KeS5i5m1KNScQTe1/MLMl3P3utGwj3vsJxLbrf8utOh69\n",
       "db9LrEdXEDs/m2VCoprBPreZHnP3y4mdxFWJ39+BxI7RzjWmH3S74tFzbw+i9eJy+nbaqjZ91rPu\n",
       "Er+XO4hzka4mthdbpN9+VaVOHnbczI4g9lS3IXrdnArM7+4DbfQasdzdyJww1kxm9nfgV+5+2KAT\n",
       "S9eyOMfuMeBj7u6DTS+dKzWnPZkNitSq8Dl3X6NZ5RjuFRha3SHAh9z9LYvzS+Zj8N4u7U6XMJGa\n",
       "zGwFYi96J+J8FQWRbAkcl3pHv0ScB7g/fScrN0Xbh1E6qFut63OPu79O9IWfSATT81Q/czwPRVU5\n",
       "O7eqK40wkuiiPIX+56tId/oW0Xx9PHEs7GngAM/xCt3VtH0zncVlW66v8tQUd182TTMHUWM4mmgX\n",
       "XTG1P4uISAto+zAaitSr6j/A2u7+0ADTzQF8kugFUk83UBGReowkekTem05WlaTtm+kGkrph3pPO\n",
       "DYHogjiCvhMia/kk0VNGRCQPn6b2CfBdqaPDiOgCOiFdz2sq0eX5Vh98TJXy5XQ+TXR/FRFphCWJ\n",
       "Hd3KS3Z1vY4OI3c/zczGEP3dP0RcJHP7gV8F9DXN/bOO4BIRqUvmJHw1/1fo6DAC8Bi4qtbYPyIi\n",
       "0gKaflKmiIhIJYWRiIgUTmEkIiKFUxiJiEjhFEYiIlI4hZGIiBROYSQiIoVTGImISOEURiIiUjiF\n",
       "kYiIFE5hJCIihVMYiYhI4RRGIiJSOIWRiIgUTmEkIiKFUxiJiEjhFEYiIlI4hZGIiBROYSQiIoVT\n",
       "GImISOEURiIiUjiFkYiIFE5hJCIihVMYiYhI4RRGIiJSOIWRiIgUTmEkIiKFUxiJiEjhFEYiIlI4\n",
       "hZGIiBSua8LIzPYws6lFl0NERPrrijAys2WB44DeossiIiL9dXwYmdlI4NfAqUCp4OKIiEgVsxVd\n",
       "gOFKYTNvlad63P114LvAI8A1wFebWTYREalPJ9SMxgHTqtweMrM1gC8BB6JakUjHK5VKi5ZKpe+X\n",
       "SqXliy6LDE3b14zc/UaqhKqZzQncB3zN3WeYWdPLJiLNUyqVlgBuAZYDVgB2K7I8MjRtH0YD+CSw\n",
       "DHBVCqLZgLnNbBqwirv/s8jCiUjjVATRO8A5hRZIhqxjw8jdbwM+XL5vZhsCl7j7wsWVSkQarUoQ\n",
       "bdPb23tzoYWSIeuEY0b1KqGu3SIdpUYQXVVooWSWdGzNqJK73wKMKbocItIYCqLO0k01IxHpEAqi\n",
       "zqMwEpG2oiDqTAojEWkbCqLOpTASkbagIOpsCiMRaXkKos6nMBKRlqYg6g4KIxFpWQqi7qEwEpGW\n",
       "pCDqLgojEWk5CqLuozASkZaiIOpOCiMRaRkKou6lMBKRlqAg6m4KIxEpnIJIFEYiUigFkYDCSEQK\n",
       "pCCSMoWRiBRCQSRZCiMRaToFkVRSGIlIUymIpBqFkYg0jYJIalEYiUhTKIhkIAojEcmdgkgGozAS\n",
       "kVwpiKQeCiMRyY2CSOqlMBKRXCiIZCgURiLScAoiGSqFkUgNpUmlUaVJpV+VJpXGZB4bkx4bVWTZ\n",
       "WpmCSGbFbEUXQKSFnQjsBqxVmlQalx67GVgx/b97EYVqZQoimVUKI5HaDgbWIsLn0fTYwsDj6TnJ\n",
       "UBDJcKiZTqSG3om9LwPjgKlECC2c/h+XnpNEQSTDpTASkWFREEkjdHwznZk9CiwD9KSHprj7ygUW\n",
       "SdpE6rhwM301ItL/N5cmlVQ7QkEkjdPRYWRmcwEGjHH36UWXR9rOZOJ40eNEcx30dWCYTJd3YFAQ\n",
       "SSN1dBgBKwMvKYhkFu2f/h5crgWlXnWTM891JQWRNFrbh5GZjQTmrfJUD7Aa8K6Z3Un8aB4E9nf3\n",
       "J5tYRGlTvRN7X6ei9pNCSTUiBZE0WCd0YBgHTKtyewjoBe4BdgKWBu4DrjazOYspqkh7UxBJXtq+\n",
       "ZuTuNzJwqJ6e+f8HZrY3sCpwd64FE+kwCiLJUyfUjGoys/Fm9pnM/dmA2YG3iiuVSPtREEne2r5m\n",
       "NIgxwL5mtinwKnHg+Ql3f7jYYom0DwWRNEOnh9GRwCjiuNE8xA9qqyILJNJOFETSLB0dRu7+PjAh\n",
       "3URkCBRE0kwdfcxIRGaNgkiaTWEkIjNREEkRFEYi8gEFkRRFYSQigIJIiqUwEhEFkRROYSTS5RRE\n",
       "0goURiJdTEEkrUJhJNKlFETSShRGIl1IQSStRmEk0mUURNKKFEYiXURBJK1KYSTSJRRE0soURiIN\n",
       "VppUGlWaVPpVaVJpTOaxMemxUYWUSUEkLa6jr9otUpATgd2AtUqTSuPSYzcDK6b/d29mYRRE0g4U\n",
       "RiKNdzCwFhE+j6bHFgYeT881jYJI2oWa6UQarHdi78vAOGAqEUILp//HpeeaQkEk7URhJNKBFETS\n",
       "bhRGIg2WOi7cTF+NqFxDujnbqSG35SuIpA0pjEQabzJxvOhxYKV0ezw9NjnPBSuIpF01pQODmS0I\n",
       "rAmMAXqAl4AH3X16M5Yv0mT7p78Hl48RpV51kzPPNZyCSNpZbmFkZrMDOwL7EkH0DjAdGAksCJTM\n",
       "7M/AqcAF7t6TV1lEmql3Yu/rVHTfTqGUW5duBZG0u1ya6cxsQ+Ah4P+AcwADPuzui7v7IsAcwGrA\n",
       "BcA3gSfNbFyt+YlIbQoi6QR51Yz2A7Zz9yeqPZlqQY+k28/NbFVgEnHQV0TqpCCSTpFLGLn7tkOc\n",
       "/mFg6zzKItKpFETSSZrVgWEhYIa7zzCzNYDNgfvd/epmLF+k0yiIpNPk3rXbzLYG/gmsa2bLET+g\n",
       "nYCLzWzfvJcv0mkURNKJmnGe0eHAIe5+I/BV4B/u/nEikL7VhOWLdAwFkXSqZoTR8kSvOYAtgMvT\n",
       "/48ASzRh+SIdQUEknawZYfQCsLqZrU6cgV7+8WwOPNuE5Yu0PQWRdLpmdGD4CXBx+v9ud7/dzCYB\n",
       "PwDGN2H5Im1NQSTdIPcwcvdfmNldwFjg2vTwrcAN7n573ss3sy8CRwGLA48B4939L3kvV6QRFETS\n",
       "LZpyoVR3fxD4O7CNme0EvNCkIFoNOBPYw91HAZfRV0sTaWkKIukmudeMzGwRIgTWAaYR16abz8xu\n",
       "ALZ399dzXPx44HR3vzPdPw64wcxK7t6b43I7VmlSaRQxrHb2IqBjSBcBTddlk2FSEEm3acYxo9OB\n",
       "94Dl3P0ZADNbATgbOAXYdTgzN7ORwLxVnuohrn/3BzP7I7AK8CCwt4JoWE4EdgPWSleihriM04rp\n",
       "/9wuBtotFETSjZrRTPcZYJ9yEAG4+1PA3sBWDZj/OKLGVXl7mLg6+F7ABKIb+f3AFSnAZNYcTN/Y\n",
       "PI+mW3nsnoMLLFdHUBBJt2pGzegF4CNAZaeBBYBXhjvzdDJt1VA1s0eBS939gXT/R8C3iauIPz7c\n",
       "ZXej3om9L6ca0aPE6KUQI5mOKzfbFaETmg8VRNLNmhFGRwKnmtnSwG1Ek92awBHAmWa2QXlCd7+1\n",
       "wct2YM7M/RFAKd26VidsuKto6+ZDBZF0u2aE0Vnp78lVnpuYbmWNbjY8G/i1mZ1HjK90BODu/liD\n",
       "l9NuZnnDnULrZqJWNDU9vDBwc2lSqcja0cHAWvQ1H5bL1fLNhwoikeacZ9SU7uM1ln2lme1DDPC3\n",
       "JHHMSENVDG/DPZm+Y0SVQTaZgmogrdp8OBgFkUjIJYzM7EPu/k75/4GmLU+XF3c/Dzgvz2W0m2Fu\n",
       "uPdPf7NNfONITXx5lLdTKYhE+uRVM3rLzBZ195eBtwaYrpc470jaRDqetHvFYy9XPtZsLdx8WJWC\n",
       "SGRmeYXRxsD0zP+16HyfArTbhrtOLdl8WI2CSKS/vIYdvyVzdwPgp+7+ZnYaMxsFTAL+lEcZut0g\n",
       "PeZmp0023EPQFs2HCiKR6vI6ZrQysBjRhfpQwM1sesVkKxGX6zkgjzLIgD3mziN6Grb0hnsoWrX5\n",
       "MEtBJFJbXs10o+m7Qjf0Da6X9R9ieAnJx0A95r5d2RTXahvuTqMgEhlYns10IwDMbAqwprsP+2oL\n",
       "Ur+h9pjr0BNhW4KCSGRweTXTfcTdnwVw97F1vmasu0/JozxSl7a+gkGrUhCJ1CevE1IvMbMTzGzZ\n",
       "wSY0s5XM7OfA73IqS1eq0mNuKn095sZUeYkugNpgCiKR+uV1zGhdomPC3Wb2InA9McrqK0QALgR8\n",
       "guhptzjwU9r0wHkLG1JX53a9gkGrUhCJDE1ex4zeBY4xs5OBnYHNgW2BMcQ4Qy8Rl+Y5lriq9ow8\n",
       "ytHl2qKrcydSEIkMXam3V+edVjKzscQw6ct0y3GsTLPeisx8IuzjqHZUNwWRDKQbty31KuwiptJy\n",
       "ss16K6Vb+RjS5ALL1TYURCKzrhlDSEh7ULPeMCiIRIZHYSRAe1zBoFUpiESGT810IsOgIBJpjFxr\n",
       "Rma2AtHNewlgDmAG8Dxwp7s/neeyRYZiVq5AoSASaZy8rsAwGvgN8DngOaIr99tEIC0GLGVmVwG7\n",
       "unvlBVRU2SPkAAAaVklEQVRFijCkK1AoiEQaK6+a0anAh4Gx7v5c5ZNm9hEirE4DdsipDCJDUfdQ\n",
       "7AoikcbL65jRZsA+1YIIIF23bh9g05yWLzIkqWluHH2XTSpfRmmmc6wURCL5yCuMXiV+rAP5KPBG\n",
       "TssXaTgFkUh+8mqmOxI4x8zWIkZyfQF4i75jRhsQ5658P6fliwzJYEOxcyizoyASyU1e16Y7zcxe\n",
       "IC6Wug8wd+bp/wJ3A//n7pflsXyRWVD7wrJTORlYHQWRSG5y69rt7lcCV5rZCGABIpBmANPcXRfE\n",
       "k2Fr8ICA1a9AMZWT+TlrAsuiIBLJTV5du1cHHnb39929B3jVzOYF9gMWM7MngV+6u0YPleFo2ICA\n",
       "1a5AkZrmVkdBJJK7vDow3AeMLt9Jx44eBb4IzA/sCTxlZitWf7k0S2lSaVRpUulX2QH3SpNKY9Jj\n",
       "o4osWx1yGxBQnRVEmqtZ16Y7GjjP3ccDpKa7U4GTgE2aVAZJss1bRJPWbsCnSpNKDwI/AK6kDYYb\n",
       "z2tAQAWRSPM169p0HyNOcAUgNd0dR1wqSJqv3Lx1M/ATwAEDdiJG5O3a4cYVRCLFyDOMRmf+f4S+\n",
       "PdeyJYnzkaT5ss1btzDzdzUnbTLceJXu2OUTVm/ONjvWPT8FkUhh8gqj6cBjZjbdzO4iNna/MLO5\n",
       "AMzs68A5wHk5LV8GUOVqAwsB7djDsWEDAiqIRIqVSxi5+2hgcWBb4hp0dwNTgHfTJD8ELgYOyWP5\n",
       "MktKwCsMs3Yx0wzz7xyxP3A2qRaXCdmzGcKAgAoikeLleZ7RS8TVum+q8txH8lpulpldA6yfeWgE\n",
       "MBewrrvf1YwytKKK5q23iKY5iGbTbYgdhXLtYjgdGBrW9bqaRgwIqCASaQ25hZGZjSQ2bNdlzycy\n",
       "sz2B14GL8j751d03qyjT2cDIbg6iJNu8tQXwY2A1ohPDBKJ20Yjhxuu+EnYRFEQirSOvk14/DFwB\n",
       "bJhud2SeXoPYc93VzLZx97fyKEOVMm0NbEz07Ot2lVcb2LnKlQuG3aU7r67XjaAgEmktedWMvkf0\n",
       "lvu4u3v2CXcfb2YnA1cTe8eThrOgVAObt8pTPeUamZnNRnQlP9Dd3xzO8jpBI5q32pmCSKT15NWb\n",
       "bifggMogKnP3R4HvALs0YFnjgGlVbg9lptkRmOHuFzdgeV1pVjojNLrrdSMoiERaU141o8WJkycH\n",
       "ch+w1HAX5O43Mnio7g6cPtxldblZ6YxQ+0rYw+8cMWQKIpHWlVcY/RNYHnh2gGmWAf6V0/I/kC7Q\n",
       "ugHw5byX1eFmpTNC9SthN6ZzxJAoiERaW15hdCkw0cxuc/e3K580szmBw4jjRnlbE3ghdTWXWTQr\n",
       "nRFa5diUgkik9eUVRkcBdwH3p84K9wD/JsY1WhvYNy17WJ0X6vQRYqRZ6UIKIpH2kNcVGF4nLoJ6\n",
       "G3AMcD/wN+BeokZ0A7COu+fevdfdz3Z3XZB1mFqxM8JgFEQi7SPPKzC8BuxlZt8iBidbgLjczNPu\n",
       "/n5ey5XctFRnhMEoiETaS+7jGaVjRk/kvRzJXct0RhiMgkik/eR1BYYLiKtAlwaZtNfdG3GukeSs\n",
       "VTojDEZBJNKe8qoZvU2dYZTT8qVA2ZFkM7WoyssNNX65CiKRtpVLGLn7bnnMV9pGrlfrrkZBJNLe\n",
       "cj9mVGZmqxKDn70PPOzuOo7UuZp6tW4FkUj7yz2MzGwR4DJgHeKacSOB+czsBmD77PAS0hmaebVu\n",
       "BZFIZ8jrQqlZpwPvAcu5+0LuvgDwUeJK26c0YfnSoRREIp2jGWH0GWAfd3+m/IC7PwXsDWzVhOVL\n",
       "kzXjBFkFkUhnaUYYvUBckqdS+SRY6TzZE2RXSrfH6TtBdlgURCKdpxkdGI4ETjWzpYnLA71HXLz0\n",
       "COBMM9ugPKG739qE8kj+cjtBVkEk0pmaEUZnpb8nV3luYrqVNaOmJjnL6wRZBZFI52rG5YAUMDJs\n",
       "CiKRzqagkJanIBLpfAojaWkKIpHuoDCSlqUgEukeCiNpSQoike6iMJKWoyAS6T4KI2kpCiKR7qQw\n",
       "kpahIBLpXgojaQkKIpHupjCSwimIRERhJIVSEIkIKIykQAoiESlTGEkhFEQikqUwkqZTEIlIJYWR\n",
       "NJWCSESqURhJ0yiIRKQWhZE0hYJIRAaiMJLcKYhEZDDNGHa8MGY2EjgW2AmYE7gb2Mvd/15owbqI\n",
       "gkhE6tHpNaOvAJ8HPgEsBPwN+GWhJeoiCiIRqVenh9HrxHucDRgJ9AAzCi1Rl1AQichQtH0zXWqK\n",
       "m7fKUz3ufomZbQH8A3gfeAFYr5nl60YKIhEZqk6oGY0DplW5PWRm3wHWBpYH5geuAy4qqJxdQUEk\n",
       "IrOi7WtG7n4jNULVzB4Ejnb3p9P9/YA3zOzj7v5YE4vZFRREIjKrOqFmNJC3iF50ZT3p9l4xxelc\n",
       "CiIRGY62rxkN4kJggpldC7wIHAU84u5ebLE6i4JIRIar08PoJKJzwy3APMBtwNZFFqjTKIhEpBE6\n",
       "OozcvRc4It2kwRREItIonX7MSHKiIBKRRlIYyZApiESk0RRGMiQKIhHJg8JI6qYgEpG8KIykLgoi\n",
       "EcmTwkgGpSASkbwpjGRACiIRaQaFkdSkIBKRZlEYSVUKIhFpJoWR9KMgEpFmUxjJTBREIlIEhZF8\n",
       "QEEkIkVRGAmgIBKRYimMREEkIoVTGHU5BZGItAKFURdTEIlIq1AYdSkFkYi0EoVRF1IQiUirURh1\n",
       "GQWRiLQihVEXURCJSKtSGHUJBZGItDKFURdQEIlIq1MYdTgFkYi0A4VRB1MQiUi7UBh1KAWRiLQT\n",
       "hVEHUhCJSLtRGHUYBZGItCOFUQdREIlIu1IYdQgFkYi0s9mKLkCezGw24FBgN2BO4DLgW+7+ZoHF\n",
       "ajgFkYi0u06vGX0b2AXYGFgamAc4q9ASNZiCSEQ6QaeH0TbA0e7+lLvPAL4PbGNmowouV0MoiESk\n",
       "U7R9M52ZjQTmrfJUDzAS+G/msd702LLAQ/mXLj8KIhHpJJ1QMxoHTKtyexi4AviOmY01s3mAw4iQ\n",
       "mrOgsjaEgkgkmNnSZvaGmc1V5bknzWzDYc5/NzO7dzjzkPq0fc3I3W+kRqia2ezAfMDtwAzgGGAH\n",
       "4LWmFTAfJ6MgEsHdn6N6ywhES0hvE4sjw9D2YTSIJYBj3f07AGa2BvAu8FShpRq+u4BVgX17e3uv\n",
       "Lrow0h1KpdKHgKWatLh/9Pb2vjPYRGY2FniG6Jy0BfBjYAzwG2D2zHQLAicCnyV2TE9198npudHA\n",
       "ScC66bV/A/Zy9zsb+H5kEJ0eRl8GNjKzLYm9p58Cv3T3nmKLNTy9vb3HELU8kaZIQeTA2CYtckqp\n",
       "VLJ6AilZjugpuwXwJ+Ag4thw2bnAVKL8Y4A/mNm/3P1s4rfUA3w0/T0BOBrYYPhvQ+rV6WH0E+B/\n",
       "gOeIlew8YEKhJRKRPOwKXOvuNwGY2dHAPun/RYFNgYXd/b/As2Z2LLAncDbRy3YGsY0YC/ybaFWR\n",
       "JuroMHL3t4Hdiy6HSLvr7e19p1QqGS3WTJexAPB8+Y6795rZs+nu0kAJeNrMypOMAF5N/y9BNOF9\n",
       "DHiS6ABVmvWiy6zo6DASkcZJ4fB00eWo4VlgjYrHFk9/XwTeA8a4+7sAZjYfcZwJ4ELgF+5+fHpu\n",
       "V2Dl3EssM1EYiUgnuAw4yMw2B64nmuiWBnD3f5jZbcAxZvY9YG7gt0RN6ivE8eQZAGb2MeJ40+z9\n",
       "liC56oTzjESku/USNbYdgGOJUzfWBrLnB+0MLAJMIXrTPg/snZ7bE5hgZq8Sp01MABYyswVQ9/Cm\n",
       "KfX26nOulLqL/h1Yxt2nFFsaEekU2rbUppqRiIgUTmEkIiKFUxiJiEjhFEYiIlI4hZGIiBROYSQi\n",
       "IoVTGImISOEURiIiUjiFkYh0HTNb0sxGFl0O6aMwEpGGK00qLVxxv1T5WFHMbBHi6txzDHM+Y82s\n",
       "x8zmbkzJupvCSEQaqjSp9C3AS5NKa6T7JWIE1odKk0orFFq4MBdxsVQNE9FCdNVuEWmY0qTSCGKE\n",
       "1AWAG0uTSpsA2wLfA94nxgx6qpHLNLOdgO8Ay6SHfuvue5nZUsDPU3neAH6ahom4P033opltAHwL\n",
       "mOruE9L8vgCc7O7LmNkIYBKwHTHu0WvAEe5+eiPfg6hmJCIN1DuxtwfYiRjSYX7gPvqCaMfeib2X\n",
       "N3J56cKjZwDfcPfRwPrALma2MXAxcXXuRYANiSEmNgFWTy9f1N0fYuArc38J+CKwobuPAr4LnKCm\n",
       "ucZTGIlIQ/VO7H2HCKSsY3on9l6aw+KeB1Zy9/vMbDQwGphOhNJawAR3f8vdnwbGAQ9RvXmuVpPd\n",
       "74HPAFPNbEngbWBOYMHGvg1RGIlIQ6VjRIdWPLxX+RhSg70H7GlmLwJ3AfsSA+O9DfzH3d8oT+ju\n",
       "T7r7K0Oc/4eIMY5eAa4EvpAe17azwfSBikjDZDorlJvmdqavye7GHAJpZ2JQvVXdfXl33xF4iwik\n",
       "ecxsVHlCM9vRzD5XZR7vE6FTNjrz/1Hp72LuvhowsaGllw8ojESkkUrAwvQdI7qQvmNIcwCjBnjt\n",
       "rJgXeBd4x8zmMLODiI4MLwG3AUelx5cHjkvTvp1eO1/6+xQwzsxGmdkY4Bv0HUOaN03/fmoGPDY9\n",
       "rmHJG0xhJCINkzowjAfWKR8jyhxDWq93Yu/NDV7kOcCjxHDijxDhcQbw0bTMxYjjSjcCk9z9Jnd/\n",
       "Ebga+KuZbQScRgxbPgX4E3BhZv6HAMsBrwI3EMeQHiN6BYKGJG8YDTtehYYGFpE8aNtSm2pGIiJS\n",
       "OIWRiIgUTmEkIiKFUxiJiEjhFEYiIlI4hZGIiBROYSQiIoXrqCEkzOxE4J3ypeDTY5sAJwBjgQeA\n",
       "r7r7X4spoYiIVNMRNSMzG21mZxMXSezNPL4IcClwMOnaWMRlSUREpIV0RBgR16B6hwie7KXgtwEe\n",
       "dPer3P094AhgcTP7ZAFlFBGRGtqimc7MRhLXnKrU4+6vAxu7+0tm9quK5z8KPF6+4+49ZvZ0evze\n",
       "3AosIiJD0i41o3HAtCq3hwDc/aUar5sb+G/FYzOAufIppoiIzIq2qBm5+43MWnBWC565gf8M8rqR\n",
       "6e+SZjYLixURqWrJ9HfkgFN1obYIo2F4Ati+fCc19y1HpumuhsXS39tyKpeIdLfFiGErJOm0MKoc\n",
       "x/4yYLKZfRG4ihh98h/u/tAg87kX+DTwIjFImIhII4wkgkjHrCt0Whj1kuna7e7/MrOtiPOMzgEe\n",
       "JHrYDcjd3wZuz6uQItLVVCOqQoPriYhI4dqlN52IiHQwhZGIiBROYSQiIoVTGImISOEURiIiUrhO\n",
       "69rdMO0wHIWZzQYcCuwGzEmcV/Utd3+zqDKVpROMjwV2Isp2N7CXu/+90IIlZnYNsH7moRHE1TrW\n",
       "dfe7iinVzNL5cUcBiwOPAePd/S/FlqqPmT0KLAP0pIemuPvKBRapKjPbA5js7gsXXZYyM5sDOB7Y\n",
       "DvgQcAvwTXd/ochyFUk1owptNhzFt4FdgI2BpYF5gLMKLVGfrwCfBz4BLAT8DfhloSXKcPfN3H3e\n",
       "8g24GDivhYJoNeBMYA93H0WsaxcXW6o+ZjYXYMCSmc+xFYNoWeA4Mr/lFvEj4oLNKwALA68CJxda\n",
       "ooIpjPprp+EotgGOdven3H0G8H1gGzMbVWCZyl4n1q/ZiLPOe4hrBbYcM9uaCPRvFF2WjPHA6e5+\n",
       "Z7p/HLCTmVVeZaQoKwMvufv0ogtSS6qd/xo4lf5XZynaIcDm7v4aMAqYD5habJGK1XXNdO02HMVA\n",
       "5SU28tmrkvemx5YlXdE8T4N8lpeY2RbAP4hLKr0ArJd3mYZQvtfTNLMRG/oDm928Och3uxrwBzP7\n",
       "I7AKcfWQvd29aXv4dZTvXTO7k7je44PA/u7+ZCuUL32/3wUeAa4BvtqscpXVUb63zGwiEUzPAxs2\n",
       "s3ytphtrRu02HEWt8j4MXAF8x8zGmtk8wGHEhmLOnMs0WNkeMrPvAGsDyxPNmtcBFzWpXIOWLzPN\n",
       "jsAMdy+iCWyg73ZBYC9gArAEcD9wRdrAFV2+h4gdn3uIY4JLA/cBV5tZs9a9ActnZmsAXwIOpLha\n",
       "UT3r39HAh4HfAdelnaOu1HVvvIDhKIZloPKa2exE9f72VL5jgB2A1/IsU51le5BoQnw63d8PeMPM\n",
       "Pu7ujxVdvozdgdObUJx+Bvn8HgUudfcH0v0fEccIjcGvOp97+ZLs5/YDM9sbWJXorJK7WuVLgXgf\n",
       "8DV3n1HUMDD1rH/pOpiY2QRi52MlmtCq0Yq6sWY0q54gNgTAkIajyNMSwLHuvqS7r0A0lbwLPFVg\n",
       "mcreYuYaWk+6vVdMcfozs3mBDYDfFl2WKpyZP78RxB5+Sxz7MLPxZvaZzP3ZgNmJ771onyR6+V1l\n",
       "ZtOBK4EFzWyamS058Eubw8zOMrPsMcrZie+4KTuSrajrakZD0KjhKPL0ZWAjM9uSaJv+KfBLd+8Z\n",
       "+GVNcSEwwcyuJYbiOAp4xN292GLNZE3ghQGaZot0NvBrMzuP2FM+AvBm1SrrMAbY18w2JXqCTQae\n",
       "cPeHiy0WuPttRNMXAGa2IXBJK3XtJmqPE9IpBlOBE4Fb3X1KoaUqkGpGtfUbjgLYCpgIvEL0vhp0\n",
       "OIqc/YToIPAccaD2QeIYQys4CfgVcf7E88Se6tZFFqiKjxAdK1qOu18J7EMMffIqsbffSp/fkUTH\n",
       "gHuAfxHn3m1VZIEGUKLFuna7+2nEd3sHMIWoBW8/0Gs6nYaQEBGRwqlmJCIihVMYiYhI4RRGIiJS\n",
       "OIWRiIgUTmEkIiKFUxiJiEjhFEYiIlI4XYFBWlYaV2oOd98589go4uoX2wJLEietXggclb3qtpm9\n",
       "CixQMcs1M9d6G08MuTGaOHnzG+7+6gBlmR24E9jO3Z8d/rvLh5ltBLzq7o+k/28C5nT3dwZ53aXA\n",
       "Se7+p/xLKdKfakbSyma6CoaZzQ/cRYzQ+k3gY8B+xJnrH1zR2swWJYLo48CimdvD6fktiFFoDwDW\n",
       "BRYBfjNIWQ4A7mjlIEpuAhZL/98BLDpYECU/BH6eQlek6VQzklZWeWHQo4iLrW5Svtox8GwaV+ox\n",
       "4vJMFwMrAv929ydqzPcA4Gfu/jsAM/syMMXMVnD3fheZTaOaTiCGxGgHJQB3fxd4uZ4XuPsTZvZP\n",
       "YkiNwYJZpOEURlIYM+sB9iCayxYH/gjsma4DWDntHMQQ6wdlggiIq4emi2E+kh5akbjqdbVljgDW\n",
       "Iq7rV379c2b2HFFLqnbF852BF939mcx8NgcmEbWv94lhPL7m7s+n5zcixqpZGfgncJi7n5eeW54Y\n",
       "0G99YlThC4CD3f3tak1rZnY0sLa7j0tXxz6JaKach6gp7uvuj5vZlFS8a8zsUODW7LzMbOn02o2B\n",
       "N4lro30vM2Df5cC+KIykAGqmk6L9mBgAbV2iae2yGtMtS1yZ/J5qT7r7HeXRW4kwmt3MrjezF83s\n",
       "JjNbKz23ADEOVeUFUl8ihuSoZnPg+vIdM1smlfMcYqTfzVL5DknPGzGY4B+J8X2OAs4ys0+a2YJE\n",
       "cL2W3vMuwJZEOA2kHBj7pOV9nhj75lX6wmPN9Hdn4gruH0hhfgOxA7ouUQPalfjsy64H1kxlFGkq\n",
       "1YykaEemK1RjZrsBfzOzVasMRVDujPDvOub50TT994nL848HbjKzlYhaDPQfd+dtYI4a81uDGDak\n",
       "bCQxxPap6f5zZnYxsFG6/zXgQXf/Qbr/t3S8aw5i9NH3gD1SM9oTZvZN4Eoz+34d720ZYsThZ919\n",
       "ahrQzgDc/ZU0kNx0d3+zYlC5TYClgHXcfTpAGk9nvsw0zxA1tTXJhK9IMyiMpGi3lf9x92fMbBqx\n",
       "x18ZRq+kv5U95Kr5LDC7u5eHiR9vZp8iRnU9KT1WGTxzEKPlVjMms3zc/W9m9l8zOziV9WPAKsTo\n",
       "ohA1s3uzM3D3EwDMbBfgoRREZXcSATfQkKTlY2enEqP5vmBmdxJNa2cN8Lrya1cEnikHUSrTFRVl\n",
       "7EmD0Y0ZZH4iDadmOila5civI+mrvWQ9DUyjRicCMzvNzPYEcPf3MkFU9iTRy2waUbNYrOL5xYhx\n",
       "l6rpIfNbMbOV0/xWJx2zIXrnlb1N7RFZ/1vluZGZv9XGdPlgpzF1yhgLbJfKcBBwj5l9uMrrynqJ\n",
       "Gk89RhLvV6SpFEZStPJxDsxsBaLZqN9ooe7+PnA+MbpodjhuUvPb7sDr6f6zZvb1zPMjiJrLk+lg\n",
       "/d3EcOPl5z9CNGHdWaOMLwHZUUL3BO5y9x3d/Wfu/mdiCPpyyDwFrFZRxvPN7EdEgHzCzD6UeXpd\n",
       "IgD+Sl9oZJvPliWFVGpa287dL3f38cQxqeWIYBzIU8AyZvbBfM1sbzO7LnN/BLBger8iTaVmOina\n",
       "EalL8XTgZ8ANA3TJnkQcvP+jmR0C/J0Is2OBG4GL0nSXAYea2d+JnmzfBuYHfpmePxk418z+QoTD\n",
       "KcBV7v50jeXeT2z0y54Htk1Nfy8DOwFfoK8H3y+A/c3sh8QJuRsQ3c7XBx4nRgs+y8x+THSaOAW4\n",
       "KB3zeYeoPf3QzE4gjvVsQl8T4ILA4WY2lQiYXYjmxcfT8/8BVjKzuyrew3Xp8zozfXaLEicPZ2t0\n",
       "HycC9cEan4NIblQzkqKdCZxBDE/+N2Yeerly6PdXgfWAh4hgeRQ4PM1jm0wX5YOAc4lhzx8gahYb\n",
       "l3vbuftlROeG44hjVi8SPctquYpMTYo47nQrceWGu4lA2QFY3szmTifGbkl0v36ECMNd3P0+d58B\n",
       "fI4Ig/tTOS8manakMu4BbEGcO7Up0UW87JjMe3sS+CKwRebqEccDRxDB/cHn5+49qUxzE8ezfg2c\n",
       "UT6WlXwa+HP2uJJIs2jYcSlMOs9oI3e/teiyDMTM5gaeBca5+6NFlycvZnYH8PPy+VAizaSakcgg\n",
       "Um3mp8QliDqSma1KHBe7oOiySHdSGInU56fAOmY2tuiC5GQSMD4154k0nZrpRESkcKoZiYhI4RRG\n",
       "IiJSOIWRiIgUTmEkIiKFUxiJiEjhFEYiIlK4/wdDhNVf2jhzhgAAAABJRU5ErkJggg==\n",
       "\">\n",
       "    </div>\n",
       "    \n",
       "    <div name=\"colorgreenerror0.003\" style=\"display:none\">\n",
       "      <img src=\"data:image/png;base64,iVBORw0KGgoAAAANSUhEUgAAAaMAAAFeCAYAAAAomXAzAAAABHNCSVQICAgIfAhkiAAAAAlwSFlz\n",
       "AAALEgAACxIB0t1+/AAAIABJREFUeJzt3Xm8JNPdx/FPzxBLGMswdhke/BKxxBIEwYgnQWKJneQR\n",
       "JDERW0SGrMYgGBF7EksIEVsQQeyC2GJfYv1JyJBYYpgRYmK99/njd9qt6dt9b9+5XV29fN+vV7/u\n",
       "7e7qqtPd1fWtc+pUnVJvby8iIiJFGlF0AURERBRGIiJSOIWRiIgUTmEkIiKFUxiJiEjhFEYiIlK4\n",
       "2QabwMxuATaoePhd4GXgWmCCu79W7wLNrAfYy91Pq3P6lYDJ7v75dH834CxgTnd/p97lDoeZHQqM\n",
       "d/fFBphmCnC+u38/57KcBnwJeAdYyd1fmIV53AK86O47Vzy+GbAfsAbwIeBJ4CR3P79iumuAz1XM\n",
       "9iV3XzwzzU7AROAjwCPAt9z9z0Mtq8zMzH4J/I+7j6vx/C3AX9396zmX40bgH+6+u5ltBNwEfNTd\n",
       "nzKzuYDzgM2AacQ68DOGud42SuU2pcY0XwQ2cPcDGrjcIW37hrGcKcAF7v69Bs6zB/iGu5/eqHlW\n",
       "qqdm1AvcAKyTuX0WOAXYBThzFpY7lJObtgNWz9z/A7BOs4IoY7Ayb0X84HJjZmsDXwcmA1sN4wfd\n",
       "S8X7MbPDgcuBZ4Ddge2Bu4FzzezHFa9fCTiKmdeJzTPz+izwG+D3wBeBfwHXmtlSs1hemdlA62K/\n",
       "7zbHMpSXcz+xDjyb7m8JbE3s2GxD7Nw0Yr1tlMptSjX7A4vksOxmfzeNsg7wuwbPcyaD1oyAEvCq\n",
       "u99T8fifzGwe4PtmNre7z2h88fpz91eAV5qxrAqlgZ5094ebUIb5099z3X3KMOYz03sxs88BPwB2\n",
       "dfffZJ66wcxeASaZ2fnu/piZLQgsAVxdZZ0o+yFwaXnPLO1FPwnsCxw0jHJLGHBdbDZ3fwPIrgvz\n",
       "p8fPgA/WLxj+ettsLfU5F2mA33rD1BNGA3kj/f3gSzOzLwCHAx8FXgB+6u4/rzWDNP33gFWJmtqD\n",
       "RNPfnal57JA0XQ8wDliGTDOdmZWAvYC903NTgGPc/ez0urHE3v7nge8AnyKaGI/MVjnN7LvAnsDi\n",
       "aR4nu/tMNZ3URPgjYDHgPqLp7on03BRS1ThNdzjwbeAnwGjgFmBvd39ugM9iOeAY4NPEd3MtcKC7\n",
       "v5D9LIBnzOxsd9+jyjymACcB6wGbErWSYwf6DoADgPsrgqjsOGAh+taVldPfR2u8h7mIvajdy4+5\n",
       "+/tmdjVRoz4oTfcF4DBiPZkOXAIc7O5v1ZjvFOBEYDVir/tN4MdE7euXxGf2NPGd/Dnzut2Bg4Gx\n",
       "6fmJ7n5J5vkliVre/wILAs8DZ7j7kZlpaq4b1ZpwzWxT4GpgrLs/l5rOHgU+DqwNTHL3yWb2sfT5\n",
       "fhr4L3ABcFD2MzCz7xHr9ijgbGBktc+nwpxmdgawI/Cf9PlMdPdeM7sCWMjd180s48PEb2J8tXXA\n",
       "zGYHjgb+Ly3/uIrnNyKa6T5G/JZ3TY/3AJOI5lqI9fac1LQ3H/Hb+CIwF/BHYN/y7yN9rpsQTbxf\n",
       "Am5z98/X+brPEC02PyK+s3uIJqYnqmxTNnL3Wyvezy2kQxNmtqO7j0j/fyote3Wi+fEM4DB37828\n",
       "dj9gH2KH7Sngh+5+VWb2i5nZ74jfwuvAL9z98PTa3YjtxnhiO7Ac8Hh6f3dklvEZ4rezCvBvohXi\n",
       "R+7+LlUMtF3JTLNL+lyWBu4Cfg2clXnvMzUxDrbumtliROvZhsAcwJ+J7XrNnfZ6OzCMMLORZjZb\n",
       "us1nZpsDBxJ7yG+mAmxKbBzuI6rqZwMnmtk3a3xInyKahu4kwmJXYD7gfDMbQXzZZxJf/DrAA1Vm\n",
       "8xPgeOD8tMzrgLPMbK+K6X5FNDduDtwBnJo+UMzs/4gfzNHERukS4OTMHh3AwsCEdPsS0Q5+Qeb5\n",
       "yqrxaOLLODy9LyNqGlV3AMxsaaJZbFHgq8A3iOaNcg30DCI0IH6Ih1ebTyrDIenvNkTV+hQz+0qN\n",
       "5ZaIkL+22vPu/qa7759ZiVYmdkJONrNpZvZvM/tl2qABLEus8H+rmNUU4sdV/nFcQmzANiU2GrsD\n",
       "h9Z4T2WHEj++LYGbiXC6ntggbU1sKH+deW97Ep/b74Et0rQXpSAkrWPXpnJ9LZXlBuAIM9skTVPP\n",
       "ulFPk8iexA9yG+ByM1scuBX4MBEaE4CdKsp/cHrPJwM7AMsT695AyysBOxPr547EjsnBxMaLNP91\n",
       "0vpWtmWa52U15nkS0cx2CLAb0SS9YZXpetNyjkn31yGCMLveHpY+9z8Qn/cB6T0tBtycWY8A1gKW\n",
       "Sss7Nq2r9bxuZWLbdFD6DJYmfv/Qf5vyYJX3sVd6vHx4AjNbhVhfp6b3MZn4ziaXX2RmE4Bjie3C\n",
       "FsR27Xdmlm0S/CHwV+ALwKVEq8PWmedHE9/35PS+e4l1dmRaxhapXE8R69IxwDeJQOqnju0KaVt+\n",
       "LvH72IpoxTiV/utZb5p+0HU3lWcpYtu3LTA3cFX67quqt2a0Q7plvQFcTHzpZYcB12cOnt6Q9qoO\n",
       "NbPT3P39inl8FPiNu08oP2Bm7xNf0lLu/qyZPQ+8W64mmhmZaRci2qUnuvtR6eEbzWxeYqXPHig8\n",
       "y92PTq+7hzgmsinwBFGLmJKpKd1mZm8B2abHEcD27v54mseiwM/MbN7UTFFpTmA3d/9tmv4p4C/E\n",
       "inxxlekPAHqAz7r7fzLldOCr7n6imXma9sEBalgl4J/uvl26f11aIQ8Czqky/ULA7EDNGluFVYB5\n",
       "iRrElsQP/whiJ2J7Yg8e+mrNZO7Pnf5fk+ggcay7vwTcamZvM/j66O6+L4CZPUP8AG5395+kx34M\n",
       "/CbtPb9BrI+nu/t30+tvMLPRRJD/AViSvhrBX9M8biaOKawH3Eh960Y9zTkvZTu3mNkxwPvAZpmd\n",
       "ueeI9XcVoib1HeAEd5+cnr+JCPXB/Av4Qjqueo2ZzQ/sa2aHpff9b+KzK4fGzsAV5XJkWTTLfg3Y\n",
       "z91PTY/dTd/xoZm4+zOpFkvmNzvTeps2fusRx37L09xCrINfI3YyINaH/d396TRNva8bBWzr7k+l\n",
       "aRYBTjOzBdz9+cptSpX38ISZvcHMhyd+SOxgbZNqQteZ2ZvAL9J3OY0I/ZPdvVwTvMnMVgTWp29H\n",
       "+jJ3PziV60/EuvZpYocJYruxl7tfn6bpIXawVyEC8jDgBncvtzzcYGbTgF+b2Y/d/S8Vb2fA7Ur6\n",
       "zH4AXOnu+2XmuSRRQajmWwyw7qYyrAsc6u5Xp+fLx6LnJda/fuoNo+tSgUtEM8NPiI37Bz1N0p7J\n",
       "GsABFXv/1xNf5ErATFU0d/8V8KsUHh8jwmmr9PSH6ijX2uk9VG7cfwvskeZX3mjcnVnuDDObTiQ7\n",
       "RMrvmb6k3xI/zCMq5vlGOYiS8o+xvOGr9D6xF11e5mPpC1mvSnkhVtjryitMes3fzeze9NyJVV5T\n",
       "TW96D1lXANuZ2XzuXrkilHcQ6mn+AfgpcLa735nu325mU4HfmtnH6attV9t7Lz92D/A2cLeZnQ9c\n",
       "SfREHOzA/N2Z+y+nv9na8rT0dz6ieWYMsdHIro/XAV82s/lToG+cav1G1F5XJ8K5vP7Vs27U46mK\n",
       "+xsSNfS3MuW7nWjyGEf0WB0NXFN+QWqWvoaofdbSS7RWZDv4/IHYGVnZ3R8ws0tIYWRmCxBNRtv1\n",
       "nxUQv7GRFeV42czurDF9PTYkvqv7M+/9TeL7HUffuv4e0cQ+1Ne9Xg6i5Pn098NEk/Cslvk8YGRm\n",
       "h/h6Yl1Zj/h+FyQ+6w94/16Pd2ae600b8fkqpsmu5x+UPdVkViGa8bIuJnY01yd2eLMG2q6sZ2an\n",
       "Et9xZe/LS4jaWzWDrbt/AW4jKgQrE7/vq939BzXmB9TfTDfd3R9w9/vTsYfxwP4WbellCxBhdQLR\n",
       "fbN8u5X4gfTrFm1m85jZhcQKcivRg6Wsnr3NBdLff1U8Xt5Qjco89t+KaXpI79+j6/Ie6f4xwJNm\n",
       "dntqTiqr7KDRk/7W+gynuntP5WP0dUKoND/930f5NfPWeE0tL1aZB/R9Xh9w92nEcYWaPd3MbInM\n",
       "9J4JorIb0t+V6NvrmadimnnTcnD3Z4jjAY8Re263E8cTNqtVhqRa6NfqODM6/b2MmdfHc4n1cVH4\n",
       "oCnvJaKGfBLRFPYuaf2rc92ox8sV90cTteR3M2V7i9gzXoy+9aSys07lfKqpXI/K3395o/cb4BNm\n",
       "tjzRhPIGmbCpUF5nKstRbV2t12hiw5197+8Q68SimelerdhBqfd11X7rMLzzKkcTNYLscp+jb9u2\n",
       "YJpuatVX96lcX3urlCtb/mzZ5yfWy5k+e3d/mzj+lN3elQ20XRlFfL8jqpR7oO93sHUXovnuVOK7\n",
       "uQD4l5kdn5paq5qlDgzu/hsz2xWYaGYXp2p0eSP0Pfo2TmUl+h9DgL4D7RsBf04Hujcj3mg9yns5\n",
       "izDzhqrcJXMadfLo8HB2an7bmqgOn0I05c2Kfhv+VK7ba0w/nZl/UNnX/H2Iyx5dcX8MsdLX6oX4\n",
       "R2LvuN+ei5nNDbiZ/czdDzazHYDnswdUiZUQImyeIX5AywL3ZqZZhmgaACC9fvM0/03Tsi80s4Vq\n",
       "HYgdovK5b7vRv7NFCZhiZhsCvyCaV84o1xrN7KXsxIOsG730r1VWBnE15U4bR1cp278y8xhT8fyC\n",
       "DK5ymvI8yhucW4kN6ReJ397FVZrQy8q/oTGknYlkNH177UP1GtHcWFkbK1F752I4r5sVlbX06cRx\n",
       "6cqm7hLxWZa3OQtlnzSz1YgmwaodfqosZyD/TtPP1OXczOYkdjSqbe8G265MJWqglevZwgOUY7B1\n",
       "F3efTlQu9jezNYkduv2JWt+F1WZa73lG1RxAVFGPTgt/g+j5MjbVoh5w9weINzmR6s1unwIud/fb\n",
       "Mz+G/60oW60fCURzz7v0P561A/Eh/3WA137AzH5tZhen9/FSahu/lOgRM6vmMLONM8tYhdgg31xj\n",
       "+juAz6Umy/JrliGaPodysmiJzDk/ydbAfZmqeuV3egqwhkWPmkoHE72Wyk1/3yQO0mZtQzS73evR\n",
       "xf8u+ppbSVX5zUnv3cy+YWbPmNls7j7D3X9H1Drmpfre3ax4kvhxLlaxPq6S3lMPcXD6LXc/NhNE\n",
       "qxDrbLkX0WDrxn+ABVKolq1fR/nuJJqmH8qU7QXgSGA5d3+SqLFtW36BxUHsTRi8A8MmNvOB4m2I\n",
       "HZHH0/voJTasOxBhdD61/Zn4jWXLMT/pwP4suoNoRp2aee8PEtuUz+TwukoDbVPKepi5deZOYIWK\n",
       "del94njpwsSO1mv0P85yBnFce9jSNvYv9N/ebZ/+VttODLhdSdvdmX6vSa0mOhhk3TWzRczsn5Y6\n",
       "Zrj7fUSP0P8ywDa13vOM+lWt0jGQc4DdzWwdd7+L6MZ5kZn9h+ilNJboFXKfu1ervt4L7GBmdxCJ\n",
       "uiVxMBX69gxfAxZMBy9n+rDdfaqZ/YyooY0gUnczYm94/9QmO9D7KrsZODMd4L0J+B+iTf3kWi8e\n",
       "ZH5lZ1v0iHqP6D58t7vXag45PpX7ejM7mqhtHAb8k76eQPVaz6Jr7yXE3vvWxGebLesH5XX3P5rZ\n",
       "z4FzLHo4Xk2sG9sQvWGOcPf70+THAH8wszOJ6vdqRI+v49293IQ0megx9hLRCeAb9PUuhOjmfjxR\n",
       "EzqV+K5/SHRGeLXGexrSOR/u/p6ZHUn0jJud+FGuSnQHPzcdf7kXmMvMfkK09a+QyvEafevfYOvG\n",
       "tcQx1NPTZ7Iu0UQxWPmPB74C/N6io83sxE7bwvQdW51EdJJ5hVj3v040g1TtPJCxFHCexdUa1ie6\n",
       "Gh9Y0Wx8LvBd4Fl3r1Vbx93/bWbHEb2+3iM2ugen8s6qK4km2mstTrZ+hXhvWxNNO41+XaXpZLYp\n",
       "aS++2jSrmNlG7n4LsaG9zczOAi4iap8/JnZGPLXqHEMcJ3md+L62B1Ykc5pDFUM9l+lQ4DIzO5v4\n",
       "/RnRIed37v5IlXnWs105gujociJwFdFKsi19TYSVBlx33X26mT0NnJB20l4kfjMj0/yrqrdmVGtP\n",
       "7EdE2h0DkPZwdyL23q4ifkznU/vg6IHEga5fEAfh5gM+QXzBa6dpLiRWwEuJWlNleQ5My/kacaD+\n",
       "M8Du7n6Kmc1BfFEloovl7y26JZKdR+pIcSCxEbmG6MJ6Cn1djWt9Br01/i/7NvHZnE5sDGseE0kH\n",
       "0z9NVMXPI67mcC+wbvbgY43lVJbpRGLjfxnxXWzvM5/r0O/9uPs+xGe4BnFM4Vxi47xjpncQqXfM\n",
       "tsT3dDlRUzrCMz3F3P1KoqfOVkQgLgRs6u7/SM8/STQRLZXKeCbwEJm97xrvqx7Z7/U44jv4MvG9\n",
       "7kfU6vZOz99EX/ffa4mNxh7Ej3ztNM2A64a7P0YcQ12PWOfXT8urXDcqP+8p9J2DcVH6DKYA48ob\n",
       "R49zOvYldgguJZqiflHH+/85UZu5Ir2fA939pIrlP0FskC7oN4f+vk+0gEwgfs8P0L8beNVuwNXu\n",
       "u/t7xAbvbuKz/D2xLmyRCcZqn9ksva5KeS5i5m1KNScQTe1/MLMl3P3utGwj3vsJxLbrf8utOh69\n",
       "db9LrEdXEDs/m2VCoprBPreZHnP3y4mdxFWJ39+BxI7RzjWmH3S74tFzbw+i9eJy+nbaqjZ91rPu\n",
       "Er+XO4hzka4mthdbpN9+VaVOHnbczI4g9lS3IXrdnArM7+4DbfQasdzdyJww1kxm9nfgV+5+2KAT\n",
       "S9eyOMfuMeBj7u6DTS+dKzWnPZkNitSq8Dl3X6NZ5RjuFRha3SHAh9z9LYvzS+Zj8N4u7U6XMJGa\n",
       "zGwFYi96J+J8FQWRbAkcl3pHv0ScB7g/fScrN0Xbh1E6qFut63OPu79O9IWfSATT81Q/czwPRVU5\n",
       "O7eqK40wkuiiPIX+56tId/oW0Xx9PHEs7GngAM/xCt3VtH0zncVlW66v8tQUd182TTMHUWM4mmgX\n",
       "XTG1P4uISAto+zAaitSr6j/A2u7+0ADTzQF8kugFUk83UBGReowkekTem05WlaTtm+kGkrph3pPO\n",
       "DYHogjiCvhMia/kk0VNGRCQPn6b2CfBdqaPDiOgCOiFdz2sq0eX5Vh98TJXy5XQ+TXR/FRFphCWJ\n",
       "Hd3KS3Z1vY4OI3c/zczGEP3dP0RcJHP7gV8F9DXN/bOO4BIRqUvmJHw1/1fo6DAC8Bi4qtbYPyIi\n",
       "0gKaflKmiIhIJYWRiIgUTmEkIiKFUxiJiEjhFEYiIlI4hZGIiBROYSQiIoVTGImISOEURiIiUjiF\n",
       "kYiIFE5hJCIihVMYiYhI4RRGIiJSOIWRiIgUTmEkIiKFUxiJiEjhFEYiIlI4hZGIiBROYSQiIoVT\n",
       "GImISOEURiIiUjiFkYiIFE5hJCIihVMYiYhI4RRGIiJSOIWRiIgUTmEkIiKFUxiJiEjhFEYiIlI4\n",
       "hZGIiBSua8LIzPYws6lFl0NERPrrijAys2WB44DeossiIiL9dXwYmdlI4NfAqUCp4OKIiEgVsxVd\n",
       "gOFKYTNvlad63P114LvAI8A1wFebWTYREalPJ9SMxgHTqtweMrM1gC8BB6JakUjHK5VKi5ZKpe+X\n",
       "SqXliy6LDE3b14zc/UaqhKqZzQncB3zN3WeYWdPLJiLNUyqVlgBuAZYDVgB2K7I8MjRtH0YD+CSw\n",
       "DHBVCqLZgLnNbBqwirv/s8jCiUjjVATRO8A5hRZIhqxjw8jdbwM+XL5vZhsCl7j7wsWVSkQarUoQ\n",
       "bdPb23tzoYWSIeuEY0b1KqGu3SIdpUYQXVVooWSWdGzNqJK73wKMKbocItIYCqLO0k01IxHpEAqi\n",
       "zqMwEpG2oiDqTAojEWkbCqLOpTASkbagIOpsCiMRaXkKos6nMBKRlqYg6g4KIxFpWQqi7qEwEpGW\n",
       "pCDqLgojEWk5CqLuozASkZaiIOpOCiMRaRkKou6lMBKRlqAg6m4KIxEpnIJIFEYiUigFkYDCSEQK\n",
       "pCCSMoWRiBRCQSRZCiMRaToFkVRSGIlIUymIpBqFkYg0jYJIalEYiUhTKIhkIAojEcmdgkgGozAS\n",
       "kVwpiKQeCiMRyY2CSOqlMBKRXCiIZCgURiLScAoiGSqFkUgVpUmlUaVJpV+VJpXGZB4bkx4bVWTZ\n",
       "Wp2CSGbFbEUXQKRFnQjsBqxVmlQalx67GVgx/b97EYVqdQoimVUKI5HqDgbWIsLn0fTYwsDj6Tmp\n",
       "oCCS4VAznUgVvRN7XwbGAVOJEFo4/T8uPScZCiIZLoWRiAyLgkgaoeOb6czsUWAZoCc9NMXdVy6w\n",
       "SNIGUseFm+mrEZH+v7k0qaTaUaIgkkbp6DAys7kAA8a4+/SiyyNtZTJxvOhxorkO+jowTEYdGBRE\n",
       "0lAdHUbAysBLCiKZBfunvweXa0GpV93kzHNdS0Ekjdb2YWRmI4F5qzzVA6wGvGtmdxI/mgeB/d39\n",
       "ySYWUdpQ78Te16mo/aRQUo1IQSQ56IQODOOAaVVuDwG9wD3ATsDSwH3A1WY2ZzFFFWlvCiLJS9vX\n",
       "jNz9RgYO1dMz///AzPYGVgXuzrVgIh1GQSR56oSaUU1mNt7MPpO5PxswO/BWcaUSaT8KIslb29eM\n",
       "BjEG2NfMNgVeJQ4+P+HuDxdbLJH2oSCSZuj0MDoSGEUcN5qH+EFtVWSBRNqJgkiapaPDyN3fByak\n",
       "m4gMgYJImqmjjxmJyKxREEmzKYxEZCYKIimCwkhEPqAgkqIojEQEUBBJsRRGIqIgksIpjES6nIJI\n",
       "WoHCSKSLKYikVSiMRLqUgkhaicJIpAspiKTVKIxEuoyCSFqRwkikiyiIpFUpjES6hIJIWpnCSKTB\n",
       "SpNKo0qTSr8qTSqNyTw2Jj02qpAyKYikxXX0VbtFCnIisBuwVmlSaVx67GZgxfT/7s0sjIJI2oHC\n",
       "SKTxDgbWIsLn0fTYwsDj6bmmURBJu1AznUiD9U7sfRkYB0wlQmjh9P+49FxTKIiknSiMRDqQgkja\n",
       "jcJIpMFSx4Wb6asRlWtIN2c7NeS2fAWRtCGFkUjjTSaOFz0OrJRuj6fHJue5YAWRtKumdGAwswWB\n",
       "NYExQA/wEvCgu09vxvJFmmz/9Pfg8jGi1Ktucua5hlMQSTvLLYzMbHZgR2BfIojeAaYDI4EFgZKZ\n",
       "/Rk4FbjA3XvyKotIM/VO7H2diu7bKZRy69KtIJJ2l0sznZltCDwE/B9wDmDAh919cXdfBJgDWA24\n",
       "APgm8KSZjas1PxGpTUEknSCvmtF+wHbu/kS1J1Mt6JF0+7mZrQpMIg76ikidFETSKXIJI3ffdojT\n",
       "PwxsnUdZRDqVgkg6SbM6MCwEzHD3GWa2BrA5cL+7X92M5Yt0GgWRdJrcu3ab2dbAP4F1zWw54ge0\n",
       "E3Cxme2b9/JFOo2CSDpRM84zOhw4xN1vBL4K/MPdP04E0reasHyRjqEgkk7VjDBanug1B7AFcHn6\n",
       "/xFgiSYsX6QjKIikkzUjjF4AVjez1Ykz0Ms/ns2BZ5uwfJG2pyCSTteMDgw/AS5O/9/t7reb2STg\n",
       "B8D4JixfpK0piKQb5B5G7v4LM7sLGAtcmx6+FbjB3W/Pe/lm9kXgKGBx4DFgvLv/Je/lijSCgki6\n",
       "RVMulOruDwJ/B7Yxs52AF5oURKsBZwJ7uPso4DL6amkiLU1BJN0k95qRmS1ChMA6wDTi2nTzmdkN\n",
       "wPbu/nqOix8PnO7ud6b7xwE3mFnJ3XtzXG7HKk0qjSKG1c5eBHQM6SKg6bpsMkwKIuk2zThmdDrw\n",
       "HrCcuz8DYGYrAGcDpwC7DmfmZjYSmLfKUz3E9e/+YGZ/BFYBHgT2VhANy4nAbsBa6UrUEJdxWjH9\n",
       "n9vFQLuFgki6UTOa6T4D7FMOIgB3fwrYG9iqAfMfR9S4Km8PE1cH3wuYQHQjvx+4IgWYzJqD6Rub\n",
       "59F0K4/dc3CB5eoICiLpVs2oGb0AfASo7DSwAPDKcGeeTqatGqpm9ihwqbs/kO7/CPg2cRXxx4e7\n",
       "7G7UO7H35VQjepQYvRRiJNNx5Wa7InRC86GCSLpZM8LoSOBUM1sauI1oslsTOAI408w2KE/o7rc2\n",
       "eNkOzJm5PwIopVvX6oQNdxVt3XyoIJJu14wwOiv9PbnKcxPTrazRzYZnA782s/OI8ZWOANzdH2vw\n",
       "ctrNLG+4U2jdTNSKpqaHFwZuLk0qFVk7OhhYi77mw3K5Wr75UEEk0pzzjJrSfbzGsq80s32IAf6W\n",
       "JI4ZaaiK4W24J9N3jKgyyCZTUA2kVZsPB6MgEgm5hJGZfcjd3yn/P9C05eny4u7nAefluYx2M8wN\n",
       "9/7pb7aJbxypiS+P8nYqBZFIn7xqRm+Z2aLu/jLw1gDT9RLnHUmbSMeTdq947OXKx5qthZsPq1IQ\n",
       "icwsrzDaGJie+b8Wne9TgHbbcNepJZsPq1EQifSX17Djt2TubgD81N3fzE5jZqOAScCf8ihDtxuk\n",
       "x9zstMmGewjaovlQQSRSXV7HjFYGFiO6UB8KuJlNr5hsJeJyPQfkUQYZsMfceURPw5becA9FqzYf\n",
       "ZimIRGrLq5luNH1X6Ia+wfWy/kMMLyH5GKjH3Lcrm+JabcPdaRREIgPLs5luBICZTQHWdPdhX21B\n",
       "6jfUHnMdeiJsS1AQiQwur2a6j7j7swDuPrbO14x19yl5lEfq0tZXMGhVCiKR+uR1QuolZnaCmS07\n",
       "2IRmtpKZ/Rz4XU5l6UpVesxNpa/H3JgqL9EFUBtMQSRSv7yOGa1LdEy428xeBK4nRll9hQjAhYBP\n",
       "ED3tFgd+SpseOG9hQ+rq3K5XMGhVCiKRocnrmNG7wDFmdjKwM7A5sC0whhhn6CXi0jzHElfVnpFH\n",
       "ObpcW3R17kQKIpGhK/X26rzTSmY2lhgmfZluOY6VadZbkZlPhH0c1Y7qpiCSgXTjtqVehV3EVFpO\n",
       "tllvpXQrH0OaXGC52oaCSGTWNWMICWkPatYbBgWRyPAojARojysYtCoFkcjwqZlOZBgURCKNkWvN\n",
       "yMxWILp5LwHMAcwAngfudPen81y2yFDMyhUoFEQijZPXFRhGA78BPgc8R3TlfpsIpMWApczsKmBX\n",
       "d6+8gKrkaBeNAAAaVUlEQVRIEYZ0BQoFkUhj5VUzOhX4MDDW3Z+rfNLMPkKE1WnADjmVQWQo6h6K\n",
       "XUEk0nh5HTPaDNinWhABpOvW7QNsmtPyRYYkNc2No++ySeXLKM10jpWCSCQfeYXRq8SPdSAfBd7I\n",
       "afkiDacgEslPXs10RwLnmNlaxEiuLwBv0XfMaAPi3JXv57R8kSEZbCh2DmV2FEQiucnr2nSnmdkL\n",
       "xMVS9wHmzjz9X+Bu4P/c/bI8li8yC2pfWHYqJwOroyASyU1uXbvd/UrgSjMbASxABNIMYJq764J4\n",
       "MmwNHhCw+hUopnIyP2dNYFkURCK5yatr9+rAw+7+vrv3AK+a2bzAfsBiZvYk8Et31+ihMhwNGxCw\n",
       "2hUoUtPc6iiIRHKXVweG+4DR5Tvp2NGjwBeB+YE9gafMbMXqL5dmKU0qjSpNKv0qO+BeaVJpTHps\n",
       "VJFlq0NuAwKqs4JIczXr2nRHA+e5+3iA1HR3KnASsEmTyiBJtnmLaNLaDfhUaVLpQeAHwJW0wXDj\n",
       "eQ0IqCASab5mXZvuY8QJrgCkprvjiEsFSfOVm7duBn4COGDATsSIvF073LiCSKQYeYbR6Mz/j9C3\n",
       "51q2JHE+kjRftnnrFmb+ruakTYYbr9Idu3zC6s3ZZse656cgEilMXmE0HXjMzKab2V3Exu4XZjYX\n",
       "gJl9HTgHOC+n5csAqlxtYCGgHXs4NmxAQAWRSLFyCSN3Hw0sDmxLXIPubmAK8G6a5IfAxcAheSxf\n",
       "ZkkJeIVh1i5mmmH+nSP2B84m1eIyIXs2QxgQUEEkUrw8zzN6ibha901VnvtIXsvNMrNrgPUzD40A\n",
       "5gLWdfe7mlGGVlTRvPUW0TQH0Wy6DbGjUK5dDKcDQ8O6XlfTiAEBFUQirSG3MDKzkcSG7brs+URm\n",
       "tifwOnBR3ie/uvtmFWU6GxjZzUGUZJu3tgB+DKxGdGKYQNQuGjHceN1Xwi6CgkikdeR10uuHgSuA\n",
       "DdPtjszTaxB7rrua2Tbu/lYeZahSpq2BjYmefd2u8moDO1e5csGwu3Tn1fW6ERREIq0lr5rR94je\n",
       "ch93d88+4e7jzexk4Gpi73jScBaUamDzVnmqp1wjM7PZiK7kB7r7m8NZXidoRPNWO1MQibSevHrT\n",
       "7QQcUBlEZe7+KPAdYJcGLGscMK3K7aHMNDsCM9z94gYsryvNSmeERne9bgQFkUhryqtmtDhx8uRA\n",
       "7gOWGu6C3P1GBg/V3YHTh7usLjcrnRFqXwl7+J0jhkxBJNK68gqjfwLLA88OMM0ywL9yWv4H0gVa\n",
       "NwC+nPeyOtysdEaofiXsxnSOGBIFkUhryyuMLgUmmtlt7v525ZNmNidwGHHcKG9rAi+kruYyi2al\n",
       "M0KrHJtSEIm0vrzC6CjgLuD+1FnhHuDfxLhGawP7pmUPq/NCnT5CjDQrXUhBJNIe8roCw+vERVBv\n",
       "A44B7gf+BtxL1IhuANZx99y797r72e6uC7IOUyt2RhiMgkikfeR5BYbXgL3M7FvE4GQLEJebedrd\n",
       "389ruZKbluqMMBgFkUh7yX08o3TM6Im8lyO5a5nOCINREIm0n7yuwHABcRXo0iCT9rp7I841kpy1\n",
       "SmeEwSiIRNpTXjWjt6kzjHJavhQoO5JsphZVebmhxi9XQSTStnIJI3ffLY/5StvI9Wrd1SiIRNpb\n",
       "7seMysxsVWLws/eBh91dx5E6V1Ov1q0gEml/uYeRmS0CXAasQ1wzbiQwn5ndAGyfHV5COkMzr9at\n",
       "IBLpDHldKDXrdOA9YDl3X8jdFwA+Slxp+5QmLF86lIJIpHM0I4w+A+zj7s+UH3D3p4C9ga2asHxp\n",
       "smacIKsgEukszQijF4hL8lQqnwQrnSd7guxK6fY4fSfIDouCSKTzNKMDw5HAqWa2NHF5oPeIi5ce\n",
       "AZxpZhuUJ3T3W5tQHslfbifIKohEOlMzwuis9PfkKs9NTLeyZtTUJGd5nSCrIBLpXM24HJACRoZN\n",
       "QSTS2RQU0vIURCKdT2EkLU1BJNIdFEbSshREIt1DYSQtSUEk0l0URtJyFEQi3UdhJC1FQSTSnRRG\n",
       "0jIURCLdS2EkLUFBJNLdFEZSOAWRiCiMpFAKIhEBhZEUSEEkImUKIymEgkhEshRG0nQKIhGppDCS\n",
       "plIQiUg1CiNpGgWRiNSiMJKmUBCJyEAURpI7BZGIDKYZw44XxsxGAscCOwFzAncDe7n73wstWBdR\n",
       "EIlIPTq9ZvQV4PPAJ4CFgL8Bvyy0RF1EQSQi9er0MHqdeI+zASOBHmBGoSXqEgoiERmKtm+mS01x\n",
       "81Z5qsfdLzGzLYB/AO8DLwDrNbN83UhBJCJD1Qk1o3HAtCq3h8zsO8DawPLA/MB1wEUFlbMrKIhE\n",
       "ZFa0fc3I3W+kRqia2YPA0e7+dLq/H/CGmX3c3R9rYjG7goJIRGZVJ9SMBvIW0YuurCfd3iumOJ1L\n",
       "QSQiw9H2NaNBXAhMMLNrgReBo4BH3N2LLVZnURCJyHB1ehidRHRuuAWYB7gN2LrIAnUaBZGINEJH\n",
       "h5G79wJHpJs0mIJIRBql048ZSU4URCLSSAojGTIFkYg0msJIhkRBJCJ5UBhJ3RREIpIXhZHURUEk\n",
       "InlSGMmgFEQikjeFkQxIQSQizaAwkpoURCLSLAojqUpBJCLNpDCSfhREItJsCiOZiYJIRIqgMJIP\n",
       "KIhEpCgKIwEURCJSLIWRKIhEpHAKoy6nIBKRVqAw6mIKIhFpFQqjLqUgEpFWojDqQgoiEWk1CqMu\n",
       "oyASkVakMOoiCiIRaVUKoy6hIBKRVqYw6gIKIhFpdQqjDqcgEpF2oDDqYAoiEWkXCqMOpSASkXai\n",
       "MOpACiIRaTcKow6jIBKRdqQw6iAKIhFpVwqjDqEgEpF2NlvRBciTmc0GHArsBswJXAZ8y93fLLBY\n",
       "DacgEpF21+k1o28DuwAbA0sD8wBnFVqiBlMQiUgn6PQw2gY42t2fcvcZwPeBbcxsVMHlaggFkYh0\n",
       "irZvpjOzkcC8VZ7qAUYC/8081pseWxZ4KP/S5UdBJCKdpBNqRuOAaVVuDwNXAN8xs7FmNg9wGBFS\n",
       "cxZU1oZQEIkEM1vazN4ws7mqPPekmW04zPnvZmb3DmceUp+2rxm5+43UCFUzmx2YD7gdmAEcA+wA\n",
       "vNa0AubjZBREIrj7c1RvGYFoCeltYnFkGNo+jAaxBHCsu38HwMzWAN4Fniq0VMN3F7AqsG9vb+/V\n",
       "RRdGukOpVPoQsFSTFveP3t7edwabyMzGAs8QnZO2AH4MjAF+A8yemW5B4ETgs8SO6anuPjk9Nxo4\n",
       "CVg3vfZvwF7ufmcD348MotPD6MvARma2JbH39FPgl+7eU2yxhqe3t/cYopYn0hQpiBwY26RFTimV\n",
       "SlZPICXLET1ltwD+BBxEHBsuOxeYSpR/DPAHM/uXu59N/JZ6gI+mvycARwMbDP9tSL06PYx+AvwP\n",
       "8Byxkp0HTCi0RCKSh12Ba939JgAzOxrYJ/2/KLApsLC7/xd41syOBfYEziZ62c4gthFjgX8TrSrS\n",
       "RB0dRu7+NrB70eUQaXe9vb3vlEolo8Wa6TIWAJ4v33H3XjN7Nt1dGigBT5tZeZIRwKvp/yWIJryP\n",
       "AU8SHaBKs150mRUdHUYi0jgpHJ4uuhw1PAusUfHY4unvi8B7wBh3fxfAzOYjjjMBXAj8wt2PT8/t\n",
       "Cqyce4llJgojEekElwEHmdnmwPVEE93SAO7+DzO7DTjGzL4HzA38lqhJfYU4njwDwMw+Rhxvmr3f\n",
       "EiRXnXCekYh0t16ixrYDcCxx6sbaQPb8oJ2BRYApRG/a54G903N7AhPM7FXitIkJwEJmtgDqHt40\n",
       "pd5efc6VUnfRvwPLuPuUYksjIp1C25baVDMSEZHCKYxERKRwCiMRESmcwkhERAqnMBIRkcIpjERE\n",
       "pHAKIxERKZzCSERECqcwEpGuY2ZLmtnIosshfRRGItJwpUmlhSvulyofK4qZLUJcnXuOYc5nrJn1\n",
       "mNncjSlZd1MYiUhDlSaVvgV4aVJpjXS/RIzA+lBpUmmFQgsX5iIulqphIlqIrtotIg1TmlQaQYyQ\n",
       "ugBwY2lSaRNgW+B7wPvEmEFPNXKZZrYT8B1gmfTQb919LzNbCvh5Ks8bwE/TMBH3p+leNLMNgG8B\n",
       "U919QprfF4CT3X0ZMxsBTAK2I8Y9eg04wt1Pb+R7ENWMRKSBeif29gA7EUM6zA/cR18Q7dg7sffy\n",
       "Ri4vXXj0DOAb7j4aWB/Yxcw2Bi4mrs69CLAhMcTEJsDq6eWLuvtDDHxl7i8BXwQ2dPdRwHeBE9Q0\n",
       "13gKIxFpqN6Jve8QgZR1TO/E3ktzWNzzwErufp+ZjQZGA9OJUFoLmODub7n708A44CGqN8/VarL7\n",
       "PfAZYKqZLQm8DcwJLNjYtyEKIxFpqHSM6NCKh/cqH0NqsPeAPc3sReAuYF9iYLy3gf+4+xvlCd39\n",
       "SXd/ZYjz/xAxxtErwJXAF9Lj2nY2mD5QEWmYTGeFctPczvQ12d2YQyDtTAyqt6q7L+/uOwJvEYE0\n",
       "j5mNKk9oZjua2eeqzON9InTKRmf+Pyr9XczdVwMmNrT08gGFkYg0UglYmL5jRBfSdwxpDmDUAK+d\n",
       "FfMC7wLvmNkcZnYQ0ZHhJeA24Kj0+PLAcWnat9Nr50t/nwLGmdkoMxsDfIO+Y0jzpunfT82Ax6bH\n",
       "NSx5gymMRKRhUgeG8cA65WNEmWNI6/VO7L25wYs8B3iUGE78ESI8zgA+mpa5GHFc6UZgkrvf5O4v\n",
       "AlcDfzWzjYDTiGHLpwB/Ai7MzP8QYDngVeAG4hjSY0SvQNCQ5A2jYcer0NDAIpIHbVtqU81IREQK\n",
       "pzASEZHCKYxERKRwCiMRESmcwkhERAqnMBIRkcIpjEREpHAdNYSEmZ0IvFO+FHx6bBPgBGAs8ADw\n",
       "VXf/azElFBGRajqiZmRmo83sbOIiib2ZxxcBLgUOJl0bi7gsiYiItJCOCCPiGlTvEMGTvRT8NsCD\n",
       "7n6Vu78HHAEsbmafLKCMIiJSQ1s005nZSOKaU5V63P11YGN3f8nMflXx/EeBx8t33L3HzJ5Oj9+b\n",
       "W4FFRGRI2qVmNA6YVuX2EIC7v1TjdXMD/614bAYwVz7FFBGRWdEWNSN3v5FZC85qwTM38J9BXjcy\n",
       "/V3SzGZhsSIiVS2Z/o4ccKou1BZhNAxPANuX76TmvuXINN3VsFj6e1tO5RKR7rYYMWyFJJ0WRpXj\n",
       "2F8GTDazLwJXEaNP/sPdHxpkPvcCnwZeJAYJExFphJFEEOmYdYVOC6NeMl273f1fZrYVcZ7ROcCD\n",
       "RA+7Abn728DteRVSRLqaakRVaHA9EREpXLv0phMRkQ6mMBIRkcIpjEREpHAKIxERKZzCSERECtdp\n",
       "Xbsbph2GozCz2YBDgd2AOYnzqr7l7m8WVaaydILxscBORNnuBvZy978XWrDEzK4B1s88NIK4Wse6\n",
       "7n5XMaWaWTo/7ihgceAxYLy7/6XYUvUxs0eBZYCe9NAUd1+5wCJVZWZ7AJPdfeGiy1JmZnMAxwPb\n",
       "AR8CbgG+6e4vFFmuIqlmVKHNhqP4NrALsDGwNDAPcFahJerzFeDzwCeAhYC/Ab8stEQZ7r6Zu89b\n",
       "vgEXA+e1UBCtBpwJ7OHuo4h17eJiS9XHzOYCDFgy8zm2YhAtCxxH5rfcIn5EXLB5BWBh4FXg5EJL\n",
       "VDCFUX/tNBzFNsDR7v6Uu88Avg9sY2ajCixT2evE+jUbcdZ5D3GtwJZjZlsTgf6NosuSMR443d3v\n",
       "TPePA3Yys8qrjBRlZeAld59edEFqSbXzXwOn0v/qLEU7BNjc3V8DRgHzAVOLLVKxuq6Zrt2Goxio\n",
       "vMRGPntV8t702LKkK5rnaZDP8hIz2wL4B3FJpReA9fIu0xDK93qaZjZiQ39gs5s3B/luVwP+YGZ/\n",
       "BFYhrh6yt7s3bQ+/jvK9a2Z3Etd7fBDY392fbIXype/3u8AjwDXAV5tVrrI6yveWmU0kgul5YMNm\n",
       "lq/VdGPNqN2Go6hV3oeBK4DvmNlYM5sHOIzYUMyZc5kGK9tDZvYdYG1geaJZ8zrgoiaVa9DyZabZ\n",
       "EZjh7kU0gQ303S4I7AVMAJYA7geuSBu4osv3ELHjcw9xTHBp4D7gajNr1ro3YPnMbA3gS8CBFFcr\n",
       "qmf9Oxr4MPA74Lq0c9SVuu6NFzAcxbAMVF4zm52o3t+eyncMsAPwWp5lqrNsDxJNiE+n+/sBb5jZ\n",
       "x939saLLl7E7cHoTitPPIJ/fo8Cl7v5Auv8j4hihMfhV53MvX5L93H5gZnsDqxKdVXJXq3wpEO8D\n",
       "vubuM4oaBqae9S9dBxMzm0DsfKxEE1o1WlE31oxm1RPEhgAY0nAUeVoCONbdl3T3FYimkneBpwos\n",
       "U9lbzFxD60m394opTn9mNi+wAfDbostShTPz5zeC2MNviWMfZjbezD6TuT8bMDvxvRftk0Qvv6vM\n",
       "bDpwJbCgmU0zsyUHfmlzmNlZZpY9Rjk78R03ZUeyFXVdzWgIGjUcRZ6+DGxkZlsSbdM/BX7p7j0D\n",
       "v6wpLgQmmNm1xFAcRwGPuLsXW6yZrAm8MEDTbJHOBn5tZucRe8pHAN6sWmUdxgD7mtmmRE+wycAT\n",
       "7v5wscUCd7+NaPoCwMw2BC5ppa7dRO1xQjrFYCpwInCru08ptFQFUs2otn7DUQBbAROBV4jeV4MO\n",
       "R5GznxAdBJ4jDtQ+SBxjaAUnAb8izp94nthT3brIAlXxEaJjRctx9yuBfYihT14l9vZb6fM7kugY\n",
       "cA/wL+Lcu62KLNAASrRY1253P434bu8AphC14O0Hek2n0xASIiJSONWMRESkcAojEREpnMJIREQK\n",
       "pzASEZHCKYxERKRwCiMRESmcwkhERAqnKzBIy0rjSs3h7jtnHhtFXP1iW2BJ4qTVC4GjslfdNrNX\n",
       "gQUqZrlm5lpv44khN0YTJ29+w91fHaAsswN3Atu5+7PDf3f5MLONgFfd/ZH0/03AnO7+ziCvuxQ4\n",
       "yd3/lH8pRfpTzUha2UxXwTCz+YG7iBFavwl8DNiPOHP9gytam9miRBB9HFg0c3s4Pb8FMQrtAcC6\n",
       "wCLAbwYpywHAHa0cRMlNwGLp/zuARQcLouSHwM9T6Io0nWpG0soqLwx6FHGx1U3KVzsGnk3jSj1G\n",
       "XJ7pYmBF4N/u/kSN+R4A/MzdfwdgZl8GppjZCu7e7yKzaVTTCcSQGO2gBODu7wIv1/MCd3/CzP5J\n",
       "DKkxWDCLNJzCSApjZj3AHkRz2eLAH4E903UAK6edgxhi/aBMEAFx9dB0McxH0kMrEle9rrbMEcBa\n",
       "xHX9yq9/zsyeI2pJ1a54vjPwors/k5nP5sAkovb1PjGMx9fc/fn0/EbEWDUrA/8EDnP389JzyxMD\n",
       "+q1PjCp8AXCwu79drWnNzI4G1nb3cenq2CcRzZTzEDXFfd39cTObkop3jZkdCtyanZeZLZ1euzHw\n",
       "JnFttO9lBuy7HNgXhZEUQM10UrQfEwOgrUs0rV1WY7pliSuT31PtSXe/ozx6KxFGs5vZ9Wb2opnd\n",
       "ZGZrpecWIMahqrxA6kvEkBzVbA5cX75jZsukcp5DjPS7WSrfIel5IwYT/CMxvs9RwFlm9kkzW5AI\n",
       "rtfSe94F2JIIp4GUA2OftLzPE2PfvEpfeKyZ/u5MXMH9AynMbyB2QNclakC7Ep992fXAmqmMIk2l\n",
       "mpEU7ch0hWrMbDfgb2a2apWhCMqdEf5dxzw/mqb/PnF5/vHATWa2ElGLgf7j7rwNzFFjfmsQw4aU\n",
       "jSSG2D413X/OzC4GNkr3vwY86O4/SPf/lo53zUGMPvoesEdqRnvCzL4JXGlm36/jvS1DjDj8rLtP\n",
       "TQPaGYC7v5IGkpvu7m9WDCq3CbAUsI67TwdI4+nMl5nmGaKmtiaZ8BVpBoWRFO228j/u/oyZTSP2\n",
       "+CvD6JX0t7KHXDWfBWZ39/Iw8ePN7FPEqK4npccqg2cOYrTcasZklo+7/83M/mtmB6eyfgxYhRhd\n",
       "FKJmdm92Bu5+AoCZ7QI8lIKo7E4i4AYakrR87OxUYjTfF8zsTqJp7awBXld+7YrAM+UgSmW6oqKM\n",
       "PWkwujGDzE+k4dRMJ0WrHPl1JH21l6yngWnU6ERgZqeZ2Z4A7v5eJojKniR6mU0jahaLVTy/GDHu\n",
       "UjU9ZH4rZrZymt/qpGM2RO+8srepPSLrf6s8NzLzt9qYLh/sNKZOGWOB7VIZDgLuMbMPV3ldWS9R\n",
       "46nHSOL9ijSVwkiKVj7OgZmtQDQb9Rst1N3fB84nRhfNDsdNan7bHXg93X/WzL6eeX4EUXN5Mh2s\n",
       "v5sYbrz8/EeIJqw7a5TxJSA7SuiewF3uvqO7/8zd/0wMQV8OmaeA1SrKeL6Z/YgIkE+Y2YcyT69L\n",
       "BMBf6QuNbPPZsqSQSk1r27n75e4+njgmtRwRjAN5CljGzD6Yr5ntbWbXZe6PABZM71ekqdRMJ0U7\n",
       "InUpng78DLhhgC7Zk4iD9380s0OAvxNhdixwI3BRmu4y4FAz+zvRk+3bwPzAL9PzJwPnmtlfiHA4\n",
       "BbjK3Z+usdz7iY1+2fPAtqnp72VgJ+AL9PXg+wWwv5n9kDghdwOi2/n6wOPEaMFnmdmPiU4TpwAX\n",
       "pWM+7xC1px+a2QnEsZ5N6GsCXBA43MymEgGzC9G8+Hh6/j/ASmZ2V8V7uC59Xmemz25R4uThbI3u\n",
       "40SgPljjcxDJjWpGUrQzgTOI4cn/xsxDL1cO/f4qsB7wEBEsjwKHp3lsk+mifBBwLjHs+QNEzWLj\n",
       "cm87d7+M6NxwHHHM6kWiZ1ktV5GpSRHHnW4lrtxwNxEoOwDLm9nc6cTYLYnu148QYbiLu9/n7jOA\n",
       "zxFhcH8q58VEzY5Uxj2ALYhzpzYluoiXHZN5b08CXwS2yFw94njgCCK4P/j83L0nlWlu4njWr4Ez\n",
       "yseykk8Df84eVxJpFg07LoVJ5xlt5O63Fl2WgZjZ3MCzwDh3f7To8uTFzO4Afl4+H0qkmVQzEhlE\n",
       "qs38lLgEUUcys1WJ42IXFF0W6U4KI5H6/BRYx8zGFl2QnEwCxqfmPJGmUzOdiIgUTjUjEREpnMJI\n",
       "REQKpzASEZHCKYxERKRwCiMRESmcwkhERAr3//aA1V8RFpDeAAAAAElFTkSuQmCC\n",
       "\">\n",
       "    </div>\n",
       "    \n",
       "    <div name=\"colorgreenerror0.004\" style=\"display:none\">\n",
       "      <img src=\"data:image/png;base64,iVBORw0KGgoAAAANSUhEUgAAAaMAAAFeCAYAAAAomXAzAAAABHNCSVQICAgIfAhkiAAAAAlwSFlz\n",
       "AAALEgAACxIB0t1+/AAAIABJREFUeJzt3Xm8JNPdx/FPzxBLGMswdhke/BKxxBIEwYgnQWKJneQR\n",
       "JDERW0SGrMYgGBF7EksIEVsQQeyC2GJfYv1JyJBYYpgRYmK99/njd9qt6dt9b9+5XV29fN+vV7/u\n",
       "7e7qqtPd1fWtc+pUnVJvby8iIiJFGlF0AURERBRGIiJSOIWRiIgUTmEkIiKFUxiJiEjhFEYiIlK4\n",
       "2QabwMxuATaoePhd4GXgWmCCu79W7wLNrAfYy91Pq3P6lYDJ7v75dH834CxgTnd/p97lDoeZHQqM\n",
       "d/fFBphmCnC+u38/57KcBnwJeAdYyd1fmIV53AK86O47Vzy+GbAfsAbwIeBJ4CR3P79iumuAz1XM\n",
       "9iV3XzwzzU7AROAjwCPAt9z9z0Mtq8zMzH4J/I+7j6vx/C3AX9396zmX40bgH+6+u5ltBNwEfNTd\n",
       "nzKzuYDzgM2AacQ68DOGud42SuU2pcY0XwQ2cPcDGrjcIW37hrGcKcAF7v69Bs6zB/iGu5/eqHlW\n",
       "qqdm1AvcAKyTuX0WOAXYBThzFpY7lJObtgNWz9z/A7BOs4IoY7Ayb0X84HJjZmsDXwcmA1sN4wfd\n",
       "S8X7MbPDgcuBZ4Ddge2Bu4FzzezHFa9fCTiKmdeJzTPz+izwG+D3wBeBfwHXmtlSs1hemdlA62K/\n",
       "7zbHMpSXcz+xDjyb7m8JbE3s2GxD7Nw0Yr1tlMptSjX7A4vksOxmfzeNsg7wuwbPcyaD1oyAEvCq\n",
       "u99T8fifzGwe4PtmNre7z2h88fpz91eAV5qxrAqlgZ5094ebUIb5099z3X3KMOYz03sxs88BPwB2\n",
       "dfffZJ66wcxeASaZ2fnu/piZLQgsAVxdZZ0o+yFwaXnPLO1FPwnsCxw0jHJLGHBdbDZ3fwPIrgvz\n",
       "p8fPgA/WLxj+ettsLfU5F2mA33rD1BNGA3kj/f3gSzOzLwCHAx8FXgB+6u4/rzWDNP33gFWJmtqD\n",
       "RNPfnal57JA0XQ8wDliGTDOdmZWAvYC903NTgGPc/ez0urHE3v7nge8AnyKaGI/MVjnN7LvAnsDi\n",
       "aR4nu/tMNZ3URPgjYDHgPqLp7on03BRS1ThNdzjwbeAnwGjgFmBvd39ugM9iOeAY4NPEd3MtcKC7\n",
       "v5D9LIBnzOxsd9+jyjymACcB6wGbErWSYwf6DoADgPsrgqjsOGAh+taVldPfR2u8h7mIvajdy4+5\n",
       "+/tmdjVRoz4oTfcF4DBiPZkOXAIc7O5v1ZjvFOBEYDVir/tN4MdE7euXxGf2NPGd/Dnzut2Bg4Gx\n",
       "6fmJ7n5J5vkliVre/wILAs8DZ7j7kZlpaq4b1ZpwzWxT4GpgrLs/l5rOHgU+DqwNTHL3yWb2sfT5\n",
       "fhr4L3ABcFD2MzCz7xHr9ijgbGBktc+nwpxmdgawI/Cf9PlMdPdeM7sCWMjd180s48PEb2J8tXXA\n",
       "zGYHjgb+Ly3/uIrnNyKa6T5G/JZ3TY/3AJOI5lqI9fac1LQ3H/Hb+CIwF/BHYN/y7yN9rpsQTbxf\n",
       "Am5z98/X+brPEC02PyK+s3uIJqYnqmxTNnL3Wyvezy2kQxNmtqO7j0j/fyote3Wi+fEM4DB37828\n",
       "dj9gH2KH7Sngh+5+VWb2i5nZ74jfwuvAL9z98PTa3YjtxnhiO7Ac8Hh6f3dklvEZ4rezCvBvohXi\n",
       "R+7+LlUMtF3JTLNL+lyWBu4Cfg2clXnvMzUxDrbumtliROvZhsAcwJ+J7XrNnfZ6OzCMMLORZjZb\n",
       "us1nZpsDBxJ7yG+mAmxKbBzuI6rqZwMnmtk3a3xInyKahu4kwmJXYD7gfDMbQXzZZxJf/DrAA1Vm\n",
       "8xPgeOD8tMzrgLPMbK+K6X5FNDduDtwBnJo+UMzs/4gfzNHERukS4OTMHh3AwsCEdPsS0Q5+Qeb5\n",
       "yqrxaOLLODy9LyNqGlV3AMxsaaJZbFHgq8A3iOaNcg30DCI0IH6Ih1ebTyrDIenvNkTV+hQz+0qN\n",
       "5ZaIkL+22vPu/qa7759ZiVYmdkJONrNpZvZvM/tl2qABLEus8H+rmNUU4sdV/nFcQmzANiU2GrsD\n",
       "h9Z4T2WHEj++LYGbiXC6ntggbU1sKH+deW97Ep/b74Et0rQXpSAkrWPXpnJ9LZXlBuAIM9skTVPP\n",
       "ulFPk8iexA9yG+ByM1scuBX4MBEaE4CdKsp/cHrPJwM7AMsT695AyysBOxPr547EjsnBxMaLNP91\n",
       "0vpWtmWa52U15nkS0cx2CLAb0SS9YZXpetNyjkn31yGCMLveHpY+9z8Qn/cB6T0tBtycWY8A1gKW\n",
       "Sss7Nq2r9bxuZWLbdFD6DJYmfv/Qf5vyYJX3sVd6vHx4AjNbhVhfp6b3MZn4ziaXX2RmE4Bjie3C\n",
       "FsR27Xdmlm0S/CHwV+ALwKVEq8PWmedHE9/35PS+e4l1dmRaxhapXE8R69IxwDeJQOqnju0KaVt+\n",
       "LvH72IpoxTiV/utZb5p+0HU3lWcpYtu3LTA3cFX67quqt2a0Q7plvQFcTHzpZYcB12cOnt6Q9qoO\n",
       "NbPT3P39inl8FPiNu08oP2Bm7xNf0lLu/qyZPQ+8W64mmhmZaRci2qUnuvtR6eEbzWxeYqXPHig8\n",
       "y92PTq+7hzgmsinwBFGLmJKpKd1mZm8B2abHEcD27v54mseiwM/MbN7UTFFpTmA3d/9tmv4p4C/E\n",
       "inxxlekPAHqAz7r7fzLldOCr7n6imXma9sEBalgl4J/uvl26f11aIQ8Czqky/ULA7EDNGluFVYB5\n",
       "iRrElsQP/whiJ2J7Yg8e+mrNZO7Pnf5fk+ggcay7vwTcamZvM/j66O6+L4CZPUP8AG5395+kx34M\n",
       "/CbtPb9BrI+nu/t30+tvMLPRRJD/AViSvhrBX9M8biaOKawH3Eh960Y9zTkvZTu3mNkxwPvAZpmd\n",
       "ueeI9XcVoib1HeAEd5+cnr+JCPXB/Av4Qjqueo2ZzQ/sa2aHpff9b+KzK4fGzsAV5XJkWTTLfg3Y\n",
       "z91PTY/dTd/xoZm4+zOpFkvmNzvTeps2fusRx37L09xCrINfI3YyINaH/d396TRNva8bBWzr7k+l\n",
       "aRYBTjOzBdz9+cptSpX38ISZvcHMhyd+SOxgbZNqQteZ2ZvAL9J3OY0I/ZPdvVwTvMnMVgTWp29H\n",
       "+jJ3PziV60/EuvZpYocJYruxl7tfn6bpIXawVyEC8jDgBncvtzzcYGbTgF+b2Y/d/S8Vb2fA7Ur6\n",
       "zH4AXOnu+2XmuSRRQajmWwyw7qYyrAsc6u5Xp+fLx6LnJda/fuoNo+tSgUtEM8NPiI37Bz1N0p7J\n",
       "GsABFXv/1xNf5ErATFU0d/8V8KsUHh8jwmmr9PSH6ijX2uk9VG7cfwvskeZX3mjcnVnuDDObTiQ7\n",
       "RMrvmb6k3xI/zCMq5vlGOYiS8o+xvOGr9D6xF11e5mPpC1mvSnkhVtjryitMes3fzeze9NyJVV5T\n",
       "TW96D1lXANuZ2XzuXrkilHcQ6mn+AfgpcLa735nu325mU4HfmtnH6attV9t7Lz92D/A2cLeZnQ9c\n",
       "SfREHOzA/N2Z+y+nv9na8rT0dz6ieWYMsdHIro/XAV82s/lToG+cav1G1F5XJ8K5vP7Vs27U46mK\n",
       "+xsSNfS3MuW7nWjyGEf0WB0NXFN+QWqWvoaofdbSS7RWZDv4/IHYGVnZ3R8ws0tIYWRmCxBNRtv1\n",
       "nxUQv7GRFeV42czurDF9PTYkvqv7M+/9TeL7HUffuv4e0cQ+1Ne9Xg6i5Pn098NEk/Cslvk8YGRm\n",
       "h/h6Yl1Zj/h+FyQ+6w94/16Pd2ae600b8fkqpsmu5x+UPdVkViGa8bIuJnY01yd2eLMG2q6sZ2an\n",
       "Et9xZe/LS4jaWzWDrbt/AW4jKgQrE7/vq939BzXmB9TfTDfd3R9w9/vTsYfxwP4WbellCxBhdQLR\n",
       "fbN8u5X4gfTrFm1m85jZhcQKcivRg6Wsnr3NBdLff1U8Xt5Qjco89t+KaXpI79+j6/Ie6f4xwJNm\n",
       "dntqTiqr7KDRk/7W+gynuntP5WP0dUKoND/930f5NfPWeE0tL1aZB/R9Xh9w92nEcYWaPd3MbInM\n",
       "9J4JorIb0t+V6NvrmadimnnTcnD3Z4jjAY8Re263E8cTNqtVhqRa6NfqODM6/b2MmdfHc4n1cVH4\n",
       "oCnvJaKGfBLRFPYuaf2rc92ox8sV90cTteR3M2V7i9gzXoy+9aSys07lfKqpXI/K3395o/cb4BNm\n",
       "tjzRhPIGmbCpUF5nKstRbV2t12hiw5197+8Q68SimelerdhBqfd11X7rMLzzKkcTNYLscp+jb9u2\n",
       "YJpuatVX96lcX3urlCtb/mzZ5yfWy5k+e3d/mzj+lN3elQ20XRlFfL8jqpR7oO93sHUXovnuVOK7\n",
       "uQD4l5kdn5paq5qlDgzu/hsz2xWYaGYXp2p0eSP0Pfo2TmUl+h9DgL4D7RsBf04Hujcj3mg9yns5\n",
       "izDzhqrcJXMadfLo8HB2an7bmqgOn0I05c2Kfhv+VK7ba0w/nZl/UNnX/H2Iyx5dcX8MsdLX6oX4\n",
       "R2LvuN+ei5nNDbiZ/czdDzazHYDnswdUiZUQImyeIX5AywL3ZqZZhmgaACC9fvM0/03Tsi80s4Vq\n",
       "HYgdovK5b7vRv7NFCZhiZhsCvyCaV84o1xrN7KXsxIOsG730r1VWBnE15U4bR1cp278y8xhT8fyC\n",
       "DK5ymvI8yhucW4kN6ReJ397FVZrQy8q/oTGknYlkNH177UP1GtHcWFkbK1F752I4r5sVlbX06cRx\n",
       "6cqm7hLxWZa3OQtlnzSz1YgmwaodfqosZyD/TtPP1OXczOYkdjSqbe8G265MJWqglevZwgOUY7B1\n",
       "F3efTlQu9jezNYkduv2JWt+F1WZa73lG1RxAVFGPTgt/g+j5MjbVoh5w9weINzmR6s1unwIud/fb\n",
       "Mz+G/60oW60fCURzz7v0P561A/Eh/3WA137AzH5tZhen9/FSahu/lOgRM6vmMLONM8tYhdgg31xj\n",
       "+juAz6Umy/JrliGaPodysmiJzDk/ydbAfZmqeuV3egqwhkWPmkoHE72Wyk1/3yQO0mZtQzS73evR\n",
       "xf8u+ppbSVX5zUnv3cy+YWbPmNls7j7D3X9H1Drmpfre3ax4kvhxLlaxPq6S3lMPcXD6LXc/NhNE\n",
       "qxDrbLkX0WDrxn+ABVKolq1fR/nuJJqmH8qU7QXgSGA5d3+SqLFtW36BxUHsTRi8A8MmNvOB4m2I\n",
       "HZHH0/voJTasOxBhdD61/Zn4jWXLMT/pwP4suoNoRp2aee8PEtuUz+TwukoDbVPKepi5deZOYIWK\n",
       "del94njpwsSO1mv0P85yBnFce9jSNvYv9N/ebZ/+VttODLhdSdvdmX6vSa0mOhhk3TWzRczsn5Y6\n",
       "Zrj7fUSP0P8ywDa13vOM+lWt0jGQc4DdzWwdd7+L6MZ5kZn9h+ilNJboFXKfu1ervt4L7GBmdxCJ\n",
       "uiVxMBX69gxfAxZMBy9n+rDdfaqZ/YyooY0gUnczYm94/9QmO9D7KrsZODMd4L0J+B+iTf3kWi8e\n",
       "ZH5lZ1v0iHqP6D58t7vXag45PpX7ejM7mqhtHAb8k76eQPVaz6Jr7yXE3vvWxGebLesH5XX3P5rZ\n",
       "z4FzLHo4Xk2sG9sQvWGOcPf70+THAH8wszOJ6vdqRI+v49293IQ0megx9hLRCeAb9PUuhOjmfjxR\n",
       "EzqV+K5/SHRGeLXGexrSOR/u/p6ZHUn0jJud+FGuSnQHPzcdf7kXmMvMfkK09a+QyvEafevfYOvG\n",
       "tcQx1NPTZ7Iu0UQxWPmPB74C/N6io83sxE7bwvQdW51EdJJ5hVj3v040g1TtPJCxFHCexdUa1ie6\n",
       "Gh9Y0Wx8LvBd4Fl3r1Vbx93/bWbHEb2+3iM2ugen8s6qK4km2mstTrZ+hXhvWxNNO41+XaXpZLYp\n",
       "aS++2jSrmNlG7n4LsaG9zczOAi4iap8/JnZGPLXqHEMcJ3md+L62B1Ykc5pDFUM9l+lQ4DIzO5v4\n",
       "/RnRIed37v5IlXnWs105gujociJwFdFKsi19TYSVBlx33X26mT0NnJB20l4kfjMj0/yrqrdmVGtP\n",
       "7EdE2h0DkPZwdyL23q4ifkznU/vg6IHEga5fEAfh5gM+QXzBa6dpLiRWwEuJWlNleQ5My/kacaD+\n",
       "M8Du7n6Kmc1BfFEloovl7y26JZKdR+pIcSCxEbmG6MJ6Cn1djWt9Br01/i/7NvHZnE5sDGseE0kH\n",
       "0z9NVMXPI67mcC+wbvbgY43lVJbpRGLjfxnxXWzvM5/r0O/9uPs+xGe4BnFM4Vxi47xjpncQqXfM\n",
       "tsT3dDlRUzrCMz3F3P1KoqfOVkQgLgRs6u7/SM8/STQRLZXKeCbwEJm97xrvqx7Z7/U44jv4MvG9\n",
       "7kfU6vZOz99EX/ffa4mNxh7Ej3ztNM2A64a7P0YcQ12PWOfXT8urXDcqP+8p9J2DcVH6DKYA48ob\n",
       "R49zOvYldgguJZqiflHH+/85UZu5Ir2fA939pIrlP0FskC7oN4f+vk+0gEwgfs8P0L8beNVuwNXu\n",
       "u/t7xAbvbuKz/D2xLmyRCcZqn9ksva5KeS5i5m1KNScQTe1/MLMl3P3utGwj3vsJxLbrf8utOh69\n",
       "db9LrEdXEDs/m2VCoprBPreZHnP3y4mdxFWJ39+BxI7RzjWmH3S74tFzbw+i9eJy+nbaqjZ91rPu\n",
       "Er+XO4hzka4mthdbpN9+VaVOHnbczI4g9lS3IXrdnArM7+4DbfQasdzdyJww1kxm9nfgV+5+2KAT\n",
       "S9eyOMfuMeBj7u6DTS+dKzWnPZkNitSq8Dl3X6NZ5RjuFRha3SHAh9z9LYvzS+Zj8N4u7U6XMJGa\n",
       "zGwFYi96J+J8FQWRbAkcl3pHv0ScB7g/fScrN0Xbh1E6qFut63OPu79O9IWfSATT81Q/czwPRVU5\n",
       "O7eqK40wkuiiPIX+56tId/oW0Xx9PHEs7GngAM/xCt3VtH0zncVlW66v8tQUd182TTMHUWM4mmgX\n",
       "XTG1P4uISAto+zAaitSr6j/A2u7+0ADTzQF8kugFUk83UBGReowkekTem05WlaTtm+kGkrph3pPO\n",
       "DYHogjiCvhMia/kk0VNGRCQPn6b2CfBdqaPDiOgCOiFdz2sq0eX5Vh98TJXy5XQ+TXR/FRFphCWJ\n",
       "Hd3KS3Z1vY4OI3c/zczGEP3dP0RcJHP7gV8F9DXN/bOO4BIRqUvmJHw1/1fo6DAC8Bi4qtbYPyIi\n",
       "0gKaflKmiIhIJYWRiIgUTmEkIiKFUxiJiEjhFEYiIlI4hZGIiBROYSQiIoVTGImISOEURiIiUjiF\n",
       "kYiIFE5hJCIihVMYiYhI4RRGIiJSOIWRiIgUTmEkIiKFUxiJiEjhFEYiIlI4hZGIiBROYSQiIoVT\n",
       "GImISOEURiIiUjiFkYiIFE5hJCIihVMYiYhI4RRGIiJSOIWRiIgUTmEkIiKFUxiJiEjhFEYiIlI4\n",
       "hZGIiBSua8LIzPYws6lFl0NERPrrijAys2WB44DeossiIiL9dXwYmdlI4NfAqUCp4OKIiEgVsxVd\n",
       "gOFKYTNvlad63P114LvAI8A1wFebWTYREalPJ9SMxgHTqtweMrM1gC8BB6JakUjHK5VKi5ZKpe+X\n",
       "SqXliy6LDE3b14zc/UaqhKqZzQncB3zN3WeYWdPLJiLNUyqVlgBuAZYDVgB2K7I8MjRtH0YD+CSw\n",
       "DHBVCqLZgLnNbBqwirv/s8jCiUjjVATRO8A5hRZIhqxjw8jdbwM+XL5vZhsCl7j7wsWVSkQarUoQ\n",
       "bdPb23tzoYWSIeuEY0b1KqGu3SIdpUYQXVVooWSWdGzNqJK73wKMKbocItIYCqLO0k01IxHpEAqi\n",
       "zqMwEpG2oiDqTAojEWkbCqLOpTASkbagIOpsCiMRaXkKos6nMBKRlqYg6g4KIxFpWQqi7qEwEpGW\n",
       "pCDqLgojEWk5CqLuozASkZaiIOpOCiMRaRkKou6lMBKRlqAg6m4KIxEpnIJIFEYiUigFkYDCSEQK\n",
       "pCCSMoWRiBRCQSRZCiMRaToFkVRSGIlIUymIpBqFkYg0jYJIalEYiUhTKIhkIAojEcmdgkgGozAS\n",
       "kVwpiKQeCiMRyY2CSOqlMBKRXCiIZCgURiLScAoiGSqFkUgVpUmlUaVJpV+VJpXGZB4bkx4bVWTZ\n",
       "Wp2CSGbFbEUXQKRFnQjsBqxVmlQalx67GVgx/b97EYVqdQoimVUKI5HqDgbWIsLn0fTYwsDj6Tmp\n",
       "oCCS4VAznUgVvRN7XwbGAVOJEFo4/T8uPScZCiIZLoWRiAyLgkgaoeOb6czsUWAZoCc9NMXdVy6w\n",
       "SNIGUseFm+mrEZH+v7k0qaTaUaIgkkbp6DAys7kAA8a4+/SiyyNtZTJxvOhxorkO+jowTEYdGBRE\n",
       "0lAdHUbAysBLCiKZBfunvweXa0GpV93kzHNdS0Ekjdb2YWRmI4F5qzzVA6wGvGtmdxI/mgeB/d39\n",
       "ySYWUdpQ78Te16mo/aRQUo1IQSQ56IQODOOAaVVuDwG9wD3ATsDSwH3A1WY2ZzFFFWlvCiLJS9vX\n",
       "jNz9RgYO1dMz///AzPYGVgXuzrVgIh1GQSR56oSaUU1mNt7MPpO5PxswO/BWcaUSaT8KIslb29eM\n",
       "BjEG2NfMNgVeJQ4+P+HuDxdbLJH2oSCSZuj0MDoSGEUcN5qH+EFtVWSBRNqJgkiapaPDyN3fByak\n",
       "m4gMgYJImqmjjxmJyKxREEmzKYxEZCYKIimCwkhEPqAgkqIojEQEUBBJsRRGIqIgksIpjES6nIJI\n",
       "WoHCSKSLKYikVSiMRLqUgkhaicJIpAspiKTVKIxEuoyCSFqRwkikiyiIpFUpjES6hIJIWpnCSKTB\n",
       "SpNKo0qTSr8qTSqNyTw2Jj02qpAyKYikxXX0VbtFCnIisBuwVmlSaVx67GZgxfT/7s0sjIJI2oHC\n",
       "SKTxDgbWIsLn0fTYwsDj6bmmURBJu1AznUiD9U7sfRkYB0wlQmjh9P+49FxTKIiknSiMRDqQgkja\n",
       "jcJIpMFSx4Wb6asRlWtIN2c7NeS2fAWRtCGFkUjjTSaOFz0OrJRuj6fHJue5YAWRtKumdGAwswWB\n",
       "NYExQA/wEvCgu09vxvJFmmz/9Pfg8jGi1Ktucua5hlMQSTvLLYzMbHZgR2BfIojeAaYDI4EFgZKZ\n",
       "/Rk4FbjA3XvyKotIM/VO7H2diu7bKZRy69KtIJJ2l0sznZltCDwE/B9wDmDAh919cXdfBJgDWA24\n",
       "APgm8KSZjas1PxGpTUEknSCvmtF+wHbu/kS1J1Mt6JF0+7mZrQpMIg76ikidFETSKXIJI3ffdojT\n",
       "PwxsnUdZRDqVgkg6SbM6MCwEzHD3GWa2BrA5cL+7X92M5Yt0GgWRdJrcu3ab2dbAP4F1zWw54ge0\n",
       "E3Cxme2b9/JFOo2CSDpRM84zOhw4xN1vBL4K/MPdP04E0reasHyRjqEgkk7VjDBanug1B7AFcHn6\n",
       "/xFgiSYsX6QjKIikkzUjjF4AVjez1Ykz0Ms/ns2BZ5uwfJG2pyCSTteMDgw/AS5O/9/t7reb2STg\n",
       "B8D4JixfpK0piKQb5B5G7v4LM7sLGAtcmx6+FbjB3W/Pe/lm9kXgKGBx4DFgvLv/Je/lijSCgki6\n",
       "RVMulOruDwJ/B7Yxs52AF5oURKsBZwJ7uPso4DL6amkiLU1BJN0k95qRmS1ChMA6wDTi2nTzmdkN\n",
       "wPbu/nqOix8PnO7ud6b7xwE3mFnJ3XtzXG7HKk0qjSKG1c5eBHQM6SKg6bpsMkwKIuk2zThmdDrw\n",
       "HrCcuz8DYGYrAGcDpwC7DmfmZjYSmLfKUz3E9e/+YGZ/BFYBHgT2VhANy4nAbsBa6UrUEJdxWjH9\n",
       "n9vFQLuFgki6UTOa6T4D7FMOIgB3fwrYG9iqAfMfR9S4Km8PE1cH3wuYQHQjvx+4IgWYzJqD6Rub\n",
       "59F0K4/dc3CB5eoICiLpVs2oGb0AfASo7DSwAPDKcGeeTqatGqpm9ihwqbs/kO7/CPg2cRXxx4e7\n",
       "7G7UO7H35VQjepQYvRRiJNNx5Wa7InRC86GCSLpZM8LoSOBUM1sauI1oslsTOAI408w2KE/o7rc2\n",
       "eNkOzJm5PwIopVvX6oQNdxVt3XyoIJJu14wwOiv9PbnKcxPTrazRzYZnA782s/OI8ZWOANzdH2vw\n",
       "ctrNLG+4U2jdTNSKpqaHFwZuLk0qFVk7OhhYi77mw3K5Wr75UEEk0pzzjJrSfbzGsq80s32IAf6W\n",
       "JI4ZaaiK4W24J9N3jKgyyCZTUA2kVZsPB6MgEgm5hJGZfcjd3yn/P9C05eny4u7nAefluYx2M8wN\n",
       "9/7pb7aJbxypiS+P8nYqBZFIn7xqRm+Z2aLu/jLw1gDT9RLnHUmbSMeTdq947OXKx5qthZsPq1IQ\n",
       "icwsrzDaGJie+b8Wne9TgHbbcNepJZsPq1EQifSX17Djt2TubgD81N3fzE5jZqOAScCf8ihDtxuk\n",
       "x9zstMmGewjaovlQQSRSXV7HjFYGFiO6UB8KuJlNr5hsJeJyPQfkUQYZsMfceURPw5becA9FqzYf\n",
       "ZimIRGrLq5luNH1X6Ia+wfWy/kMMLyH5GKjH3Lcrm+JabcPdaRREIgPLs5luBICZTQHWdPdhX21B\n",
       "6jfUHnMdeiJsS1AQiQwur2a6j7j7swDuPrbO14x19yl5lEfq0tZXMGhVCiKR+uR1QuolZnaCmS07\n",
       "2IRmtpKZ/Rz4XU5l6UpVesxNpa/H3JgqL9EFUBtMQSRSv7yOGa1LdEy428xeBK4nRll9hQjAhYBP\n",
       "ED3tFgd+SpseOG9hQ+rq3K5XMGhVCiKRocnrmNG7wDFmdjKwM7A5sC0whhhn6CXi0jzHElfVnpFH\n",
       "ObpcW3R17kQKIpGhK/X26rzTSmY2lhgmfZluOY6VadZbkZlPhH0c1Y7qpiCSgXTjtqVehV3EVFpO\n",
       "tllvpXQrH0OaXGC52oaCSGTWNWMICWkPatYbBgWRyPAojARojysYtCoFkcjwqZlOZBgURCKNkWvN\n",
       "yMxWILp5LwHMAcwAngfudPen81y2yFDMyhUoFEQijZPXFRhGA78BPgc8R3TlfpsIpMWApczsKmBX\n",
       "d6+8gKrkaBeNAAAaVUlEQVRIEYZ0BQoFkUhj5VUzOhX4MDDW3Z+rfNLMPkKE1WnADjmVQWQo6h6K\n",
       "XUEk0nh5HTPaDNinWhABpOvW7QNsmtPyRYYkNc2No++ySeXLKM10jpWCSCQfeYXRq8SPdSAfBd7I\n",
       "afkiDacgEslPXs10RwLnmNlaxEiuLwBv0XfMaAPi3JXv57R8kSEZbCh2DmV2FEQiucnr2nSnmdkL\n",
       "xMVS9wHmzjz9X+Bu4P/c/bI8li8yC2pfWHYqJwOroyASyU1uXbvd/UrgSjMbASxABNIMYJq764J4\n",
       "MmwNHhCw+hUopnIyP2dNYFkURCK5yatr9+rAw+7+vrv3AK+a2bzAfsBiZvYk8Et31+ihMhwNGxCw\n",
       "2hUoUtPc6iiIRHKXVweG+4DR5Tvp2NGjwBeB+YE9gafMbMXqL5dmKU0qjSpNKv0qO+BeaVJpTHps\n",
       "VJFlq0NuAwKqs4JIczXr2nRHA+e5+3iA1HR3KnASsEmTyiBJtnmLaNLaDfhUaVLpQeAHwJW0wXDj\n",
       "eQ0IqCASab5mXZvuY8QJrgCkprvjiEsFSfOVm7duBn4COGDATsSIvF073LiCSKQYeYbR6Mz/j9C3\n",
       "51q2JHE+kjRftnnrFmb+ruakTYYbr9Idu3zC6s3ZZse656cgEilMXmE0HXjMzKab2V3Exu4XZjYX\n",
       "gJl9HTgHOC+n5csAqlxtYCGgHXs4NmxAQAWRSLFyCSN3Hw0sDmxLXIPubmAK8G6a5IfAxcAheSxf\n",
       "ZkkJeIVh1i5mmmH+nSP2B84m1eIyIXs2QxgQUEEkUrw8zzN6ibha901VnvtIXsvNMrNrgPUzD40A\n",
       "5gLWdfe7mlGGVlTRvPUW0TQH0Wy6DbGjUK5dDKcDQ8O6XlfTiAEBFUQirSG3MDKzkcSG7brs+URm\n",
       "tifwOnBR3ie/uvtmFWU6GxjZzUGUZJu3tgB+DKxGdGKYQNQuGjHceN1Xwi6CgkikdeR10uuHgSuA\n",
       "DdPtjszTaxB7rrua2Tbu/lYeZahSpq2BjYmefd2u8moDO1e5csGwu3Tn1fW6ERREIq0lr5rR94je\n",
       "ch93d88+4e7jzexk4Gpi73jScBaUamDzVnmqp1wjM7PZiK7kB7r7m8NZXidoRPNWO1MQibSevHrT\n",
       "7QQcUBlEZe7+KPAdYJcGLGscMK3K7aHMNDsCM9z94gYsryvNSmeERne9bgQFkUhryqtmtDhx8uRA\n",
       "7gOWGu6C3P1GBg/V3YHTh7usLjcrnRFqXwl7+J0jhkxBJNK68gqjfwLLA88OMM0ywL9yWv4H0gVa\n",
       "NwC+nPeyOtysdEaofiXsxnSOGBIFkUhryyuMLgUmmtlt7v525ZNmNidwGHHcKG9rAi+kruYyi2al\n",
       "M0KrHJtSEIm0vrzC6CjgLuD+1FnhHuDfxLhGawP7pmUPq/NCnT5CjDQrXUhBJNIe8roCw+vERVBv\n",
       "A44B7gf+BtxL1IhuANZx99y797r72e6uC7IOUyt2RhiMgkikfeR5BYbXgL3M7FvE4GQLEJebedrd\n",
       "389ruZKbluqMMBgFkUh7yX08o3TM6Im8lyO5a5nOCINREIm0n7yuwHABcRXo0iCT9rp7I841kpy1\n",
       "SmeEwSiIRNpTXjWjt6kzjHJavhQoO5JsphZVebmhxi9XQSTStnIJI3ffLY/5StvI9Wrd1SiIRNpb\n",
       "7seMysxsVWLws/eBh91dx5E6V1Ov1q0gEml/uYeRmS0CXAasQ1wzbiQwn5ndAGyfHV5COkMzr9at\n",
       "IBLpDHldKDXrdOA9YDl3X8jdFwA+Slxp+5QmLF86lIJIpHM0I4w+A+zj7s+UH3D3p4C9ga2asHxp\n",
       "smacIKsgEukszQijF4hL8lQqnwQrnSd7guxK6fY4fSfIDouCSKTzNKMDw5HAqWa2NHF5oPeIi5ce\n",
       "AZxpZhuUJ3T3W5tQHslfbifIKohEOlMzwuis9PfkKs9NTLeyZtTUJGd5nSCrIBLpXM24HJACRoZN\n",
       "QSTS2RQU0vIURCKdT2EkLU1BJNIdFEbSshREIt1DYSQtSUEk0l0URtJyFEQi3UdhJC1FQSTSnRRG\n",
       "0jIURCLdS2EkLUFBJNLdFEZSOAWRiCiMpFAKIhEBhZEUSEEkImUKIymEgkhEshRG0nQKIhGppDCS\n",
       "plIQiUg1CiNpGgWRiNSiMJKmUBCJyEAURpI7BZGIDKYZw44XxsxGAscCOwFzAncDe7n73wstWBdR\n",
       "EIlIPTq9ZvQV4PPAJ4CFgL8Bvyy0RF1EQSQi9er0MHqdeI+zASOBHmBGoSXqEgoiERmKtm+mS01x\n",
       "81Z5qsfdLzGzLYB/AO8DLwDrNbN83UhBJCJD1Qk1o3HAtCq3h8zsO8DawPLA/MB1wEUFlbMrKIhE\n",
       "ZFa0fc3I3W+kRqia2YPA0e7+dLq/H/CGmX3c3R9rYjG7goJIRGZVJ9SMBvIW0YuurCfd3iumOJ1L\n",
       "QSQiw9H2NaNBXAhMMLNrgReBo4BH3N2LLVZnURCJyHB1ehidRHRuuAWYB7gN2LrIAnUaBZGINEJH\n",
       "h5G79wJHpJs0mIJIRBql048ZSU4URCLSSAojGTIFkYg0msJIhkRBJCJ5UBhJ3RREIpIXhZHURUEk\n",
       "InlSGMmgFEQikjeFkQxIQSQizaAwkpoURCLSLAojqUpBJCLNpDCSfhREItJsCiOZiYJIRIqgMJIP\n",
       "KIhEpCgKIwEURCJSLIWRKIhEpHAKoy6nIBKRVqAw6mIKIhFpFQqjLqUgEpFWojDqQgoiEWk1CqMu\n",
       "oyASkVakMOoiCiIRaVUKoy6hIBKRVqYw6gIKIhFpdQqjDqcgEpF2oDDqYAoiEWkXCqMOpSASkXai\n",
       "MOpACiIRaTcKow6jIBKRdqQw6iAKIhFpVwqjDqEgEpF2NlvRBciTmc0GHArsBswJXAZ8y93fLLBY\n",
       "DacgEpF21+k1o28DuwAbA0sD8wBnFVqiBlMQiUgn6PQw2gY42t2fcvcZwPeBbcxsVMHlaggFkYh0\n",
       "irZvpjOzkcC8VZ7qAUYC/8081pseWxZ4KP/S5UdBJCKdpBNqRuOAaVVuDwNXAN8xs7FmNg9wGBFS\n",
       "cxZU1oZQEIkEM1vazN4ws7mqPPekmW04zPnvZmb3DmceUp+2rxm5+43UCFUzmx2YD7gdmAEcA+wA\n",
       "vNa0AubjZBREIrj7c1RvGYFoCeltYnFkGNo+jAaxBHCsu38HwMzWAN4Fniq0VMN3F7AqsG9vb+/V\n",
       "RRdGukOpVPoQsFSTFveP3t7edwabyMzGAs8QnZO2AH4MjAF+A8yemW5B4ETgs8SO6anuPjk9Nxo4\n",
       "CVg3vfZvwF7ufmcD348MotPD6MvARma2JbH39FPgl+7eU2yxhqe3t/cYopYn0hQpiBwY26RFTimV\n",
       "SlZPICXLET1ltwD+BBxEHBsuOxeYSpR/DPAHM/uXu59N/JZ6gI+mvycARwMbDP9tSL06PYx+AvwP\n",
       "8Byxkp0HTCi0RCKSh12Ba939JgAzOxrYJ/2/KLApsLC7/xd41syOBfYEziZ62c4gthFjgX8TrSrS\n",
       "RB0dRu7+NrB70eUQaXe9vb3vlEolo8Wa6TIWAJ4v33H3XjN7Nt1dGigBT5tZeZIRwKvp/yWIJryP\n",
       "AU8SHaBKs150mRUdHUYi0jgpHJ4uuhw1PAusUfHY4unvi8B7wBh3fxfAzOYjjjMBXAj8wt2PT8/t\n",
       "Cqyce4llJgojEekElwEHmdnmwPVEE93SAO7+DzO7DTjGzL4HzA38lqhJfYU4njwDwMw+Rhxvmr3f\n",
       "EiRXnXCekYh0t16ixrYDcCxx6sbaQPb8oJ2BRYApRG/a54G903N7AhPM7FXitIkJwEJmtgDqHt40\n",
       "pd5efc6VUnfRvwPLuPuUYksjIp1C25baVDMSEZHCKYxERKRwCiMRESmcwkhERAqnMBIRkcIpjERE\n",
       "pHAKIxERKZzCSERECqcwEpGuY2ZLmtnIosshfRRGItJwpUmlhSvulyofK4qZLUJcnXuOYc5nrJn1\n",
       "mNncjSlZd1MYiUhDlSaVvgV4aVJpjXS/RIzA+lBpUmmFQgsX5iIulqphIlqIrtotIg1TmlQaQYyQ\n",
       "ugBwY2lSaRNgW+B7wPvEmEFPNXKZZrYT8B1gmfTQb919LzNbCvh5Ks8bwE/TMBH3p+leNLMNgG8B\n",
       "U919QprfF4CT3X0ZMxsBTAK2I8Y9eg04wt1Pb+R7ENWMRKSBeif29gA7EUM6zA/cR18Q7dg7sffy\n",
       "Ri4vXXj0DOAb7j4aWB/Yxcw2Bi4mrs69CLAhMcTEJsDq6eWLuvtDDHxl7i8BXwQ2dPdRwHeBE9Q0\n",
       "13gKIxFpqN6Jve8QgZR1TO/E3ktzWNzzwErufp+ZjQZGA9OJUFoLmODub7n708A44CGqN8/VarL7\n",
       "PfAZYKqZLQm8DcwJLNjYtyEKIxFpqHSM6NCKh/cqH0NqsPeAPc3sReAuYF9iYLy3gf+4+xvlCd39\n",
       "SXd/ZYjz/xAxxtErwJXAF9Lj2nY2mD5QEWmYTGeFctPczvQ12d2YQyDtTAyqt6q7L+/uOwJvEYE0\n",
       "j5mNKk9oZjua2eeqzON9InTKRmf+Pyr9XczdVwMmNrT08gGFkYg0UglYmL5jRBfSdwxpDmDUAK+d\n",
       "FfMC7wLvmNkcZnYQ0ZHhJeA24Kj0+PLAcWnat9Nr50t/nwLGmdkoMxsDfIO+Y0jzpunfT82Ax6bH\n",
       "NSx5gymMRKRhUgeG8cA65WNEmWNI6/VO7L25wYs8B3iUGE78ESI8zgA+mpa5GHFc6UZgkrvf5O4v\n",
       "AlcDfzWzjYDTiGHLpwB/Ai7MzP8QYDngVeAG4hjSY0SvQNCQ5A2jYcer0NDAIpIHbVtqU81IREQK\n",
       "pzASEZHCKYxERKRwCiMRESmcwkhERAqnMBIRkcIpjEREpHAdNYSEmZ0IvFO+FHx6bBPgBGAs8ADw\n",
       "VXf/azElFBGRajqiZmRmo83sbOIiib2ZxxcBLgUOJl0bi7gsiYiItJCOCCPiGlTvEMGTvRT8NsCD\n",
       "7n6Vu78HHAEsbmafLKCMIiJSQ1s005nZSOKaU5V63P11YGN3f8nMflXx/EeBx8t33L3HzJ5Oj9+b\n",
       "W4FFRGRI2qVmNA6YVuX2EIC7v1TjdXMD/614bAYwVz7FFBGRWdEWNSN3v5FZC85qwTM38J9BXjcy\n",
       "/V3SzGZhsSIiVS2Z/o4ccKou1BZhNAxPANuX76TmvuXINN3VsFj6e1tO5RKR7rYYMWyFJJ0WRpXj\n",
       "2F8GTDazLwJXEaNP/sPdHxpkPvcCnwZeJAYJExFphJFEEOmYdYVOC6NeMl273f1fZrYVcZ7ROcCD\n",
       "RA+7Abn728DteRVSRLqaakRVaHA9EREpXLv0phMRkQ6mMBIRkcIpjEREpHAKIxERKZzCSERECtdp\n",
       "Xbsbph2GozCz2YBDgd2AOYnzqr7l7m8WVaaydILxscBORNnuBvZy978XWrDEzK4B1s88NIK4Wse6\n",
       "7n5XMaWaWTo/7ihgceAxYLy7/6XYUvUxs0eBZYCe9NAUd1+5wCJVZWZ7AJPdfeGiy1JmZnMAxwPb\n",
       "AR8CbgG+6e4vFFmuIqlmVKHNhqP4NrALsDGwNDAPcFahJerzFeDzwCeAhYC/Ab8stEQZ7r6Zu89b\n",
       "vgEXA+e1UBCtBpwJ7OHuo4h17eJiS9XHzOYCDFgy8zm2YhAtCxxH5rfcIn5EXLB5BWBh4FXg5EJL\n",
       "VDCFUX/tNBzFNsDR7v6Uu88Avg9sY2ajCixT2evE+jUbcdZ5D3GtwJZjZlsTgf6NosuSMR443d3v\n",
       "TPePA3Yys8qrjBRlZeAld59edEFqSbXzXwOn0v/qLEU7BNjc3V8DRgHzAVOLLVKxuq6Zrt2Goxio\n",
       "vMRGPntV8t702LKkK5rnaZDP8hIz2wL4B3FJpReA9fIu0xDK93qaZjZiQ39gs5s3B/luVwP+YGZ/\n",
       "BFYhrh6yt7s3bQ+/jvK9a2Z3Etd7fBDY392fbIXype/3u8AjwDXAV5tVrrI6yveWmU0kgul5YMNm\n",
       "lq/VdGPNqN2Go6hV3oeBK4DvmNlYM5sHOIzYUMyZc5kGK9tDZvYdYG1geaJZ8zrgoiaVa9DyZabZ\n",
       "EZjh7kU0gQ303S4I7AVMAJYA7geuSBu4osv3ELHjcw9xTHBp4D7gajNr1ro3YPnMbA3gS8CBFFcr\n",
       "qmf9Oxr4MPA74Lq0c9SVuu6NFzAcxbAMVF4zm52o3t+eyncMsAPwWp5lqrNsDxJNiE+n+/sBb5jZ\n",
       "x939saLLl7E7cHoTitPPIJ/fo8Cl7v5Auv8j4hihMfhV53MvX5L93H5gZnsDqxKdVXJXq3wpEO8D\n",
       "vubuM4oaBqae9S9dBxMzm0DsfKxEE1o1WlE31oxm1RPEhgAY0nAUeVoCONbdl3T3FYimkneBpwos\n",
       "U9lbzFxD60m394opTn9mNi+wAfDbostShTPz5zeC2MNviWMfZjbezD6TuT8bMDvxvRftk0Qvv6vM\n",
       "bDpwJbCgmU0zsyUHfmlzmNlZZpY9Rjk78R03ZUeyFXVdzWgIGjUcRZ6+DGxkZlsSbdM/BX7p7j0D\n",
       "v6wpLgQmmNm1xFAcRwGPuLsXW6yZrAm8MEDTbJHOBn5tZucRe8pHAN6sWmUdxgD7mtmmRE+wycAT\n",
       "7v5wscUCd7+NaPoCwMw2BC5ppa7dRO1xQjrFYCpwInCru08ptFQFUs2otn7DUQBbAROBV4jeV4MO\n",
       "R5GznxAdBJ4jDtQ+SBxjaAUnAb8izp94nthT3brIAlXxEaJjRctx9yuBfYihT14l9vZb6fM7kugY\n",
       "cA/wL+Lcu62KLNAASrRY1253P434bu8AphC14O0Hek2n0xASIiJSONWMRESkcAojEREpnMJIREQK\n",
       "pzASEZHCKYxERKRwCiMRESmcwkhERAqnKzBIy0rjSs3h7jtnHhtFXP1iW2BJ4qTVC4GjslfdNrNX\n",
       "gQUqZrlm5lpv44khN0YTJ29+w91fHaAsswN3Atu5+7PDf3f5MLONgFfd/ZH0/03AnO7+ziCvuxQ4\n",
       "yd3/lH8pRfpTzUha2UxXwTCz+YG7iBFavwl8DNiPOHP9gytam9miRBB9HFg0c3s4Pb8FMQrtAcC6\n",
       "wCLAbwYpywHAHa0cRMlNwGLp/zuARQcLouSHwM9T6Io0nWpG0soqLwx6FHGx1U3KVzsGnk3jSj1G\n",
       "XJ7pYmBF4N/u/kSN+R4A/MzdfwdgZl8GppjZCu7e7yKzaVTTCcSQGO2gBODu7wIv1/MCd3/CzP5J\n",
       "DKkxWDCLNJzCSApjZj3AHkRz2eLAH4E903UAK6edgxhi/aBMEAFx9dB0McxH0kMrEle9rrbMEcBa\n",
       "xHX9yq9/zsyeI2pJ1a54vjPwors/k5nP5sAkovb1PjGMx9fc/fn0/EbEWDUrA/8EDnP389JzyxMD\n",
       "+q1PjCp8AXCwu79drWnNzI4G1nb3cenq2CcRzZTzEDXFfd39cTObkop3jZkdCtyanZeZLZ1euzHw\n",
       "JnFttO9lBuy7HNgXhZEUQM10UrQfEwOgrUs0rV1WY7pliSuT31PtSXe/ozx6KxFGs5vZ9Wb2opnd\n",
       "ZGZrpecWIMahqrxA6kvEkBzVbA5cX75jZsukcp5DjPS7WSrfIel5IwYT/CMxvs9RwFlm9kkzW5AI\n",
       "rtfSe94F2JIIp4GUA2OftLzPE2PfvEpfeKyZ/u5MXMH9AynMbyB2QNclakC7Ep992fXAmqmMIk2l\n",
       "mpEU7ch0hWrMbDfgb2a2apWhCMqdEf5dxzw/mqb/PnF5/vHATWa2ElGLgf7j7rwNzFFjfmsQw4aU\n",
       "jSSG2D413X/OzC4GNkr3vwY86O4/SPf/lo53zUGMPvoesEdqRnvCzL4JXGlm36/jvS1DjDj8rLtP\n",
       "TQPaGYC7v5IGkpvu7m9WDCq3CbAUsI67TwdI4+nMl5nmGaKmtiaZ8BVpBoWRFO228j/u/oyZTSP2\n",
       "+CvD6JX0t7KHXDWfBWZ39/Iw8ePN7FPEqK4npccqg2cOYrTcasZklo+7/83M/mtmB6eyfgxYhRhd\n",
       "FKJmdm92Bu5+AoCZ7QI8lIKo7E4i4AYakrR87OxUYjTfF8zsTqJp7awBXld+7YrAM+UgSmW6oqKM\n",
       "PWkwujGDzE+k4dRMJ0WrHPl1JH21l6yngWnU6ERgZqeZ2Z4A7v5eJojKniR6mU0jahaLVTy/GDHu\n",
       "UjU9ZH4rZrZymt/qpGM2RO+8srepPSLrf6s8NzLzt9qYLh/sNKZOGWOB7VIZDgLuMbMPV3ldWS9R\n",
       "46nHSOL9ijSVwkiKVj7OgZmtQDQb9Rst1N3fB84nRhfNDsdNan7bHXg93X/WzL6eeX4EUXN5Mh2s\n",
       "v5sYbrz8/EeIJqw7a5TxJSA7SuiewF3uvqO7/8zd/0wMQV8OmaeA1SrKeL6Z/YgIkE+Y2YcyT69L\n",
       "BMBf6QuNbPPZsqSQSk1r27n75e4+njgmtRwRjAN5CljGzD6Yr5ntbWbXZe6PABZM71ekqdRMJ0U7\n",
       "InUpng78DLhhgC7Zk4iD9380s0OAvxNhdixwI3BRmu4y4FAz+zvRk+3bwPzAL9PzJwPnmtlfiHA4\n",
       "BbjK3Z+usdz7iY1+2fPAtqnp72VgJ+AL9PXg+wWwv5n9kDghdwOi2/n6wOPEaMFnmdmPiU4TpwAX\n",
       "pWM+7xC1px+a2QnEsZ5N6GsCXBA43MymEgGzC9G8+Hh6/j/ASmZ2V8V7uC59Xmemz25R4uThbI3u\n",
       "40SgPljjcxDJjWpGUrQzgTOI4cn/xsxDL1cO/f4qsB7wEBEsjwKHp3lsk+mifBBwLjHs+QNEzWLj\n",
       "cm87d7+M6NxwHHHM6kWiZ1ktV5GpSRHHnW4lrtxwNxEoOwDLm9nc6cTYLYnu148QYbiLu9/n7jOA\n",
       "zxFhcH8q58VEzY5Uxj2ALYhzpzYluoiXHZN5b08CXwS2yFw94njgCCK4P/j83L0nlWlu4njWr4Ez\n",
       "yseykk8Df84eVxJpFg07LoVJ5xlt5O63Fl2WgZjZ3MCzwDh3f7To8uTFzO4Afl4+H0qkmVQzEhlE\n",
       "qs38lLgEUUcys1WJ42IXFF0W6U4KI5H6/BRYx8zGFl2QnEwCxqfmPJGmUzOdiIgUTjUjEREpnMJI\n",
       "REQKpzASEZHCKYxERKRwCiMRESmcwkhERAr3//aA1V8RFpDeAAAAAElFTkSuQmCC\n",
       "\">\n",
       "    </div>\n",
       "    \n",
       "    <div name=\"colorgreenerror0.005\" style=\"display:none\">\n",
       "      <img src=\"data:image/png;base64,iVBORw0KGgoAAAANSUhEUgAAAaMAAAFeCAYAAAAomXAzAAAABHNCSVQICAgIfAhkiAAAAAlwSFlz\n",
       "AAALEgAACxIB0t1+/AAAIABJREFUeJzt3Xm8JNPdx/FPzxBLGMswdhke/BKxxBIEwYgnQWKJneQR\n",
       "JDERW0SGrMYgGBF7EksIEVsQQeyC2GJfYv1JyJBYYpgRYmK99/njd9qt6dt9b9+5XV29fN+vV7/u\n",
       "7e7qqtPd1fWtc+pUnVJvby8iIiJFGlF0AURERBRGIiJSOIWRiIgUTmEkIiKFUxiJiEjhFEYiIlK4\n",
       "2QabwMxuATaoePhd4GXgWmCCu79W7wLNrAfYy91Pq3P6lYDJ7v75dH834CxgTnd/p97lDoeZHQqM\n",
       "d/fFBphmCnC+u38/57KcBnwJeAdYyd1fmIV53AK86O47Vzy+GbAfsAbwIeBJ4CR3P79iumuAz1XM\n",
       "9iV3XzwzzU7AROAjwCPAt9z9z0Mtq8zMzH4J/I+7j6vx/C3AX9396zmX40bgH+6+u5ltBNwEfNTd\n",
       "nzKzuYDzgM2AacQ68DOGud42SuU2pcY0XwQ2cPcDGrjcIW37hrGcKcAF7v69Bs6zB/iGu5/eqHlW\n",
       "qqdm1AvcAKyTuX0WOAXYBThzFpY7lJObtgNWz9z/A7BOs4IoY7Ayb0X84HJjZmsDXwcmA1sN4wfd\n",
       "S8X7MbPDgcuBZ4Ddge2Bu4FzzezHFa9fCTiKmdeJzTPz+izwG+D3wBeBfwHXmtlSs1hemdlA62K/\n",
       "7zbHMpSXcz+xDjyb7m8JbE3s2GxD7Nw0Yr1tlMptSjX7A4vksOxmfzeNsg7wuwbPcyaD1oyAEvCq\n",
       "u99T8fifzGwe4PtmNre7z2h88fpz91eAV5qxrAqlgZ5094ebUIb5099z3X3KMOYz03sxs88BPwB2\n",
       "dfffZJ66wcxeASaZ2fnu/piZLQgsAVxdZZ0o+yFwaXnPLO1FPwnsCxw0jHJLGHBdbDZ3fwPIrgvz\n",
       "p8fPgA/WLxj+ettsLfU5F2mA33rD1BNGA3kj/f3gSzOzLwCHAx8FXgB+6u4/rzWDNP33gFWJmtqD\n",
       "RNPfnal57JA0XQ8wDliGTDOdmZWAvYC903NTgGPc/ez0urHE3v7nge8AnyKaGI/MVjnN7LvAnsDi\n",
       "aR4nu/tMNZ3URPgjYDHgPqLp7on03BRS1ThNdzjwbeAnwGjgFmBvd39ugM9iOeAY4NPEd3MtcKC7\n",
       "v5D9LIBnzOxsd9+jyjymACcB6wGbErWSYwf6DoADgPsrgqjsOGAh+taVldPfR2u8h7mIvajdy4+5\n",
       "+/tmdjVRoz4oTfcF4DBiPZkOXAIc7O5v1ZjvFOBEYDVir/tN4MdE7euXxGf2NPGd/Dnzut2Bg4Gx\n",
       "6fmJ7n5J5vkliVre/wILAs8DZ7j7kZlpaq4b1ZpwzWxT4GpgrLs/l5rOHgU+DqwNTHL3yWb2sfT5\n",
       "fhr4L3ABcFD2MzCz7xHr9ijgbGBktc+nwpxmdgawI/Cf9PlMdPdeM7sCWMjd180s48PEb2J8tXXA\n",
       "zGYHjgb+Ly3/uIrnNyKa6T5G/JZ3TY/3AJOI5lqI9fac1LQ3H/Hb+CIwF/BHYN/y7yN9rpsQTbxf\n",
       "Am5z98/X+brPEC02PyK+s3uIJqYnqmxTNnL3Wyvezy2kQxNmtqO7j0j/fyote3Wi+fEM4DB37828\n",
       "dj9gH2KH7Sngh+5+VWb2i5nZ74jfwuvAL9z98PTa3YjtxnhiO7Ac8Hh6f3dklvEZ4rezCvBvohXi\n",
       "R+7+LlUMtF3JTLNL+lyWBu4Cfg2clXnvMzUxDrbumtliROvZhsAcwJ+J7XrNnfZ6OzCMMLORZjZb\n",
       "us1nZpsDBxJ7yG+mAmxKbBzuI6rqZwMnmtk3a3xInyKahu4kwmJXYD7gfDMbQXzZZxJf/DrAA1Vm\n",
       "8xPgeOD8tMzrgLPMbK+K6X5FNDduDtwBnJo+UMzs/4gfzNHERukS4OTMHh3AwsCEdPsS0Q5+Qeb5\n",
       "yqrxaOLLODy9LyNqGlV3AMxsaaJZbFHgq8A3iOaNcg30DCI0IH6Ih1ebTyrDIenvNkTV+hQz+0qN\n",
       "5ZaIkL+22vPu/qa7759ZiVYmdkJONrNpZvZvM/tl2qABLEus8H+rmNUU4sdV/nFcQmzANiU2GrsD\n",
       "h9Z4T2WHEj++LYGbiXC6ntggbU1sKH+deW97Ep/b74Et0rQXpSAkrWPXpnJ9LZXlBuAIM9skTVPP\n",
       "ulFPk8iexA9yG+ByM1scuBX4MBEaE4CdKsp/cHrPJwM7AMsT695AyysBOxPr547EjsnBxMaLNP91\n",
       "0vpWtmWa52U15nkS0cx2CLAb0SS9YZXpetNyjkn31yGCMLveHpY+9z8Qn/cB6T0tBtycWY8A1gKW\n",
       "Sss7Nq2r9bxuZWLbdFD6DJYmfv/Qf5vyYJX3sVd6vHx4AjNbhVhfp6b3MZn4ziaXX2RmE4Bjie3C\n",
       "FsR27Xdmlm0S/CHwV+ALwKVEq8PWmedHE9/35PS+e4l1dmRaxhapXE8R69IxwDeJQOqnju0KaVt+\n",
       "LvH72IpoxTiV/utZb5p+0HU3lWcpYtu3LTA3cFX67quqt2a0Q7plvQFcTHzpZYcB12cOnt6Q9qoO\n",
       "NbPT3P39inl8FPiNu08oP2Bm7xNf0lLu/qyZPQ+8W64mmhmZaRci2qUnuvtR6eEbzWxeYqXPHig8\n",
       "y92PTq+7hzgmsinwBFGLmJKpKd1mZm8B2abHEcD27v54mseiwM/MbN7UTFFpTmA3d/9tmv4p4C/E\n",
       "inxxlekPAHqAz7r7fzLldOCr7n6imXma9sEBalgl4J/uvl26f11aIQ8Czqky/ULA7EDNGluFVYB5\n",
       "iRrElsQP/whiJ2J7Yg8e+mrNZO7Pnf5fk+ggcay7vwTcamZvM/j66O6+L4CZPUP8AG5395+kx34M\n",
       "/CbtPb9BrI+nu/t30+tvMLPRRJD/AViSvhrBX9M8biaOKawH3Eh960Y9zTkvZTu3mNkxwPvAZpmd\n",
       "ueeI9XcVoib1HeAEd5+cnr+JCPXB/Av4Qjqueo2ZzQ/sa2aHpff9b+KzK4fGzsAV5XJkWTTLfg3Y\n",
       "z91PTY/dTd/xoZm4+zOpFkvmNzvTeps2fusRx37L09xCrINfI3YyINaH/d396TRNva8bBWzr7k+l\n",
       "aRYBTjOzBdz9+cptSpX38ISZvcHMhyd+SOxgbZNqQteZ2ZvAL9J3OY0I/ZPdvVwTvMnMVgTWp29H\n",
       "+jJ3PziV60/EuvZpYocJYruxl7tfn6bpIXawVyEC8jDgBncvtzzcYGbTgF+b2Y/d/S8Vb2fA7Ur6\n",
       "zH4AXOnu+2XmuSRRQajmWwyw7qYyrAsc6u5Xp+fLx6LnJda/fuoNo+tSgUtEM8NPiI37Bz1N0p7J\n",
       "GsABFXv/1xNf5ErATFU0d/8V8KsUHh8jwmmr9PSH6ijX2uk9VG7cfwvskeZX3mjcnVnuDDObTiQ7\n",
       "RMrvmb6k3xI/zCMq5vlGOYiS8o+xvOGr9D6xF11e5mPpC1mvSnkhVtjryitMes3fzeze9NyJVV5T\n",
       "TW96D1lXANuZ2XzuXrkilHcQ6mn+AfgpcLa735nu325mU4HfmtnH6attV9t7Lz92D/A2cLeZnQ9c\n",
       "SfREHOzA/N2Z+y+nv9na8rT0dz6ieWYMsdHIro/XAV82s/lToG+cav1G1F5XJ8K5vP7Vs27U46mK\n",
       "+xsSNfS3MuW7nWjyGEf0WB0NXFN+QWqWvoaofdbSS7RWZDv4/IHYGVnZ3R8ws0tIYWRmCxBNRtv1\n",
       "nxUQv7GRFeV42czurDF9PTYkvqv7M+/9TeL7HUffuv4e0cQ+1Ne9Xg6i5Pn098NEk/Cslvk8YGRm\n",
       "h/h6Yl1Zj/h+FyQ+6w94/16Pd2ae600b8fkqpsmu5x+UPdVkViGa8bIuJnY01yd2eLMG2q6sZ2an\n",
       "Et9xZe/LS4jaWzWDrbt/AW4jKgQrE7/vq939BzXmB9TfTDfd3R9w9/vTsYfxwP4WbellCxBhdQLR\n",
       "fbN8u5X4gfTrFm1m85jZhcQKcivRg6Wsnr3NBdLff1U8Xt5Qjco89t+KaXpI79+j6/Ie6f4xwJNm\n",
       "dntqTiqr7KDRk/7W+gynuntP5WP0dUKoND/930f5NfPWeE0tL1aZB/R9Xh9w92nEcYWaPd3MbInM\n",
       "9J4JorIb0t+V6NvrmadimnnTcnD3Z4jjAY8Re263E8cTNqtVhqRa6NfqODM6/b2MmdfHc4n1cVH4\n",
       "oCnvJaKGfBLRFPYuaf2rc92ox8sV90cTteR3M2V7i9gzXoy+9aSys07lfKqpXI/K3395o/cb4BNm\n",
       "tjzRhPIGmbCpUF5nKstRbV2t12hiw5197+8Q68SimelerdhBqfd11X7rMLzzKkcTNYLscp+jb9u2\n",
       "YJpuatVX96lcX3urlCtb/mzZ5yfWy5k+e3d/mzj+lN3elQ20XRlFfL8jqpR7oO93sHUXovnuVOK7\n",
       "uQD4l5kdn5paq5qlDgzu/hsz2xWYaGYXp2p0eSP0Pfo2TmUl+h9DgL4D7RsBf04Hujcj3mg9yns5\n",
       "izDzhqrcJXMadfLo8HB2an7bmqgOn0I05c2Kfhv+VK7ba0w/nZl/UNnX/H2Iyx5dcX8MsdLX6oX4\n",
       "R2LvuN+ei5nNDbiZ/czdDzazHYDnswdUiZUQImyeIX5AywL3ZqZZhmgaACC9fvM0/03Tsi80s4Vq\n",
       "HYgdovK5b7vRv7NFCZhiZhsCvyCaV84o1xrN7KXsxIOsG730r1VWBnE15U4bR1cp278y8xhT8fyC\n",
       "DK5ymvI8yhucW4kN6ReJ397FVZrQy8q/oTGknYlkNH177UP1GtHcWFkbK1F752I4r5sVlbX06cRx\n",
       "6cqm7hLxWZa3OQtlnzSz1YgmwaodfqosZyD/TtPP1OXczOYkdjSqbe8G265MJWqglevZwgOUY7B1\n",
       "F3efTlQu9jezNYkduv2JWt+F1WZa73lG1RxAVFGPTgt/g+j5MjbVoh5w9weINzmR6s1unwIud/fb\n",
       "Mz+G/60oW60fCURzz7v0P561A/Eh/3WA137AzH5tZhen9/FSahu/lOgRM6vmMLONM8tYhdgg31xj\n",
       "+juAz6Umy/JrliGaPodysmiJzDk/ydbAfZmqeuV3egqwhkWPmkoHE72Wyk1/3yQO0mZtQzS73evR\n",
       "xf8u+ppbSVX5zUnv3cy+YWbPmNls7j7D3X9H1Drmpfre3ax4kvhxLlaxPq6S3lMPcXD6LXc/NhNE\n",
       "qxDrbLkX0WDrxn+ABVKolq1fR/nuJJqmH8qU7QXgSGA5d3+SqLFtW36BxUHsTRi8A8MmNvOB4m2I\n",
       "HZHH0/voJTasOxBhdD61/Zn4jWXLMT/pwP4suoNoRp2aee8PEtuUz+TwukoDbVPKepi5deZOYIWK\n",
       "del94njpwsSO1mv0P85yBnFce9jSNvYv9N/ebZ/+VttODLhdSdvdmX6vSa0mOhhk3TWzRczsn5Y6\n",
       "Zrj7fUSP0P8ywDa13vOM+lWt0jGQc4DdzWwdd7+L6MZ5kZn9h+ilNJboFXKfu1ervt4L7GBmdxCJ\n",
       "uiVxMBX69gxfAxZMBy9n+rDdfaqZ/YyooY0gUnczYm94/9QmO9D7KrsZODMd4L0J+B+iTf3kWi8e\n",
       "ZH5lZ1v0iHqP6D58t7vXag45PpX7ejM7mqhtHAb8k76eQPVaz6Jr7yXE3vvWxGebLesH5XX3P5rZ\n",
       "z4FzLHo4Xk2sG9sQvWGOcPf70+THAH8wszOJ6vdqRI+v49293IQ0megx9hLRCeAb9PUuhOjmfjxR\n",
       "EzqV+K5/SHRGeLXGexrSOR/u/p6ZHUn0jJud+FGuSnQHPzcdf7kXmMvMfkK09a+QyvEafevfYOvG\n",
       "tcQx1NPTZ7Iu0UQxWPmPB74C/N6io83sxE7bwvQdW51EdJJ5hVj3v040g1TtPJCxFHCexdUa1ie6\n",
       "Gh9Y0Wx8LvBd4Fl3r1Vbx93/bWbHEb2+3iM2ugen8s6qK4km2mstTrZ+hXhvWxNNO41+XaXpZLYp\n",
       "aS++2jSrmNlG7n4LsaG9zczOAi4iap8/JnZGPLXqHEMcJ3md+L62B1Ykc5pDFUM9l+lQ4DIzO5v4\n",
       "/RnRIed37v5IlXnWs105gujociJwFdFKsi19TYSVBlx33X26mT0NnJB20l4kfjMj0/yrqrdmVGtP\n",
       "7EdE2h0DkPZwdyL23q4ifkznU/vg6IHEga5fEAfh5gM+QXzBa6dpLiRWwEuJWlNleQ5My/kacaD+\n",
       "M8Du7n6Kmc1BfFEloovl7y26JZKdR+pIcSCxEbmG6MJ6Cn1djWt9Br01/i/7NvHZnE5sDGseE0kH\n",
       "0z9NVMXPI67mcC+wbvbgY43lVJbpRGLjfxnxXWzvM5/r0O/9uPs+xGe4BnFM4Vxi47xjpncQqXfM\n",
       "tsT3dDlRUzrCMz3F3P1KoqfOVkQgLgRs6u7/SM8/STQRLZXKeCbwEJm97xrvqx7Z7/U44jv4MvG9\n",
       "7kfU6vZOz99EX/ffa4mNxh7Ej3ztNM2A64a7P0YcQ12PWOfXT8urXDcqP+8p9J2DcVH6DKYA48ob\n",
       "R49zOvYldgguJZqiflHH+/85UZu5Ir2fA939pIrlP0FskC7oN4f+vk+0gEwgfs8P0L8beNVuwNXu\n",
       "u/t7xAbvbuKz/D2xLmyRCcZqn9ksva5KeS5i5m1KNScQTe1/MLMl3P3utGwj3vsJxLbrf8utOh69\n",
       "db9LrEdXEDs/m2VCoprBPreZHnP3y4mdxFWJ39+BxI7RzjWmH3S74tFzbw+i9eJy+nbaqjZ91rPu\n",
       "Er+XO4hzka4mthdbpN9+VaVOHnbczI4g9lS3IXrdnArM7+4DbfQasdzdyJww1kxm9nfgV+5+2KAT\n",
       "S9eyOMfuMeBj7u6DTS+dKzWnPZkNitSq8Dl3X6NZ5RjuFRha3SHAh9z9LYvzS+Zj8N4u7U6XMJGa\n",
       "zGwFYi96J+J8FQWRbAkcl3pHv0ScB7g/fScrN0Xbh1E6qFut63OPu79O9IWfSATT81Q/czwPRVU5\n",
       "O7eqK40wkuiiPIX+56tId/oW0Xx9PHEs7GngAM/xCt3VtH0zncVlW66v8tQUd182TTMHUWM4mmgX\n",
       "XTG1P4uISAto+zAaitSr6j/A2u7+0ADTzQF8kugFUk83UBGReowkekTem05WlaTtm+kGkrph3pPO\n",
       "DYHogjiCvhMia/kk0VNGRCQPn6b2CfBdqaPDiOgCOiFdz2sq0eX5Vh98TJXy5XQ+TXR/FRFphCWJ\n",
       "Hd3KS3Z1vY4OI3c/zczGEP3dP0RcJHP7gV8F9DXN/bOO4BIRqUvmJHw1/1fo6DAC8Bi4qtbYPyIi\n",
       "0gKaflKmiIhIJYWRiIgUTmEkIiKFUxiJiEjhFEYiIlI4hZGIiBROYSQiIoVTGImISOEURiIiUjiF\n",
       "kYiIFE5hJCIihVMYiYhI4RRGIiJSOIWRiIgUTmEkIiKFUxiJiEjhFEYiIlI4hZGIiBROYSQiIoVT\n",
       "GImISOEURiIiUjiFkYiIFE5hJCIihVMYiYhI4RRGIiJSOIWRiIgUTmEkIiKFUxiJiEjhFEYiIlI4\n",
       "hZGIiBSua8LIzPYws6lFl0NERPrrijAys2WB44DeossiIiL9dXwYmdlI4NfAqUCp4OKIiEgVsxVd\n",
       "gOFKYTNvlad63P114LvAI8A1wFebWTYREalPJ9SMxgHTqtweMrM1gC8BB6JakUjHK5VKi5ZKpe+X\n",
       "SqXliy6LDE3b14zc/UaqhKqZzQncB3zN3WeYWdPLJiLNUyqVlgBuAZYDVgB2K7I8MjRtH0YD+CSw\n",
       "DHBVCqLZgLnNbBqwirv/s8jCiUjjVATRO8A5hRZIhqxjw8jdbwM+XL5vZhsCl7j7wsWVSkQarUoQ\n",
       "bdPb23tzoYWSIeuEY0b1KqGu3SIdpUYQXVVooWSWdGzNqJK73wKMKbocItIYCqLO0k01IxHpEAqi\n",
       "zqMwEpG2oiDqTAojEWkbCqLOpTASkbagIOpsCiMRaXkKos6nMBKRlqYg6g4KIxFpWQqi7qEwEpGW\n",
       "pCDqLgojEWk5CqLuozASkZaiIOpOCiMRaRkKou6lMBKRlqAg6m4KIxEpnIJIFEYiUigFkYDCSEQK\n",
       "pCCSMoWRiBRCQSRZCiMRaToFkVRSGIlIUymIpBqFkYg0jYJIalEYiUhTKIhkIAojEcmdgkgGozAS\n",
       "kVwpiKQeCiMRyY2CSOqlMBKRXCiIZCgURiLScAoiGSqFkUgVpUmlUaVJpV+VJpXGZB4bkx4bVWTZ\n",
       "Wp2CSGbFbEUXQKRFnQjsBqxVmlQalx67GVgx/b97EYVqdQoimVUKI5HqDgbWIsLn0fTYwsDj6Tmp\n",
       "oCCS4VAznUgVvRN7XwbGAVOJEFo4/T8uPScZCiIZLoWRiAyLgkgaoeOb6czsUWAZoCc9NMXdVy6w\n",
       "SNIGUseFm+mrEZH+v7k0qaTaUaIgkkbp6DAys7kAA8a4+/SiyyNtZTJxvOhxorkO+jowTEYdGBRE\n",
       "0lAdHUbAysBLCiKZBfunvweXa0GpV93kzHNdS0Ekjdb2YWRmI4F5qzzVA6wGvGtmdxI/mgeB/d39\n",
       "ySYWUdpQ78Te16mo/aRQUo1IQSQ56IQODOOAaVVuDwG9wD3ATsDSwH3A1WY2ZzFFFWlvCiLJS9vX\n",
       "jNz9RgYO1dMz///AzPYGVgXuzrVgIh1GQSR56oSaUU1mNt7MPpO5PxswO/BWcaUSaT8KIslb29eM\n",
       "BjEG2NfMNgVeJQ4+P+HuDxdbLJH2oSCSZuj0MDoSGEUcN5qH+EFtVWSBRNqJgkiapaPDyN3fByak\n",
       "m4gMgYJImqmjjxmJyKxREEmzKYxEZCYKIimCwkhEPqAgkqIojEQEUBBJsRRGIqIgksIpjES6nIJI\n",
       "WoHCSKSLKYikVSiMRLqUgkhaicJIpAspiKTVKIxEuoyCSFqRwkikiyiIpFUpjES6hIJIWpnCSKTB\n",
       "SpNKo0qTSr8qTSqNyTw2Jj02qpAyKYikxXX0VbtFCnIisBuwVmlSaVx67GZgxfT/7s0sjIJI2oHC\n",
       "SKTxDgbWIsLn0fTYwsDj6bmmURBJu1AznUiD9U7sfRkYB0wlQmjh9P+49FxTKIiknSiMRDqQgkja\n",
       "jcJIpMFSx4Wb6asRlWtIN2c7NeS2fAWRtCGFkUjjTSaOFz0OrJRuj6fHJue5YAWRtKumdGAwswWB\n",
       "NYExQA/wEvCgu09vxvJFmmz/9Pfg8jGi1Ktucua5hlMQSTvLLYzMbHZgR2BfIojeAaYDI4EFgZKZ\n",
       "/Rk4FbjA3XvyKotIM/VO7H2diu7bKZRy69KtIJJ2l0sznZltCDwE/B9wDmDAh919cXdfBJgDWA24\n",
       "APgm8KSZjas1PxGpTUEknSCvmtF+wHbu/kS1J1Mt6JF0+7mZrQpMIg76ikidFETSKXIJI3ffdojT\n",
       "PwxsnUdZRDqVgkg6SbM6MCwEzHD3GWa2BrA5cL+7X92M5Yt0GgWRdJrcu3ab2dbAP4F1zWw54ge0\n",
       "E3Cxme2b9/JFOo2CSDpRM84zOhw4xN1vBL4K/MPdP04E0reasHyRjqEgkk7VjDBanug1B7AFcHn6\n",
       "/xFgiSYsX6QjKIikkzUjjF4AVjez1Ykz0Ms/ns2BZ5uwfJG2pyCSTteMDgw/AS5O/9/t7reb2STg\n",
       "B8D4JixfpK0piKQb5B5G7v4LM7sLGAtcmx6+FbjB3W/Pe/lm9kXgKGBx4DFgvLv/Je/lijSCgki6\n",
       "RVMulOruDwJ/B7Yxs52AF5oURKsBZwJ7uPso4DL6amkiLU1BJN0k95qRmS1ChMA6wDTi2nTzmdkN\n",
       "wPbu/nqOix8PnO7ud6b7xwE3mFnJ3XtzXG7HKk0qjSKG1c5eBHQM6SKg6bpsMkwKIuk2zThmdDrw\n",
       "HrCcuz8DYGYrAGcDpwC7DmfmZjYSmLfKUz3E9e/+YGZ/BFYBHgT2VhANy4nAbsBa6UrUEJdxWjH9\n",
       "n9vFQLuFgki6UTOa6T4D7FMOIgB3fwrYG9iqAfMfR9S4Km8PE1cH3wuYQHQjvx+4IgWYzJqD6Rub\n",
       "59F0K4/dc3CB5eoICiLpVs2oGb0AfASo7DSwAPDKcGeeTqatGqpm9ihwqbs/kO7/CPg2cRXxx4e7\n",
       "7G7UO7H35VQjepQYvRRiJNNx5Wa7InRC86GCSLpZM8LoSOBUM1sauI1oslsTOAI408w2KE/o7rc2\n",
       "eNkOzJm5PwIopVvX6oQNdxVt3XyoIJJu14wwOiv9PbnKcxPTrazRzYZnA782s/OI8ZWOANzdH2vw\n",
       "ctrNLG+4U2jdTNSKpqaHFwZuLk0qFVk7OhhYi77mw3K5Wr75UEEk0pzzjJrSfbzGsq80s32IAf6W\n",
       "JI4ZaaiK4W24J9N3jKgyyCZTUA2kVZsPB6MgEgm5hJGZfcjd3yn/P9C05eny4u7nAefluYx2M8wN\n",
       "9/7pb7aJbxypiS+P8nYqBZFIn7xqRm+Z2aLu/jLw1gDT9RLnHUmbSMeTdq947OXKx5qthZsPq1IQ\n",
       "icwsrzDaGJie+b8Wne9TgHbbcNepJZsPq1EQifSX17Djt2TubgD81N3fzE5jZqOAScCf8ihDtxuk\n",
       "x9zstMmGewjaovlQQSRSXV7HjFYGFiO6UB8KuJlNr5hsJeJyPQfkUQYZsMfceURPw5becA9FqzYf\n",
       "ZimIRGrLq5luNH1X6Ia+wfWy/kMMLyH5GKjH3Lcrm+JabcPdaRREIgPLs5luBICZTQHWdPdhX21B\n",
       "6jfUHnMdeiJsS1AQiQwur2a6j7j7swDuPrbO14x19yl5lEfq0tZXMGhVCiKR+uR1QuolZnaCmS07\n",
       "2IRmtpKZ/Rz4XU5l6UpVesxNpa/H3JgqL9EFUBtMQSRSv7yOGa1LdEy428xeBK4nRll9hQjAhYBP\n",
       "ED3tFgd+SpseOG9hQ+rq3K5XMGhVCiKRocnrmNG7wDFmdjKwM7A5sC0whhhn6CXi0jzHElfVnpFH\n",
       "ObpcW3R17kQKIpGhK/X26rzTSmY2lhgmfZluOY6VadZbkZlPhH0c1Y7qpiCSgXTjtqVehV3EVFpO\n",
       "tllvpXQrH0OaXGC52oaCSGTWNWMICWkPatYbBgWRyPAojARojysYtCoFkcjwqZlOZBgURCKNkWvN\n",
       "yMxWILp5LwHMAcwAngfudPen81y2yFDMyhUoFEQijZPXFRhGA78BPgc8R3TlfpsIpMWApczsKmBX\n",
       "d6+8gKrkaBeNAAAaVUlEQVRIEYZ0BQoFkUhj5VUzOhX4MDDW3Z+rfNLMPkKE1WnADjmVQWQo6h6K\n",
       "XUEk0nh5HTPaDNinWhABpOvW7QNsmtPyRYYkNc2No++ySeXLKM10jpWCSCQfeYXRq8SPdSAfBd7I\n",
       "afkiDacgEslPXs10RwLnmNlaxEiuLwBv0XfMaAPi3JXv57R8kSEZbCh2DmV2FEQiucnr2nSnmdkL\n",
       "xMVS9wHmzjz9X+Bu4P/c/bI8li8yC2pfWHYqJwOroyASyU1uXbvd/UrgSjMbASxABNIMYJq764J4\n",
       "MmwNHhCw+hUopnIyP2dNYFkURCK5yatr9+rAw+7+vrv3AK+a2bzAfsBiZvYk8Et31+ihMhwNGxCw\n",
       "2hUoUtPc6iiIRHKXVweG+4DR5Tvp2NGjwBeB+YE9gafMbMXqL5dmKU0qjSpNKv0qO+BeaVJpTHps\n",
       "VJFlq0NuAwKqs4JIczXr2nRHA+e5+3iA1HR3KnASsEmTyiBJtnmLaNLaDfhUaVLpQeAHwJW0wXDj\n",
       "eQ0IqCASab5mXZvuY8QJrgCkprvjiEsFSfOVm7duBn4COGDATsSIvF073LiCSKQYeYbR6Mz/j9C3\n",
       "51q2JHE+kjRftnnrFmb+ruakTYYbr9Idu3zC6s3ZZse656cgEilMXmE0HXjMzKab2V3Exu4XZjYX\n",
       "gJl9HTgHOC+n5csAqlxtYCGgHXs4NmxAQAWRSLFyCSN3Hw0sDmxLXIPubmAK8G6a5IfAxcAheSxf\n",
       "ZkkJeIVh1i5mmmH+nSP2B84m1eIyIXs2QxgQUEEkUrw8zzN6ibha901VnvtIXsvNMrNrgPUzD40A\n",
       "5gLWdfe7mlGGVlTRvPUW0TQH0Wy6DbGjUK5dDKcDQ8O6XlfTiAEBFUQirSG3MDKzkcSG7brs+URm\n",
       "tifwOnBR3ie/uvtmFWU6GxjZzUGUZJu3tgB+DKxGdGKYQNQuGjHceN1Xwi6CgkikdeR10uuHgSuA\n",
       "DdPtjszTaxB7rrua2Tbu/lYeZahSpq2BjYmefd2u8moDO1e5csGwu3Tn1fW6ERREIq0lr5rR94je\n",
       "ch93d88+4e7jzexk4Gpi73jScBaUamDzVnmqp1wjM7PZiK7kB7r7m8NZXidoRPNWO1MQibSevHrT\n",
       "7QQcUBlEZe7+KPAdYJcGLGscMK3K7aHMNDsCM9z94gYsryvNSmeERne9bgQFkUhryqtmtDhx8uRA\n",
       "7gOWGu6C3P1GBg/V3YHTh7usLjcrnRFqXwl7+J0jhkxBJNK68gqjfwLLA88OMM0ywL9yWv4H0gVa\n",
       "NwC+nPeyOtysdEaofiXsxnSOGBIFkUhryyuMLgUmmtlt7v525ZNmNidwGHHcKG9rAi+kruYyi2al\n",
       "M0KrHJtSEIm0vrzC6CjgLuD+1FnhHuDfxLhGawP7pmUPq/NCnT5CjDQrXUhBJNIe8roCw+vERVBv\n",
       "A44B7gf+BtxL1IhuANZx99y797r72e6uC7IOUyt2RhiMgkikfeR5BYbXgL3M7FvE4GQLEJebedrd\n",
       "389ruZKbluqMMBgFkUh7yX08o3TM6Im8lyO5a5nOCINREIm0n7yuwHABcRXo0iCT9rp7I841kpy1\n",
       "SmeEwSiIRNpTXjWjt6kzjHJavhQoO5JsphZVebmhxi9XQSTStnIJI3ffLY/5StvI9Wrd1SiIRNpb\n",
       "7seMysxsVWLws/eBh91dx5E6V1Ov1q0gEml/uYeRmS0CXAasQ1wzbiQwn5ndAGyfHV5COkMzr9at\n",
       "IBLpDHldKDXrdOA9YDl3X8jdFwA+Slxp+5QmLF86lIJIpHM0I4w+A+zj7s+UH3D3p4C9ga2asHxp\n",
       "smacIKsgEukszQijF4hL8lQqnwQrnSd7guxK6fY4fSfIDouCSKTzNKMDw5HAqWa2NHF5oPeIi5ce\n",
       "AZxpZhuUJ3T3W5tQHslfbifIKohEOlMzwuis9PfkKs9NTLeyZtTUJGd5nSCrIBLpXM24HJACRoZN\n",
       "QSTS2RQU0vIURCKdT2EkLU1BJNIdFEbSshREIt1DYSQtSUEk0l0URtJyFEQi3UdhJC1FQSTSnRRG\n",
       "0jIURCLdS2EkLUFBJNLdFEZSOAWRiCiMpFAKIhEBhZEUSEEkImUKIymEgkhEshRG0nQKIhGppDCS\n",
       "plIQiUg1CiNpGgWRiNSiMJKmUBCJyEAURpI7BZGIDKYZw44XxsxGAscCOwFzAncDe7n73wstWBdR\n",
       "EIlIPTq9ZvQV4PPAJ4CFgL8Bvyy0RF1EQSQi9er0MHqdeI+zASOBHmBGoSXqEgoiERmKtm+mS01x\n",
       "81Z5qsfdLzGzLYB/AO8DLwDrNbN83UhBJCJD1Qk1o3HAtCq3h8zsO8DawPLA/MB1wEUFlbMrKIhE\n",
       "ZFa0fc3I3W+kRqia2YPA0e7+dLq/H/CGmX3c3R9rYjG7goJIRGZVJ9SMBvIW0YuurCfd3iumOJ1L\n",
       "QSQiw9H2NaNBXAhMMLNrgReBo4BH3N2LLVZnURCJyHB1ehidRHRuuAWYB7gN2LrIAnUaBZGINEJH\n",
       "h5G79wJHpJs0mIJIRBql048ZSU4URCLSSAojGTIFkYg0msJIhkRBJCJ5UBhJ3RREIpIXhZHURUEk\n",
       "InlSGMmgFEQikjeFkQxIQSQizaAwkpoURCLSLAojqUpBJCLNpDCSfhREItJsCiOZiYJIRIqgMJIP\n",
       "KIhEpCgKIwEURCJSLIWRKIhEpHAKoy6nIBKRVqAw6mIKIhFpFQqjLqUgEpFWojDqQgoiEWk1CqMu\n",
       "oyASkVakMOoiCiIRaVUKoy6hIBKRVqYw6gIKIhFpdQqjDqcgEpF2oDDqYAoiEWkXCqMOpSASkXai\n",
       "MOpACiIRaTcKow6jIBKRdqQw6iAKIhFpVwqjDqEgEpF2NlvRBciTmc0GHArsBswJXAZ8y93fLLBY\n",
       "DacgEpF21+k1o28DuwAbA0sD8wBnFVqiBlMQiUgn6PQw2gY42t2fcvcZwPeBbcxsVMHlaggFkYh0\n",
       "irZvpjOzkcC8VZ7qAUYC/8081pseWxZ4KP/S5UdBJCKdpBNqRuOAaVVuDwNXAN8xs7FmNg9wGBFS\n",
       "cxZU1oZQEIkEM1vazN4ws7mqPPekmW04zPnvZmb3DmceUp+2rxm5+43UCFUzmx2YD7gdmAEcA+wA\n",
       "vNa0AubjZBREIrj7c1RvGYFoCeltYnFkGNo+jAaxBHCsu38HwMzWAN4Fniq0VMN3F7AqsG9vb+/V\n",
       "RRdGukOpVPoQsFSTFveP3t7edwabyMzGAs8QnZO2AH4MjAF+A8yemW5B4ETgs8SO6anuPjk9Nxo4\n",
       "CVg3vfZvwF7ufmcD348MotPD6MvARma2JbH39FPgl+7eU2yxhqe3t/cYopYn0hQpiBwY26RFTimV\n",
       "SlZPICXLET1ltwD+BBxEHBsuOxeYSpR/DPAHM/uXu59N/JZ6gI+mvycARwMbDP9tSL06PYx+AvwP\n",
       "8Byxkp0HTCi0RCKSh12Ba939JgAzOxrYJ/2/KLApsLC7/xd41syOBfYEziZ62c4gthFjgX8TrSrS\n",
       "RB0dRu7+NrB70eUQaXe9vb3vlEolo8Wa6TIWAJ4v33H3XjN7Nt1dGigBT5tZeZIRwKvp/yWIJryP\n",
       "AU8SHaBKs150mRUdHUYi0jgpHJ4uuhw1PAusUfHY4unvi8B7wBh3fxfAzOYjjjMBXAj8wt2PT8/t\n",
       "Cqyce4llJgojEekElwEHmdnmwPVEE93SAO7+DzO7DTjGzL4HzA38lqhJfYU4njwDwMw+Rhxvmr3f\n",
       "EiRXnXCekYh0t16ixrYDcCxx6sbaQPb8oJ2BRYApRG/a54G903N7AhPM7FXitIkJwEJmtgDqHt40\n",
       "pd5efc6VUnfRvwPLuPuUYksjIp1C25baVDMSEZHCKYxERKRwCiMRESmcwkhERAqnMBIRkcIpjERE\n",
       "pHAKIxERKZzCSERECqcwEpGuY2ZLmtnIosshfRRGItJwpUmlhSvulyofK4qZLUJcnXuOYc5nrJn1\n",
       "mNncjSlZd1MYiUhDlSaVvgV4aVJpjXS/RIzA+lBpUmmFQgsX5iIulqphIlqIrtotIg1TmlQaQYyQ\n",
       "ugBwY2lSaRNgW+B7wPvEmEFPNXKZZrYT8B1gmfTQb919LzNbCvh5Ks8bwE/TMBH3p+leNLMNgG8B\n",
       "U919QprfF4CT3X0ZMxsBTAK2I8Y9eg04wt1Pb+R7ENWMRKSBeif29gA7EUM6zA/cR18Q7dg7sffy\n",
       "Ri4vXXj0DOAb7j4aWB/Yxcw2Bi4mrs69CLAhMcTEJsDq6eWLuvtDDHxl7i8BXwQ2dPdRwHeBE9Q0\n",
       "13gKIxFpqN6Jve8QgZR1TO/E3ktzWNzzwErufp+ZjQZGA9OJUFoLmODub7n708A44CGqN8/VarL7\n",
       "PfAZYKqZLQm8DcwJLNjYtyEKIxFpqHSM6NCKh/cqH0NqsPeAPc3sReAuYF9iYLy3gf+4+xvlCd39\n",
       "SXd/ZYjz/xAxxtErwJXAF9Lj2nY2mD5QEWmYTGeFctPczvQ12d2YQyDtTAyqt6q7L+/uOwJvEYE0\n",
       "j5mNKk9oZjua2eeqzON9InTKRmf+Pyr9XczdVwMmNrT08gGFkYg0UglYmL5jRBfSdwxpDmDUAK+d\n",
       "FfMC7wLvmNkcZnYQ0ZHhJeA24Kj0+PLAcWnat9Nr50t/nwLGmdkoMxsDfIO+Y0jzpunfT82Ax6bH\n",
       "NSx5gymMRKRhUgeG8cA65WNEmWNI6/VO7L25wYs8B3iUGE78ESI8zgA+mpa5GHFc6UZgkrvf5O4v\n",
       "AlcDfzWzjYDTiGHLpwB/Ai7MzP8QYDngVeAG4hjSY0SvQNCQ5A2jYcer0NDAIpIHbVtqU81IREQK\n",
       "pzASEZHCKYxERKRwCiMRESmcwkhERAqnMBIRkcIpjEREpHAdNYSEmZ0IvFO+FHx6bBPgBGAs8ADw\n",
       "VXf/azElFBGRajqiZmRmo83sbOIiib2ZxxcBLgUOJl0bi7gsiYiItJCOCCPiGlTvEMGTvRT8NsCD\n",
       "7n6Vu78HHAEsbmafLKCMIiJSQ1s005nZSOKaU5V63P11YGN3f8nMflXx/EeBx8t33L3HzJ5Oj9+b\n",
       "W4FFRGRI2qVmNA6YVuX2EIC7v1TjdXMD/614bAYwVz7FFBGRWdEWNSN3v5FZC85qwTM38J9BXjcy\n",
       "/V3SzGZhsSIiVS2Z/o4ccKou1BZhNAxPANuX76TmvuXINN3VsFj6e1tO5RKR7rYYMWyFJJ0WRpXj\n",
       "2F8GTDazLwJXEaNP/sPdHxpkPvcCnwZeJAYJExFphJFEEOmYdYVOC6NeMl273f1fZrYVcZ7ROcCD\n",
       "RA+7Abn728DteRVSRLqaakRVaHA9EREpXLv0phMRkQ6mMBIRkcIpjEREpHAKIxERKZzCSERECtdp\n",
       "Xbsbph2GozCz2YBDgd2AOYnzqr7l7m8WVaaydILxscBORNnuBvZy978XWrDEzK4B1s88NIK4Wse6\n",
       "7n5XMaWaWTo/7ihgceAxYLy7/6XYUvUxs0eBZYCe9NAUd1+5wCJVZWZ7AJPdfeGiy1JmZnMAxwPb\n",
       "AR8CbgG+6e4vFFmuIqlmVKHNhqP4NrALsDGwNDAPcFahJerzFeDzwCeAhYC/Ab8stEQZ7r6Zu89b\n",
       "vgEXA+e1UBCtBpwJ7OHuo4h17eJiS9XHzOYCDFgy8zm2YhAtCxxH5rfcIn5EXLB5BWBh4FXg5EJL\n",
       "VDCFUX/tNBzFNsDR7v6Uu88Avg9sY2ajCixT2evE+jUbcdZ5D3GtwJZjZlsTgf6NosuSMR443d3v\n",
       "TPePA3Yys8qrjBRlZeAld59edEFqSbXzXwOn0v/qLEU7BNjc3V8DRgHzAVOLLVKxuq6Zrt2Goxio\n",
       "vMRGPntV8t702LKkK5rnaZDP8hIz2wL4B3FJpReA9fIu0xDK93qaZjZiQ39gs5s3B/luVwP+YGZ/\n",
       "BFYhrh6yt7s3bQ+/jvK9a2Z3Etd7fBDY392fbIXype/3u8AjwDXAV5tVrrI6yveWmU0kgul5YMNm\n",
       "lq/VdGPNqN2Go6hV3oeBK4DvmNlYM5sHOIzYUMyZc5kGK9tDZvYdYG1geaJZ8zrgoiaVa9DyZabZ\n",
       "EZjh7kU0gQ303S4I7AVMAJYA7geuSBu4osv3ELHjcw9xTHBp4D7gajNr1ro3YPnMbA3gS8CBFFcr\n",
       "qmf9Oxr4MPA74Lq0c9SVuu6NFzAcxbAMVF4zm52o3t+eyncMsAPwWp5lqrNsDxJNiE+n+/sBb5jZ\n",
       "x939saLLl7E7cHoTitPPIJ/fo8Cl7v5Auv8j4hihMfhV53MvX5L93H5gZnsDqxKdVXJXq3wpEO8D\n",
       "vubuM4oaBqae9S9dBxMzm0DsfKxEE1o1WlE31oxm1RPEhgAY0nAUeVoCONbdl3T3FYimkneBpwos\n",
       "U9lbzFxD60m394opTn9mNi+wAfDbostShTPz5zeC2MNviWMfZjbezD6TuT8bMDvxvRftk0Qvv6vM\n",
       "bDpwJbCgmU0zsyUHfmlzmNlZZpY9Rjk78R03ZUeyFXVdzWgIGjUcRZ6+DGxkZlsSbdM/BX7p7j0D\n",
       "v6wpLgQmmNm1xFAcRwGPuLsXW6yZrAm8MEDTbJHOBn5tZucRe8pHAN6sWmUdxgD7mtmmRE+wycAT\n",
       "7v5wscUCd7+NaPoCwMw2BC5ppa7dRO1xQjrFYCpwInCru08ptFQFUs2otn7DUQBbAROBV4jeV4MO\n",
       "R5GznxAdBJ4jDtQ+SBxjaAUnAb8izp94nthT3brIAlXxEaJjRctx9yuBfYihT14l9vZb6fM7kugY\n",
       "cA/wL+Lcu62KLNAASrRY1253P434bu8AphC14O0Hek2n0xASIiJSONWMRESkcAojEREpnMJIREQK\n",
       "pzASEZHCKYxERKRwCiMRESmcwkhERAqnKzBIy0rjSs3h7jtnHhtFXP1iW2BJ4qTVC4GjslfdNrNX\n",
       "gQUqZrlm5lpv44khN0YTJ29+w91fHaAsswN3Atu5+7PDf3f5MLONgFfd/ZH0/03AnO7+ziCvuxQ4\n",
       "yd3/lH8pRfpTzUha2UxXwTCz+YG7iBFavwl8DNiPOHP9gytam9miRBB9HFg0c3s4Pb8FMQrtAcC6\n",
       "wCLAbwYpywHAHa0cRMlNwGLp/zuARQcLouSHwM9T6Io0nWpG0soqLwx6FHGx1U3KVzsGnk3jSj1G\n",
       "XJ7pYmBF4N/u/kSN+R4A/MzdfwdgZl8GppjZCu7e7yKzaVTTCcSQGO2gBODu7wIv1/MCd3/CzP5J\n",
       "DKkxWDCLNJzCSApjZj3AHkRz2eLAH4E903UAK6edgxhi/aBMEAFx9dB0McxH0kMrEle9rrbMEcBa\n",
       "xHX9yq9/zsyeI2pJ1a54vjPwors/k5nP5sAkovb1PjGMx9fc/fn0/EbEWDUrA/8EDnP389JzyxMD\n",
       "+q1PjCp8AXCwu79drWnNzI4G1nb3cenq2CcRzZTzEDXFfd39cTObkop3jZkdCtyanZeZLZ1euzHw\n",
       "JnFttO9lBuy7HNgXhZEUQM10UrQfEwOgrUs0rV1WY7pliSuT31PtSXe/ozx6KxFGs5vZ9Wb2opnd\n",
       "ZGZrpecWIMahqrxA6kvEkBzVbA5cX75jZsukcp5DjPS7WSrfIel5IwYT/CMxvs9RwFlm9kkzW5AI\n",
       "rtfSe94F2JIIp4GUA2OftLzPE2PfvEpfeKyZ/u5MXMH9AynMbyB2QNclakC7Ep992fXAmqmMIk2l\n",
       "mpEU7ch0hWrMbDfgb2a2apWhCMqdEf5dxzw/mqb/PnF5/vHATWa2ElGLgf7j7rwNzFFjfmsQw4aU\n",
       "jSSG2D413X/OzC4GNkr3vwY86O4/SPf/lo53zUGMPvoesEdqRnvCzL4JXGlm36/jvS1DjDj8rLtP\n",
       "TQPaGYC7v5IGkpvu7m9WDCq3CbAUsI67TwdI4+nMl5nmGaKmtiaZ8BVpBoWRFO228j/u/oyZTSP2\n",
       "+CvD6JX0t7KHXDWfBWZ39/Iw8ePN7FPEqK4npccqg2cOYrTcasZklo+7/83M/mtmB6eyfgxYhRhd\n",
       "FKJmdm92Bu5+AoCZ7QI8lIKo7E4i4AYakrR87OxUYjTfF8zsTqJp7awBXld+7YrAM+UgSmW6oqKM\n",
       "PWkwujGDzE+k4dRMJ0WrHPl1JH21l6yngWnU6ERgZqeZ2Z4A7v5eJojKniR6mU0jahaLVTy/GDHu\n",
       "UjU9ZH4rZrZymt/qpGM2RO+8srepPSLrf6s8NzLzt9qYLh/sNKZOGWOB7VIZDgLuMbMPV3ldWS9R\n",
       "46nHSOL9ijSVwkiKVj7OgZmtQDQb9Rst1N3fB84nRhfNDsdNan7bHXg93X/WzL6eeX4EUXN5Mh2s\n",
       "v5sYbrz8/EeIJqw7a5TxJSA7SuiewF3uvqO7/8zd/0wMQV8OmaeA1SrKeL6Z/YgIkE+Y2YcyT69L\n",
       "BMBf6QuNbPPZsqSQSk1r27n75e4+njgmtRwRjAN5CljGzD6Yr5ntbWbXZe6PABZM71ekqdRMJ0U7\n",
       "InUpng78DLhhgC7Zk4iD9380s0OAvxNhdixwI3BRmu4y4FAz+zvRk+3bwPzAL9PzJwPnmtlfiHA4\n",
       "BbjK3Z+usdz7iY1+2fPAtqnp72VgJ+AL9PXg+wWwv5n9kDghdwOi2/n6wOPEaMFnmdmPiU4TpwAX\n",
       "pWM+7xC1px+a2QnEsZ5N6GsCXBA43MymEgGzC9G8+Hh6/j/ASmZ2V8V7uC59Xmemz25R4uThbI3u\n",
       "40SgPljjcxDJjWpGUrQzgTOI4cn/xsxDL1cO/f4qsB7wEBEsjwKHp3lsk+mifBBwLjHs+QNEzWLj\n",
       "cm87d7+M6NxwHHHM6kWiZ1ktV5GpSRHHnW4lrtxwNxEoOwDLm9nc6cTYLYnu148QYbiLu9/n7jOA\n",
       "zxFhcH8q58VEzY5Uxj2ALYhzpzYluoiXHZN5b08CXwS2yFw94njgCCK4P/j83L0nlWlu4njWr4Ez\n",
       "yseykk8Df84eVxJpFg07LoVJ5xlt5O63Fl2WgZjZ3MCzwDh3f7To8uTFzO4Afl4+H0qkmVQzEhlE\n",
       "qs38lLgEUUcys1WJ42IXFF0W6U4KI5H6/BRYx8zGFl2QnEwCxqfmPJGmUzOdiIgUTjUjEREpnMJI\n",
       "REQKpzASEZHCKYxERKRwCiMRESmcwkhERAr3//aA1V8RFpDeAAAAAElFTkSuQmCC\n",
       "\">\n",
       "    </div>\n",
       "    \n",
       "    <div name=\"colorgreenerror0.006\" style=\"display:none\">\n",
       "      <img src=\"data:image/png;base64,iVBORw0KGgoAAAANSUhEUgAAAaMAAAFeCAYAAAAomXAzAAAABHNCSVQICAgIfAhkiAAAAAlwSFlz\n",
       "AAALEgAACxIB0t1+/AAAIABJREFUeJzt3XeYJFXZ/vFv74IEYQkLS8aFH/AoEiQICAgs8iqgBMmg\n",
       "LwL6siJJxAUjyyICi0hWCYIgkgREQDICkiQHiQ8KLihBFnYRZCXO/P54Tu/U9nTP9Ox0dXW4P9fV\n",
       "10x3V1ed7q6uu86pU3VKvb29iIiIFGlE0QUQERFRGImISOEURiIiUjiFkYiIFE5hJCIihVMYiYhI\n",
       "4eYYbAIzuxXYqOLh94BXgOuACe7+er0LNLMeYB93P73O6VcBJrv759P9PYCzgbnd/d16lzscZnY4\n",
       "MN7dlxhgminABe7+vZzLcjrwJeBdYBV3f3E25nEr8JK771rx+BbAAcBawIeAp4CT3f2CiumuBT5X\n",
       "MduX3X3JzDS7ABOBjwCPAt909z8PtawyKzP7JfD/3H1cjedvBf7q7v+XczluAv7h7nua2SbAzcBH\n",
       "3f1pM5sHOB/YAphGrAM/Y5jrbaNUblNqTPNFYCN3P6iByx3Stm8Yy5kCXOju323gPHuAr7v7GY2a\n",
       "Z6V6aka9wI3AepnbZ4FTgd2As2ZjuUM5uWkHYM3M/T8A6zUriDIGK/M2xA8uN2a2LvB/wGRgm2H8\n",
       "oHupeD9m9iPgCuBZYE9gR+Ae4Dwz+3HF61cBjmbWdWLLzLw+C/wG+D3wReBfwHVmtsxslldmNdC6\n",
       "2O+7zbEM5eU8QKwDz6X7WwPbEjs22xE7N41YbxulcptSzYHAYjksu9nfTaOsB/yuwfOcxaA1I6AE\n",
       "vObu91Y8/iczmw/4npnN6+4zGl+8/tz9VeDVZiyrQmmgJ939kSaUYcH09zx3nzKM+czyXszsc8D3\n",
       "gd3d/TeZp240s1eBSWZ2gbs/bmYLA0sB11RZJ8p+AFxW3jNLe9FPAfsDhwyj3BIGXBebzd3fBLLr\n",
       "woLp8TNh5voFw19vm62lPuciDfBbb5h6wmggb6a/M780M/sC8CPgo8CLwE/d/ee1ZpCm/y6wOlFT\n",
       "e4ho+rsrNY8dlqbrAcYBy5FppjOzErAPsG96bgpwrLufk143ltjb/zzwbeBTRBPjUdkqp5l9B9gb\n",
       "WDLN4xR3n6Wmk5oIfwgsAdxPNN09mZ6bQqoap+l+BHwL+AkwGrgV2Nfdnx/gs1gBOBb4NPHdXAcc\n",
       "7O4vZj8L4FkzO8fd96oyjynAycAGwOZEreS4gb4D4CDggYogKjseWIS+dWXV9PexGu9hHmIvas/y\n",
       "Y+7+gZldQ9SoD0nTfQE4glhPpgOXAoe6+9s15jsFOAlYg9jrfgv4MVH7+iXxmT1DfCd/zrxuT+BQ\n",
       "YGx6fqK7X5p5fmmilvc/wMLAC8CZ7n5UZpqa60a1Jlwz2xy4Bhjr7s+nprPHgI8D6wKT3H2ymX0s\n",
       "fb6fBv4LXAgckv0MzOy7xLo9CjgHGFnt86kwt5mdCewM/Cd9PhPdvdfMrgQWcff1M8v4MPGbGF9t\n",
       "HTCzOYFjgP9Nyz++4vlNiGa6jxG/5d3T4z3AJKK5FmK9PTc17S1A/Da+CMwD/BHYv/z7SJ/rZkQT\n",
       "75eA293983W+7jNEi80Pie/sXqKJ6ckq25RN3P22ivdzK+nQhJnt7O4j0v+fSstek2h+PBM4wt17\n",
       "M689ANiP2GF7GviBu1+dmf0SZvY74rfwBvALd/9Reu0exHZjPLEdWAF4Ir2/OzPL+Azx21kN+DfR\n",
       "CvFDd3+PKgbarmSm2S19LssCdwO/Bs7OvPdZmhgHW3fNbAmi9WxjYC7gz8R2veZOe70dGEaY2Ugz\n",
       "myPdFjCzLYGDiT3kt1IBNic2DvcTVfVzgJPM7Bs1PqRPEU1DdxFhsTuwAHCBmY0gvuyziC9+PeDB\n",
       "KrP5CXACcEFa5vXA2Wa2T8V0vyKaG7cE7gROSx8oZva/xA/mGGKjdClwSmaPDmBRYEK6fYloB78w\n",
       "83xl1Xg08WX8KL0vI2oaVXcAzGxZollsceCrwNeJ5o1yDfRMIjQgfog/qjafVIbD0t/tiKr1qWb2\n",
       "lRrLLREhf1215939LXc/MLMSrUrshJxiZtPM7N9m9su0QQNYnljh/1YxqynEj6v847iU2IBtTmw0\n",
       "9gQOr/Geyg4nfnxbA7cQ4XQDsUHalthQ/jrz3vYmPrffA1ulaS9OQUhax65L5fpaKsuNwJFmtlma\n",
       "pp51o54mkb2JH+R2wBVmtiRwG/BhIjQmALtUlP/Q9J5PAXYCViTWvYGWVwJ2JdbPnYkdk0OJjRdp\n",
       "/uul9a1s6zTPy2vM82Sime0wYA+iSXrjKtP1puUcm+6vRwRhdr09In3ufyA+74PSe1oCuCWzHgGs\n",
       "AyyTlndcWlfred2qxLbpkPQZLEv8/qH/NuWhKu9jn/R4+fAEZrYasb5OTe9jMvGdTS6/yMwmAMcR\n",
       "24WtiO3a78ws2yT4A+CvwBeAy4hWh20zz48mvu/J6X33EuvsyLSMrVK5nibWpWOBbxCB1E8d2xXS\n",
       "tvw84vexDdGKcRr917PeNP2g624qzzLEtm97YF7g6vTdV1VvzWindMt6E7iE+NLLjgBuyBw8vTHt\n",
       "VR1uZqe7+wcV8/go8Bt3n1B+wMw+IL6kZdz9OTN7AXivXE00MzLTLkK0S09096PTwzeZ2fzESp89\n",
       "UHi2ux+TXncvcUxkc+BJohYxJVNTut3M3gayTY8jgB3d/Yk0j8WBn5nZ/KmZotLcwB7u/ts0/dPA\n",
       "X4gV+ZIq0x8E9ACfdff/ZMrpwFfd/SQz8zTtQwPUsErAP919h3T/+rRCHgKcW2X6RYA5gZo1tgqr\n",
       "AfMTNYitiR/+kcROxI7EHjz01ZrJ3J83/b820UHiOHd/GbjNzN5h8PXR3X1/ADN7lvgB3OHuP0mP\n",
       "/Rj4Tdp7fpNYH89w9++k199oZqOJIP8DsDR9NYK/pnncQhxT2AC4ifrWjXqac17Odm4xs2OBD4At\n",
       "MjtzzxPr72pETerbwInuPjk9fzMR6oP5F/CFdFz1WjNbENjfzI5I7/vfxGdXDo1dgSvL5ciyaJb9\n",
       "GnCAu5+WHruHvuNDs3D3Z1Mtlsxvdpb1Nm38NiCO/ZanuZVYB79G7GRArA8HuvszaZp6XzcK2N7d\n",
       "n07TLAacbmYLufsLlduUKu/hSTN7k1kPT/yA2MHaLtWErjezt4BfpO9yGhH6p7h7uSZ4s5mtDGxI\n",
       "34705e5+aCrXn4h17dPEDhPEdmMfd78hTdND7GCvRgTkEcCN7l5uebjRzKYBvzazH7v7XyrezoDb\n",
       "lfSZfR+4yt0PyMxzaaKCUM03GWDdTWVYHzjc3a9Jz5ePRc9PrH/91BtG16cCl4hmhp8QG/eZPU3S\n",
       "nslawEEVe/83EF/kKsAsVTR3/xXwqxQeHyPCaZv09IfqKNe66T1Ubtx/C+yV5lfeaNyTWe4MM5tO\n",
       "JDtEyu+dvqTfEj/MIyvm+WY5iJLyj7G84av0AbEXXV7m4+kL2aBKeSFW2OvLK0x6zd/N7L703ElV\n",
       "XlNNb3oPWVcCO5jZAu5euSKUdxDqaf4B+Clwjrvfle7fYWZTgd+a2cfpq21X23svP3Yv8A5wj5ld\n",
       "AFxF9EQc7MD8PZn7r6S/2drytPR3AaJ5Zgyx0ciuj9cDXzazBVOgb5pq/UbUXtckwrm8/tWzbtTj\n",
       "6Yr7GxM19Lcz5buDaPIYR/RYHQ1cW35Bapa+lqh91tJLtFZkO/j8gdgZWdXdHzSzS0lhZGYLEU1G\n",
       "O/SfFRC/sZEV5XjFzO6qMX09Nia+qwcy7/0t4vsdR9+6/j7RxD7U171RDqLkhfT3w0ST8OyW+Xxg\n",
       "ZGaH+AZiXdmA+H4XJj7rmbx/r8e7Ms/1po34AhXTZNfzmWVPNZnViGa8rEuIHc0NiR3erIG2KxuY\n",
       "2WnEd1zZ+/JSovZWzWDr7l+A24kKwarE7/sad/9+jfkB9TfTTXf3B939gXTsYTxwoEVbetlCRFid\n",
       "SHTfLN9uI34g/bpFm9l8ZnYRsYLcRvRgKatnb3Oh9PdfFY+XN1SjMo/9t2KaHtL79+i6vFe6fyzw\n",
       "lJndkZqTyio7aPSkv7U+w6nu3lP5GH2dECotSP/3UX7N/DVeU8tLVeYBfZ/XTO4+jTiuULOnm5kt\n",
       "lZneM0FUdmP6uwp9ez3zVUwzf1oO7v4scTzgcWLP7Q7ieMIWtcqQVAv9Wh1nRqe/lzPr+ngesT4u\n",
       "DjOb8l4masgnE01h75HWvzrXjXq8UnF/NFFLfi9TtreJPeMl6FtPKjvrVM6nmsr1qPz9lzd6vwE+\n",
       "YWYrEk0ob5IJmwrldaayHNXW1XqNJjbc2ff+LrFOLJ6Z7rWKHZR6X1fttw7DO69yNFEjyC73efq2\n",
       "bQun6aZWfXWfyvW1t0q5suXPln1BYr2c5bN393eI40/Z7V3ZQNuVUcT3O6JKuQf6fgdbdyGa704j\n",
       "vpsLgX+Z2QmpqbWq2erA4O6/MbPdgYlmdkmqRpc3Qt+lb+NUVqL/MQToO9C+CfDndKB7C+KN1qO8\n",
       "l7MYs26oyl0yp1Enjw4P56Tmt22J6vCpRFPe7Oi34U/luqPG9NOZ9QeVfc3fh7js0RX3xxArfa1e\n",
       "iH8k9o777bmY2byAm9nP3P1QM9sJeCF7QJVYCSHC5lniB7Q8cF9mmuWIpgEA0uu3TPPfPC37IjNb\n",
       "pNaB2CEqn/u2B/07W5SAKWa2MfALonnlzHKt0cxezk48yLrRS/9aZWUQV1PutHFMlbL9KzOPMRXP\n",
       "L8zgKqcpz6O8wbmN2JB+kfjtXVKlCb2s/BsaQ9qZSEbTt9c+VK8TzY2VtbEStXcuhvO62VFZS59O\n",
       "HJeubOouEZ9leZuzSPZJM1uDaBKs2uGnynIG8u80/Sxdzs1sbmJHo9r2brDtylSiBlq5ni06QDkG\n",
       "W3dx9+lE5eJAM1ub2KE7kKj1XVRtpvWeZ1TNQUQV9Zi08DeJni9jUy3qQXd/kHiTE6ne7PYp4Ap3\n",
       "vyPzY/ifirLV+pFANPe8R//jWTsRH/JfB3jtTGb2azO7JL2Pl1Pb+GVEj5jZNZeZbZpZxmrEBvmW\n",
       "GtPfCXwuNVmWX7Mc0fQ5lJNFS2TO+Um2Be7PVNUrv9NTgbUsetRUOpTotVRu+vsGcZA2azui2e0+\n",
       "jy7+d9PX3Eqqym9Jeu9m9nUze9bM5nD3Ge7+O6LWMT/V9+5mx1PEj3OJivVxtfSeeoiD02+7+3GZ\n",
       "IFqNWGfLvYgGWzf+AyyUQrVswzrKdxfRNP1wpmwvAkcBK7j7U0SNbfvyCywOYm/G4B0YNrNZDxRv\n",
       "R+yIPJHeRy+xYd2JCKMLqO3PxG8sW44FSQf2Z9OdRDPq1Mx7f4jYpnwmh9dVGmibUtbDrK0zdwEr\n",
       "VaxLHxDHSxcldrRep/9xljOJ49rDlraxf6H/9m7H9LfadmLA7Ura7s7ye01qNdHBIOuumS1mZv+0\n",
       "1DHD3e8neoT+lwG2qfWeZ9SvapWOgZwL7Glm67n73UQ3zovN7D9EL6WxRK+Q+929WvX1PmAnM7uT\n",
       "SNStiYOp0Ldn+DqwcDp4OcuH7e5TzexnRA1tBJG6WxB7wwemNtmB3lfZLcBZ6QDvzcD/I9rUT6n1\n",
       "4kHmV3aORY+o94nuw/e4e63mkBNSuW8ws2OI2sYRwD/p6wlUrw0suvZeSuy9b0t8ttmyziyvu//R\n",
       "zH4OnGvRw/EaYt3YjugNc6S7P5AmPxb4g5mdRVS/1yB6fJ3g7uUmpMlEj7GXiU4AX6evdyFEN/cT\n",
       "iJrQacR3/QOiM8JrNd7TkM75cPf3zewoomfcnMSPcnWiO/h56fjLfcA8ZvYToq1/pVSO1+lb/wZb\n",
       "N64jjqGekT6T9YkmisHKfwLwFeD3Fh1t5iR22hal79jqJKKTzKvEuv9/RDNI1c4DGcsA51tcrWFD\n",
       "oqvxwRXNxucB3wGec/datXXc/d9mdjzR6+t9YqN7aCrv7LqKaKK9zuJk61eJ97Yt0bTT6NdVmk5m\n",
       "m5L24qtNs5qZbeLutxIb2tvN7GzgYqL2+WNiZ8RTq86xxHGSN4jva0dgZTKnOVQx1HOZDgcuN7Nz\n",
       "iN+fER1yfufuj1aZZz3blSOJji4nAVcTrSTb09dEWGnAddfdp5vZM8CJaSftJeI3MzLNv6p6a0a1\n",
       "9sR+SKTdsQBpD3cXYu/tauLHdAG1D44eTBzo+gVxEG4B4BPEF7xumuYiYgW8jKg1VZbn4LScrxEH\n",
       "6j8D7Onup5rZXMQXVSK6WP7eolsi2XmkjhQHExuRa4kurKfS19W41mfQW+P/sm8Rn80ZxMaw5jGR\n",
       "dDD900RV/Hziag73AetnDz7WWE5lmU4iNv6XE9/Fjj7ruQ793o+770d8hmsRxxTOIzbOO2d6B5F6\n",
       "x2xPfE9XEDWlIz3TU8zdryJ66mxDBOIiwObu/o/0/FNEE9EyqYxnAQ+T2fuu8b7qkf1ejye+gy8T\n",
       "3+sBRK1u3/T8zfR1/72O2GjsRfzI103TDLhuuPvjxDHUDYh1fsO0vMp1o/LznkLfORgXp89gCjCu\n",
       "vHH0OKdjf2KH4DKiKeoXdbz/nxO1mSvT+znY3U+uWP6TxAbpwn5z6O97RAvIBOL3/CD9u4FX7QZc\n",
       "7b67v09s8O4hPsvfE+vCVplgrPaZzdbrqpTnYmbdplRzItHU/gczW8rd70nLNuK9n0hsu/6n3Krj\n",
       "0Vv3O8R6dCWx87NFJiSqGexzm+Uxd7+C2Elcnfj9HUzsGO1aY/pBtysePff2IlovrqBvp61q02c9\n",
       "6y7xe7mTOBfpGmJ7sVX67VdV6uRhx83sSGJPdTui181pwILuPtBGrxHL3YPMCWPNZGZ/B37l7kcM\n",
       "OrF0LYtz7B4HPubuPtj00rlSc9pT2aBIrQqfc/e1mlWO4V6BodUdBnzI3d+2OL9kAQbv7dLudAkT\n",
       "qcnMViL2onchzldREMnWwPGpd/TLxHmAB9J3snJTtH0YpYO61bo+97j7G0Rf+IlEML1A9TPH81BU\n",
       "lbNzq7rSCCOJLspT6H++inSnbxLN1ycQx8KeAQ7yHK/QXU3bN9NZXLblhipPTXH35dM0cxE1hmOI\n",
       "dtGVU/uziIi0gLYPo6FIvar+A6zr7g8PMN1cwCeJXiD1dAMVEanHSKJH5H3pZFVJ2r6ZbiCpG+a9\n",
       "6dwQiC6II+g7IbKWTxI9ZURE8vBpap8A35U6OoyILqAT0vW8phJdnm/zwcdUKV9O59NE91cRkUZY\n",
       "mtjRrbxkV9fr6DBy99PNbAzR3/1DxEUydxz4VUBf09w/6wguEZG6ZE7CV/N/hY4OIwCPgatqjf0j\n",
       "IiItoOknZYqIiFRSGImISOEURiIiUjiFkYiIFE5hJCIihVMYiYhI4RRGIiJSOIWRiIgUTmEkIiKF\n",
       "UxiJiEjhFEYiIlI4hZGIiBROYSQiIoVTGImISOEURiIiUjiFkYiIFE5hJCIihVMYiYhI4RRGIiJS\n",
       "OIWRiIgUTmEkIiKFUxiJiEjhFEYiIlI4hZGIiBROYSQiIoVTGImISOEURiIiUjiFkYiIFE5hJCIi\n",
       "hVMYiYhI4bomjMxsLzObWnQ5RESkv64IIzNbHjge6C26LCIi0l/Hh5GZjQR+DZwGlAoujoiIVDFH\n",
       "0QUYrhQ281d5qsfd3wC+AzwKXAt8tZllExGR+nRCzWgcMK3K7WEzWwv4EnAwqhWJdLxSqbR4qVT6\n",
       "XqlUWrHossjQtH3NyN1vokqomtncwP3A19x9hpk1vWwi0jylUmkp4FZgBWAlYI8iyyND0/ZhNIBP\n",
       "AssBV6cgmgOY18ymAau5+z+LLJyINE5FEL0LnFtogWTIOjaM3P124MPl+2a2MXCpuy9aXKlEpNGq\n",
       "BNF2vb29txRaKBmyTjhmVK8S6tot0lFqBNHVhRZKZkvH1owqufutwJiiyyEijaEg6izdVDMSkQ6h\n",
       "IOo8CiMRaSsKos6kMBKRtqEg6lwKIxFpCwqizqYwEpGWpyDqfAojEWlpCqLuoDASkZalIOoeCiMR\n",
       "aUkKou6iMBKRlqMg6j4KIxFpKQqi7qQwEpGWoSDqXgojEWkJCqLupjASkcIpiERhJCKFUhAJKIxE\n",
       "pEAKIilTGIlIIRREkqUwEpGmUxBJJYWRiDSVgkiqURiJSNMoiKQWhZGINIWCSAaiMBKR3CmIZDAK\n",
       "IxHJlYJI6qEwEpHcKIikXgojEcmFgkiGQmEkIg2nIJKhUhiJVFGaVBpVmlT6VWlSaUzmsTHpsVFF\n",
       "lq3VKYhkdsxRdAFEWtRJwB7AOqVJpXHpsVuAldP/exZRqFanIJLZpTASqe5QYB0ifB5Ljy0KPJGe\n",
       "kwoKIhkONdOJVNE7sfcVYBwwlQihRdP/49JzkqEgkuFSGInIsCiIpBE6vpnOzB4DlgN60kNT3H3V\n",
       "AoskbSB1XLiFvhoR6f9bSpNKqh0lCiJplI4OIzObBzBgjLtPL7o80lYmE8eLniCa66CvA8Nk1IFB\n",
       "QSQN1dFhBKwKvKwgktlwYPp7aLkWlHrVTc4817UURNJobR9GZjYSmL/KUz3AGsB7ZnYX8aN5CDjQ\n",
       "3Z9qYhGlDfVO7H2DitpPCiXViBREkoNO6MAwDphW5fYw0AvcC+wCLAvcD1xjZnMXU1SR9qYgkry0\n",
       "fc3I3W9i4FA9I/P/981sX2B14J5cCybSYRREkqdOqBnVZGbjzewzmftzAHMCbxdXKpH2oyCSvLV9\n",
       "zWgQY4D9zWxz4DXi4POT7v5IscUSaR8KImmGTg+jo4BRxHGj+Ygf1DZFFkiknSiIpFk6Oozc/QNg\n",
       "QrqJyBAoiKSZOvqYkYjMHgWRNJvCSERmoSCSIiiMRGQmBZEURWEkIoCCSIqlMBIRBZEUTmEk0uUU\n",
       "RNIKFEYiXUxBJK1CYSTSpRRE0koURiJdSEEkrUZhJNJlFETSihRGIl1EQSStSmEk0iUURNLKFEYi\n",
       "DVaaVBpVmlT6VWlSaUzmsTHpsVGFlElBJC2uo6/aLVKQk4A9gHVKk0rj0mO3ACun//dsZmEURNIO\n",
       "FEYijXcosA4RPo+lxxYFnkjPNY2CSNqFmulEGqx3Yu8rwDhgKhFCi6b/x6XnmkJBJO1EYSTSgRRE\n",
       "0m4URiINljou3EJfjahcQ7ol26kht+UriKQNKYxEGm8ycbzoCWCVdHsiPTY5zwUriKRdNaUDg5kt\n",
       "DKwNjAF6gJeBh9x9ejOWL9JkB6a/h5aPEaVedZMzzzWcgkjaWW5hZGZzAjsD+xNB9C4wHRgJLAyU\n",
       "zOzPwGnAhe7ek1dZRJqpd2LvG1R0306hlFuXbgWRtLtcmunMbGPgYeB/gXMBAz7s7ku6+2LAXMAa\n",
       "wIXAN4CnzGxcrfmJSG0KIukEedWMDgB2cPcnqz2ZakGPptvPzWx1YBJx0FdE6qQgkk6RSxi5+/ZD\n",
       "nP4RYNs8yiLSqRRE0kma1YFhEWCGu88ws7WALYEH3P2aZixfpNMoiKTT5N6128y2Bf4JrG9mKxA/\n",
       "oF2AS8xs/7yXL9JpFETSiZpxntGPgMPc/Sbgq8A/3P3jRCB9swnLF+kYCiLpVM0IoxWJXnMAWwFX\n",
       "pP8fBZZqwvJFOoKCSDpZM8LoRWBNM1uTOAO9/OPZEniuCcsXaXsKIul0zejA8BPgkvT/Pe5+h5lN\n",
       "Ar4PjG/C8kXamoJIukHuYeTuvzCzu4GxwHXp4duAG939jryXb2ZfBI4GlgQeB8a7+1/yXq5IIyiI\n",
       "pFs05UKp7v4Q8HdgOzPbBXixSUG0BnAWsJe7jwIup6+WJtLSFETSTXKvGZnZYkQIrAdMI65Nt4CZ\n",
       "3Qjs6O5v5Lj48cAZ7n5Xun88cKOZldy9N8fldqzSpNIoYljt7EVAx5AuApquyybDpCCSbtOMY0Zn\n",
       "AO8DK7j7swBmthJwDnAqsPtwZm5mI4H5qzzVQ1z/7g9m9kdgNeAhYF8F0bCcBOwBrJOuRA1xGaeV\n",
       "0/+5XQy0WyiIpBs1o5nuM8B+5SACcPengX2BbRow/3FEjavy9ghxdfB9gAlEN/IHgCtTgMnsOZS+\n",
       "sXkeS7fy2D2HFliujqAgkm7VjJrRi8BHgMpOAwsBrw535ulk2qqhamaPAZe5+4Pp/g+BbxFXEX9i\n",
       "uMvuRr0Te19JNaLHiNFLIUYyHVdutitCJzQfKoikmzUjjI4CTjOzZYHbiSa7tYEjgbPMbKPyhO5+\n",
       "W4OX7cDcmfsjgFK6da1O2HBX0dbNhwoi6XbNCKOz099Tqjw3Md3KGt1seA7wazM7nxhf6UjA3f3x\n",
       "Bi+n3cz2hjuF1i1ErWhqenhR4JbSpFKRtaNDgXXoaz4sl6vlmw8VRCLNOc+oKd3Hayz7KjPbjxjg\n",
       "b2nimJGGqhjehnsyfceIKoNsMgXVQFq1+XAwCiKRkEsYmdmH3P3d8v8DTVueLi/ufj5wfp7LaDfD\n",
       "3HAfmP5mm/jGkZr48ihvp1IQifTJq2b0tpkt7u6vAG8PMF0vcd6RtIl0PGnPisdeqXys2Vq4+bAq\n",
       "BZHIrPIKo02B6Zn/a9H5PgVotw13nVqy+bAaBZFIf3kNO35r5u5GwE/d/a3sNGY2CpgE/CmPMnS7\n",
       "QXrMzUmbbLiHoC2aDxVEItXldcxoVWAJogv14YCb2fSKyVYhLtdzUB5lkAF7zJ1P9DRs6Q33ULRq\n",
       "82GWgkiktrya6UbTd4Vu6BtcL+s/xPASko+Besx9q7IprtU23J1GQSQysDyb6UYAmNkUYG13H/bV\n",
       "FqR+Q+0x16EnwrYEBZHI4PJqpvuIuz8H4O5j63zNWHefkkd5pC5tfQWDVqUgEqlPXiekXmpmJ5rZ\n",
       "8oNNaGarmNnPgd/lVJauVKXH3FT6esyNqfISXQC1wRREIvXL65jR+kTHhHvM7CXgBmKU1VeJAFwE\n",
       "+ATR025J4Ke06YHzFjakrs7tegWDVqUgEhmavI4ZvQcca2anALsCWwLbA2OIcYZeJi7NcxxxVe0Z\n",
       "eZSjy7VFV+dOpCASGbpSb6/OO61kZmOJYdKX65bjWJlmvZWZ9UTYJ1DtqG4KIhlIN25b6lXYRUyl\n",
       "5WSb9VZJt/IxpMkFlqttKIhEZl8zhpCQ9qBmvWFQEIkMj8JIgPa4gkGrUhCJDJ+a6USGQUEk0hi5\n",
       "1ozMbCWim/dSwFzADOAF4C53fybPZYsMxexcgUJBJNI4eV2BYTTwG+BzwPNEV+53iEBaAljGzK4G\n",
       "dnf3ygvx7gJqAAAaVklEQVSoihRhSFegUBCJNFZeNaPTgA8DY939+conzewjRFidDuyUUxlEhqLu\n",
       "odgVRCKNl9cxoy2A/aoFEUC6bt1+wOY5LV9kSFLT3Dj6LptUvozSLOdYKYhE8pFXGL1G/FgH8lHg\n",
       "zZyWL9JwCiKR/OTVTHcUcK6ZrUOM5Poi8DZ9x4w2Is5d+V5OyxcZksGGYudw5kRBJJKbvK5Nd7qZ\n",
       "vUhcLHU/YN7M0/8F7gH+190vz2P5IrOh9oVlp3IKsCYKIpHc5Na1292vAq4ysxHAQkQgzQCmubsu\n",
       "iCfDksNggNWvQDGVU/g5awPLoyASyU1eXbvXBB5x9w/cvQd4zczmBw4AljCzp4BfurtGD5XZ1dDB\n",
       "AKtdgSI1za2Jgkgkd3l1YLgfGF2+k44dPQZ8EVgQ2Bt42sxWrv5yaZbSpNKo0qTSr7ID7pUmlcak\n",
       "x0YVWbZB5DoYoDoriDRXs65NdwxwvruPB0hNd6cBJwObNakMkmSbuIhmrT2AT5UmlR4Cvg9cRYsP\n",
       "N57nYIAKIpHma9a16T5GnOAKQGq6O564VJA0X7mJ6xbgJ4ADBuxCjMjbtcONK4hEipFnGI3O/P8o\n",
       "fXuvZUsT5yNJ82WbuG5l1u9qbtpguPEqXbHLJ6vekm1yHNI8FUQihckrjKYDj5vZdDO7m9jY/cLM\n",
       "5gEws/8DzgXOz2n5MoAqVxtYBGi3Ho4NHQxQQSRSrFzCyN1HA0sC2xPXoLsHmAK8lyb5AXAJcFge\n",
       "y5fZUgJepQE1jJkzzLdzxIHAOaQaXCZgz2GIgwEqiESKl+d5Ri8TV+u+ucpzH8lruVlmdi2wYeah\n",
       "EcA8wPrufnczytCKKpq43iaa5iCaTbcjdhTKNYzhdGBoaPfrrEYNBqggEmkNuYWRmY0kNmzXZ88n\n",
       "MrO9gTeAi/M++dXdt6go0znAyG4OoiTbxLUV8GNgDaITwwSihtGI4cbrvhJ2ERREIq0jr5NePwxc\n",
       "CWycbndmnl6L2Hvd3cy2c/e38yhDlTJtC2xK9OzrdpVXG9i1ytULht2lO8/u18OlIBJpLXnVjL5L\n",
       "9Jb7uLt79gl3H29mpwDXEHvHk4azoFQDm7/KUz3lGpmZzUF0JT/Y3d8azvI6QaOauNqVgkik9eTV\n",
       "m24X4KDKICpz98eAbwO7NWBZ44BpVW4PZ6bZGZjh7pc0YHldaXY6I+TR/Xq4FEQirSmvmtGSxMmT\n",
       "A7kfWGa4C3L3mxg8VPcEzhjusrrc7HRGqH0l7OF3jhgyBZFI68orjP4JrAg8N8A0ywH/ymn5M6UL\n",
       "tG4EfDnvZXW42emMUP1K2I3pHDEkCiKR1pZXGF0GTDSz2939nconzWxu4AjiuFHe1gZeTF3NZTbN\n",
       "TmeEVjk2pSASaX15hdHRwN3AA6mzwr3Av4lxjdYF9k/LHlbnhTp9hBhpVrqQgkikPeR1BYY3iIug\n",
       "3g4cCzwA/A24j6gR3Qis5+65d+9193PcXRdkHaZW7IwwGAWRSPvI8woMrwP7mNk3icHJFiIuN/OM\n",
       "u3+Q13IlNy3VGWEwCiKR9pL7eEbpmNGTeS9HctcynREGoyASaT95XYHhQuIq0KVBJu1190acayQ5\n",
       "a5XOCINREIm0p7xqRu9QZxjltHwpUHYk2UwtqvJyQ41froJIpG3lEkbuvkce85W2kdvVumtREIm0\n",
       "t9yPGZWZ2erEAGgfAI+4u44jda6mXq1bQSTS/nIPIzNbDLgcWI+4ZtxIYAEzuxHYMTu8hHSGZl6t\n",
       "W0Ek0hnyulBq1hnA+8AK7r6Iuy8EfJS40vapTVi+dCgFkUjnaEYYfQbYz92fLT/g7k8D+wLbNGH5\n",
       "0mTNOEFWQSTSWZoRRi8Sl+SpVD4JVjpP9gTZVdLtCfpOkB0WBZFI52lGB4ajgNPMbFni8kDvExcv\n",
       "PRI4y8w2Kk/o7rc1oTySv9xOkFUQiXSmZoTR2envKVWem5huZc2oqUnO8jpBVkEk0rmacTkgBYwM\n",
       "m4JIpLMpKKTlKYhEOp/CSFqagkikOyiMpGUpiES6h8JIWpKCSKS7KIyk5SiIRLqPwkhaioJIpDsp\n",
       "jKRlKIhEupfCSFqCgkikuymMpHAKIhFRGEmhFEQiAgojKZCCSETKFEZSCAWRiGQpjKTpFEQiUklh\n",
       "JE2lIBKRahRG0jQKIhGpRWEkTaEgEpGBKIwkdwoiERlMM4YdL4yZjQSOA3YB5gbuAfZx978XWrAu\n",
       "oiASkXp0es3oK8DngU8AiwB/A35ZaIm6iIJIROrV6WH0BvEe5wBGAj3AjEJL1CUURCIyFG3fTJea\n",
       "4uav8lSPu19qZlsB/wA+AF4ENmhm+bqRgkhEhqoTakbjgGlVbg+b2beBdYEVgQWB64GLCypnV1AQ\n",
       "icjsaPuakbvfRI1QNbOHgGPc/Zl0/wDgTTP7uLs/3sRidgUFkYjMrk6oGQ3kbaIXXVlPur1fTHE6\n",
       "l4JIRIaj7WtGg7gImGBm1wEvAUcDj7q7F1uszqIgEpHh6vQwOpno3HArMB9wO7BtkQXqNAoiEWmE\n",
       "jg4jd+8Fjkw3aTAFkYg0SqcfM5KcKIhEpJEURjJkCiIRaTSFkQyJgkhE8qAwkropiEQkLwojqYuC\n",
       "SETypDCSQSmIRCRvCiMZkIJIRJpBYSQ1KYhEpFkURlKVgkhEmklhJP0oiESk2RRGMgsFkYgUQWEk\n",
       "MymIRKQoCiMBFEQiUiyFkSiIRKRwCqMupyASkVagMOpiCiIRaRUKoy6lIBKRVqIw6kIKIhFpNQqj\n",
       "LqMgEpFWpDDqIgoiEWlVCqMuoSASkVamMOoCCiIRaXUKow6nIBKRdqAw6mAKIhFpFwqjDqUgEpF2\n",
       "ojDqQAoiEWk3CqMOoyASkXakMOogCiIRaVcKow6hIBKRdjZH0QXIk5nNARwO7AHMDVwOfNPd3yqw\n",
       "WA2nIBKRdtfpNaNvAbsBmwLLAvMBZxdaogZTEIlIJ+j0MNoOOMbdn3b3GcD3gO3MbFTB5WoIBZGI\n",
       "dIq2b6Yzs5HA/FWe6gFGAv/NPNabHlseeDj/0uVHQSQinaQTakbjgGlVbo8AVwLfNrOxZjYfcAQR\n",
       "UnMXVNaGUBCJBDNb1szeNLN5qjz3lJltPMz572Fm9w1nHlKftq8ZuftN1AhVM5sTWAC4A5gBHAvs\n",
       "BLzetALm4xQURCK4+/NUbxmBaAnpbWJxZBjaPowGsRRwnLt/G8DM1gLeA54utFTDdzewOrB/b2/v\n",
       "NUUXRrpDqVT6ELBMkxb3j97e3ncHm8jMxgLPEp2TtgJ+DIwBfgPMmZluYeAk4LPEjulp7j45PTca\n",
       "OBlYP732b8A+7n5XA9+PDKLTw+jLwCZmtjWx9/RT4Jfu3lNssYant7f3WKKWJ9IUKYgcGNukRU4p\n",
       "lUpWTyAlKxA9ZbcC/gQcQhwbLjsPmEqUfwzwBzP7l7ufQ/yWeoCPpr8nAscAGw3/bUi9Oj2MfgL8\n",
       "P+B5YiU7H5hQaIlEJA+7A9e5+80AZnYMsF/6f3Fgc2BRd/8v8JyZHQfsDZxD9LKdQWwjxgL/JlpV\n",
       "pIk6Oozc/R1gz6LLIdLuent73y2VSkaLNdNlLAS8UL7j7r1m9ly6uyxQAp4xs/IkI4DX0v9LEU14\n",
       "HwOeIjpAlWa/6DI7OjqMRKRxUjg8U3Q5angOWKvisSXT35eA94Ex7v4egJktQBxnArgI+IW7n5Ce\n",
       "2x1YNfcSyywURiLSCS4HDjGzLYEbiCa6ZQHc/R9mdjtwrJl9F5gX+C1Rk/oKcTx5BoCZfYw43jRn\n",
       "vyVIrjrhPCMR6W69RI1tJ+A44tSNdYHs+UG7AosBU4jetC8A+6bn9gYmmNlrxGkTE4BFzGwh1D28\n",
       "aUq9vfqcK6Xuon8HlnP3KcWWRkQ6hbYttalmJCIihVMYiYhI4RRGIiJSOIWRiIgUTmEkIiKFUxiJ\n",
       "iEjhFEYiIlI4hZGIiBROYSQiXcfMljazkUWXQ/oojESk4UqTSotW3C9VPlYUM1uMuDr3XMOcz1gz\n",
       "6zGzeRtTsu6mMBKRhipNKn0T8NKk0lrpfokYgfXh0qTSSoUWLsxDXCxVw0S0EF21W0QapjSpNIIY\n",
       "IXUh4KbSpNJmwPbAd4EPiDGDnm7kMs1sF+DbwHLpod+6+z5mtgzw81SeN4GfpmEiHkjTvWRmGwHf\n",
       "BKa6+4Q0vy8Ap7j7cmY2ApgE7ECMe/Q6cKS7n9HI9yCqGYlIA/VO7O0BdiGGdFgQuJ++INq5d2Lv\n",
       "FY1cXrrw6JnA1919NLAhsJuZbQpcQlydezFgY2KIic2ANdPLF3f3hxn4ytxfAr4IbOzuo4DvACeq\n",
       "aa7xFEYi0lC9E3vfJQIp69jeib2X5bC4F4BV3P1+MxsNjAamE6G0DjDB3d9292eAccDDVG+eq9Vk\n",
       "93vgM8BUM1saeAeYG1i4sW9DFEYi0lDpGNHhFQ/vUz6G1GDvA3ub2UvA3cD+xMB47wD/cfc3yxO6\n",
       "+1Pu/uoQ5/8hYoyjV4GrgC+kx7XtbDB9oCLSMJnOCuWmuV3pa7K7KYdA2pUYVG91d1/R3XcG3iYC\n",
       "aT4zG1We0Mx2NrPPVZnHB0TolI3O/H90+ruEu68BTGxo6WUmhZGINFIJWJS+Y0QX0XcMaS5g1ACv\n",
       "nR3zA+8B75rZXGZ2CNGR4WXgduDo9PiKwPFp2nfSaxdIf58GxpnZKDMbA3ydvmNI86fpP0jNgMel\n",
       "xzUseYMpjESkYVIHhvHAeuVjRJljSBv0Tuy9pcGLPBd4jBhO/FEiPM4EPpqWuQRxXOkmYJK73+zu\n",
       "LwHXAH81s02A04lhy6cAfwIuysz/MGAF4DXgRuIY0uNEr0DQkOQNo2HHq9DQwCKSB21balPNSERE\n",
       "CqcwEhGRwimMRESkcAojEREpnMJIREQKpzASEZHCKYxERKRwHTWEhJmdBLxbvhR8emwz4ERgLPAg\n",
       "8FV3/2sxJRQRkWo6omZkZqPN7BziIom9mccXAy4DDiVdG4u4LImIiLSQjggj4hpU7xLBk70U/HbA\n",
       "Q+5+tbu/DxwJLGlmnyygjCIiUkNbNNOZ2UjimlOVetz9DWBTd3/ZzH5V8fxHgSfKd9y9x8yeSY/f\n",
       "l1uBRURkSNqlZjQOmFbl9jCAu79c43XzAv+teGwGME8+xRQRkdnRFjUjd7+J2QvOasEzL/CfQV43\n",
       "Mv1d2sxmY7EiIlUtnf6OHHCqLtQWYTQMTwI7lu+k5r4VyDTd1bBE+nt7TuUSke62BDFshSSdFkaV\n",
       "49hfDkw2sy8CVxOjT/7D3R8eZD73AZ8GXiIGCRMRaYSRRBDpmHWFTgujXjJdu939X2a2DXGe0bnA\n",
       "Q0QPuwG5+zvAHXkVUkS6mmpEVWhwPRERKVy79KYTEZEOpjASEZHCKYxERKRwCiMRESmcwkhERArX\n",
       "aV27G6YdhqMwszmAw4E9gLmJ86q+6e5vFVWmsnSC8XHALkTZ7gH2cfe/F1qwxMyuBTbMPDSCuFrH\n",
       "+u5+dzGlmlU6P+5oYEngcWC8u/+l2FL1MbPHgOWAnvTQFHdftcAiVWVmewGT3X3RostSZmZzAScA\n",
       "OwAfAm4FvuHuLxZZriKpZlShzYaj+BawG7ApsCwwH3B2oSXq8xXg88AngEWAvwG/LLREGe6+hbvP\n",
       "X74BlwDnt1AQrQGcBezl7qOIde2SYkvVx8zmAQxYOvM5tmIQLQ8cT+a33CJ+SFyweSVgUeA14JRC\n",
       "S1QwhVF/7TQcxXbAMe7+tLvPAL4HbGdmowosU9kbxPo1B3HWeQ9xrcCWY2bbEoH+9aLLkjEeOMPd\n",
       "70r3jwd2MbPKq4wUZVXgZXefXnRBakm1818Dp9H/6ixFOwzY0t1fB0YBCwBTiy1Ssbquma7dhqMY\n",
       "qLzERj57VfLe9NjypCua52mQz/JSM9sK+AdxSaUXgQ3yLtMQyvdGmmYOYkN/cLObNwf5btcA/mBm\n",
       "fwRWI64esq+7N20Pv47yvWdmdxHXe3wIONDdn2qF8qXv9zvAo8C1wFebVa6yOsr3tplNJILpBWDj\n",
       "Zpav1XRjzajdhqOoVd5HgCuBb5vZWDObDziC2FDMnXOZBivbw2b2bWBdYEWiWfN64OImlWvQ8mWm\n",
       "2RmY4e5FNIEN9N0uDOwDTACWAh4ArkwbuKLL9zCx43MvcUxwWeB+4Boza9a6N2D5zGwt4EvAwRRX\n",
       "K6pn/TsG+DDwO+D6tHPUlbrujRcwHMWwDFReM5uTqN7fkcp3LLAT8HqeZaqzbA8RTYjPpPsHAG+a\n",
       "2cfd/fGiy5exJ3BGE4rTzyCf32PAZe7+YLr/Q+IYoTH4VedzL1+S/dy+b2b7AqsTnVVyV6t8KRDv\n",
       "B77m7jOKGgamnvUvXQcTM5tA7HysQhNaNVpRN9aMZteTxIYAGNJwFHlaCjjO3Zd295WIppL3gKcL\n",
       "LFPZ28xaQ+tJt/eLKU5/ZjY/sBHw26LLUoUz6+c3gtjDb4ljH2Y23sw+k7k/BzAn8b0X7ZNEL7+r\n",
       "zWw6cBWwsJlNM7OlB35pc5jZ2WaWPUY5J/EdN2VHshV1Xc1oCBo1HEWevgxsYmZbE23TPwV+6e49\n",
       "A7+sKS4CJpjZdcRQHEcDj7q7F1usWawNvDhA02yRzgF+bWbnE3vKRwLerFplHcYA+5vZ5kRPsMnA\n",
       "k+7+SLHFAne/nWj6AsDMNgYubaWu3UTtcUI6xWAqcBJwm7tPKbRUBVLNqLZ+w1EA2wATgVeJ3leD\n",
       "DkeRs58QHQSeJw7UPkQcY2gFJwO/Is6feIHYU922yAJV8RGiY0XLcfergP2IoU9eI/b2W+nzO4ro\n",
       "GHAv8C/i3LttiizQAEq0WNdudz+d+G7vBKYQteAdB3pNp9MQEiIiUjjVjEREpHAKIxERKZzCSERE\n",
       "CqcwEhGRwimMRESkcAojEREpnMJIREQKpyswSMtK40rN5e67Zh4bRVz9YntgaeKk1YuAo7NX3Taz\n",
       "14CFKma5duZab+OJITdGEydvft3dXxugLHMCdwE7uPtzw393+TCzTYDX3P3R9P/NwNzu/u4gr7sM\n",
       "ONnd/5R/KUX6U81IWtksV8EwswWBu4kRWr8BfAw4gDhzfeYVrc1scSKIPg4snrk9kp7fihiF9iBg\n",
       "fWAx4DeDlOUg4M5WDqLkZmCJ9P+dwOKDBVHyA+DnKXRFmk41I2lllRcGPZq42Opm5asdA8+lcaUe\n",
       "Jy7PdAmwMvBvd3+yxnwPAn7m7r8DMLMvA1PMbCV373eR2TSq6QRiSIx2UAJw9/eAV+p5gbs/aWb/\n",
       "JIbUGCyYRRpOYSSFMbMeYC+iuWxJ4I/A3uk6gJXTzkUMsX5IJoiAuHpouhjmo+mhlYmrXldb5ghg\n",
       "HeK6fuXXP29mzxO1pGpXPN8VeMndn83MZ0tgElH7+oAYxuNr7v5Cen4TYqyaVYF/Ake4+/npuRWJ\n",
       "Af02JEYVvhA41N3fqda0ZmbHAOu6+7h0deyTiWbK+Yia4v7u/oSZTUnFu9bMDgduy87LzJZNr90U\n",
       "eIu4Ntp3MwP2XQHsj8JICqBmOinaj4kB0NYnmtYurzHd8sSVye+t9qS731kevZUIoznN7AYze8nM\n",
       "bjazddJzCxHjUFVeIPVlYkiOarYEbijfMbPlUjnPJUb63SKV77D0vBGDCf6RGN/naOBsM/ukmS1M\n",
       "BNfr6T3vBmxNhNNAyoGxX1re54mxb16jLzzWTn93Ja7gPlMK8xuJHdD1iRrQ7sRnX3YDsHYqo0hT\n",
       "qWYkRTsqXaEaM9sD+JuZrV5lKIJyZ4R/1zHPj6bpv0dcnn88cLOZrULUYqD/uDvvAHPVmN9axLAh\n",
       "ZSOJIbZPS/efN7NLgE3S/a8BD7n799P9v6XjXXMRo4++D+yVmtGeNLNvAFeZ2ffqeG/LESMOP+fu\n",
       "U9OAdgbg7q+mgeSmu/tbFYPKbQYsA6zn7tMB0ng6C2SmeZaoqa1NJnxFmkFhJEW7vfyPuz9rZtOI\n",
       "Pf7KMHo1/a3sIVfNZ4E53b08TPx4M/sUMarryemxyuCZixgtt5oxmeXj7n8zs/+a2aGprB8DViNG\n",
       "F4Womd2XnYG7nwhgZrsBD6cgKruLCLiBhiQtHzs7jRjN90Uzu4toWjt7gNeVX7sy8Gw5iFKZrqwo\n",
       "Y08ajG7MIPMTaTg100nRKkd+HUlf7SXrGWAaNToRmNnpZrY3gLu/nwmisqeIXmbTiJrFEhXPL0GM\n",
       "u1RND5nfipmtmua3JumYDdE7r+wdao/I+t8qz43M/K02psvMncbUKWMssEMqwyHAvWb24SqvK+sl\n",
       "ajz1GEm8X5GmUhhJ0crHOTCzlYhmo36jhbr7B8AFxOii2eG4Sc1vewJvpPvPmdn/ZZ4fQdRcnkoH\n",
       "6+8hhhsvP/8RognrrhplfBnIjhK6N3C3u+/s7j9z9z8TQ9CXQ+ZpYI2KMl5gZj8kAuQTZvahzNPr\n",
       "EwHwV/pCI9t8tjwppFLT2g7ufoW7jyeOSa1ABONAngaWM7OZ8zWzfc3s+sz9EcDC6f2KNJWa6aRo\n",
       "R6YuxdOBnwE3DtAlexJx8P6PZnYY8HcizI4DbgIuTtNdDhxuZn8nerJ9C1gQ+GV6/hTgPDP7CxEO\n",
       "pwJXu/szNZb7ALHRL3sB2D41/b0C7AJ8gb4efL8ADjSzHxAn5G5EdDvfEHiCGC34bDP7MdFp4lTg\n",
       "4nTM512i9vQDMzuRONazGX1NgAsDPzKzqUTA7EY0Lz6Rnv8PsIqZ3V3xHq5Pn9dZ6bNbnDh5OFuj\n",
       "+zgRqA/V+BxEcqOakRTtLOBMYnjyvzHr0MuVQ7+/BmwAPEwEy2PAj9I8tst0UT4EOI8Y9vxBomax\n",
       "abm3nbtfTnRuOJ44ZvUS0bOslqvJ1KSI4063EVduuIcIlJ2AFc1s3nRi7NZE9+tHiTDczd3vd/cZ\n",
       "wOeIMHgglfMSomZHKuNewFbEuVObE13Ey47NvLengC8CW2WuHnECcCQR3DM/P3fvSWWalzie9Wvg\n",
       "zPKxrOTTwJ+zx5VEmkXDjkth0nlGm7j7bUWXZSBmNi/wHDDO3R8rujx5MbM7gZ+Xz4cSaSbVjEQG\n",
       "kWozPyUuQdSRzGx14rjYhUWXRbqTwkikPj8F1jOzsUUXJCeTgPGpOU+k6dRMJyIihVPNSERECqcw\n",
       "EhGRwimMRESkcAojEREpnMJIREQKpzASEZHC/X/I19VfgTbU/QAAAABJRU5ErkJggg==\n",
       "\">\n",
       "    </div>\n",
       "    \n",
       "      <b>color:</b> green: <input type=\"radio\" name=\"color\" value=\"green\" checked=\"checked\" onchange=\"interactUpdate(this.parentNode);\">\n",
       "<br>\n",
       "<b>error:</b> <input type=\"range\" name=\"error\" min=\"0.001\" max=\"0.00532372289672\" step=\"0.001\" value=\"0.001\" style=\"width:350px\" oninput=\"interactUpdate(this.parentNode);\" onchange=\"interactUpdate(this.parentNode);\">\n",
       "    </div>\n",
       "    "
      ],
      "text/plain": [
       "<ipywidgets.interact.StaticInteract at 0x10db3b9d0>"
      ]
     },
     "execution_count": 77,
     "metadata": {},
     "output_type": "execute_result"
    }
   ],
   "source": [
    "def slider_plot(error, color):\n",
    "    fig, ax = sns.plt.subplots(figsize=(5, 5),\n",
    "                           subplot_kw={'axisbelow':True})\n",
    "    #ax.grid(color='w', linewidth=2, linestyle='solid')\n",
    "    ax.plot([-9, -4], [-9, -4], 'k-');\n",
    "    ax.scatter(echo_pIC50s - error, genesis_pIC50s, color=color,marker='x',s=40, linewidth=2)\n",
    "    ax.set_xlabel('pIC50 (acoustic)');\n",
    "    ax.set_ylabel('pIC50 (tips)');\n",
    "    ax.legend(['ideal', 'actual'], loc='lower right');\n",
    "    ax.set_title('Relationship of pIC50s measured by different technologies');\n",
    "    return fig\n",
    "\n",
    "clf;\n",
    "StaticInteract(slider_plot,\n",
    "               error=RangeWidget(0.001, average_echo_bias, 0.001),\n",
    "               color=RadioWidget(['green']))"
   ]
  },
  {
   "cell_type": "markdown",
   "metadata": {},
   "source": [
    "Now lets try this using IPython.html.widgets: No installing or downloading anything as long as your ipython notebook is working!"
   ]
  },
  {
   "cell_type": "code",
   "execution_count": 78,
   "metadata": {
    "collapsed": false
   },
   "outputs": [
    {
     "name": "stderr",
     "output_type": "stream",
     "text": [
      ":0: FutureWarning: IPython widgets are experimental and may change in the future.\n"
     ]
    }
   ],
   "source": [
    "from IPython.html import widgets\n",
    "from IPython.display import display"
   ]
  },
  {
   "cell_type": "code",
   "execution_count": 79,
   "metadata": {
    "collapsed": false
   },
   "outputs": [
    {
     "data": {
      "image/png": "[encoded data removed]",
      "text/plain": [
       "<matplotlib.figure.Figure at 0x10f544390>"
      ]
     },
     "metadata": {},
     "output_type": "display_data"
    },
    {
     "data": {
      "text/plain": [
       "<matplotlib.figure.Figure at 0x10f544ed0>"
      ]
     },
     "metadata": {},
     "output_type": "display_data"
    }
   ],
   "source": [
    "fig, ax = plt.subplots()\n",
    "plt.figure(figsize=(12,12),facecolor='red')\n",
    "ax.plot([-8, -5], [-8, -5], 'k-');\n",
    "plt.close(fig)\n",
    "\n",
    "def set_cursor(a, b):\n",
    "    ax.scatter(echo_pIC50s - a, genesis_pIC50s - b,color='blue',marker='x',s=40, linewidth=2); \n",
    "    display(fig);\n",
    "\n",
    "\n",
    "widgets.interact(set_cursor, a=(0, average_echo_bias, 0.001), b=(0, average_genesis_bias, 0.01));"
   ]
  },
  {
   "cell_type": "markdown",
   "metadata": {},
   "source": [
    "Below are some other examples of what you can do with these, since this is still a bit unimpressive."
   ]
  },
  {
   "cell_type": "code",
   "execution_count": 80,
   "metadata": {
    "collapsed": false
   },
   "outputs": [
    {
     "data": {
      "image/png": "[encoded data removed]",
      "text/plain": [
       "<matplotlib.figure.Figure at 0x10e3c1350>"
      ]
     },
     "metadata": {},
     "output_type": "display_data"
    },
    {
     "data": {
      "text/plain": [
       "<function __main__.set_cursor>"
      ]
     },
     "execution_count": 80,
     "metadata": {},
     "output_type": "execute_result"
    }
   ],
   "source": [
    "fig, ax = plt.subplots()\n",
    "ax.plot([3,1,2,4,0,5,3,2,0,2,4])\n",
    "plt.close(fig)\n",
    "\n",
    "vline = ax.axvline(1)\n",
    "hline = ax.axhline(0.5)\n",
    "\n",
    "def set_cursor(x, y):\n",
    "    vline.set_xdata((x, x))\n",
    "    hline.set_ydata((y, y))\n",
    "    display(fig)\n",
    "\n",
    "widgets.interact(set_cursor, x=(1, 9, 0.01), y=(0, 5, 0.01))"
   ]
  },
  {
   "cell_type": "code",
   "execution_count": 81,
   "metadata": {
    "collapsed": false
   },
   "outputs": [
    {
     "data": {
      "image/png": "[encoded data removed]",
      "text/plain": [
       "<matplotlib.figure.Figure at 0x10d719510>"
      ]
     },
     "metadata": {},
     "output_type": "display_data"
    }
   ],
   "source": [
    "def sigmoid_demo(a=5,b=1):\n",
    "    x = np.linspace(0,10,256)\n",
    "    s = 1/(1+np.exp(-(x-a)/(b+0.1))) # +0.1 to avoid dividing by 0\n",
    "    sn = 100.0*(s-min(s))/(max(s)-min(s)) # normalize sigmoid to 0-100\n",
    "    fig = plt.figure(figsize=(24,6))\n",
    "    ax1 = fig.add_subplot(2, 1, 1)\n",
    "    ax1.set_xticks([])\n",
    "    ax1.set_yticks([])\n",
    "    plt.plot(x,sn,lw=2,color='black')\n",
    "    plt.xlim(x.min(), x.max())\n",
    "\n",
    "w=widgets.interactive(sigmoid_demo,a=5,b=1)\n",
    "display(w)"
   ]
  }
 ],
 "metadata": {
  "kernelspec": {
   "display_name": "Python 2",
   "language": "python",
   "name": "python2"
  },
  "language_info": {
   "codemirror_mode": {
    "name": "ipython",
    "version": 2
   },
   "file_extension": ".py",
   "mimetype": "text/x-python",
   "name": "python",
   "nbconvert_exporter": "python",
   "pygments_lexer": "ipython2",
   "version": "2.7.10"
  }
 },
 "nbformat": 4,
 "nbformat_minor": 0
}
