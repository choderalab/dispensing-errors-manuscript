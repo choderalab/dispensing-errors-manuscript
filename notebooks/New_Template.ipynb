{
 "cells": [
  {
   "cell_type": "markdown",
   "metadata": {},
   "source": [
    "#Errors in serial dilution: How can dispensing technology impact assay data?"
   ]
  },
  {
   "cell_type": "markdown",
   "metadata": {},
   "source": [
    "####[Sonya M. Hanson and John D. Chodera](http://www.choderalab.org/) Computational Biology Program, Memorial Sloan Kettering Cancer Center, New York NY 10065"
   ]
  },
  {
   "cell_type": "markdown",
   "metadata": {},
   "source": [
    "'''\n",
    "Introductory pre-ramble.\n",
    "'''"
   ]
  },
  {
   "cell_type": "code",
   "execution_count": 6,
   "metadata": {
    "collapsed": true
   },
   "outputs": [],
   "source": [
    "import numpy as np"
   ]
  },
  {
   "cell_type": "markdown",
   "metadata": {},
   "source": [
    "###1. Calculating IC50 for EphB4 system from assay data."
   ]
  },
  {
   "cell_type": "markdown",
   "metadata": {},
   "source": [
    "Now lets see how these errors relate to IC50 results. Let's assume EphB4 as our system, with a Km for ATP by EphB4 of 1.71 uM ([EphB4 DataSheet](http://www.proqinase.com/kinase-database/pdfs/2843.pdf)). Note that we're assuming that EphB4 obeys Michaelis-Menten kinetics here, and that V0/Vmax is what is measured."
   ]
  },
  {
   "cell_type": "code",
   "execution_count": 18,
   "metadata": {
    "collapsed": true
   },
   "outputs": [],
   "source": [
    "# Km of ATP for EphB4 (M)\n",
    "Km = 1.71e-6\n",
    "# arbitrary compound Ki (M)\n",
    "true_Ki = 10e-9\n",
    "\n",
    "# ATP concentration (M)\n",
    "substrate_concentration = 4e-6\n",
    "# EphB4 assay concentration (M)\n",
    "enzyme_concentration = 6e-6\n",
    "\n",
    "# volume of compound dilution added to assay (L)\n",
    "compound_volume = 2.0e-6\n",
    "# volume of enzyme assay mix added to assay (L)\n",
    "mix_volume = 10.0e-6"
   ]
  },
  {
   "cell_type": "code",
   "execution_count": null,
   "metadata": {
    "collapsed": true
   },
   "outputs": [],
   "source": [
    "#skeleton place holder\n",
    "def perfect_dispense(compound_volume, mix_volume, actual_concentrations, perfect_pipetting_model)"
   ]
  },
  {
   "cell_type": "code",
   "execution_count": 19,
   "metadata": {
    "collapsed": true
   },
   "outputs": [],
   "source": [
    "def competitive_inhibition(substrate_concentration, inhibitor_concentration, enzyme_concentration, Ki, Km):\n",
    "    V0_over_Vmax = substrate_concentration / (Km*(1 + inhibitor_concentration/Ki) + substrate_concentration)\n",
    "    return V0_over_Vmax"
   ]
  },
  {
   "cell_type": "code",
   "execution_count": 22,
   "metadata": {
    "collapsed": false
   },
   "outputs": [],
   "source": [
    "activity = np.zeros([ndilutions], np.float64)\n",
    "for i in range(ndilutions):\n",
    "    activity[i] = competitive_inhibition(substrate_concentration, assay_compound_concentrations[i], enzyme_concentration, true_Ki, Km)\n"
   ]
  },
  {
   "cell_type": "markdown",
   "metadata": {},
   "source": [
    "###2. Adding in inaccuracy and imprecision for Tecan Genesis."
   ]
  },
  {
   "cell_type": "code",
   "execution_count": null,
   "metadata": {
    "collapsed": true
   },
   "outputs": [],
   "source": [
    "ndilutions = 8"
   ]
  },
  {
   "cell_type": "code",
   "execution_count": 17,
   "metadata": {
    "collapsed": true
   },
   "outputs": [],
   "source": [
    "def dilution_series(V0, C0, Vtransfer, Vbuffer, ndilutions):\n",
    "    # Initialize concentrations and volumes with zero vectors with C0 and V0 as first value\n",
    "    concentrations = numpy.zeros([ndilutions], numpy.float64)\n",
    "    volumes = numpy.zeros([ndilutions], numpy.float64)\n",
    "    concentrations[0] = C0\n",
    "    volumes[0] = V0\n",
    "    \n",
    "    # and Vbuffer as initial volume for all but first.\n",
    "    for n in range(1,ndilutions):\n",
    "        volumes[n] = Vbuffer\n",
    "        \n",
    "    # Create dilution series.\n",
    "    for n in range(1,ndilutions):\n",
    "        concentrations[n] = concentrations[n-1] * Vtransfer / (Vtransfer + Vbuffer)\n",
    "        volumes[n] += Vtransfer\n",
    "        volumes[n-1] -= Vtransfer\n",
    "        \n",
    "    # Remove Vtransfer from last.\n",
    "    volumes[ndilutions-1] -= Vtransfer\n",
    "    \n",
    "    return [volumes, concentrations]"
   ]
  },
  {
   "cell_type": "code",
   "execution_count": null,
   "metadata": {
    "collapsed": true
   },
   "outputs": [],
   "source": [
    "def ROBOT_dilution_series(V0, C0, Vtransfer, Vbuffer, ndilutions, pipetting_model):\n",
    "    \n",
    "    # use pipetting error function\n",
    "    [transfer_inaccuracy, transfer_imprecision] = pipetting_model(Vtransfer)    \n",
    "            \n",
    "    # define (b) imprecision of volume transfer operations (including initial volumes)\n",
    "    transfer_bias = transfer_inaccuracy * normal()\n",
    "    \n",
    "    # Initialize concentrations and volumes with zero vectors with C0 and V0 as first value\n",
    "    actual_concentrations = numpy.zeros([ndilutions], numpy.float64)\n",
    "    actual_volumes = numpy.zeros([ndilutions], numpy.float64)\n",
    "    actual_concentrations[0] = C0\n",
    "    actual_volumes[0] = V0\n",
    "    \n",
    "    # and Vbuffer as initial volume for all but first.\n",
    "    Vbuffer_actual = Vbuffer * ((1+transfer_bias) + transfer_imprecision*normal())\n",
    "    for n in range(1,ndilutions):\n",
    "        actual_volumes[n] = Vbuffer_actual\n",
    "    \n",
    "    # Create dilution series.\n",
    "    for n in range(1,ndilutions):\n",
    "        Vtransfer_actual = Vtransfer * ((1+transfer_bias) + transfer_imprecision*normal())\n",
    "        actual_concentrations[n] = \\\n",
    "            actual_concentrations[n-1] * Vtransfer_actual / (Vtransfer_actual + Vbuffer_actual)\n",
    "        actual_volumes[n] += Vtransfer_actual\n",
    "        actual_volumes[n-1] -= Vtransfer_actual\n",
    "    Vtransfer_actual = Vtransfer * ((1+transfer_bias) + transfer_imprecision*normal())\n",
    "    \n",
    "    # Remove Vtransfer from last.\n",
    "    actual_volumes[ndilutions-1] -= Vtransfer_actual\n",
    "    \n",
    "    return [actual_volumes, actual_concentrations]"
   ]
  },
  {
   "cell_type": "code",
   "execution_count": 23,
   "metadata": {
    "collapsed": true
   },
   "outputs": [],
   "source": [
    "#first CV plot"
   ]
  },
  {
   "cell_type": "code",
   "execution_count": null,
   "metadata": {
    "collapsed": true
   },
   "outputs": [],
   "source": [
    "#first bias blot"
   ]
  },
  {
   "cell_type": "code",
   "execution_count": null,
   "metadata": {
    "collapsed": true
   },
   "outputs": [],
   "source": [
    "#first non-perfect IC50 plot"
   ]
  },
  {
   "cell_type": "markdown",
   "metadata": {},
   "source": [
    "###3. Compare this to inaccuracy and imprecision for LabCyte Echo."
   ]
  },
  {
   "cell_type": "code",
   "execution_count": null,
   "metadata": {
    "collapsed": true
   },
   "outputs": [],
   "source": []
  },
  {
   "cell_type": "code",
   "execution_count": null,
   "metadata": {
    "collapsed": true
   },
   "outputs": [],
   "source": [
    "def echo_assay_dispense(C0, mix_volume, backfill_volume, dispense_volumes):\n",
    "    inaccuracy = 0.10\n",
    "    imprecision = 0.08\n",
    "\n",
    "    ndilutions = len(dispense_volumes)\n",
    "    echo_volume = numpy.zeros([ndilutions], numpy.float64)\n",
    "    echo_concentration = numpy.zeros([ndilutions], numpy.float64)\n",
    "    bias = inaccuracy * normal()\n",
    "    \n",
    "    for i in range(ndilutions):\n",
    "        compound_volume_intended = dispense_volumes[i]\n",
    "        backfill_volume_intended = backfill_volume - compound_volume_intended\n",
    "        \n",
    "        compound_volume_dispensed = compound_volume_intended * ((1+bias) + imprecision*normal())\n",
    "        backfill_volume_dispensed = backfill_volume_intended * ((1+bias) + imprecision*normal())\n",
    "        \n",
    "        echo_volume[i] = mix_volume + backfill_volume_dispensed + compound_volume_dispensed\n",
    "        echo_concentration[i] = C0 * compound_volume_dispensed / echo_volume[i]\n",
    "\n",
    "    return [echo_volume, echo_concentration]"
   ]
  },
  {
   "cell_type": "code",
   "execution_count": null,
   "metadata": {
    "collapsed": true
   },
   "outputs": [],
   "source": []
  },
  {
   "cell_type": "markdown",
   "metadata": {},
   "source": [
    "###4. Add in dilution effect for Tecan Genesis liquid handler."
   ]
  },
  {
   "cell_type": "code",
   "execution_count": null,
   "metadata": {
    "collapsed": true
   },
   "outputs": [],
   "source": []
  },
  {
   "cell_type": "code",
   "execution_count": null,
   "metadata": {
    "collapsed": true
   },
   "outputs": [],
   "source": [
    "def DILUTE_ROBOT_dilution_series(V0, C0, Vtransfer, Vbuffer, ndilutions, pipetting_model):\n",
    "    \n",
    "    # use pipetting error function\n",
    "    [transfer_inaccuracy, transfer_imprecision] = pipetting_model(Vtransfer)    \n",
    "            \n",
    "    # define (b) imprecision of volume transfer operations (including initial volumes)\n",
    "    transfer_bias = transfer_inaccuracy * normal()\n",
    "    \n",
    "    # Initialize concentrations and volumes with zero vectors with C0 and V0 as first value\n",
    "    actual_concentrations = numpy.zeros([ndilutions], numpy.float64)\n",
    "    actual_volumes = numpy.zeros([ndilutions], numpy.float64)\n",
    "    actual_concentrations[0] = C0\n",
    "    actual_volumes[0] = V0\n",
    "    \n",
    "    # and Vbuffer as initial volume for all but first.\n",
    "    Vbuffer_actual = Vbuffer * ((1+transfer_bias) + transfer_imprecision*normal())\n",
    "    for n in range(1,ndilutions):\n",
    "        actual_volumes[n] = Vbuffer_actual\n",
    "    \n",
    "    # Create dilute dilution series \n",
    "    # Observe only change is in actual_concentrations[n].\n",
    "    for n in range(1,ndilutions):\n",
    "        Vtransfer_actual = Vtransfer * ((1+transfer_bias) + transfer_imprecision*normal())\n",
    "        actual_concentrations[n] = \\\n",
    "             actual_concentrations[n-1] * Vtransfer_actual / (Vtransfer_actual + Vbuffer_actual)\\\n",
    "             * (1+dilution_function(Vtransfer))\n",
    "        actual_volumes[n] += Vtransfer_actual \n",
    "        actual_volumes[n-1] -= Vtransfer_actual\n",
    "    Vtransfer_actual = Vtransfer * ((1+transfer_bias) + transfer_imprecision*normal())\n",
    "    \n",
    "    #Remove Vtransfer from last.\n",
    "    actual_volumes[ndilutions-1] -= Vtransfer_actual\n",
    "    \n",
    "    return [actual_volumes, actual_concentrations]"
   ]
  },
  {
   "cell_type": "code",
   "execution_count": null,
   "metadata": {
    "collapsed": true
   },
   "outputs": [],
   "source": []
  },
  {
   "cell_type": "markdown",
   "metadata": {},
   "source": [
    "###5. Now compare Tecan Genesis and LabCyte Echo errors."
   ]
  },
  {
   "cell_type": "code",
   "execution_count": null,
   "metadata": {
    "collapsed": true
   },
   "outputs": [],
   "source": []
  },
  {
   "cell_type": "code",
   "execution_count": null,
   "metadata": {
    "collapsed": true
   },
   "outputs": [],
   "source": []
  },
  {
   "cell_type": "markdown",
   "metadata": {},
   "source": [
    "###6. The HP D300 as an alternative digital dispensing device."
   ]
  },
  {
   "cell_type": "code",
   "execution_count": null,
   "metadata": {
    "collapsed": true
   },
   "outputs": [],
   "source": []
  },
  {
   "cell_type": "code",
   "execution_count": null,
   "metadata": {
    "collapsed": true
   },
   "outputs": [],
   "source": []
  },
  {
   "cell_type": "code",
   "execution_count": null,
   "metadata": {
    "collapsed": true
   },
   "outputs": [],
   "source": []
  },
  {
   "cell_type": "code",
   "execution_count": null,
   "metadata": {
    "collapsed": true
   },
   "outputs": [],
   "source": []
  }
 ],
 "metadata": {
  "kernelspec": {
   "display_name": "Python 2",
   "language": "python",
   "name": "python2"
  },
  "language_info": {
   "codemirror_mode": {
    "name": "ipython",
    "version": 2
   },
   "file_extension": ".py",
   "mimetype": "text/x-python",
   "name": "python",
   "nbconvert_exporter": "python",
   "pygments_lexer": "ipython2",
   "version": "2.7.10"
  }
 },
 "nbformat": 4,
 "nbformat_minor": 0
}
