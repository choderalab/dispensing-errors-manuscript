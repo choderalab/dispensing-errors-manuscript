{
 "cells": [
  {
   "cell_type": "markdown",
   "metadata": {},
   "source": [
    "#Errors in serial dilution: how does dispensing technology matter?"
   ]
  },
  {
   "cell_type": "markdown",
   "metadata": {},
   "source": [
    "####[Sonya M. Hanson and John D. Chodera](http://www.choderalab.org/) Computational Biology Program, Memorial Sloan Kettering Cancer Center"
   ]
  },
  {
   "cell_type": "markdown",
   "metadata": {},
   "source": [
    "In a recent paper by Ekins et al, [Dispensing Processes Impact Apparent Biological Activity as Determined by Computational and Statistical Analyses. PLoS ONE 8(5): e62325, 2013](http://journals.plos.org/plosone/article?id=10.1371/journal.pone.0062325), a large discrepancy was observed in IC50 assay values in which either a LabCyte Echo acoustic dispensing unit or a Tecan Genesis liquid handling workstation were used in performing the assays.  [Should we also reference nature blogs and in the pipeline posts here?]"
   ]
  },
  {
   "cell_type": "markdown",
   "metadata": {},
   "source": [
    "#<span style=\"color:blue\">insert quote here</span>"
   ]
  },
  {
   "cell_type": "markdown",
   "metadata": {},
   "source": [
    "This discrepancy may be due to any number of factors, but one of the main features of the Echo is its direct dispensing technology that allows a dilution series over several orders of magnitude in concentration to be created directly without the need for serial dilution."
   ]
  },
  {
   "cell_type": "markdown",
   "metadata": {},
   "source": [
    "#<span style=\"color:blue\">insert figure here</span>"
   ]
  },
  {
   "cell_type": "markdown",
   "metadata": {},
   "source": [
    "###Here we experiment with some simple python models to see what could be the source of these discrepencies."
   ]
  },
  {
   "cell_type": "markdown",
   "metadata": {},
   "source": [
    "### 0. Define assay setup"
   ]
  },
  {
   "cell_type": "code",
   "execution_count": 53,
   "metadata": {
    "collapsed": false
   },
   "outputs": [
    {
     "name": "stdout",
     "output_type": "stream",
     "text": [
      "Populating the interactive namespace from numpy and matplotlib\n"
     ]
    },
    {
     "name": "stderr",
     "output_type": "stream",
     "text": [
      "WARNING: pylab import has clobbered these variables: ['f']\n",
      "`%matplotlib` prevents importing * from pylab and numpy\n"
     ]
    }
   ],
   "source": [
    "# import libraries\n",
    "import seaborn as sns\n",
    "import matplotlib.pyplot as plt\n",
    "import numpy as np\n",
    "from numpy.random import normal\n",
    "from scipy.interpolate import interp1d\n",
    "%pylab inline\n",
    "sns.set(style='white')\n",
    "sns.set_context('talk')"
   ]
  },
  {
   "cell_type": "markdown",
   "metadata": {},
   "source": [
    "Our general assay setup is of 8 points of 100 uL each in our dilution series (including the original concentration), starting with an initial concentration of 10 mM in DMSO stock. Each point will be diluted be a factor 2 dilution of the previous step."
   ]
  },
  {
   "cell_type": "markdown",
   "metadata": {},
   "source": [
    "#<span style=\"color:blue\">insert figure here</span>"
   ]
  },
  {
   "cell_type": "markdown",
   "metadata": {},
   "source": [
    "Define number of points in dilution series (including original stock):"
   ]
  },
  {
   "cell_type": "code",
   "execution_count": 54,
   "metadata": {
    "collapsed": true
   },
   "outputs": [],
   "source": [
    "ndilutions = 8"
   ]
  },
  {
   "cell_type": "markdown",
   "metadata": {},
   "source": [
    "Define original volume as 100 µL:"
   ]
  },
  {
   "cell_type": "code",
   "execution_count": 55,
   "metadata": {
    "collapsed": true
   },
   "outputs": [],
   "source": [
    "V0 = 100e-6"
   ]
  },
  {
   "cell_type": "markdown",
   "metadata": {},
   "source": [
    "Define stock concentration as 10 mM:"
   ]
  },
  {
   "cell_type": "code",
   "execution_count": 56,
   "metadata": {
    "collapsed": true
   },
   "outputs": [],
   "source": [
    "C0 = 10e-3"
   ]
  },
  {
   "cell_type": "markdown",
   "metadata": {},
   "source": [
    "Define specific parameters of the dilution series (transferring 50 µL into 50 µL buffer at each step):"
   ]
  },
  {
   "cell_type": "code",
   "execution_count": 57,
   "metadata": {
    "collapsed": true
   },
   "outputs": [],
   "source": [
    "Vtransfer = 50e-6\n",
    "Vbuffer = 50e-6"
   ]
  },
  {
   "cell_type": "markdown",
   "metadata": {},
   "source": [
    "Define dilution series function:"
   ]
  },
  {
   "cell_type": "code",
   "execution_count": 58,
   "metadata": {
    "collapsed": true
   },
   "outputs": [],
   "source": [
    "def dilution_series(V0, C0, Vtransfer, Vbuffer, ndilutions):\n",
    "    # Initialize concentrations and volumes with zero vectors with C0 and V0 as first value\n",
    "    concentrations = numpy.zeros([ndilutions], numpy.float64)\n",
    "    volumes = numpy.zeros([ndilutions], numpy.float64)\n",
    "    concentrations[0] = C0\n",
    "    volumes[0] = V0\n",
    "    \n",
    "    # and Vbuffer as initial volume for all but first.\n",
    "    for n in range(1,ndilutions):\n",
    "        volumes[n] = Vbuffer\n",
    "        \n",
    "    # Create dilution series.\n",
    "    for n in range(1,ndilutions):\n",
    "        concentrations[n] = concentrations[n-1] * Vtransfer / (Vtransfer + Vbuffer)\n",
    "        volumes[n] += Vtransfer\n",
    "        volumes[n-1] -= Vtransfer\n",
    "        \n",
    "    # Remove Vtransfer from last.\n",
    "    volumes[ndilutions-1] -= Vtransfer\n",
    "    \n",
    "    return [volumes, concentrations]"
   ]
  },
  {
   "cell_type": "code",
   "execution_count": 59,
   "metadata": {
    "collapsed": false
   },
   "outputs": [],
   "source": [
    "[ideal_volumes, ideal_concentrations] = dilution_series(V0, C0, Vtransfer, Vbuffer, ndilutions)"
   ]
  },
  {
   "cell_type": "code",
   "execution_count": 60,
   "metadata": {
    "collapsed": false
   },
   "outputs": [
    {
     "name": "stdout",
     "output_type": "stream",
     "text": [
      "Thus we now have an 8 part dilution series from 0.01 M to 7.8125e-05 M.\n"
     ]
    }
   ],
   "source": [
    "print \"Thus we now have an %s part dilution series from %s M to %s M.\" % (ndilutions, C0, ideal_concentrations[-1])"
   ]
  },
  {
   "cell_type": "markdown",
   "metadata": {},
   "source": [
    "Let's plot it!"
   ]
  },
  {
   "cell_type": "code",
   "execution_count": 61,
   "metadata": {
    "collapsed": false
   },
   "outputs": [
    {
     "data": {
      "image/png": "[encoded data removed]",
      "text/plain": [
       "<matplotlib.figure.Figure at 0x10d77aed0>"
      ]
     },
     "metadata": {},
     "output_type": "display_data"
    }
   ],
   "source": [
    "f, (ax1,ax2) = plt.subplots(2,1,sharex=True)\n",
    "ax1.scatter(range(ndilutions), ideal_concentrations, lw=4)\n",
    "ax1.set_title(\"Normal plot\")\n",
    "ax2.semilogy(range(ndilutions), ideal_concentrations,'ko')\n",
    "ax2.set_title(\"Semilogy plot\")\n",
    "plt.xlabel('dilution number')\n",
    "plt.ylabel('concentration (M)')\n",
    "ax1.axis([- 0.5, ndilutions - 0.5, 0.0, C0 * 1.2])\n",
    "ax2.axis([- 0.5, ndilutions - 0.5, 0.0, C0 * 1.2])\n",
    "f.tight_layout()"
   ]
  },
  {
   "cell_type": "markdown",
   "metadata": {},
   "source": [
    "First we'll model how a human or a liquid-handling robot does a serial dilution, then we'll model how direct dispense technology does for the same dilution series."
   ]
  },
  {
   "cell_type": "markdown",
   "metadata": {},
   "source": [
    "### 1. Dilution and dispensing by a liquid-handling robot."
   ]
  },
  {
   "cell_type": "markdown",
   "metadata": {
    "collapsed": true
   },
   "source": [
    "Real liquid-handling robots can't transfer the specified volume exactly. Each transfer operation has some (a) inaccuracy (modeled as a constant bias factor for all dispensing operations) and (b) imprecision (random error associated with each volume transfer). We'll ignore other contributions to error, such as compound stickiness, insolubility, etc."
   ]
  },
  {
   "cell_type": "markdown",
   "metadata": {},
   "source": [
    "Suppose we generate this dilution series using a Tecan Genesis robot used in the assay.\n",
    "\n",
    "Published specs for imprecision for the Genesis are available:\n",
    "\n",
    "[imprecision data for Tecan Genesis](http://www.frankshospitalworkshop.com/equipment/documents/automated_analyzer/user_manuals/Tecan%20Genesis%20RMP%20-%20User%20manual.pdf)\n",
    "\n",
    "Specs, however, for inaccuracy were not available (the Genesis has actually not been in production for some time now, note our sorta sketchy link above, too), so we'll use similar inaccuracy data for the Beckman NX/FX span-8 instead:\n",
    "\n",
    "[inaccuracy/imprecision data for Biomek NX/FX](https://www.beckmancoulter.com/wsrportal/bibliography?docname=BR-10150B.pdf)\n"
   ]
  },
  {
   "cell_type": "markdown",
   "metadata": {},
   "source": [
    "#<span style=\"color:blue\">insert chart from link here</span>"
   ]
  },
  {
   "cell_type": "markdown",
   "metadata": {},
   "source": [
    "Define pipetting error function for the genesis:"
   ]
  },
  {
   "cell_type": "code",
   "execution_count": 62,
   "metadata": {
    "collapsed": true
   },
   "outputs": [],
   "source": [
    "def tecan_genesis_pipetting_model(volume):\n",
    "    # Imprecision from Tecan Genesis manual.\n",
    "    # Inaccuracy estimated from Beckman Biomek NX/FX span-8.\n",
    "    \n",
    "    imprecision_function = interp1d(\n",
    "        [10e-6,100e-6], # Volume Range\n",
    "        [0.03,0.005]) # published imprecision for Tecan Genesis\n",
    "    inaccuracy_function = interp1d(\n",
    "        [0.5e-6, 1e-6, 100e-6], # Volume Range\n",
    "        [0.05, 0.03, 0.03]) # published inaccuracy for Beckman NX/FX span-8\n",
    "    \n",
    "    return [inaccuracy_function(volume), imprecision_function(volume)]    "
   ]
  },
  {
   "cell_type": "markdown",
   "metadata": {},
   "source": [
    "Just for reference, this is what the ideal pipetting model looks like in comparison:"
   ]
  },
  {
   "cell_type": "code",
   "execution_count": 63,
   "metadata": {
    "collapsed": true
   },
   "outputs": [],
   "source": [
    "def ideal_pipetting_model(volume):\n",
    "\n",
    "    imprecision_function = interp1d(\n",
    "        [0,0],\n",
    "        [0.03,0.005]) \n",
    "    inaccuracy_function = interp1d(\n",
    "        [0, 0, 0],\n",
    "        [0.05, 0.03, 0.03]) \n",
    "    \n",
    "    return [inaccuracy_function(volume), imprecision_function(volume)]    "
   ]
  },
  {
   "cell_type": "markdown",
   "metadata": {},
   "source": [
    "#<span style=\"color:blue\">Add better description of what is changing.</span>"
   ]
  },
  {
   "cell_type": "markdown",
   "metadata": {},
   "source": [
    "Now we'll apply this error to our dilution series:"
   ]
  },
  {
   "cell_type": "code",
   "execution_count": 64,
   "metadata": {
    "collapsed": true
   },
   "outputs": [],
   "source": [
    "# define ROBOT_dilution_series function\n",
    "def ROBOT_dilution_series(V0, C0, Vtransfer, Vbuffer, ndilutions, pipetting_model):\n",
    "    \n",
    "    # use pipetting error function\n",
    "    [transfer_inaccuracy, transfer_imprecision] = pipetting_model(Vtransfer)    \n",
    "            \n",
    "    # define (b) imprecision of volume transfer operations (including initial volumes)\n",
    "    transfer_bias = transfer_inaccuracy * normal()\n",
    "    \n",
    "    # Initialize concentrations and volumes with zero vectors with C0 and V0 as first value\n",
    "    actual_concentrations = numpy.zeros([ndilutions], numpy.float64)\n",
    "    actual_volumes = numpy.zeros([ndilutions], numpy.float64)\n",
    "    actual_concentrations[0] = C0\n",
    "    actual_volumes[0] = V0\n",
    "    \n",
    "    # and Vbuffer as initial volume for all but first.\n",
    "    Vbuffer_actual = Vbuffer * ((1+transfer_bias) + transfer_imprecision*normal())\n",
    "    for n in range(1,ndilutions):\n",
    "        actual_volumes[n] = Vbuffer_actual\n",
    "    \n",
    "    # Create dilution series.\n",
    "    for n in range(1,ndilutions):\n",
    "        Vtransfer_actual = Vtransfer * ((1+transfer_bias) + transfer_imprecision*normal())\n",
    "        actual_concentrations[n] = \\\n",
    "            actual_concentrations[n-1] * Vtransfer_actual / (Vtransfer_actual + Vbuffer_actual)\n",
    "        actual_volumes[n] += Vtransfer_actual\n",
    "        actual_volumes[n-1] -= Vtransfer_actual\n",
    "    Vtransfer_actual = Vtransfer * ((1+transfer_bias) + transfer_imprecision*normal())\n",
    "    \n",
    "    # Remove Vtransfer from last.\n",
    "    actual_volumes[ndilutions-1] -= Vtransfer_actual\n",
    "    \n",
    "    return [actual_volumes, actual_concentrations]"
   ]
  },
  {
   "cell_type": "code",
   "execution_count": 65,
   "metadata": {
    "collapsed": false
   },
   "outputs": [],
   "source": [
    "[actual_volumes, actual_concentrations] = \\\n",
    "    ROBOT_dilution_series(V0, C0, Vtransfer, Vbuffer, ndilutions, tecan_genesis_pipetting_model)"
   ]
  },
  {
   "cell_type": "markdown",
   "metadata": {},
   "source": [
    "Let's plot it!"
   ]
  },
  {
   "cell_type": "code",
   "execution_count": 66,
   "metadata": {
    "collapsed": false
   },
   "outputs": [
    {
     "data": {
      "image/png": "[encoded data removed]",
      "text/plain": [
       "<matplotlib.figure.Figure at 0x10d77a1d0>"
      ]
     },
     "metadata": {},
     "output_type": "display_data"
    }
   ],
   "source": [
    "plt.semilogy(range(ndilutions), ideal_concentrations, 'ko', range(ndilutions), actual_concentrations, 'ro');\n",
    "plt.xlabel('dilution number');\n",
    "plt.ylabel('concentration (M)');\n",
    "plt.legend(['ideal','actual']);\n",
    "plt.axis([-0.5, ndilutions - 0.5, 0.0, C0 * 1.2]);"
   ]
  },
  {
   "cell_type": "markdown",
   "metadata": {
    "collapsed": false
   },
   "source": [
    "What if we plot the relative errors in concentration, volume, and total quantity of compound per well?"
   ]
  },
  {
   "cell_type": "code",
   "execution_count": 67,
   "metadata": {
    "collapsed": false
   },
   "outputs": [
    {
     "data": {
      "text/plain": [
       "<matplotlib.text.Text at 0x10e3e8710>"
      ]
     },
     "execution_count": 67,
     "metadata": {},
     "output_type": "execute_result"
    },
    {
     "data": {
      "image/png": "[encoded data removed]",
      "text/plain": [
       "<matplotlib.figure.Figure at 0x1055e3110>"
      ]
     },
     "metadata": {},
     "output_type": "display_data"
    }
   ],
   "source": [
    "plt.plot([-0.5, ndilutions], [1, 1], 'k--')\n",
    "plt.plot(range(ndilutions), actual_concentrations / ideal_concentrations, 'ro', \\\n",
    "         range(ndilutions), actual_volumes / ideal_volumes, 'go', \\\n",
    "         range(ndilutions), (actual_volumes*actual_concentrations)/(ideal_volumes*ideal_concentrations), 'bo')\n",
    "plt.legend(['exact', 'concentration', 'volume', 'moles'], loc='upper left')\n",
    "plt.axis([-0.5, ndilutions - 0.5, 0.5, 1.5])\n",
    "plt.ylabel('relative quantity')\n",
    "plt.xlabel('dilution number')"
   ]
  },
  {
   "cell_type": "markdown",
   "metadata": {
    "collapsed": false
   },
   "source": [
    "This is kind of all over the place, with no obvious trend, but what if we repeat the experiment many times? Then we can estimate the coefficient of variation (CV) for each dilution number."
   ]
  },
  {
   "cell_type": "markdown",
   "metadata": {},
   "source": [
    "Let's repeat the experiment 5000 times:"
   ]
  },
  {
   "cell_type": "code",
   "execution_count": 68,
   "metadata": {
    "collapsed": false
   },
   "outputs": [],
   "source": [
    "nreplicates = 5000\n",
    "\n",
    "actual_volumes_n = numpy.zeros([nreplicates, ndilutions], numpy.float64)\n",
    "actual_concentrations_n = numpy.zeros([nreplicates, ndilutions], numpy.float64)\n",
    "\n",
    "for replicate in range(nreplicates):\n",
    "    [actual_volumes_replicate, actual_concentrations_replicate] = \\\n",
    "        ROBOT_dilution_series(V0, C0, Vtransfer, Vbuffer, ndilutions, tecan_genesis_pipetting_model)\n",
    "        \n",
    "    actual_volumes_n[replicate,:] = actual_volumes_replicate\n",
    "    actual_concentrations_n[replicate,:] = actual_concentrations_replicate"
   ]
  },
  {
   "cell_type": "markdown",
   "metadata": {},
   "source": [
    "Now let's use this to compute the CV, using numpy.std, which calculates the standard deviation:"
   ]
  },
  {
   "cell_type": "code",
   "execution_count": 69,
   "metadata": {
    "collapsed": true
   },
   "outputs": [],
   "source": [
    "volumes_cv = (actual_volumes_n / ideal_volumes).std(0)\n",
    "concentrations_cv = (actual_concentrations_n / ideal_concentrations).std(0)\n",
    "quantity_cv = ((actual_volumes_n * actual_concentrations_n) / (ideal_volumes * ideal_concentrations)).std(0)"
   ]
  },
  {
   "cell_type": "markdown",
   "metadata": {},
   "source": [
    "And let's plot it!"
   ]
  },
  {
   "cell_type": "code",
   "execution_count": 78,
   "metadata": {
    "collapsed": false
   },
   "outputs": [
    {
     "data": {
      "text/plain": [
       "<matplotlib.legend.Legend at 0x10c825650>"
      ]
     },
     "execution_count": 78,
     "metadata": {},
     "output_type": "execute_result"
    },
    {
     "data": {
      "image/png": "[encoded data removed]",
      "text/plain": [
       "<matplotlib.figure.Figure at 0x10db74a90>"
      ]
     },
     "metadata": {},
     "output_type": "display_data"
    }
   ],
   "source": [
    "plt.plot(range(ndilutions), concentrations_cv*100, 'ro', \\\n",
    "         range(ndilutions), volumes_cv*100, 'go', \\\n",
    "         range(ndilutions), quantity_cv*100, 'bo')\n",
    "plt.xlabel('dilution number')\n",
    "plt.ylabel('CV (%)')\n",
    "plt.xlim([-0.5, ndilutions - 0.5])\n",
    "plt.legend(['concentration', 'volume', 'moles'], loc='upper left')"
   ]
  },
  {
   "cell_type": "markdown",
   "metadata": {},
   "source": [
    "So these are the errors we're getting just by looking at inaccuracy and imprecision. Notice how the concentration error creeps up to almost 20% in the last sample?"
   ]
  },
  {
   "cell_type": "markdown",
   "metadata": {},
   "source": [
    "But is there a bias at all as a result of this?"
   ]
  },
  {
   "cell_type": "markdown",
   "metadata": {},
   "source": [
    "Let's look at the mean of all these values for this 5000 replicate test."
   ]
  },
  {
   "cell_type": "code",
   "execution_count": 79,
   "metadata": {
    "collapsed": false
   },
   "outputs": [
    {
     "data": {
      "text/plain": [
       "[-0.5, 7.5, -100, 100]"
      ]
     },
     "execution_count": 79,
     "metadata": {},
     "output_type": "execute_result"
    },
    {
     "data": {
      "image/png": "[encoded data removed]",
      "text/plain": [
       "<matplotlib.figure.Figure at 0x10d763490>"
      ]
     },
     "metadata": {},
     "output_type": "display_data"
    }
   ],
   "source": [
    "# Compute relative bias.\n",
    "volumes_bias = (actual_volumes_n / ideal_volumes).mean(0) - 1\n",
    "concentrations_bias = (actual_concentrations_n / ideal_concentrations).mean(0) - 1\n",
    "quantity_bias = ((actual_volumes_n * actual_concentrations_n) / (ideal_volumes * ideal_concentrations)).mean(0)- 1\n",
    "\n",
    "#Let's define DILUTIONS to make plotting easier.\n",
    "dilutions = numpy.arange(ndilutions)\n",
    "\n",
    "# Plot relative biases.\n",
    "plt.plot([0, ndilutions], [0, 0], 'k--', dilutions, concentrations_bias*100, 'ro', \\\n",
    "     dilutions, volumes_bias*100, 'go', dilutions, quantity_bias*100, 'bo')\n",
    "plt.xlabel('dilution number')\n",
    "plt.ylabel('bias (%)')\n",
    "plt.legend(['none','concentration', 'volume', 'moles'], loc='lower right')\n",
    "plt.axis([-0.5, ndilutions - 0.5, -100, 100])"
   ]
  },
  {
   "cell_type": "markdown",
   "metadata": {},
   "source": [
    "Despite some creep in the eror, it doesn't seem like there's a tremendous bias."
   ]
  },
  {
   "cell_type": "markdown",
   "metadata": {},
   "source": [
    "###But wait!"
   ]
  },
  {
   "cell_type": "markdown",
   "metadata": {},
   "source": [
    "###We still have one more source of error to add!"
   ]
  },
  {
   "cell_type": "markdown",
   "metadata": {},
   "source": [
    "In an interesting paper by Dong et al, [The use of a dual dye photometric calibration method to identify possible sample dilution from an automated multichannel liquid-handling system. J. Lab. Autom. 11(2): 2006](http://dx.doi.org/10.1016/j.jala.2006.02.005), they reveal that the system liquid on the inside of the steel fixed tips of the Tecan Genesis can result in significant dilution errors."
   ]
  },
  {
   "cell_type": "code",
   "execution_count": 72,
   "metadata": {
    "collapsed": false
   },
   "outputs": [],
   "source": [
    "# define dilution_function\n",
    "volume = numpy.array([20, 200]) * 1e-6 \n",
    "dilution_effect = numpy.array([-0.0630, -0.0496])\n",
    "\n",
    "dilution_function = interp1d(volume, dilution_effect)\n",
    "    "
   ]
  },
  {
   "cell_type": "code",
   "execution_count": 73,
   "metadata": {
    "collapsed": true
   },
   "outputs": [],
   "source": [
    "# define DILUTE_ROBOT_dilution_series function\n",
    "def DILUTE_ROBOT_dilution_series(V0, C0, Vtransfer, Vbuffer, ndilutions, pipetting_model):\n",
    "    \n",
    "    # use pipetting error function\n",
    "    [transfer_inaccuracy, transfer_imprecision] = pipetting_model(Vtransfer)    \n",
    "            \n",
    "    # define (b) imprecision of volume transfer operations (including initial volumes)\n",
    "    transfer_bias = transfer_inaccuracy * normal()\n",
    "    \n",
    "    # Initialize concentrations and volumes with zero vectors with C0 and V0 as first value\n",
    "    actual_concentrations = numpy.zeros([ndilutions], numpy.float64)\n",
    "    actual_volumes = numpy.zeros([ndilutions], numpy.float64)\n",
    "    actual_concentrations[0] = C0\n",
    "    actual_volumes[0] = V0\n",
    "    \n",
    "    # and Vbuffer as initial volume for all but first.\n",
    "    Vbuffer_actual = Vbuffer * ((1+transfer_bias) + transfer_imprecision*normal())\n",
    "    for n in range(1,ndilutions):\n",
    "        actual_volumes[n] = Vbuffer_actual\n",
    "    \n",
    "    # Create dilute dilution series \n",
    "    # Observe only change is in actual_concentrations[n].\n",
    "    for n in range(1,ndilutions):\n",
    "        Vtransfer_actual = Vtransfer * ((1+transfer_bias) + transfer_imprecision*normal())\n",
    "        actual_concentrations[n] = \\\n",
    "             actual_concentrations[n-1] * Vtransfer_actual / (Vtransfer_actual + Vbuffer_actual)\\\n",
    "             * (1+dilution_function(Vtransfer))\n",
    "        actual_volumes[n] += Vtransfer_actual \n",
    "        actual_volumes[n-1] -= Vtransfer_actual\n",
    "    Vtransfer_actual = Vtransfer * ((1+transfer_bias) + transfer_imprecision*normal())\n",
    "    \n",
    "    #Remove Vtransfer from last.\n",
    "    actual_volumes[ndilutions-1] -= Vtransfer_actual\n",
    "    \n",
    "    return [actual_volumes, actual_concentrations]\n",
    "\n"
   ]
  },
  {
   "cell_type": "markdown",
   "metadata": {},
   "source": [
    "And repeat!"
   ]
  },
  {
   "cell_type": "code",
   "execution_count": 74,
   "metadata": {
    "collapsed": false
   },
   "outputs": [],
   "source": [
    "nreplicates = 5000\n",
    "\n",
    "actual_volumes_n = numpy.zeros([nreplicates, ndilutions], numpy.float64)\n",
    "actual_concentrations_n = numpy.zeros([nreplicates, ndilutions], numpy.float64)\n",
    "\n",
    "for replicate in range(nreplicates):\n",
    "    [actual_volumes_replicate, actual_concentrations_replicate] = DILUTE_ROBOT_dilution_series(V0, C0, Vtransfer, Vbuffer, ndilutions, tecan_genesis_pipetting_model)\n",
    "    actual_volumes_n[replicate,:] = actual_volumes_replicate\n",
    "    actual_concentrations_n[replicate,:] = actual_concentrations_replicate"
   ]
  },
  {
   "cell_type": "markdown",
   "metadata": {},
   "source": [
    "Let's see what our CV's look like now!"
   ]
  },
  {
   "cell_type": "code",
   "execution_count": 80,
   "metadata": {
    "collapsed": false
   },
   "outputs": [
    {
     "data": {
      "text/plain": [
       "<matplotlib.legend.Legend at 0x10c1f6350>"
      ]
     },
     "execution_count": 80,
     "metadata": {},
     "output_type": "execute_result"
    },
    {
     "data": {
      "image/png": "[encoded data removed]",
      "text/plain": [
       "<matplotlib.figure.Figure at 0x10c7b3110>"
      ]
     },
     "metadata": {},
     "output_type": "display_data"
    }
   ],
   "source": [
    "volumes_cv = (actual_volumes_n / ideal_volumes).std(0)\n",
    "concentrations_cv = (actual_concentrations_n / ideal_concentrations).std(0)\n",
    "quantity_cv = ((actual_volumes_n * actual_concentrations_n) / (ideal_volumes * ideal_concentrations)).std(0)\n",
    "\n",
    "# Plot CVs\n",
    "plt.plot(dilutions, concentrations_cv*100, 'ro', dilutions, volumes_cv*100, 'go', dilutions, quantity_cv*100, 'bo')\n",
    "plt.xlabel('dilution number')\n",
    "plt.ylabel('CV (%)')\n",
    "plt.xlim([-0.5, ndilutions -0.5])\n",
    "plt.legend(['concentration', 'volume', 'quantity'], loc='lower right')"
   ]
  },
  {
   "cell_type": "markdown",
   "metadata": {},
   "source": [
    "Now, let's check the bias again."
   ]
  },
  {
   "cell_type": "code",
   "execution_count": 83,
   "metadata": {
    "collapsed": false
   },
   "outputs": [
    {
     "data": {
      "text/plain": [
       "[-0.5, 7.5, -100, 100]"
      ]
     },
     "execution_count": 83,
     "metadata": {},
     "output_type": "execute_result"
    },
    {
     "data": {
      "image/png": "[encoded data removed]",
      "text/plain": [
       "<matplotlib.figure.Figure at 0x10d90fb10>"
      ]
     },
     "metadata": {},
     "output_type": "display_data"
    }
   ],
   "source": [
    "# Compute relative bias.\n",
    "volumes_bias = (actual_volumes_n / ideal_volumes).mean(0) - 1\n",
    "concentrations_bias = (actual_concentrations_n / ideal_concentrations).mean(0) - 1\n",
    "quantity_bias = ((actual_volumes_n * actual_concentrations_n) / (ideal_volumes * ideal_concentrations)).mean(0)- 1\n",
    "\n",
    "# Plot relative biases.\n",
    "plt.plot([0, ndilutions], [0, 0], 'k--', dilutions, concentrations_bias*100, 'rs',\\\n",
    "     dilutions, volumes_bias*100, 'go', dilutions, quantity_bias*100, 'bo')\n",
    "plt.xlabel('dilution number')\n",
    "plt.ylabel('bias (%)')\n",
    "plt.legend(['none', 'concentration', 'volume', 'moles'], loc='upper right')\n",
    "plt.axis([-0.5, ndilutions - 0.5, -100, 100])"
   ]
  },
  {
   "cell_type": "markdown",
   "metadata": {},
   "source": [
    "Definitely some bias in there now. Even though the volume error is evenly distributed, the concentration error is constantly decreasing, which means the actually quantity (moles) used is also decreasing."
   ]
  },
  {
   "cell_type": "markdown",
   "metadata": {},
   "source": [
    "### 2. Dispensing by direct dispensing with the LabCyte Echo."
   ]
  },
  {
   "cell_type": "markdown",
   "metadata": {
    "collapsed": true
   },
   "source": [
    "What about the LabCyte Echo experiments? According to LabCyte, the Echo has an inaccuracy of 10% and a precision of 8% over the entire dispense range of 2.5 nL to 10 uL. Let's model how it dispenses directly into the assay plate with an 9-point dilution series spanning 2.5 nL to 120 nL from 10 mM stock solution."
   ]
  },
  {
   "cell_type": "markdown",
   "metadata": {},
   "source": [
    "#<span style=\"color:blue\">insert figure here</span>"
   ]
  },
  {
   "cell_type": "markdown",
   "metadata": {},
   "source": [
    "Define stock concentration as 10 mM:"
   ]
  },
  {
   "cell_type": "code",
   "execution_count": 123,
   "metadata": {
    "collapsed": true
   },
   "outputs": [],
   "source": [
    "C0 = 10e-3"
   ]
  },
  {
   "cell_type": "markdown",
   "metadata": {},
   "source": [
    "Define assay volume as 12 uL (note that ideal assay volume here is different than the serial dilution setup):"
   ]
  },
  {
   "cell_type": "code",
   "execution_count": 124,
   "metadata": {
    "collapsed": true
   },
   "outputs": [],
   "source": [
    "assay_volume = 12e-6"
   ]
  },
  {
   "cell_type": "markdown",
   "metadata": {},
   "source": [
    "Define 9-point titration (multiples of 2.5 nL):"
   ]
  },
  {
   "cell_type": "code",
   "execution_count": 125,
   "metadata": {
    "collapsed": true
   },
   "outputs": [],
   "source": [
    "dispense_volumes = 2.5e-9 * numpy.array([6, 12, 18, 24, 30, 36, 42, 48])"
   ]
  },
  {
   "cell_type": "markdown",
   "metadata": {},
   "source": [
    "Define the concentrations in this titration:"
   ]
  },
  {
   "cell_type": "code",
   "execution_count": 126,
   "metadata": {
    "collapsed": true
   },
   "outputs": [],
   "source": [
    "concentrations = (C0*dispense_volumes/assay_volume)"
   ]
  },
  {
   "cell_type": "markdown",
   "metadata": {},
   "source": [
    "To make sure our DMSO concentration does not vary as we vary our compound concentration, we'll always backfill up to 120 nL total DMSO:"
   ]
  },
  {
   "cell_type": "code",
   "execution_count": 127,
   "metadata": {
    "collapsed": true
   },
   "outputs": [],
   "source": [
    "backfill_volume = 120e-9"
   ]
  },
  {
   "cell_type": "markdown",
   "metadata": {},
   "source": [
    "Define the mix volume as assay_volume - backfill_volume, e.g. 12 uL assay volume minus 120 uL:"
   ]
  },
  {
   "cell_type": "code",
   "execution_count": 128,
   "metadata": {
    "collapsed": true
   },
   "outputs": [],
   "source": [
    "mix_volume = assay_volume - backfill_volume"
   ]
  },
  {
   "cell_type": "code",
   "execution_count": 129,
   "metadata": {
    "collapsed": false
   },
   "outputs": [],
   "source": [
    "#ndilutions, volumes, backfill, min"
   ]
  },
  {
   "cell_type": "markdown",
   "metadata": {},
   "source": [
    "\n",
    "Published specs for the LabCyte Echo are available:\n",
    "\n",
    "[inaccuracy/imprecision data for LabCyte Echo](http://www.labcyte.com/sites/default/files/support_docs/Echo%205XX%20Specifications.pdf)"
   ]
  },
  {
   "cell_type": "code",
   "execution_count": 130,
   "metadata": {
    "collapsed": true
   },
   "outputs": [],
   "source": [
    "# define echo_assay_dispense function\n",
    "def echo_assay_dispense(C0, mix_volume, backfill_volume, dispense_volumes):\n",
    "    inaccuracy = 0.10\n",
    "    imprecision = 0.08\n",
    "\n",
    "    ndilutions = len(dispense_volumes)\n",
    "    echo_volume = numpy.zeros([ndilutions], numpy.float64)\n",
    "    echo_concentration = numpy.zeros([ndilutions], numpy.float64)\n",
    "    bias = inaccuracy * normal()\n",
    "    \n",
    "    for i in range(ndilutions):\n",
    "        compound_volume_intended = dispense_volumes[i]\n",
    "        backfill_volume_intended = backfill_volume - compound_volume_intended\n",
    "        \n",
    "        compound_volume_dispensed = compound_volume_intended * ((1+bias) + imprecision*normal())\n",
    "        backfill_volume_dispensed = backfill_volume_intended * ((1+bias) + imprecision*normal())\n",
    "        \n",
    "        echo_volume[i] = mix_volume + backfill_volume_dispensed + compound_volume_dispensed\n",
    "        echo_concentration[i] = C0 * compound_volume_dispensed / echo_volume[i]\n",
    "\n",
    "    return [echo_volume, echo_concentration]"
   ]
  },
  {
   "cell_type": "code",
   "execution_count": 131,
   "metadata": {
    "collapsed": false
   },
   "outputs": [],
   "source": [
    "[echo_volumes, echo_concentrations] = echo_assay_dispense(C0, mix_volume, backfill_volume, dispense_volumes)"
   ]
  },
  {
   "cell_type": "markdown",
   "metadata": {},
   "source": [
    "Let's plot this:"
   ]
  },
  {
   "cell_type": "code",
   "execution_count": 132,
   "metadata": {
    "collapsed": false
   },
   "outputs": [
    {
     "data": {
      "text/plain": [
       "<matplotlib.text.Text at 0x10c27ac50>"
      ]
     },
     "execution_count": 132,
     "metadata": {},
     "output_type": "execute_result"
    },
    {
     "data": {
      "image/png": "[encoded data removed]",
      "text/plain": [
       "<matplotlib.figure.Figure at 0x10b7a1790>"
      ]
     },
     "metadata": {},
     "output_type": "display_data"
    }
   ],
   "source": [
    "plt.plot([0,ndilutions], [1, 1], 'k--', range(ndilutions), echo_volumes / assay_volume,'ro',\\\n",
    "         range(ndilutions), echo_concentrations / concentrations, 'go');\n",
    "plt.legend(['exact', 'assay well volume rel err', 'concentration rel err'], loc='upper right')\n",
    "plt.axis([-0.5, ndilutions - 0.5, 0.5, 1.5])\n",
    "plt.ylabel('relative quantity')\n",
    "plt.xlabel('dilution number')"
   ]
  },
  {
   "cell_type": "markdown",
   "metadata": {},
   "source": [
    "And repeat!"
   ]
  },
  {
   "cell_type": "code",
   "execution_count": 136,
   "metadata": {
    "collapsed": false
   },
   "outputs": [],
   "source": [
    "nreplicates = 10000\n",
    "\n",
    "actual_volumes_n = numpy.zeros([nreplicates, ndilutions], numpy.float64)\n",
    "actual_concentrations_n = numpy.zeros([nreplicates, ndilutions], numpy.float64)\n",
    "\n",
    "ndilutions = len(dispense_volumes)\n",
    "volume_array = numpy.ones([ndilutions]) * assay_volume\n",
    "\n",
    "for replicate in range(nreplicates):\n",
    "    [actual_volumes_replicate, actual_concentrations_replicate] = echo_assay_dispense(C0, mix_volume, backfill_volume, dispense_volumes)\n",
    "    actual_volumes_n[replicate,:] = actual_volumes_replicate\n",
    "    actual_concentrations_n[replicate,:] = actual_concentrations_replicate\n",
    "volumes_cv = (actual_volumes_n / volume_array).std(0)\n",
    "concentrations_cv = (actual_concentrations_n / concentrations).std(0)\n",
    "quantity_cv = ((actual_volumes_n * actual_concentrations_n) / (volume_array * concentrations)).std(0)"
   ]
  },
  {
   "cell_type": "markdown",
   "metadata": {},
   "source": [
    "Let's plot CV's!"
   ]
  },
  {
   "cell_type": "code",
   "execution_count": 138,
   "metadata": {
    "collapsed": false
   },
   "outputs": [
    {
     "data": {
      "text/plain": [
       "<matplotlib.legend.Legend at 0x10d4daa50>"
      ]
     },
     "execution_count": 138,
     "metadata": {},
     "output_type": "execute_result"
    },
    {
     "data": {
      "image/png": "[encoded data removed]",
      "text/plain": [
       "<matplotlib.figure.Figure at 0x10cca13d0>"
      ]
     },
     "metadata": {},
     "output_type": "display_data"
    }
   ],
   "source": [
    "#Let's define DILUTIONS to make plotting easier.\n",
    "dilutions = numpy.arange(ndilutions)\n",
    "\n",
    "plt.plot(dilutions, concentrations_cv*100, 'rs', dilutions, volumes_cv*100, 'go', dilutions, quantity_cv*100, 'bo')\n",
    "plt.xlabel('dilution number')\n",
    "plt.ylabel('CV (%)')\n",
    "plt.xlim([-0.5,ndilutions - 0.5])\n",
    "plt.legend(['concentration', 'volume', 'quantity'], loc='center right')"
   ]
  },
  {
   "cell_type": "code",
   "execution_count": null,
   "metadata": {
    "collapsed": true
   },
   "outputs": [],
   "source": []
  },
  {
   "cell_type": "markdown",
   "metadata": {
    "collapsed": true
   },
   "source": [
    "### 3. How do IC50 estimates between these compare?"
   ]
  },
  {
   "cell_type": "code",
   "execution_count": null,
   "metadata": {
    "collapsed": true
   },
   "outputs": [],
   "source": []
  },
  {
   "cell_type": "code",
   "execution_count": null,
   "metadata": {
    "collapsed": true
   },
   "outputs": [],
   "source": []
  },
  {
   "cell_type": "markdown",
   "metadata": {},
   "source": [
    "### 4. At the Chodera Lab we use the D300 for our direct dispensing needs!"
   ]
  },
  {
   "cell_type": "code",
   "execution_count": null,
   "metadata": {
    "collapsed": true
   },
   "outputs": [],
   "source": []
  },
  {
   "cell_type": "code",
   "execution_count": null,
   "metadata": {
    "collapsed": true
   },
   "outputs": [],
   "source": []
  }
 ],
 "metadata": {
  "kernelspec": {
   "display_name": "Python 2",
   "language": "python",
   "name": "python2"
  },
  "language_info": {
   "codemirror_mode": {
    "name": "ipython",
    "version": 2
   },
   "file_extension": ".py",
   "mimetype": "text/x-python",
   "name": "python",
   "nbconvert_exporter": "python",
   "pygments_lexer": "ipython2",
   "version": "2.7.10"
  }
 },
 "nbformat": 4,
 "nbformat_minor": 0
}
