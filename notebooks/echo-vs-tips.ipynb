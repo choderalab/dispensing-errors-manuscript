{
 "cells": [
  {
   "cell_type": "markdown",
   "metadata": {},
   "source": [
    "# Errors in serial dilution: How can dispensing technology impact assay data?"
   ]
  },
  {
   "cell_type": "markdown",
   "metadata": {},
   "source": [
    "#### [Sonya M. Hanson and John D. Chodera](http://www.choderalab.org/) Computational Biology Program, Memorial Sloan Kettering Cancer Center, New York NY 10065"
   ]
  },
  {
   "cell_type": "markdown",
   "metadata": {},
   "source": [
    "In a 2013 paper by Ekins et al, [Dispensing Processes Impact Apparent Biological Activity as Determined by Computational and Statistical Analyses. PLoS ONE 8(5): e62325, 2013](http://journals.plos.org/plosone/article?id=10.1371/journal.pone.0062325), a surprisingly large discrepancy in IC50 assay results is noted between the assay performed using a **Tecan Genesis** liquid handling workstation compared with a **LabCyte Echo** acoustic dispensing unit."
   ]
  },
  {
   "cell_type": "markdown",
   "metadata": {},
   "source": [
    "> *It would appear that tip-based dispensing is producing erroneous data based on our and other analyses which we see here reflected in the models and initial lack of correlations with molecular properties.*"
   ]
  },
  {
   "cell_type": "markdown",
   "metadata": {},
   "source": [
    "This discrepancy was so large and so surprising that it was quickly picked up and discussed at length by numerous industry blogs, most notably [In the Pipeline by Derek Lowe](http://blogs.sciencemag.org/pipeline/archives/2013/05/03/drug_assay_numbers_all_over_the_place), which called the report a \"truly disturbing paper\".  Speculation abounded as to the precise cause: including sticky compounds, plastic leaching out of pipette tips, colloidal aggregation, mis-calibrated pipettes, and sloppy experiments.  But could a simple physical process rooted in the intrinsic variability in the assay explain this difference?"
   ]
  },
  {
   "cell_type": "markdown",
   "metadata": {},
   "source": [
    "In a biochemical or cell-based assay to determine the potency of a compound of interest, solutions of the compound at several concentrations are prepared and the assay readout at a number of these concentrations can be fit to yield the $K_i$, $IC_{50}$, or $EC_{50}$ (depending on the assay configuration)."
   ]
  },
  {
   "cell_type": "markdown",
   "metadata": {},
   "source": [
    "With a traditional manual assay or liquid handling workstation (such as the **Tecan Genesis**), the most straightforward approach to preparing a number of these compound concentrations is to prepare a **serial dilution series** starting from an original compound stock solution (often 10 mM stock in DMSO).  In a serial dilution, a volume $V_0$ of one solution is transferred into the next well and diluted with another volume $V_1$ of diluent, allowing a series of solutions spanning orders of magnitude in compound concentration to be prepared in a serial manner."
   ]
  },
  {
   "cell_type": "markdown",
   "metadata": {},
   "source": [
    "![alt text](img/dilution-simple.png \"dilution-simple.png\")"
   ]
  },
  {
   "cell_type": "markdown",
   "metadata": {},
   "source": [
    "The **LabCyte Echo**, on the other hand, uses a direct dispensing technology to transfer a programmed volume (from 2.5 nL to microliters) directly into the assay wells, allowing a dilution series over several orders of magnitude in concentration to be created directly without the need for serial dilution."
   ]
  },
  {
   "cell_type": "markdown",
   "metadata": {},
   "source": [
    "![alt text](img/direct-simple.png \"direct-simple.png\")"
   ]
  },
  {
   "cell_type": "markdown",
   "metadata": {},
   "source": [
    "While the Ekins et al paper explores the impact assay discrepancies has on QSAR models parameterized to the data, here we focus on the origin of the differences in assay results, and show how a simple model that captures **the errors introduced at each step** of the assay can lead us to identify a possible culprit behind the large discrepancy between the two assay configurations.  Understanding the origin of this discrepancy---which ends up being a source of bias in one of the assay configurations---can allow us to anticipate assay issues ahead of time, take steps to mitigate them, or even to correct for them after the fact."
   ]
  },
  {
   "cell_type": "markdown",
   "metadata": {},
   "source": [
    "Here, we introduce a simple kind of assay modeling in **this IPython notebook** that computational and experimental chemists alike can employ, as a tool that can easily be used to model and understand sources of uncertainty and  biases inherent in any experimental assay.  This kind of modeling could be used, for example, during assay development to ensure that the assay configuration will meet the dynamic range and accuracy needed for the assay, or it could be used after the fact by assay data consumers to understand the expected uncertainty and bias in the experimental dataset."
   ]
  },
  {
   "cell_type": "markdown",
   "metadata": {},
   "source": [
    "###First to set up the general python working environment and define our key dataset."
   ]
  },
  {
   "cell_type": "markdown",
   "metadata": {},
   "source": [
    "First import a few general packages to be able to deal with numbers (*numpy* and more specificially *numpy.random*) and to allow us to set specific errors between fixed volume values (*scipy.interpolate*)."
   ]
  },
  {
   "cell_type": "code",
   "execution_count": 1,
   "metadata": {
    "collapsed": false
   },
   "outputs": [],
   "source": [
    "import numpy as np\n",
    "from numpy.random import normal\n",
    "from scipy.interpolate import interp1d"
   ]
  },
  {
   "cell_type": "markdown",
   "metadata": {},
   "source": [
    "Next import a few packages to allow us to plot (*matplotlib.pyplot*), make nice-looking plots (*seaborn*), and view this plots inside our ipython notebooks (*%pylab inline*)."
   ]
  },
  {
   "cell_type": "code",
   "execution_count": 2,
   "metadata": {
    "collapsed": false
   },
   "outputs": [
    {
     "name": "stdout",
     "output_type": "stream",
     "text": [
      "Populating the interactive namespace from numpy and matplotlib\n"
     ]
    }
   ],
   "source": [
    "import matplotlib.pyplot as plt\n",
    "import seaborn as sns\n",
    "sns.set(style='white')\n",
    "sns.set_context('talk')\n",
    "\n",
    "%pylab inline"
   ]
  },
  {
   "cell_type": "markdown",
   "metadata": {},
   "source": [
    "The dataset we are using to illustrate how to model and interpret errors comes from the paper mentioned above (  [Dispensing Processes Impact Apparent Biological Activity as Determined by Computational and Statistical Analyses. PLoS ONE 8(5): e62325, 2013](http://journals.plos.org/plosone/article?id=10.1371/journal.pone.0062325)), all of which was originally described in two patents from Astrazeneca ([WO2009010794A1](https://www.google.com/patents/WO2009010794A1)and [US7718653](http://www.google.com/patents/US7718653)). The table in this paper is shown below:"
   ]
  },
  {
   "cell_type": "markdown",
   "metadata": {},
   "source": [
    "<img src=\"img/data_combined.png\" alt=\"Drawing\" style=\"width: 800px;\"/>"
   ]
  },
  {
   "cell_type": "code",
   "execution_count": 3,
   "metadata": {
    "collapsed": true
   },
   "outputs": [],
   "source": [
    "# data from Fig 1 of Ekins et al.\n",
    "echo_IC50s = np.array([0.064, 0.486, 0.003, 0.002, 0.007, 0.003, 0.004, 0.052, 0.01362, 0.207, 0.158, 0.01164, 0.00633, 0.00358]) * 1e-6 # M\n",
    "genesis_IC50s = np.array([0.817, 3.03, 0.146, 0.553, 0.973, 0.778, 0.445, 0.17, 0.112, 14.4, 0.25, 0.049, 0.087, 0.152]) * 1e-6 # M\n",
    "\n",
    "echo_pIC50s = np.log10(echo_IC50s)\n",
    "genesis_pIC50s = np.log10(genesis_IC50s)"
   ]
  },
  {
   "cell_type": "markdown",
   "metadata": {},
   "source": [
    "Now if we plot this data to see how the $IC_{50}$ values obtained with the two different technologies compare to each other, with a line representing if they were identical, we see there are significant discrepencies."
   ]
  },
  {
   "cell_type": "code",
   "execution_count": 4,
   "metadata": {
    "collapsed": false
   },
   "outputs": [
    {
     "name": "stderr",
     "output_type": "stream",
     "text": [
      "/Users/hansons/anaconda/lib/python2.7/site-packages/matplotlib/collections.py:590: FutureWarning: elementwise comparison failed; returning scalar instead, but in the future will perform elementwise comparison\n",
      "  if self._edgecolors == str('face'):\n"
     ]
    },
    {
     "data": {
      "image/png": "[encoded data removed]",
      "text/plain": [
       "<matplotlib.figure.Figure at 0x10478dc90>"
      ]
     },
     "metadata": {},
     "output_type": "display_data"
    }
   ],
   "source": [
    "# Plot this data to show the relationship of pIC50's measured by different technologies\n",
    "plt.subplot(111, aspect='equal');\n",
    "plt.plot([-9, -4], [-9, -4], 'k-');\n",
    "plt.scatter(echo_pIC50s, genesis_pIC50s,color='k',marker='x',s=40, linewidth=2);\n",
    "plt.xlabel('pIC50 (acoustic)');\n",
    "plt.ylabel('pIC50 (tips)');\n",
    "plt.legend(['ideal', 'actual'], loc='lower right');\n",
    "plt.title('Relationship of pIC50s measured by different technologies');"
   ]
  },
  {
   "cell_type": "markdown",
   "metadata": {},
   "source": [
    "###1. Calculating $IC_{50}$ for EphB4 system from assay data."
   ]
  },
  {
   "cell_type": "markdown",
   "metadata": {},
   "source": [
    "This data is for $IC_{50}$s of ligands with the enzyme EphB4. From the [EphB4 DataSheet](http://www.proqinase.com/kinase-database/pdfs/2843.pdf), we know the Km for ATP by EphB4 is 1.71 uM . Note that we're assuming that EphB4 obeys Michaelis-Menten kinetics here, and that V0/Vmax is what is measured."
   ]
  },
  {
   "cell_type": "code",
   "execution_count": 5,
   "metadata": {
    "collapsed": true
   },
   "outputs": [],
   "source": [
    "Km = 1.71e-6 # Km of ATP for EphB4 (M)"
   ]
  },
  {
   "cell_type": "markdown",
   "metadata": {},
   "source": [
    "Let's assume true Ki for an arbitrary compound is 10 nM, a substrate concentration of 4 µM ATP, and that we're using 0.25 ng of ~42.4 kDa enzyme, which gives us 6 µM. We will dispense 2 µL of diluted compound into an assay plate well into which 10 µL of enzyme mix has been dispense."
   ]
  },
  {
   "cell_type": "code",
   "execution_count": 6,
   "metadata": {
    "collapsed": true
   },
   "outputs": [],
   "source": [
    "true_Ki = 10e-9 # arbitrary compound Ki (M)\n",
    "\n",
    "substrate_concentration = 4e-6 # ATP concentration (M)\n",
    "\n",
    "enzyme_concentration = 6e-6 # EphB4 assay concentration (M)"
   ]
  },
  {
   "cell_type": "markdown",
   "metadata": {},
   "source": [
    "Let's suppose the 10 µL of assay mix in each well was dispensed completely accurately, and contains exact concentrations of enzyme and substrate. We presume inhibition is measured by an exact read of the reaction V0/Vmax.  The IC50 would be the interpolated point at which V0/Vmax drops to 0.5, as determined from a fit of the competitive inhibition equations to the observed V0/Vmax for the dilution series, using the ideal dilution series concentrations in the fit."
   ]
  },
  {
   "cell_type": "markdown",
   "metadata": {},
   "source": [
    "We can calculate enzyme activities (V0/Vmax) directly from the values above using the following equation (derived using the assumptions of Michaelis-Menten kinetics for a competitive inhibitor):"
   ]
  },
  {
   "cell_type": "markdown",
   "metadata": {},
   "source": [
    "$$\\frac{V_{0}}{V_{max}} = \\frac{[S]}{K_{m}(1+\\frac{[I]}{K_{i}})+[S]}$$"
   ]
  },
  {
   "cell_type": "code",
   "execution_count": 7,
   "metadata": {
    "collapsed": true
   },
   "outputs": [],
   "source": [
    "#define the function 'competitive_inhibition' using this equation\n",
    "def competitive_inhibition(substrate_concentration, inhibitor_concentration, enzyme_concentration, Ki, Km):\n",
    "    V0_over_Vmax = substrate_concentration / (Km*(1 + inhibitor_concentration/Ki) + substrate_concentration)\n",
    "    return V0_over_Vmax"
   ]
  },
  {
   "cell_type": "markdown",
   "metadata": {},
   "source": [
    "We have already defined everything in this equation except our inhibitor concentration *[I]*, which is exactly the focus of the later parts of this notebook. Here we will define an ideal dilution series to create our inhibitor concentrations:"
   ]
  },
  {
   "cell_type": "markdown",
   "metadata": {},
   "source": [
    "![alt text](img/dilution.png \"dilution.png\")"
   ]
  },
  {
   "cell_type": "code",
   "execution_count": 8,
   "metadata": {
    "collapsed": true
   },
   "outputs": [],
   "source": [
    "def dilution_series(Vinitial, Cinitial, Vtransfer, Vbuffer, ndilutions):\n",
    "    # Initialize concentrations and volumes with zero vectors with Cinitial and Vinitial as first value\n",
    "    concentrations = np.zeros([ndilutions], np.float64)\n",
    "    volumes = np.zeros([ndilutions], np.float64)\n",
    "    concentrations[0] = Cinitial\n",
    "    volumes[0] = Vinitial\n",
    "    \n",
    "    # and Vbuffer as initial volume for all but first.\n",
    "    for n in range(1,ndilutions):\n",
    "        volumes[n] = Vbuffer\n",
    "        \n",
    "    # Create dilution series.\n",
    "    for n in range(1,ndilutions):\n",
    "        concentrations[n] = concentrations[n-1] * Vtransfer / (Vtransfer + Vbuffer)\n",
    "        volumes[n] += Vtransfer\n",
    "        volumes[n-1] -= Vtransfer\n",
    "        \n",
    "    # Remove Vtransfer from last.\n",
    "    volumes[ndilutions-1] -= Vtransfer\n",
    "    \n",
    "    return [volumes, concentrations]"
   ]
  },
  {
   "cell_type": "markdown",
   "metadata": {},
   "source": [
    "Now, let's use this dilution series to create an 8-point dilution series with an initial concentration of 10 mM, an initial volume of 100 µL and Vtransfer and Vbuffer = 50 µL."
   ]
  },
  {
   "cell_type": "code",
   "execution_count": 9,
   "metadata": {
    "collapsed": false
   },
   "outputs": [],
   "source": [
    "Cinitial = 600e-6 # initial dilution concentration (M) = 600 uM, to match maximum assay concentration of Echo assay\n",
    "\n",
    "ndilutions = 8 # number of dilutions, including initial dilution\n",
    "\n",
    "Vinitial = 100e-6 # working volume (L)\n",
    "\n",
    "Vtransfer = 50e-6 # volume transferred from previous dilution (L)\n",
    "\n",
    "Vbuffer = 50e-6 # volume of diluent (buffer) added (L)\n",
    "\n",
    "[assay_volumes, assay_compound_concentrations] = dilution_series(Vinitial, Cinitial, Vtransfer, Vbuffer, ndilutions)"
   ]
  },
  {
   "cell_type": "code",
   "execution_count": 10,
   "metadata": {
    "collapsed": false
   },
   "outputs": [
    {
     "name": "stdout",
     "output_type": "stream",
     "text": [
      "Now we have an 8-point dilution series from 600.000000 uM to 4.687500 uM.\n"
     ]
    }
   ],
   "source": [
    "print \"Now we have an %s-point dilution series from %f uM to %f uM.\" % (ndilutions, assay_compound_concentrations.max()/1e-6, assay_compound_concentrations.min()/1e-6)"
   ]
  },
  {
   "cell_type": "code",
   "execution_count": 11,
   "metadata": {
    "collapsed": false
   },
   "outputs": [
    {
     "data": {
      "image/png": "[encoded data removed]",
      "text/plain": [
       "<matplotlib.figure.Figure at 0x10bbca790>"
      ]
     },
     "metadata": {},
     "output_type": "display_data"
    }
   ],
   "source": [
    "f, (ax1,ax2) = plt.subplots(2,1,sharex=True)\n",
    "\n",
    "ax1.scatter(range(ndilutions), assay_compound_concentrations/1e-6, lw=4)\n",
    "\n",
    "ax1.set_title(\"Normal plot\")\n",
    "ax1.set_ylabel('concentration (uM)')\n",
    "ax1.axis([- 0.5, ndilutions - 0.5, 0.0, Cinitial * 1.2/1e-6])\n",
    "\n",
    "ax2.semilogy(range(ndilutions), assay_compound_concentrations,'ko')\n",
    "\n",
    "ax2.set_title(\"Semilogy plot\")\n",
    "ax2.set_ylabel('concentration (M)')\n",
    "ax2.axis([- 0.5, ndilutions - 0.5, 0.0, Cinitial * 1.2])\n",
    "\n",
    "plt.xlabel('dilution number')\n",
    "f.tight_layout()"
   ]
  },
  {
   "cell_type": "markdown",
   "metadata": {},
   "source": [
    "Now we can use these ideal assay_compound_concentrations to calculate what our activity would be for each inhibitor concentration:"
   ]
  },
  {
   "cell_type": "code",
   "execution_count": 12,
   "metadata": {
    "collapsed": false
   },
   "outputs": [],
   "source": [
    "#initialize the activity values with a zero vector\n",
    "activity = np.zeros([ndilutions], np.float64)\n",
    "\n",
    "#calclulate activity with our competitive inhibition model and our ideal assay_compound_concentrations\n",
    "for i in range(ndilutions):\n",
    "    activity[i] = competitive_inhibition(substrate_concentration, assay_compound_concentrations[i], enzyme_concentration, true_Ki, Km)"
   ]
  },
  {
   "cell_type": "code",
   "execution_count": 13,
   "metadata": {
    "collapsed": false
   },
   "outputs": [
    {
     "data": {
      "image/png": "[encoded data removed]",
      "text/plain": [
       "<matplotlib.figure.Figure at 0x10478dd50>"
      ]
     },
     "metadata": {},
     "output_type": "display_data"
    }
   ],
   "source": [
    "plt.semilogx(assay_compound_concentrations, activity, 'ro');\n",
    "plt.xlabel('ideal $[I]$ (M)');\n",
    "plt.ylabel('$V_{0}/V_{max}$');"
   ]
  },
  {
   "cell_type": "markdown",
   "metadata": {},
   "source": [
    "Of course this is data without error bars, and is not how a real experiment would work. If we assumed both the Genesis (tip-based) and Echo (direct dispensing) methods gave us exactly the right answer for the activity, then these activity values would give us the $pIC_{50}$ values on the 'ideal' line in the first graph."
   ]
  },
  {
   "cell_type": "markdown",
   "metadata": {},
   "source": [
    "###2. Adding the inaccuracy and imprecision of the Tecan Genesis liquid-handling robot."
   ]
  },
  {
   "cell_type": "markdown",
   "metadata": {
    "collapsed": true
   },
   "source": [
    "In reality, every experimental operation---such as a volume transfer---will be imperfect, leading to imperfect assay results.  We can model this---and its often surprising impact on the assay results---by making a simple model for the random and systematic variation with each operation."
   ]
  },
  {
   "cell_type": "markdown",
   "metadata": {},
   "source": [
    "Liquid-handling robots can't transfer the specified volume exactly. Each transfer operation has some (a) inaccuracy (modeled as a constant bias factor for all dispensing operations) and (b) imprecision (random error associated with each volume transfer). It is important to consider these factors separately, as often liquid handlers are calibrated for precision, rather than accuracy, which means bias can creep in. We'll ignore other contributions to error, such as compound stickiness, insolubility, etc., though in future iterations including them may be useful."
   ]
  },
  {
   "cell_type": "markdown",
   "metadata": {},
   "source": [
    "![https://en.wikipedia.org/wiki/Accuracy_and_precision](img/accuracy_precision_simple.png \"https://en.wikipedia.org/wiki/Accuracy_and_precision\")"
   ]
  },
  {
   "cell_type": "markdown",
   "metadata": {},
   "source": [
    "Suppose we generate this dilution series using a Tecan Genesis robot used in the assay.\n",
    "\n",
    "Published manufacturer specifications for the imprecision of the Tecan Genesis are available online:\n",
    "\n",
    "[imprecision data for Tecan Genesis](http://www.frankshospitalworkshop.com/equipment/documents/automated_analyzer/user_manuals/Tecan%20Genesis%20RMP%20-%20User%20manual.pdf)"
   ]
  },
  {
   "cell_type": "markdown",
   "metadata": {},
   "source": [
    "![alt text](img/GenesisImprecision.png \"GenesisImprecision.png\")"
   ]
  },
  {
   "cell_type": "markdown",
   "metadata": {},
   "source": [
    "Tecan does not generally publish inaccuracy specifications, however, since a well-calibrated instrument can essentially eliminate inaccuracy with custom corrections applied to different volume ranges.  In order to illustrate the role inaccuracy can play, we will instead employ inaccuracy data published for a similar class of liquid handling instrument---the Beckman NX/FX span-8:\n",
    "\n",
    "[inaccuracy/imprecision data for Biomek NX/FX](https://www.beckmancoulter.com/wsrportal/bibliography?docname=BR-10150B.pdf)"
   ]
  },
  {
   "cell_type": "markdown",
   "metadata": {},
   "source": [
    "First, we define a pipetting error function for the Tecan Genesis:"
   ]
  },
  {
   "cell_type": "code",
   "execution_count": 14,
   "metadata": {
    "collapsed": true
   },
   "outputs": [],
   "source": [
    "def tecan_genesis_pipetting_model(volume):\n",
    "    # Imprecision from Tecan Genesis manual.\n",
    "    # Inaccuracy estimated from Beckman Biomek NX/FX span-8.\n",
    "    \n",
    "    imprecision_function = interp1d(\n",
    "        [1.5e-6,100e-6], # volume range (L)\n",
    "        [0.03, 0.005]) # published relative imprecision for corresponding volumes Tecan Genesis\n",
    "    inaccuracy_function = interp1d(\n",
    "        [0.5e-6, 1e-6, 100e-6], # volume range (L)\n",
    "        [0.05, 0.03, 0.03]) # published relative inaccuracies for corresponding volumesfor Beckman NX/FX span-8\n",
    "    \n",
    "    return [inaccuracy_function(volume), imprecision_function(volume)]    "
   ]
  },
  {
   "cell_type": "markdown",
   "metadata": {},
   "source": [
    "Just for reference, this is what the ideal pipetting model looks like in comparison:"
   ]
  },
  {
   "cell_type": "code",
   "execution_count": 15,
   "metadata": {
    "collapsed": true
   },
   "outputs": [],
   "source": [
    "def ideal_pipetting_model(volume):\n",
    "\n",
    "    imprecision_function = interp1d(\n",
    "        [1.5e-6, 100e-6], # volume range (L)\n",
    "        [0.0, 0.0]) # relative imprecision for corresponding volumes\n",
    "    inaccuracy_function = interp1d(\n",
    "        [0.5e-6, 1e-6, 100e-6], # volume range (L)\n",
    "        [0.0, 0.0, 0.0]) # relative inaccuracies for corresponding volumes\n",
    "    \n",
    "    return [inaccuracy_function(volume), imprecision_function(volume)]"
   ]
  },
  {
   "cell_type": "markdown",
   "metadata": {},
   "source": [
    "Now consider a single *realization* of the automated pipetting process to generate a dilution series, utilizing the robot pipetting imprecision and inaccuracy model we defined above."
   ]
  },
  {
   "cell_type": "markdown",
   "metadata": {},
   "source": [
    "The main difference between our ideal *dilution_series* function here are that we are adding the inaccuracy in the form of the *transfer_bias*, which is a normal distribution around our inaccuracy value, to the *Vbuffer* and *Vtransfer* values. We are also then distributing this value according to a normal distribution around our imprecision value for both the *Vbuffer* and *Vtransfer* values."
   ]
  },
  {
   "cell_type": "code",
   "execution_count": 16,
   "metadata": {
    "collapsed": false
   },
   "outputs": [],
   "source": [
    "def ROBOT_dilution_series(Vinitial, Cinitial, Vtransfer, Vbuffer, ndilutions, pipetting_model, Cstock=10e-3):    \n",
    "\n",
    "    # Use pipetting error function to determine inaccuracy and imprecision for transferred volumes.\n",
    "    [transfer_inaccuracy, transfer_imprecision] = pipetting_model(Vtransfer)    \n",
    "    [buffer_inaccuracy, buffer_imprecision] = pipetting_model(Vbuffer)    \n",
    "\n",
    "    # Draw bias for this instrument recalibration.\n",
    "    # We allow the relative bias to be of different scale between the different volumes pipetted,\n",
    "    # but must be same direction.\n",
    "    bias = normal() # draw random normal variate that will scale inaccuracy to determine relative bias\n",
    "    \n",
    "    # Initialize storage for actual concentrations and volumes.\n",
    "    actual_concentrations = np.zeros([ndilutions], np.float64)\n",
    "    actual_volumes = np.zeros([ndilutions], np.float64)\n",
    "    \n",
    "    # Fill initial well of with appropriate dilution of stock solution.\n",
    "    Vinitial_transfer = (Cinitial / Cstock) * Vinitial # compute transferred volume of stock solution\n",
    "    Vinitial_buffer = Vinitial - Vinitial_transfer # compute transferred buffer volume\n",
    "    [initial_transfer_inaccuracy, initial_transfer_imprecision] = pipetting_model(Vinitial_transfer)\n",
    "    [initial_buffer_inaccuracy, initial_buffer_imprecision] = pipetting_model(Vinitial_buffer)    \n",
    "    Vtransfer_actual = Vinitial_transfer * ((1+initial_transfer_inaccuracy*bias) + initial_transfer_imprecision*normal())\n",
    "    Vbuffer_actual = Vinitial_buffer * ((1+initial_buffer_inaccuracy*bias) + initial_buffer_imprecision*normal())                        \n",
    "    actual_volumes[0] = Vtransfer_actual + Vbuffer_actual       \n",
    "    actual_concentrations[0] = Cstock * Vtransfer_actual / actual_volumes[0]\n",
    "                                \n",
    "    # Create dilution series.\n",
    "    for n in range(1,ndilutions):\n",
    "        Vtransfer_actual = Vtransfer * ((1+transfer_inaccuracy*bias) + transfer_imprecision*normal())\n",
    "        Vbuffer_actual   = Vbuffer   * ((1+buffer_inaccuracy*bias)   + buffer_imprecision  *normal())\n",
    "        Vtot = Vtransfer_actual + Vbuffer_actual\n",
    "        actual_concentrations[n] = actual_concentrations[n-1] * Vtransfer_actual / Vtot\n",
    "        actual_volumes[n]   += Vtot\n",
    "        actual_volumes[n-1] -= Vtransfer_actual\n",
    "    \n",
    "    # Remove volume Vtransfer from last so that all wells have same intended volume.\n",
    "    Vtransfer_actual = Vtransfer * ((1+transfer_inaccuracy*bias) + transfer_imprecision*normal())\n",
    "    actual_volumes[ndilutions-1] -= Vtransfer_actual\n",
    "    \n",
    "    return [actual_volumes, actual_concentrations]"
   ]
  },
  {
   "cell_type": "code",
   "execution_count": 17,
   "metadata": {
    "collapsed": false
   },
   "outputs": [],
   "source": [
    "[actual_volumes, actual_concentrations] = \\\n",
    "    ROBOT_dilution_series(Vinitial, Cinitial, Vtransfer, Vbuffer, ndilutions, tecan_genesis_pipetting_model)"
   ]
  },
  {
   "cell_type": "markdown",
   "metadata": {},
   "source": [
    "We can visualize the deviations in concentrations generated by this imprecision and inaccuracy for this single realization."
   ]
  },
  {
   "cell_type": "code",
   "execution_count": 18,
   "metadata": {
    "collapsed": false
   },
   "outputs": [
    {
     "data": {
      "image/png": "[encoded data removed]",
      "text/plain": [
       "<matplotlib.figure.Figure at 0x10c8e7910>"
      ]
     },
     "metadata": {},
     "output_type": "display_data"
    }
   ],
   "source": [
    "#Set 'ideal_concentrations' and 'ideal_volumes' to the ideal assay_compound_concentrations and assay_volumes from before.\n",
    "ideal_concentrations = assay_compound_concentrations\n",
    "ideal_volumes = assay_volumes\n",
    "\n",
    "plt.semilogy(range(ndilutions), ideal_concentrations, 'ko', range(ndilutions), actual_concentrations, 'ro');\n",
    "plt.xlabel('dilution number');\n",
    "plt.ylabel('concentration (M)');\n",
    "plt.legend(['ideal','actual']);\n",
    "plt.axis([-0.5, ndilutions - 0.5, 0.0, Cinitial * 1.2]);"
   ]
  },
  {
   "cell_type": "markdown",
   "metadata": {},
   "source": [
    "Note the trend that the magnitude of the concentration error increases with subsequent dilutions.  To better see this effect, we plot the relative errors in concentration, volume, and total quantity of compound per well."
   ]
  },
  {
   "cell_type": "code",
   "execution_count": 19,
   "metadata": {
    "collapsed": false
   },
   "outputs": [
    {
     "data": {
      "image/png": "[encoded data removed]",
      "text/plain": [
       "<matplotlib.figure.Figure at 0x10c4c7e50>"
      ]
     },
     "metadata": {},
     "output_type": "display_data"
    }
   ],
   "source": [
    "plt.plot([-0.5, ndilutions], [1, 1], 'k--');\n",
    "plt.plot(range(ndilutions), actual_concentrations / ideal_concentrations, 'ro', \\\n",
    "         range(ndilutions), actual_volumes / ideal_volumes, 'go', \\\n",
    "         range(ndilutions), (actual_volumes*actual_concentrations)/(ideal_volumes*ideal_concentrations), 'bo');\n",
    "plt.legend(['exact', 'concentration', 'volume', 'quantity'], loc='upper left');\n",
    "plt.axis([-0.5, ndilutions - 0.5, 0.5, 1.5]);\n",
    "plt.ylabel('relative quantity');\n",
    "plt.xlabel('dilution number');"
   ]
  },
  {
   "cell_type": "markdown",
   "metadata": {},
   "source": [
    "Since this was only a single *realization* of the pipetting process, it is difficult to draw conclusions about the *typical* errors in creating a dilution series with a liquid handler.  We can do this by simulating *many* independent realizations of the same experiment, and then estimate the **coefficient of variation (CV)** from the variation among experiments."
   ]
  },
  {
   "cell_type": "markdown",
   "metadata": {},
   "source": [
    "So, let's repeat the experiment 5000 times:"
   ]
  },
  {
   "cell_type": "code",
   "execution_count": 20,
   "metadata": {
    "collapsed": false
   },
   "outputs": [],
   "source": [
    "nreplicates = 5000\n",
    "\n",
    "actual_volumes_n = np.zeros([nreplicates, ndilutions], np.float64)\n",
    "actual_concentrations_n = np.zeros([nreplicates, ndilutions], np.float64)\n",
    "\n",
    "for replicate in range(nreplicates):\n",
    "    [actual_volumes_replicate, actual_concentrations_replicate] = \\\n",
    "        ROBOT_dilution_series(Vinitial, Cinitial, Vtransfer, Vbuffer, ndilutions, tecan_genesis_pipetting_model)\n",
    "        \n",
    "    actual_volumes_n[replicate,:] = actual_volumes_replicate\n",
    "    actual_concentrations_n[replicate,:] = actual_concentrations_replicate"
   ]
  },
  {
   "cell_type": "markdown",
   "metadata": {},
   "source": [
    "Now let's use this to compute the CV, using numpy.std, which calculates the standard deviation:"
   ]
  },
  {
   "cell_type": "code",
   "execution_count": 21,
   "metadata": {
    "collapsed": true
   },
   "outputs": [],
   "source": [
    "volumes_cv = (actual_volumes_n / ideal_volumes).std(0)\n",
    "concentrations_cv = (actual_concentrations_n / ideal_concentrations).std(0)\n",
    "quantity_cv = ((actual_volumes_n * actual_concentrations_n) / (ideal_volumes * ideal_concentrations)).std(0)"
   ]
  },
  {
   "cell_type": "markdown",
   "metadata": {},
   "source": [
    "Plotting the CV as a function of dilution number reveals surprising trends."
   ]
  },
  {
   "cell_type": "code",
   "execution_count": 22,
   "metadata": {
    "collapsed": false
   },
   "outputs": [
    {
     "data": {
      "image/png": "[encoded data removed]",
      "text/plain": [
       "<matplotlib.figure.Figure at 0x10c472090>"
      ]
     },
     "metadata": {},
     "output_type": "display_data"
    }
   ],
   "source": [
    "plt.plot(range(ndilutions), concentrations_cv*100, 'ro', \\\n",
    "         range(ndilutions), volumes_cv*100, 'go', \\\n",
    "         range(ndilutions), quantity_cv*100, 'bo')\n",
    "plt.xlabel('dilution number')\n",
    "plt.ylabel('CV (%)')\n",
    "plt.xlim([-0.5, ndilutions - 0.5])\n",
    "plt.legend(['concentration', 'volume', 'quantity'], loc='lower right');"
   ]
  },
  {
   "cell_type": "markdown",
   "metadata": {},
   "source": [
    "While the error in volume is relatively constant with dilution number, the CV (imprecision) in both concentration and quantity of compound increases with dilution number: up to 6% in the final sample."
   ]
  },
  {
   "cell_type": "markdown",
   "metadata": {},
   "source": [
    "What about bias?  Is there significant deviation from the expected average concentration due to this process?"
   ]
  },
  {
   "cell_type": "markdown",
   "metadata": {},
   "source": [
    "Let's look at the mean of all these values for this 5000 replicate test."
   ]
  },
  {
   "cell_type": "code",
   "execution_count": 23,
   "metadata": {
    "collapsed": false
   },
   "outputs": [
    {
     "data": {
      "image/png": "[encoded data removed]",
      "text/plain": [
       "<matplotlib.figure.Figure at 0x10c3ff510>"
      ]
     },
     "metadata": {},
     "output_type": "display_data"
    }
   ],
   "source": [
    "# Compute relative bias.\n",
    "volumes_bias = (actual_volumes_n / ideal_volumes).mean(0) - 1\n",
    "concentrations_bias = (actual_concentrations_n / ideal_concentrations).mean(0) - 1\n",
    "quantity_bias = ((actual_volumes_n * actual_concentrations_n) / (ideal_volumes * ideal_concentrations)).mean(0) - 1\n",
    "\n",
    "#Let's define DILUTIONS to make plotting easier.\n",
    "dilutions = np.arange(ndilutions)\n",
    "\n",
    "# Plot relative biases.\n",
    "plt.plot([0, ndilutions], [0, 0], 'k--', dilutions, concentrations_bias*100, 'ro', \\\n",
    "     dilutions, volumes_bias*100, 'go', dilutions, quantity_bias*100, 'bo')\n",
    "plt.xlabel('dilution number')\n",
    "plt.ylabel('RB (%)')\n",
    "plt.legend(['none','concentration', 'volume', 'quantity'], loc='lower right')\n",
    "plt.axis([-0.5, ndilutions - 0.5, -100, 100]);"
   ]
  },
  {
   "cell_type": "markdown",
   "metadata": {
    "collapsed": true
   },
   "source": [
    "We see that the process is essentially free of bias, which is expected if the bias for each realization of the experiment is chosen randomly for this model.  In reality, if multiple experiments are run with the same instrument without recalibration, the same bias in dispensing volumes would lead to biased assay results, but for the purposes of this simulation, we are sampling over many random recalibrations of the same instrument."
   ]
  },
  {
   "cell_type": "markdown",
   "metadata": {
    "collapsed": true
   },
   "source": [
    "Now lets see how our estimation of enzyme activity is affected by including imprecision and inaccuracy, running many assay replicates."
   ]
  },
  {
   "cell_type": "markdown",
   "metadata": {},
   "source": [
    "First we need to add one more step of pipetting that includes our pipetting imprecision and inaccuracy as we transfer  a *compound_volume* (2 uL) of our dilution series into the enzyme assay solution of volume *mix_volume* (10 uL):"
   ]
  },
  {
   "cell_type": "code",
   "execution_count": 24,
   "metadata": {
    "collapsed": false
   },
   "outputs": [
    {
     "name": "stdout",
     "output_type": "stream",
     "text": [
      "[  1.00000000e-04   5.00000000e-05   2.50000000e-05   1.25000000e-05\n",
      "   6.25000000e-06   3.12500000e-06   1.56250000e-06   7.81250000e-07]\n"
     ]
    },
    {
     "data": {
      "image/png": "[encoded data removed]",
      "text/plain": [
       "<matplotlib.figure.Figure at 0x10c3ff810>"
      ]
     },
     "metadata": {},
     "output_type": "display_data"
    }
   ],
   "source": [
    "compound_volume = 2.0e-6 # volume of compound dilution added to assay (L)\n",
    "mix_volume = 10.0e-6 # volume of enzyme assay mix added to assay (L)\n",
    "ideal_assay_concentrations = ideal_concentrations * ( compound_volume/(compound_volume + mix_volume) ) # ideal (L)\n",
    "\n",
    "# Plot the concentration range in the final assay\n",
    "plt.semilogy(range(ndilutions), ideal_assay_concentrations, 'ko');\n",
    "plt.xlabel('dilution number');\n",
    "plt.ylabel('concentration (M)');\n",
    "plt.legend(['ideal']);\n",
    "plt.axis([-0.5, ndilutions - 0.5, 1e-8, Cinitial * 1.2]);\n",
    "print ideal_assay_concentrations"
   ]
  },
  {
   "cell_type": "code",
   "execution_count": 25,
   "metadata": {
    "collapsed": true
   },
   "outputs": [],
   "source": [
    "def robot_dispense(compound_volume, mix_volume, compound_concentrations, pipetting_model):\n",
    "    [compound_inaccuracy, compound_imprecision] = pipetting_model(compound_volume)\n",
    "    [mix_inaccuracy, mix_imprecision] = pipetting_model(mix_volume)\n",
    "    \n",
    "    from numpy.random import normal\n",
    "    dispense_volume = np.zeros([ndilutions], np.float64)\n",
    "    dispense_compound_concentration = np.zeros([ndilutions], np.float64)\n",
    "    \n",
    "    compound_bias = compound_inaccuracy * normal()\n",
    "    mix_bias = mix_inaccuracy * normal()\n",
    "\n",
    "    for i in range(ndilutions):\n",
    "        compound_volume_dispensed = compound_volume * ((1+compound_bias) + compound_imprecision*normal())\n",
    "        mix_volume_dispensed = mix_volume * ((1+mix_bias) + mix_imprecision*normal())\n",
    "        dispense_volume[i] = compound_volume_dispensed + mix_volume_dispensed\n",
    "        dispense_compound_concentration[i] = compound_concentrations[i] * compound_volume_dispensed / dispense_volume[i]\n",
    "\n",
    "    return [dispense_volume, dispense_compound_concentration]"
   ]
  },
  {
   "cell_type": "code",
   "execution_count": 26,
   "metadata": {
    "collapsed": false
   },
   "outputs": [
    {
     "data": {
      "image/png": "[encoded data removed]",
      "text/plain": [
       "<matplotlib.figure.Figure at 0x10c19bf90>"
      ]
     },
     "metadata": {},
     "output_type": "display_data"
    }
   ],
   "source": [
    "#initialize the activity values with a zero vector\n",
    "activity = np.zeros([nreplicates,ndilutions], np.float64)\n",
    "\n",
    "#calclulate activity with our competitive inhibition model and our new actual_concentrations for nreplicates\n",
    "for replicate in range(nreplicates):\n",
    "    # create a dilution series\n",
    "    [actual_volumes, actual_concentrations] = ROBOT_dilution_series(Vinitial, Cinitial, Vtransfer, Vbuffer, ndilutions, tecan_genesis_pipetting_model)\n",
    "    # combine aliquot of compound dilution with assay mix\n",
    "    [dispense_volumes, dispense_compound_concentrations] = robot_dispense(compound_volume, mix_volume, actual_concentrations, tecan_genesis_pipetting_model)\n",
    "    # measure V_0/V_max for each dilution\n",
    "    for i in range(ndilutions):\n",
    "        activity[replicate,i] = competitive_inhibition(substrate_concentration, dispense_compound_concentrations[i], enzyme_concentration, true_Ki, Km)\n",
    "\n",
    "#plot a subset of V_0/V_max realizations\n",
    "plt.semilogx(ideal_assay_concentrations, activity[::10].transpose(), 'r-');\n",
    "plt.xlabel('ideal [I] (M)');\n",
    "plt.ylabel('$V_{0}/V_{max}$');\n",
    "plt.axis([10**(-6.2), 10**(-3.9), 0, 0.06]);"
   ]
  },
  {
   "cell_type": "markdown",
   "metadata": {},
   "source": [
    "It's not hard to see that the activity will vary over a substantial range."
   ]
  },
  {
   "cell_type": "markdown",
   "metadata": {},
   "source": [
    "To determine the distribution of $IC_{50}$s consistent with the newly imposed experimental errors, we next use a nonlinear fit to each realization of the experiment to extract an $IC_{50}$ using this relationship to Ki for competitive inhibition, where we have already defined *[S]* and *Km* as constants:"
   ]
  },
  {
   "cell_type": "markdown",
   "metadata": {},
   "source": [
    "$$IC_{50} = K_{i}(1+\\frac{[S]}{K_{m}})$$"
   ]
  },
  {
   "cell_type": "code",
   "execution_count": 27,
   "metadata": {
    "collapsed": false
   },
   "outputs": [],
   "source": [
    "#define the function 'competitive_inhibition_IC50' using this equation\n",
    "def competitive_inhibition_IC50(substrate_concentration, inhibitor_concentration, enzyme_concentration, IC50, Km):\n",
    "    Ki = IC50/(1 + substrate_concentration/Km)\n",
    "    return competitive_inhibition(substrate_concentration, inhibitor_concentration, enzyme_concentration, Ki, Km)"
   ]
  },
  {
   "cell_type": "code",
   "execution_count": 28,
   "metadata": {
    "collapsed": true
   },
   "outputs": [],
   "source": [
    "def fit_ic50(inhibitor_concentrations, activities, Ki_guess):\n",
    "    \n",
    "    def objective(inhibitor_concentrations, IC50):\n",
    "        ndilutions = len(inhibitor_concentrations)\n",
    "        activities = np.zeros([ndilutions], np.float64)\n",
    "        for i in range(ndilutions):\n",
    "            activities[i] = competitive_inhibition_IC50(substrate_concentration, inhibitor_concentrations[i], enzyme_concentration, IC50, Km)\n",
    "            \n",
    "        return activities - activities.min()\n",
    "    \n",
    "    # fit the IC50 using a good initial guess for curve_fit        \n",
    "    import scipy.optimize\n",
    "    IC50_guess = Ki_guess*(1 + substrate_concentration/Km)\n",
    "    [popt, pcov] = scipy.optimize.curve_fit(objective, inhibitor_concentrations, activities - activities.min(), p0=[IC50_guess], maxfev=1000)\n",
    "    \n",
    "    return popt[0]"
   ]
  },
  {
   "cell_type": "code",
   "execution_count": 29,
   "metadata": {
    "collapsed": false
   },
   "outputs": [
    {
     "data": {
      "image/png": "[encoded data removed]",
      "text/plain": [
       "<matplotlib.figure.Figure at 0x10ce41c10>"
      ]
     },
     "metadata": {},
     "output_type": "display_data"
    }
   ],
   "source": [
    "IC50s_tips = np.zeros([nreplicates], np.float64)\n",
    "for replicate in range(nreplicates):\n",
    "    IC50s_tips[replicate] = fit_ic50(ideal_assay_concentrations, activity[replicate,:], true_Ki)\n",
    "pIC50s_tips = np.log10(IC50s_tips)\n",
    "    \n",
    "nhist = 20\n",
    "plt.hist(pIC50s_tips, nhist);\n",
    "plt.xlabel('measured pIC50 (M)');\n",
    "plt.ylabel('P(pIC50)');\n",
    "plt.yticks([]);\n",
    "plt.xlim(-8, -7);"
   ]
  },
  {
   "cell_type": "markdown",
   "metadata": {},
   "source": [
    "The imprecision and inaccuracy in the measured $pIC_{50}$s may not be uniform across the whole $K_i$ range, however.  To see if there is variation as a function of true inhibitor $K_i$, we can characterize imprecision and inaccuracy as a function of $pK_i$."
   ]
  },
  {
   "cell_type": "code",
   "execution_count": 30,
   "metadata": {
    "collapsed": false
   },
   "outputs": [],
   "source": [
    "def robot_IC50s(true_Ki):\n",
    "    nreplicates = 1000\n",
    "    IC50s = np.zeros([nreplicates], np.float64)\n",
    "    for replicate in range(nreplicates):\n",
    "        [actual_volumes, actual_concentrations] = ROBOT_dilution_series(Vinitial, Cinitial, Vtransfer, Vbuffer, ndilutions, tecan_genesis_pipetting_model)\n",
    "        [dispense_volumes, dispense_compound_concentrations] = robot_dispense(compound_volume, mix_volume, actual_concentrations, tecan_genesis_pipetting_model)\n",
    "        activities = np.zeros([ndilutions], np.float64)\n",
    "        for i in range(ndilutions):\n",
    "            activities[i] = competitive_inhibition(substrate_concentration,  dispense_compound_concentrations[i], enzyme_concentration, true_Ki, Km)\n",
    "        IC50s[replicate] = fit_ic50(ideal_assay_concentrations, activities, true_Ki)\n",
    "    return IC50s"
   ]
  },
  {
   "cell_type": "code",
   "execution_count": 31,
   "metadata": {
    "collapsed": true
   },
   "outputs": [],
   "source": [
    "#define arbitrary pKi array\n",
    "pKis = np.array([-12, -11, -10, -9, -8, -7, -6, -5, -4, -3], np.float64);\n",
    "Kis = 10**pKis\n",
    "nKis = len(pKis)\n",
    "\n",
    "#initialize with zeros\n",
    "genesis_pIC50_bias = np.zeros([nKis], np.float64)\n",
    "genesis_pIC50_CV = np.zeros([nKis], np.float64)\n",
    "\n",
    "for (i, Ki) in enumerate(Kis):\n",
    "    IC50s = robot_IC50s(Ki)    \n",
    "    pIC50s = np.log10(IC50s)\n",
    "    pIC50_true = np.log10(Kis[i]*(1 + substrate_concentration/Km))\n",
    "    genesis_pIC50_bias[i] = pIC50s.mean() - pIC50_true;\n",
    "    genesis_pIC50_CV[i] = pIC50s.std() / abs(pIC50s.mean())   "
   ]
  },
  {
   "cell_type": "markdown",
   "metadata": {},
   "source": [
    "We can plot the bias in the measured $pIC_{50}$ values to examine the bias and CV."
   ]
  },
  {
   "cell_type": "code",
   "execution_count": 32,
   "metadata": {
    "collapsed": false
   },
   "outputs": [
    {
     "data": {
      "image/png": "[encoded data removed]",
      "text/plain": [
       "<matplotlib.figure.Figure at 0x10d025310>"
      ]
     },
     "metadata": {},
     "output_type": "display_data"
    }
   ],
   "source": [
    "# Plot relative error in measured Ki values as a function of true Ki.\n",
    "plt.plot([pKis.min(), pKis.max()], [0, 0], 'k-', pKis, genesis_pIC50_bias, 'ro');\n",
    "plt.xlabel('pKi');\n",
    "plt.ylabel('bias in measured pIC50');\n",
    "plt.axis([pKis.min()-0.5, pKis.max()+0.5, -1.5,1.5]);"
   ]
  },
  {
   "cell_type": "code",
   "execution_count": 33,
   "metadata": {
    "collapsed": false
   },
   "outputs": [
    {
     "data": {
      "image/png": "[encoded data removed]",
      "text/plain": [
       "<matplotlib.figure.Figure at 0x10d002c90>"
      ]
     },
     "metadata": {},
     "output_type": "display_data"
    }
   ],
   "source": [
    "plt.plot(pKis, genesis_pIC50_CV*100, 'ko');\n",
    "plt.xlabel('pKi');\n",
    "plt.ylabel('pIC50 CV (%)');\n",
    "plt.axis([pKis.min(), pKis.max(), 0, 10]);"
   ]
  },
  {
   "cell_type": "markdown",
   "metadata": {},
   "source": [
    "###3. Compare this to inaccuracy and imprecision for acoustic dispensing with the LabCyte Echo."
   ]
  },
  {
   "cell_type": "markdown",
   "metadata": {
    "collapsed": true
   },
   "source": [
    "Preparation of a dilution series by direct dispensing with the LabCyte Echo is a different process.  In the protocol described in [2], various quantities of 10 mM stock up to 120 uL were dispensed using the Echo, and then backfilled to 120 uL with DMSO.\n",
    "\n",
    "According to published [inaccuracy/imprecision specifications for LabCyte Echo](http://www.labcyte.com/sites/default/files/support_docs/Echo%205XX%20Specifications.pdf), the Echo has an inaccuracy of 10% and an imprecision of 8% over the entire dispense range of 2.5 nL to 10 uL.  We consider a 8-point dilution series spanning 2.5 nL (the smallest quantity the Echo can dispense) to 120 nL (the largest quantity dispensed in the assay) from 10 mM stock solution."
   ]
  },
  {
   "cell_type": "markdown",
   "metadata": {},
   "source": [
    "![alt text](img/Echo.png \"Echo.png\")"
   ]
  },
  {
   "cell_type": "markdown",
   "metadata": {},
   "source": [
    "Unlike for tip-based dispensing, here we aren't creating a dilution series, we will be directly dispensing the assay amounts into the assay wells. We will apply the inaccuracy and imprecision in a similar way as before, to determine the normal distribution around which to define *dispense_volumes* and *backfill_volume*. The *backfill_volume* is the volume of DMSO added to the mix in addition to the compound stock (also in DMSO) so that the concentration of DMSO remains constant throughout the assay."
   ]
  },
  {
   "cell_type": "markdown",
   "metadata": {},
   "source": [
    "![alt text](img/direct_dispense.png \"direct_dispense.png\")"
   ]
  },
  {
   "cell_type": "code",
   "execution_count": 34,
   "metadata": {
    "collapsed": true
   },
   "outputs": [],
   "source": [
    "# define echo_assay_dispense function that mimics the process of dispensing from the Echo into mix_volume\n",
    "def echo_assay_dispense(C0, mix_volume, backfill_volume, dispense_volumes):\n",
    "    # Manufacturer specifications for LabCyte Echo relative inaccuracy and imprecision\n",
    "    echo_inaccuracy = 0.10\n",
    "    echo_imprecision = 0.08\n",
    "\n",
    "    ndilutions = len(dispense_volumes)\n",
    "    echo_volume = np.zeros([ndilutions], np.float64)\n",
    "    echo_concentration = np.zeros([ndilutions], np.float64)\n",
    "    echo_bias = echo_inaccuracy * normal()\n",
    "    \n",
    "    for i in range(ndilutions):\n",
    "        # Compute intended dispensing volumes.\n",
    "        compound_volume_intended = dispense_volumes[i]\n",
    "        backfill_volume_intended = backfill_volume - compound_volume_intended\n",
    "        \n",
    "        compound_volume_dispensed = compound_volume_intended * ((1+echo_bias) + echo_imprecision*normal())\n",
    "        backfill_volume_dispensed = backfill_volume_intended * ((1+echo_bias) + echo_imprecision*normal())\n",
    "        \n",
    "        # Dispense the assay mix with a Tecan Genesis\n",
    "        [genesis_inaccuracy, genesis_imprecision] = tecan_genesis_pipetting_model(mix_volume)\n",
    "        bias = normal()\n",
    "        actual_mix_volume = mix_volume * ((1+genesis_inaccuracy*bias) + genesis_imprecision*normal())\n",
    "\n",
    "        # Compute assay volume and concentration\n",
    "        echo_volume[i] = actual_mix_volume + backfill_volume_dispensed + compound_volume_dispensed\n",
    "        echo_concentration[i] = C0 * compound_volume_dispensed / echo_volume[i]\n",
    "\n",
    "    return [echo_volume, echo_concentration]"
   ]
  },
  {
   "cell_type": "markdown",
   "metadata": {},
   "source": [
    "Now, let's use this *echo_assay_dispense* function to create an 8-point dilution series with DMSO compound stock concentration as 10 mM, a final assay volume of 12 µL, and an 8-point titration of dispense volumes in multiples of 15 nL. To make sure our DMSO concentration does not vary as we vary our compound concentration, we'll always backfill up to 120 nL total DMSO."
   ]
  },
  {
   "cell_type": "code",
   "execution_count": 35,
   "metadata": {
    "collapsed": false
   },
   "outputs": [
    {
     "name": "stdout",
     "output_type": "stream",
     "text": [
      "[  2.08333333e-06   4.16666667e-06   8.33333333e-06   1.66666667e-05\n",
      "   3.33333333e-05   5.00000000e-05   6.66666667e-05   1.00000000e-04]\n"
     ]
    },
    {
     "data": {
      "image/png": "[encoded data removed]",
      "text/plain": [
       "<matplotlib.figure.Figure at 0x10d002c10>"
      ]
     },
     "metadata": {},
     "output_type": "display_data"
    }
   ],
   "source": [
    "echo_C0 = 10e-3 # DMSO stock concentration (M)\n",
    "\n",
    "assay_volume = 12e-6 # final assay volume (L)\n",
    "\n",
    "echo_dispense_volumes = 2.5e-9 * np.array([1, 2, 4, 8, 16, 24, 32, 48]) # rougly logarithmic dispense volumes in multiples of 2.5 nL \n",
    "\n",
    "ndilutions_echo = len(echo_dispense_volumes)\n",
    "\n",
    "backfill_volume = 120e-9 # total Echo dispense volume including compound and DMSO backfilling (L)\n",
    "\n",
    "mix_volume = assay_volume - backfill_volume # assay mix volume to be added by liquid handler (L)\n",
    "\n",
    "#Check our concentrations are as expected\n",
    "echo_ideal_concentrations = (echo_C0*echo_dispense_volumes/assay_volume)\n",
    "plt.semilogy(range(ndilutions_echo), echo_ideal_concentrations, 'ko');\n",
    "plt.xlabel('dilution number');\n",
    "plt.ylabel('concentration (M)');\n",
    "plt.legend(['ideal']);\n",
    "plt.axis([-0.5, ndilutions_echo - 0.5, 1e-8, echo_C0 * 1.2]);\n",
    "print echo_ideal_concentrations"
   ]
  },
  {
   "cell_type": "code",
   "execution_count": 36,
   "metadata": {
    "collapsed": false
   },
   "outputs": [],
   "source": [
    "[echo_volumes, echo_concentrations] = echo_assay_dispense(echo_C0, mix_volume, backfill_volume, echo_dispense_volumes)"
   ]
  },
  {
   "cell_type": "markdown",
   "metadata": {
    "collapsed": true
   },
   "source": [
    "Let's plot a single realization of an Echo dispense experiment:"
   ]
  },
  {
   "cell_type": "code",
   "execution_count": 37,
   "metadata": {
    "collapsed": false
   },
   "outputs": [
    {
     "data": {
      "image/png": "[encoded data removed]",
      "text/plain": [
       "<matplotlib.figure.Figure at 0x10e121fd0>"
      ]
     },
     "metadata": {},
     "output_type": "display_data"
    }
   ],
   "source": [
    "plt.plot([0,ndilutions_echo], [1, 1], 'k--', range(ndilutions_echo), echo_volumes / assay_volume,'ro',\\\n",
    "         range(ndilutions_echo), echo_concentrations / echo_ideal_concentrations, 'go');\n",
    "plt.legend(['exact', 'assay well volume rel err', 'concentration rel err'], loc='lower right')\n",
    "plt.axis([-0.5, ndilutions_echo - 0.5, 0.5, 1.5])\n",
    "plt.ylabel('relative quantity')\n",
    "plt.xlabel('dilution number');"
   ]
  },
  {
   "cell_type": "markdown",
   "metadata": {},
   "source": [
    "We simulate many realizations of the same experiment to quantify imprecision and bias in the dilution series."
   ]
  },
  {
   "cell_type": "code",
   "execution_count": 38,
   "metadata": {
    "collapsed": true
   },
   "outputs": [],
   "source": [
    "# initialize with zeros\n",
    "actual_volumes_n = np.zeros([nreplicates, ndilutions_echo], np.float64)\n",
    "actual_concentrations_n = np.zeros([nreplicates, ndilutions_echo], np.float64)\n",
    "\n",
    "# initialize volume array with assay_volume value\n",
    "volume_array = np.ones([ndilutions_echo]) * assay_volume\n",
    "\n",
    "for replicate in range(nreplicates):\n",
    "    [actual_volumes_replicate, actual_concentrations_replicate] = echo_assay_dispense(echo_C0, mix_volume, backfill_volume, echo_dispense_volumes)\n",
    "    actual_volumes_n[replicate,:] = actual_volumes_replicate\n",
    "    actual_concentrations_n[replicate,:] = actual_concentrations_replicate\n",
    "volumes_cv = (actual_volumes_n / assay_volume).std(0)\n",
    "concentrations_cv = (actual_concentrations_n / echo_ideal_concentrations).std(0)\n",
    "quantity_cv = ((actual_volumes_n * actual_concentrations_n) / (assay_volume * echo_ideal_concentrations)).std(0)"
   ]
  },
  {
   "cell_type": "markdown",
   "metadata": {},
   "source": [
    "We can now plot the CVs to examine the imprecision in the resulting compound concentrations."
   ]
  },
  {
   "cell_type": "code",
   "execution_count": 39,
   "metadata": {
    "collapsed": false
   },
   "outputs": [
    {
     "data": {
      "image/png": "[encoded data removed]",
      "text/plain": [
       "<matplotlib.figure.Figure at 0x10e09be10>"
      ]
     },
     "metadata": {},
     "output_type": "display_data"
    }
   ],
   "source": [
    "# define dilutions to make plotting easier.\n",
    "dilutions = np.arange(ndilutions_echo)\n",
    "\n",
    "plt.plot(dilutions, concentrations_cv*100, 'rs', dilutions, volumes_cv*100, 'go', dilutions, quantity_cv*100, 'bo')\n",
    "plt.xlabel('dilution number')\n",
    "plt.ylabel('CV (%)')\n",
    "plt.xlim([-0.5,ndilutions_echo - 0.5])\n",
    "plt.legend(['concentration', 'volume', 'quantity'], loc='center right');"
   ]
  },
  {
   "cell_type": "markdown",
   "metadata": {},
   "source": [
    "We again quantify the bias:"
   ]
  },
  {
   "cell_type": "code",
   "execution_count": 40,
   "metadata": {
    "collapsed": false
   },
   "outputs": [
    {
     "data": {
      "image/png": "[encoded data removed]",
      "text/plain": [
       "<matplotlib.figure.Figure at 0x10e13f410>"
      ]
     },
     "metadata": {},
     "output_type": "display_data"
    }
   ],
   "source": [
    "# Compute relative bias.\n",
    "volumes_bias = (actual_volumes_n / assay_volume).mean(0) - 1\n",
    "concentrations_bias = (actual_concentrations_n / echo_ideal_concentrations).mean(0) - 1\n",
    "quantity_bias = ((actual_volumes_n * actual_concentrations_n) / (assay_volume * echo_ideal_concentrations)).mean(0) - 1\n",
    "\n",
    "# Plot relative biases.\n",
    "plt.plot([0, ndilutions_echo], [0, 0], 'k--', dilutions, concentrations_bias*100, 'rs', \\\n",
    "     dilutions, volumes_bias*100, 'go', dilutions, quantity_bias*100, 'bo')\n",
    "plt.xlabel('dilution number')\n",
    "plt.ylabel('RB (%)')\n",
    "plt.legend(['none','concentration', 'volume', 'quantity'], loc='lower right')\n",
    "plt.axis([-0.5, ndilutions_echo - 0.5, -100, 100]);"
   ]
  },
  {
   "cell_type": "markdown",
   "metadata": {},
   "source": [
    "Again, bias over many random calibrations of the same instrument is expected to be zero."
   ]
  },
  {
   "cell_type": "markdown",
   "metadata": {},
   "source": [
    "Now lets see how our estimation of enzyme activity is affected by including imprecision and inaccuracy, running many assay replicates."
   ]
  },
  {
   "cell_type": "code",
   "execution_count": 41,
   "metadata": {
    "collapsed": false
   },
   "outputs": [
    {
     "data": {
      "image/png": "[encoded data removed]",
      "text/plain": [
       "<matplotlib.figure.Figure at 0x10e052390>"
      ]
     },
     "metadata": {},
     "output_type": "display_data"
    }
   ],
   "source": [
    "#initialize the activity values with a zero vector\n",
    "activity = np.zeros([nreplicates,ndilutions_echo], np.float64)\n",
    "\n",
    "#calclulate activity with our competitive inhibition model and our new actual_concentrations for nreplicates\n",
    "for replicate in range(nreplicates):\n",
    "    [actual_volumes, actual_concentrations] = echo_assay_dispense(echo_C0, mix_volume, backfill_volume, echo_dispense_volumes)\n",
    "    for i in range(ndilutions_echo):\n",
    "        activity[replicate,i] = competitive_inhibition(substrate_concentration, actual_concentrations[i], enzyme_concentration, true_Ki, Km)\n",
    "\n",
    "#plot\n",
    "plt.semilogx(echo_ideal_concentrations, activity[::10].transpose(), 'r-');\n",
    "plt.xlabel('ideal [I] (M)');\n",
    "plt.ylabel('$V_{0}/V_{max}$');\n",
    "plt.axis([10**(-6.2), 10**(-3.9), 0, 0.06]);"
   ]
  },
  {
   "cell_type": "markdown",
   "metadata": {},
   "source": [
    "Let's check our $pIC_{50}$ histogram using the same `fit_ic50` function from before."
   ]
  },
  {
   "cell_type": "code",
   "execution_count": 42,
   "metadata": {
    "collapsed": false
   },
   "outputs": [
    {
     "data": {
      "image/png": "[encoded data removed]",
      "text/plain": [
       "<matplotlib.figure.Figure at 0x10bbca2d0>"
      ]
     },
     "metadata": {},
     "output_type": "display_data"
    }
   ],
   "source": [
    "IC50s_echo = np.zeros([nreplicates], np.float64)\n",
    "for replicate in range(nreplicates):\n",
    "    IC50s_echo[replicate] = fit_ic50(echo_ideal_concentrations, activity[replicate,:], true_Ki)                        \n",
    "pIC50s_echo = np.log10(IC50s_echo)\n",
    "    \n",
    "nhist = 20\n",
    "plt.hist(pIC50s_echo, nhist);\n",
    "plt.xlabel('measured pIC50 (M)');\n",
    "plt.ylabel('P(pIC50)');\n",
    "plt.yticks([]);\n",
    "plt.xlim(-8, -7);"
   ]
  },
  {
   "cell_type": "markdown",
   "metadata": {},
   "source": [
    "Similarly, the imprecision and inaccuracy in the measured pIC50s may not be uniform across the whole $K_i$ range, however, so we will characterize imprecision and inaccuracy as a function of $pK_i$."
   ]
  },
  {
   "cell_type": "code",
   "execution_count": 43,
   "metadata": {
    "collapsed": true
   },
   "outputs": [],
   "source": [
    "def echo_IC50s(true_Ki):\n",
    "    nreplicates = 1000\n",
    "    IC50s = np.zeros([nreplicates], np.float64)\n",
    "    for replicate in range(nreplicates):\n",
    "        [assay_volumes, actual_concentrations] = echo_assay_dispense(echo_C0, mix_volume, backfill_volume, echo_dispense_volumes)\n",
    "        activities = np.zeros([ndilutions_echo], np.float64)\n",
    "        for i in range(ndilutions_echo):\n",
    "            activities[i] = competitive_inhibition(substrate_concentration, actual_concentrations[i], enzyme_concentration, true_Ki, Km)\n",
    "        IC50s[replicate] = fit_ic50(echo_ideal_concentrations, activities, true_Ki)\n",
    "    return IC50s"
   ]
  },
  {
   "cell_type": "code",
   "execution_count": 44,
   "metadata": {
    "collapsed": false
   },
   "outputs": [],
   "source": [
    "# Initialize with zeros.\n",
    "echo_pIC50_bias = np.zeros([nKis], np.float64)\n",
    "echo_pIC50_CV = np.zeros([nKis], np.float64)\n",
    "\n",
    "for (i, Ki) in enumerate(Kis):\n",
    "    IC50s = echo_IC50s(Ki)    \n",
    "    pIC50s = np.log10(IC50s)\n",
    "    pIC50_true = np.log10(Kis[i]*(1 + substrate_concentration/Km))\n",
    "    echo_pIC50_bias[i] = pIC50s.mean() - pIC50_true;\n",
    "    echo_pIC50_CV[i] = pIC50s.std() / abs(pIC50s.mean())  "
   ]
  },
  {
   "cell_type": "code",
   "execution_count": 45,
   "metadata": {
    "collapsed": false
   },
   "outputs": [
    {
     "data": {
      "image/png": "[encoded data removed]",
      "text/plain": [
       "<matplotlib.figure.Figure at 0x10dd6acd0>"
      ]
     },
     "metadata": {},
     "output_type": "display_data"
    }
   ],
   "source": [
    "# Plot relative error in measured Ki values as a function of true Ki.\n",
    "plt.plot([pKis.min(), pKis.max()], [0, 0], 'k-', pKis, echo_pIC50_bias, 'ro');\n",
    "plt.xlabel('pKi');\n",
    "plt.ylabel('bias in measured pIC50');\n",
    "plt.axis([pKis.min()-0.5, pKis.max()+0.5, -1.5,1.5]);"
   ]
  },
  {
   "cell_type": "code",
   "execution_count": 46,
   "metadata": {
    "collapsed": false
   },
   "outputs": [
    {
     "data": {
      "image/png": "[encoded data removed]",
      "text/plain": [
       "<matplotlib.figure.Figure at 0x10e085210>"
      ]
     },
     "metadata": {},
     "output_type": "display_data"
    }
   ],
   "source": [
    "#Plot CV.\n",
    "plt.plot(pKis, echo_pIC50_CV*100, 'ko');\n",
    "plt.xlabel('pKi');\n",
    "plt.ylabel('measured pIC50 CV (%)');\n",
    "plt.axis([pKis.min(), pKis.max(), 0, 10]);"
   ]
  },
  {
   "cell_type": "markdown",
   "metadata": {},
   "source": [
    "### 4. Add to model: dilution by system liquid of the Tecan Genesis liquid-handling robot."
   ]
  },
  {
   "cell_type": "markdown",
   "metadata": {},
   "source": [
    "The Tecan Genesis supports the use of both disposable tips and fixed tips. When operating with fixed tips, syringes use a system liquid (generally water or buffer) to aspirate and dispense during liquid transfers.  While an air gap remains between the liquid being transferred and the system liquid, the system liquid is used to flush the tips into waste after transfers in order to remove any liquid residue before the next transfer. Because a small quantity of system liquid residue remains coating the tip after washing, fixed tips can actually *dilute* the sample being transferred unless special protocols are used to prevent this. A good description of this phenomonen can be found in [Dilution effect in multichannel liquid-handling system equipped with fixed tips:Problems and solutions for bioanalytical sample preparation. J. Lab. Autom. 12(6): 2007](http://dx.doi.org/10.1016/j.jala.2007.07.002), including the diagram below:"
   ]
  },
  {
   "cell_type": "markdown",
   "metadata": {},
   "source": [
    "![alt text](img/dilution_effect_diagram.png \"dilution_effect_diagram.png\")"
   ]
  },
  {
   "cell_type": "markdown",
   "metadata": {
    "collapsed": true
   },
   "source": [
    "The magnitude of this dilution effect was noted in a 2006 paper by Dong et al at BMS, [The use of a dual dye photometric calibration method to identify possible sample dilution from an automated multichannel liquid-handling system. J. Lab. Autom. 11(2): 2006](http://dx.doi.org/10.1016/j.jala.2006.02.005), which quite surprisingly can have a large impact on dilution series preparation. The relevant table from this paper is below."
   ]
  },
  {
   "cell_type": "markdown",
   "metadata": {},
   "source": [
    "![alt text](img/DilutionError_small.png \"DilutionError_small.png\")"
   ]
  },
  {
   "cell_type": "code",
   "execution_count": 47,
   "metadata": {
    "collapsed": false
   },
   "outputs": [],
   "source": [
    "# Define a function to interpolate the dilution effect between the measured values of Dong et al. 2006\n",
    "# (extended to 1 uL volumes)\n",
    "volume = np.array([1, 20, 200]) * 1e-6 # volumes at which dilution effect was quantified (L)\n",
    "dilution_effect = np.array([-0.0630, -0.0630, -0.0496]) # relative inaccuracy due to dilution with system liquid at corresponding volumes\n",
    "\n",
    "dilution_function = interp1d(volume, dilution_effect) # interpolation function"
   ]
  },
  {
   "cell_type": "markdown",
   "metadata": {},
   "source": [
    "We introduce a modified model of our dilution series that now incorporates this dilution effect."
   ]
  },
  {
   "cell_type": "markdown",
   "metadata": {},
   "source": [
    "Note that the only difference between this function and our `ROBOT_dilution_series` function is that `actual_concentrations[n]` value now includes our `dilution_function` term."
   ]
  },
  {
   "cell_type": "code",
   "execution_count": 48,
   "metadata": {
    "collapsed": true
   },
   "outputs": [],
   "source": [
    "def DILUTE_ROBOT_dilution_series(Vinitial, Cinitial, Vtransfer, Vbuffer, ndilutions, pipetting_model, Cstock=10e-3):\n",
    "\n",
    "    # Use pipetting error function to determine inaccuracy and imprecision for transferred volumes.\n",
    "    [transfer_inaccuracy, transfer_imprecision] = pipetting_model(Vtransfer)    \n",
    "    [buffer_inaccuracy, buffer_imprecision] = pipetting_model(Vbuffer)    \n",
    "\n",
    "    # Draw bias for this instrument recalibration.\n",
    "    # We allow the relative bias to be of different scale between the different volumes pipetted,\n",
    "    # but must be same direction.\n",
    "    bias = normal() # draw random normal variate that will scale inaccuracy to determine relative bias\n",
    "    \n",
    "    # Initialize storage for actual concentrations and volumes.\n",
    "    actual_concentrations = np.zeros([ndilutions], np.float64)\n",
    "    actual_volumes = np.zeros([ndilutions], np.float64)\n",
    "    \n",
    "    # Fill initial well of with appropriate dilution of stock solution.\n",
    "    Vinitial_transfer = (Cinitial / Cstock) * Vinitial # compute transferred volume of stock solution\n",
    "    Vinitial_buffer = Vinitial - Vinitial_transfer # compute transferred buffer volume\n",
    "    [initial_transfer_inaccuracy, initial_transfer_imprecision] = pipetting_model(Vinitial_transfer)\n",
    "    [initial_buffer_inaccuracy, initial_buffer_imprecision] = pipetting_model(Vinitial_buffer)    \n",
    "    Vtransfer_actual = Vinitial_transfer * ((1+initial_transfer_inaccuracy*bias) + initial_transfer_imprecision*normal())\n",
    "    Vbuffer_actual = Vinitial_buffer * ((1+initial_buffer_inaccuracy*bias) + initial_buffer_imprecision*normal())                        \n",
    "    actual_volumes[0] = Vtransfer_actual + Vbuffer_actual       \n",
    "    actual_concentrations[0] = (1+dilution_function(Vtransfer_actual)) * Cstock * Vtransfer_actual / actual_volumes[0]\n",
    "                                \n",
    "    # Create dilution series.\n",
    "    for n in range(1,ndilutions):\n",
    "        Vtransfer_actual = Vtransfer * ((1+transfer_inaccuracy*bias) + transfer_imprecision*normal())\n",
    "        Vbuffer_actual   = Vbuffer   * ((1+buffer_inaccuracy*bias)   + buffer_imprecision  *normal())\n",
    "        Vtot = Vtransfer_actual + Vbuffer_actual\n",
    "        actual_concentrations[n] = \\\n",
    "            (1+dilution_function(Vtransfer)) * actual_concentrations[n-1] * Vtransfer_actual / Vtot\n",
    "        actual_volumes[n]   += Vtot\n",
    "        actual_volumes[n-1] -= Vtransfer_actual\n",
    "    \n",
    "    # Remove volume Vtransfer from last so that all wells have same intended volume.\n",
    "    Vtransfer_actual = Vtransfer * ((1+transfer_inaccuracy*bias) + transfer_imprecision*normal())\n",
    "    actual_volumes[ndilutions-1] -= Vtransfer_actual\n",
    "\n",
    "    return [actual_volumes, actual_concentrations]"
   ]
  },
  {
   "cell_type": "markdown",
   "metadata": {
    "collapsed": true
   },
   "source": [
    "Once again, we simulate many replicates of the same experiment, this time including the dilution effect."
   ]
  },
  {
   "cell_type": "code",
   "execution_count": 49,
   "metadata": {
    "collapsed": false
   },
   "outputs": [],
   "source": [
    "#initialize with zeros\n",
    "actual_volumes_n = np.zeros([nreplicates, ndilutions], np.float64)\n",
    "actual_concentrations_n = np.zeros([nreplicates, ndilutions], np.float64)\n",
    "\n",
    "for replicate in range(nreplicates):\n",
    "    [actual_volumes_replicate, actual_concentrations_replicate] = DILUTE_ROBOT_dilution_series(Vinitial, Cinitial, Vtransfer, Vbuffer, ndilutions, tecan_genesis_pipetting_model)\n",
    "    actual_volumes_n[replicate,:] = actual_volumes_replicate\n",
    "    actual_concentrations_n[replicate,:] = actual_concentrations_replicate"
   ]
  },
  {
   "cell_type": "markdown",
   "metadata": {},
   "source": [
    "We can quantify the impact on imprecision by visualizing the CVs as a function of dilution number."
   ]
  },
  {
   "cell_type": "code",
   "execution_count": 50,
   "metadata": {
    "collapsed": false
   },
   "outputs": [
    {
     "data": {
      "image/png": "[encoded data removed]",
      "text/plain": [
       "<matplotlib.figure.Figure at 0x10e032550>"
      ]
     },
     "metadata": {},
     "output_type": "display_data"
    }
   ],
   "source": [
    "volumes_cv = (actual_volumes_n / ideal_volumes).std(0)\n",
    "concentrations_cv = (actual_concentrations_n / ideal_concentrations).std(0)\n",
    "quantity_cv = ((actual_volumes_n * actual_concentrations_n) / (ideal_volumes * ideal_concentrations)).std(0)\n",
    "\n",
    "# Plot CVs\n",
    "dilutions = np.arange(ndilutions)\n",
    "plt.plot(dilutions, concentrations_cv*100, 'ro', dilutions, volumes_cv*100, 'go', dilutions, quantity_cv*100, 'bo')\n",
    "plt.xlabel('dilution number')\n",
    "plt.ylabel('CV (%)')\n",
    "plt.xlim([-0.5, ndilutions -0.5])\n",
    "plt.legend(['concentration', 'volume', 'quantity'], loc='lower right');"
   ]
  },
  {
   "cell_type": "markdown",
   "metadata": {},
   "source": [
    "We also examine the bias."
   ]
  },
  {
   "cell_type": "code",
   "execution_count": 51,
   "metadata": {
    "collapsed": false
   },
   "outputs": [
    {
     "data": {
      "image/png": "[encoded data removed]",
      "text/plain": [
       "<matplotlib.figure.Figure at 0x10e032710>"
      ]
     },
     "metadata": {},
     "output_type": "display_data"
    }
   ],
   "source": [
    "# Compute relative bias.\n",
    "volumes_bias = (actual_volumes_n / ideal_volumes).mean(0) - 1\n",
    "concentrations_bias = (actual_concentrations_n / ideal_concentrations).mean(0) - 1\n",
    "quantity_bias = ((actual_volumes_n * actual_concentrations_n) / (ideal_volumes * ideal_concentrations)).mean(0)- 1\n",
    "\n",
    "# Plot relative biases.\n",
    "plt.plot([0, ndilutions], [0, 0], 'k--', dilutions, concentrations_bias*100, 'rs',\\\n",
    "     dilutions, volumes_bias*100, 'go', dilutions, quantity_bias*100, 'bo');\n",
    "plt.xlabel('dilution number');\n",
    "plt.ylabel('RB (%)');\n",
    "plt.legend(['none', 'concentration', 'volume', 'quantity'], loc='upper right');\n",
    "plt.axis([-0.5, ndilutions - 0.5, -100, 100]);"
   ]
  },
  {
   "cell_type": "markdown",
   "metadata": {},
   "source": [
    "We now see that over many realizations with random calibrations, significant bias in both the concentration and quantity of compound accumulates with dilution number."
   ]
  },
  {
   "cell_type": "code",
   "execution_count": 52,
   "metadata": {
    "collapsed": true
   },
   "outputs": [],
   "source": [
    "def dilute_robot_dispense(compound_volume, mix_volume, compound_concentrations, pipetting_model):\n",
    "    [compound_inaccuracy, compound_imprecision] = pipetting_model(compound_volume)\n",
    "    [mix_inaccuracy, mix_imprecision] = pipetting_model(mix_volume)\n",
    "    \n",
    "    from numpy.random import normal\n",
    "    dispense_volume = np.zeros([ndilutions], np.float64)\n",
    "    dispense_compound_concentration = np.zeros([ndilutions], np.float64)\n",
    "    \n",
    "    compound_bias = compound_inaccuracy * normal()\n",
    "    mix_bias = mix_inaccuracy * normal()\n",
    "\n",
    "    for i in range(ndilutions):\n",
    "        compound_volume_dispensed = compound_volume * ((1+compound_bias) + compound_imprecision*normal())\n",
    "        mix_volume_dispensed = mix_volume * ((1+mix_bias) + mix_imprecision*normal())\n",
    "        dispense_volume[i] = compound_volume_dispensed + mix_volume_dispensed\n",
    "        d = dilution_function(compound_volume_dispensed)\n",
    "        dispense_compound_concentration[i] = (1+d) * compound_concentrations[i] \\\n",
    "            * compound_volume_dispensed / dispense_volume[i]\n",
    "\n",
    "    return [dispense_volume, dispense_compound_concentration]"
   ]
  },
  {
   "cell_type": "code",
   "execution_count": 53,
   "metadata": {
    "collapsed": false
   },
   "outputs": [
    {
     "data": {
      "image/png": "[encoded data removed]",
      "text/plain": [
       "<matplotlib.figure.Figure at 0x10d2f47d0>"
      ]
     },
     "metadata": {},
     "output_type": "display_data"
    }
   ],
   "source": [
    "#initialize the activity values with a zero vector\n",
    "activity = np.zeros([nreplicates,ndilutions], np.float64)\n",
    "ideal_assay_concentrations = ideal_concentrations * ( compound_volume/(compound_volume + mix_volume) ) # ideal (L)\n",
    "\n",
    "#calclulate activity with our competitive inhibition model and our new actual_concentrations for nreplicates\n",
    "for replicate in range(nreplicates):\n",
    "    [actual_volumes, actual_concentrations] = DILUTE_ROBOT_dilution_series(Vinitial, Cinitial, Vtransfer, Vbuffer, ndilutions, tecan_genesis_pipetting_model)\n",
    "    [dispense_volumes, dispense_compound_concentrations] = dilute_robot_dispense(compound_volume, mix_volume, actual_concentrations, tecan_genesis_pipetting_model)\n",
    "    for i in range(ndilutions):\n",
    "        activity[replicate,i] = competitive_inhibition(substrate_concentration, dispense_compound_concentrations[i], enzyme_concentration, true_Ki, Km)\n",
    "\n",
    "#plot\n",
    "plt.semilogx(ideal_assay_concentrations, activity[::10].transpose(), 'r-');\n",
    "plt.xlabel('ideal [I] (M)');\n",
    "plt.ylabel('$V_{0}/V_{max}$');\n",
    "plt.axis([10**(-6.2), 10**(-3.9), 0, 0.06]);"
   ]
  },
  {
   "cell_type": "code",
   "execution_count": 54,
   "metadata": {
    "collapsed": false
   },
   "outputs": [
    {
     "data": {
      "image/png": "[encoded data removed]",
      "text/plain": [
       "<matplotlib.figure.Figure at 0x10cacd8d0>"
      ]
     },
     "metadata": {},
     "output_type": "display_data"
    }
   ],
   "source": [
    "IC50s_tips_dilute = np.zeros([nreplicates], np.float64)\n",
    "for replicate in range(nreplicates):\n",
    "    IC50s_tips_dilute[replicate] = fit_ic50(ideal_assay_concentrations, activity[replicate,:], true_Ki)\n",
    "pIC50s_tips_dilute = np.log10(IC50s_tips_dilute)\n",
    "    \n",
    "nhist = 20\n",
    "plt.hist(pIC50s_tips_dilute, nhist);\n",
    "plt.xlabel('measured pIC50 (M)');\n",
    "plt.ylabel('P(pIC50)');\n",
    "plt.yticks([]);\n",
    "plt.xlim(-8, -7);"
   ]
  },
  {
   "cell_type": "code",
   "execution_count": 55,
   "metadata": {
    "collapsed": false
   },
   "outputs": [
    {
     "name": "stdout",
     "output_type": "stream",
     "text": [
      "[  5.44388770e-04   2.53719967e-04   1.19835059e-04   5.62280758e-05\n",
      "   2.65327592e-05   1.24845095e-05   5.84155092e-06   2.76197767e-06]\n"
     ]
    }
   ],
   "source": [
    "def dilute_robot_IC50s(true_Ki):\n",
    "    nreplicates = 1000\n",
    "    IC50s = np.zeros([nreplicates], np.float64)\n",
    "    for replicate in range(nreplicates):\n",
    "        [actual_volumes, actual_concentrations] = DILUTE_ROBOT_dilution_series(Vinitial, Cinitial, Vtransfer, Vbuffer, ndilutions, tecan_genesis_pipetting_model)\n",
    "        [dispense_volumes, dispense_compound_concentrations] = dilute_robot_dispense(compound_volume, mix_volume, actual_concentrations, tecan_genesis_pipetting_model)\n",
    "        activities = np.zeros([ndilutions], np.float64)\n",
    "        for i in range(ndilutions):\n",
    "            activities[i] = competitive_inhibition(substrate_concentration, dispense_compound_concentrations[i], enzyme_concentration, true_Ki, Km)\n",
    "        IC50s[replicate] = fit_ic50(ideal_assay_concentrations, activities, true_Ki)\n",
    "    return IC50s\n",
    "\n",
    "print actual_concentrations"
   ]
  },
  {
   "cell_type": "code",
   "execution_count": 56,
   "metadata": {
    "collapsed": false
   },
   "outputs": [
    {
     "name": "stdout",
     "output_type": "stream",
     "text": [
      "[  8.64553314e-05   4.32276657e-05   2.16138329e-05   1.08069164e-05\n",
      "   5.40345821e-06   2.70172911e-06   1.35086455e-06   6.75432277e-07]\n"
     ]
    }
   ],
   "source": [
    "print ideal_concentrations * ( compound_volume/(compound_volume + mix_volume) )"
   ]
  },
  {
   "cell_type": "code",
   "execution_count": 57,
   "metadata": {
    "collapsed": false
   },
   "outputs": [
    {
     "name": "stdout",
     "output_type": "stream",
     "text": [
      "[  6.00000000e-04   3.00000000e-04   1.50000000e-04   7.50000000e-05\n",
      "   3.75000000e-05   1.87500000e-05   9.37500000e-06   4.68750000e-06]\n"
     ]
    }
   ],
   "source": [
    "print ideal_concentrations"
   ]
  },
  {
   "cell_type": "code",
   "execution_count": 58,
   "metadata": {
    "collapsed": true
   },
   "outputs": [],
   "source": [
    "#initialize with zeros\n",
    "dilute_genesis_pIC50_bias = np.zeros([nKis], np.float64)\n",
    "dilute_genesis_pIC50_CV = np.zeros([nKis], np.float64)\n",
    "\n",
    "for (i, Ki) in enumerate(Kis):\n",
    "    IC50s = dilute_robot_IC50s(Ki)    \n",
    "    pIC50s = np.log10(IC50s)\n",
    "    pIC50_true = np.log10(Kis[i]*(1 + substrate_concentration/Km))\n",
    "    dilute_genesis_pIC50_bias[i] = pIC50s.mean() - pIC50_true;\n",
    "    dilute_genesis_pIC50_CV[i] = pIC50s.std() / abs(pIC50s.mean())   "
   ]
  },
  {
   "cell_type": "code",
   "execution_count": 59,
   "metadata": {
    "collapsed": false
   },
   "outputs": [
    {
     "data": {
      "image/png": "[encoded data removed]",
      "text/plain": [
       "<matplotlib.figure.Figure at 0x10deea9d0>"
      ]
     },
     "metadata": {},
     "output_type": "display_data"
    }
   ],
   "source": [
    "# Plot relative error in measured Ki values as a function of true Ki.\n",
    "plt.plot([pKis.min(), pKis.max()], [0, 0], 'k-', pKis, dilute_genesis_pIC50_bias, 'ro');\n",
    "plt.xlabel('pKi');\n",
    "plt.ylabel('bias in measured pIC50');\n",
    "plt.axis([pKis.min()-0.5, pKis.max()+0.5, -1.5,1.5]);"
   ]
  },
  {
   "cell_type": "code",
   "execution_count": 60,
   "metadata": {
    "collapsed": false
   },
   "outputs": [
    {
     "data": {
      "image/png": "[encoded data removed]",
      "text/plain": [
       "<matplotlib.figure.Figure at 0x10dcdf890>"
      ]
     },
     "metadata": {},
     "output_type": "display_data"
    }
   ],
   "source": [
    "plt.plot(pKis, dilute_genesis_pIC50_CV*100, 'ko');\n",
    "plt.xlabel('pKi');\n",
    "plt.ylabel('pIC50 CV (%)');\n",
    "plt.axis([pKis.min(), pKis.max(), 0, 10]);"
   ]
  },
  {
   "cell_type": "markdown",
   "metadata": {},
   "source": [
    "### 5. Now compare Tecan Genesis and LabCyte Echo errors."
   ]
  },
  {
   "cell_type": "code",
   "execution_count": 61,
   "metadata": {
    "collapsed": false
   },
   "outputs": [
    {
     "data": {
      "image/png": "[encoded data removed]",
      "text/plain": [
       "<matplotlib.figure.Figure at 0x10d5f9250>"
      ]
     },
     "metadata": {},
     "output_type": "display_data"
    }
   ],
   "source": [
    "plt.plot(pKis, echo_pIC50_CV*100, 'go');\n",
    "plt.plot(pKis, genesis_pIC50_CV*100, 'bo');\n",
    "plt.plot(pKis, dilute_genesis_pIC50_CV*100, 'ko');\n",
    "plt.xlabel('pKi');\n",
    "plt.ylabel('pIC50 CV (%)');\n",
    "plt.legend(['echo','disposable dips','fixed tips with dilution effect'])\n",
    "plt.axis([pKis.min(), pKis.max(), 0, 10]);"
   ]
  },
  {
   "cell_type": "code",
   "execution_count": 62,
   "metadata": {
    "collapsed": false
   },
   "outputs": [
    {
     "data": {
      "image/png": "[encoded data removed]",
      "text/plain": [
       "<matplotlib.figure.Figure at 0x10d64a5d0>"
      ]
     },
     "metadata": {},
     "output_type": "display_data"
    }
   ],
   "source": [
    "echo_pIC50_err = (echo_pIC50_CV*np.abs(pKis))\n",
    "genesis_pIC50_err = (genesis_pIC50_CV*np.abs(pKis))\n",
    "dilute_genesis_pIC50_err = (dilute_genesis_pIC50_CV*np.abs(pKis))\n",
    "\n",
    "clf();\n",
    "subplot(111, aspect='equal');\n",
    "hold(True);\n",
    "plot([pKis.min(), pKis.max()], [pKis.min(), pKis.max()], 'k-');\n",
    "plot(pKis, pKis, 'ko');\n",
    "errorbar(pKis + echo_pIC50_bias, pKis + genesis_pIC50_bias, xerr=2*echo_pIC50_err, yerr=2*genesis_pIC50_err, fmt='bo');\n",
    "errorbar(pKis + echo_pIC50_bias, pKis + dilute_genesis_pIC50_bias, xerr=2*echo_pIC50_err, yerr=2*dilute_genesis_pIC50_err, fmt='ro');\n",
    "axis([pKis.min(), pKis.max(), pKis.min(), pKis.max()]);\n",
    "xlabel('acoustic pIC50');\n",
    "ylabel('tips pIC50');\n",
    "title('95% confidence intervals shown');\n",
    "plt.legend(['ideal', 'ideal', 'model', 'dilute model'], loc='lower right');"
   ]
  },
  {
   "cell_type": "code",
   "execution_count": 63,
   "metadata": {
    "collapsed": true
   },
   "outputs": [],
   "source": [
    "figsize(10,10)"
   ]
  },
  {
   "cell_type": "code",
   "execution_count": 64,
   "metadata": {
    "collapsed": false
   },
   "outputs": [
    {
     "data": {
      "image/png": "[encoded data removed]",
      "text/plain": [
       "<matplotlib.figure.Figure at 0x10cdf80d0>"
      ]
     },
     "metadata": {},
     "output_type": "display_data"
    }
   ],
   "source": [
    "# Doing the pIC50 interpolation correctly using function:\n",
    "def compute_pIC50_from_pKi(pKis):\n",
    "    Kis = 10**pKis\n",
    "    return np.log10(Kis*(1 + substrate_concentration/Km))\n",
    "\n",
    "# Interpolate bias and CV for Echo and Genesis.\n",
    "echo_bias_interpolation = interp1d(compute_pIC50_from_pKi(pKis) + echo_pIC50_bias, echo_pIC50_bias);\n",
    "echo_CV_interpolation = interp1d(compute_pIC50_from_pKi(pKis) + echo_pIC50_CV, echo_pIC50_CV);\n",
    "genesis_bias_interpolation = interp1d(compute_pIC50_from_pKi(pKis) + genesis_pIC50_bias, genesis_pIC50_bias);\n",
    "genesis_CV_interpolation = interp1d(compute_pIC50_from_pKi(pKis) + genesis_pIC50_CV, genesis_pIC50_CV);\n",
    "dilute_genesis_bias_interpolation = interp1d(compute_pIC50_from_pKi(pKis) + dilute_genesis_pIC50_bias, dilute_genesis_pIC50_bias);\n",
    "dilute_genesis_CV_interpolation = interp1d(compute_pIC50_from_pKi(pKis) + dilute_genesis_pIC50_CV, dilute_genesis_pIC50_CV);\n",
    "\n",
    "# Compute error bars for Echo and Genesis.\n",
    "echo_pIC50_err = (echo_CV_interpolation(echo_pIC50s)*np.abs(echo_pIC50s))\n",
    "genesis_pIC50_err = (genesis_CV_interpolation(genesis_pIC50s)*np.abs(genesis_pIC50s))\n",
    "dilute_genesis_pIC50_err = (dilute_genesis_CV_interpolation(genesis_pIC50s)*np.abs(genesis_pIC50s))\n",
    "\n",
    "# Plot with error bars.\n",
    "figure();\n",
    "subplot(111, aspect='equal');\n",
    "hold(True);\n",
    "plot([-9, -4], [-9, -4], 'k-');\n",
    "errorbar(echo_pIC50s, genesis_pIC50s, xerr=2*echo_pIC50_err, yerr=2*dilute_genesis_pIC50_err, fmt='ro', markersize=5, zorder=5);\n",
    "plot([-9, -6], [-9, -6], 'k-');\n",
    "xlabel('pIC50 (acoustic)');\n",
    "ylabel('pIC50 (tips)');\n",
    "legend(['ideal', 'original'], loc='lower right');\n",
    "title('95% confidence intervals shown');"
   ]
  },
  {
   "cell_type": "code",
   "execution_count": 65,
   "metadata": {
    "collapsed": false
   },
   "outputs": [
    {
     "data": {
      "image/png": "[encoded data removed]",
      "text/plain": [
       "<matplotlib.figure.Figure at 0x10cd57a10>"
      ]
     },
     "metadata": {},
     "output_type": "display_data"
    }
   ],
   "source": [
    "# Plot.\n",
    "figure();\n",
    "subplot(111, aspect='equal');\n",
    "hold(True);\n",
    "plot([-9, -4], [-9, -4], 'k-');\n",
    "#errorbar(echo_pIC50s, genesis_pIC50s, xerr=2*echo_pIC50_err, yerr=2*genesis_pIC50_err, fmt='o');\n",
    "errorbar(echo_pIC50s, genesis_pIC50s, fmt='ro', markersize=5, zorder=5);\n",
    "errorbar(echo_pIC50s - echo_bias_interpolation(echo_pIC50s), genesis_pIC50s - genesis_bias_interpolation(genesis_pIC50s), xerr=2*echo_pIC50_err, yerr=2*genesis_pIC50_err, markersize=8, fmt='bo');\n",
    "errorbar(echo_pIC50s - echo_bias_interpolation(echo_pIC50s), genesis_pIC50s - dilute_genesis_bias_interpolation(genesis_pIC50s), xerr=2*echo_pIC50_err, yerr=2*dilute_genesis_pIC50_err, markersize=8, fmt='go');\n",
    "plot([-9, -6], [-9, -6], 'k-');\n",
    "xlabel('pIC50 (acoustic)');\n",
    "ylabel('pIC50 (tips)');\n",
    "legend(['ideal', 'original', 'disposable tips','fixed tips with dilution effect'], loc='lower right');\n",
    "title('95% confidence intervals shown');"
   ]
  },
  {
   "cell_type": "code",
   "execution_count": 66,
   "metadata": {
    "collapsed": false
   },
   "outputs": [
    {
     "name": "stdout",
     "output_type": "stream",
     "text": [
      "1.56162824385\n"
     ]
    }
   ],
   "source": [
    "def rmse(tips,acoustic):\n",
    "    return np.sqrt(((tips - acoustic) ** 2).mean())\n",
    "\n",
    "rootmeansquareerror = rmse(genesis_pIC50s,echo_pIC50s)\n",
    "print rootmeansquareerror"
   ]
  },
  {
   "cell_type": "code",
   "execution_count": 67,
   "metadata": {
    "collapsed": false
   },
   "outputs": [
    {
     "name": "stdout",
     "output_type": "stream",
     "text": [
      "1.56468259099\n"
     ]
    }
   ],
   "source": [
    "rootmeansquareerror_withbias = rmse(genesis_pIC50s - genesis_bias_interpolation(genesis_pIC50s),echo_pIC50s - echo_bias_interpolation(echo_pIC50s))\n",
    "print rootmeansquareerror_withbias"
   ]
  },
  {
   "cell_type": "code",
   "execution_count": 68,
   "metadata": {
    "collapsed": false
   },
   "outputs": [
    {
     "name": "stdout",
     "output_type": "stream",
     "text": [
      "1.37475877374\n"
     ]
    }
   ],
   "source": [
    "rootmeansquareerror_withbias_withdilution = rmse(genesis_pIC50s - dilute_genesis_bias_interpolation(genesis_pIC50s),echo_pIC50s - echo_bias_interpolation(echo_pIC50s))\n",
    "print rootmeansquareerror_withbias_withdilution"
   ]
  }
 ],
 "metadata": {
  "kernelspec": {
   "display_name": "Python 2",
   "language": "python",
   "name": "python2"
  },
  "language_info": {
   "codemirror_mode": {
    "name": "ipython",
    "version": 2
   },
   "file_extension": ".py",
   "mimetype": "text/x-python",
   "name": "python",
   "nbconvert_exporter": "python",
   "pygments_lexer": "ipython2",
   "version": "2.7.10"
  }
 },
 "nbformat": 4,
 "nbformat_minor": 0
}
